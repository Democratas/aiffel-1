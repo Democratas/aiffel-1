{
 "cells": [
  {
   "cell_type": "markdown",
   "id": "590535f7",
   "metadata": {},
   "source": [
    "# 네이버 영화리뷰 감정 분석 문제에 SentencePiece 적용해 보기\n",
    "\n",
    "네이버 영화리뷰 감정 분석 태스크가 있습니다. 한국어로 된 corpus를 다루어야 하므로 주로 KoNLPy에서 제공하는 형태소 분석기를 사용하여 텍스트를 전처리해서 RNN 모델을 분류기로 사용하게 되는데요.\n",
    "\n",
    "만약 이 문제에서 tokenizer를 SentencePiece로 바꾸어 다시 풀어본다면 더 성능이 좋아질까요? KoNLPy에 있는 Mecab, kkma, Okt 등과 비교해보세요. (여러분들은 fasttext로 사전훈련된 Word Vector를 사용할 수 있지만 sentencepiece와 KoNLPy에 있는 형태소로 모델을 만드는 것보다 코드 수정이 많이 일어납니다. 기본적인 태스크를 끝나고(sentencepiece - KoNLPy 형태소 비교) 도전하시는걸 추천합니다.)"
   ]
  },
  {
   "cell_type": "markdown",
   "id": "8821ef04",
   "metadata": {},
   "source": [
    "## 프로젝트: SentencePiece 사용하기"
   ]
  },
  {
   "cell_type": "code",
   "execution_count": 12,
   "id": "01661d58",
   "metadata": {},
   "outputs": [
    {
     "name": "stdout",
     "output_type": "stream",
     "text": [
      "2.6.0\n",
      "1.21.4\n",
      "3.4.3\n",
      "0.5.2\n"
     ]
    }
   ],
   "source": [
    "import tensorflow as tf\n",
    "import numpy as np\n",
    "import matplotlib as plt\n",
    "import konlpy\n",
    "\n",
    "print(tf.__version__)\n",
    "print(np.__version__)\n",
    "print(plt.__version__)\n",
    "print(konlpy.__version__)"
   ]
  },
  {
   "cell_type": "code",
   "execution_count": 13,
   "id": "171748ce",
   "metadata": {},
   "outputs": [],
   "source": [
    "import pandas as pd\n",
    "import numpy as np\n",
    "import tensorflow as tf\n",
    "import matplotlib.pyplot as plt\n",
    "import seaborn as sns\n",
    "\n",
    "from collections import Counter\n",
    "from sklearn.model_selection import train_test_split\n",
    "\n",
    "from konlpy.tag import Hannanum,Kkma,Komoran,Mecab,Okt"
   ]
  },
  {
   "cell_type": "code",
   "execution_count": 14,
   "id": "25079e13",
   "metadata": {},
   "outputs": [],
   "source": [
    "from tqdm import tqdm, trange\n",
    "\n",
    "tqdm.pandas()"
   ]
  },
  {
   "cell_type": "code",
   "execution_count": 15,
   "id": "cde65de1",
   "metadata": {},
   "outputs": [],
   "source": [
    "import os, re"
   ]
  },
  {
   "cell_type": "markdown",
   "id": "90a6b3c9",
   "metadata": {},
   "source": [
    "## 데이터 불러오기"
   ]
  },
  {
   "cell_type": "code",
   "execution_count": 16,
   "id": "8fc72a32",
   "metadata": {},
   "outputs": [],
   "source": [
    "train_path = './data/ratings_train.txt'\n",
    "test_path = './data/ratings_test.txt'\n",
    "\n",
    "\n",
    "train = pd.read_table(train_path)\n",
    "test = pd.read_table(test_path)"
   ]
  },
  {
   "cell_type": "code",
   "execution_count": 17,
   "id": "4b13e0db",
   "metadata": {},
   "outputs": [
    {
     "data": {
      "text/html": [
       "<div>\n",
       "<style scoped>\n",
       "    .dataframe tbody tr th:only-of-type {\n",
       "        vertical-align: middle;\n",
       "    }\n",
       "\n",
       "    .dataframe tbody tr th {\n",
       "        vertical-align: top;\n",
       "    }\n",
       "\n",
       "    .dataframe thead th {\n",
       "        text-align: right;\n",
       "    }\n",
       "</style>\n",
       "<table border=\"1\" class=\"dataframe\">\n",
       "  <thead>\n",
       "    <tr style=\"text-align: right;\">\n",
       "      <th></th>\n",
       "      <th>id</th>\n",
       "      <th>document</th>\n",
       "      <th>label</th>\n",
       "    </tr>\n",
       "  </thead>\n",
       "  <tbody>\n",
       "    <tr>\n",
       "      <th>0</th>\n",
       "      <td>9976970</td>\n",
       "      <td>아 더빙.. 진짜 짜증나네요 목소리</td>\n",
       "      <td>0</td>\n",
       "    </tr>\n",
       "    <tr>\n",
       "      <th>1</th>\n",
       "      <td>3819312</td>\n",
       "      <td>흠...포스터보고 초딩영화줄....오버연기조차 가볍지 않구나</td>\n",
       "      <td>1</td>\n",
       "    </tr>\n",
       "    <tr>\n",
       "      <th>2</th>\n",
       "      <td>10265843</td>\n",
       "      <td>너무재밓었다그래서보는것을추천한다</td>\n",
       "      <td>0</td>\n",
       "    </tr>\n",
       "    <tr>\n",
       "      <th>3</th>\n",
       "      <td>9045019</td>\n",
       "      <td>교도소 이야기구먼 ..솔직히 재미는 없다..평점 조정</td>\n",
       "      <td>0</td>\n",
       "    </tr>\n",
       "    <tr>\n",
       "      <th>4</th>\n",
       "      <td>6483659</td>\n",
       "      <td>사이몬페그의 익살스런 연기가 돋보였던 영화!스파이더맨에서 늙어보이기만 했던 커스틴 ...</td>\n",
       "      <td>1</td>\n",
       "    </tr>\n",
       "  </tbody>\n",
       "</table>\n",
       "</div>"
      ],
      "text/plain": [
       "         id                                           document  label\n",
       "0   9976970                                아 더빙.. 진짜 짜증나네요 목소리      0\n",
       "1   3819312                  흠...포스터보고 초딩영화줄....오버연기조차 가볍지 않구나      1\n",
       "2  10265843                                  너무재밓었다그래서보는것을추천한다      0\n",
       "3   9045019                      교도소 이야기구먼 ..솔직히 재미는 없다..평점 조정      0\n",
       "4   6483659  사이몬페그의 익살스런 연기가 돋보였던 영화!스파이더맨에서 늙어보이기만 했던 커스틴 ...      1"
      ]
     },
     "execution_count": 17,
     "metadata": {},
     "output_type": "execute_result"
    }
   ],
   "source": [
    "train.head()"
   ]
  },
  {
   "cell_type": "code",
   "execution_count": 18,
   "id": "ccd68b0b",
   "metadata": {},
   "outputs": [
    {
     "data": {
      "text/html": [
       "<div>\n",
       "<style scoped>\n",
       "    .dataframe tbody tr th:only-of-type {\n",
       "        vertical-align: middle;\n",
       "    }\n",
       "\n",
       "    .dataframe tbody tr th {\n",
       "        vertical-align: top;\n",
       "    }\n",
       "\n",
       "    .dataframe thead th {\n",
       "        text-align: right;\n",
       "    }\n",
       "</style>\n",
       "<table border=\"1\" class=\"dataframe\">\n",
       "  <thead>\n",
       "    <tr style=\"text-align: right;\">\n",
       "      <th></th>\n",
       "      <th>id</th>\n",
       "      <th>document</th>\n",
       "      <th>label</th>\n",
       "    </tr>\n",
       "  </thead>\n",
       "  <tbody>\n",
       "    <tr>\n",
       "      <th>0</th>\n",
       "      <td>6270596</td>\n",
       "      <td>굳 ㅋ</td>\n",
       "      <td>1</td>\n",
       "    </tr>\n",
       "    <tr>\n",
       "      <th>1</th>\n",
       "      <td>9274899</td>\n",
       "      <td>GDNTOPCLASSINTHECLUB</td>\n",
       "      <td>0</td>\n",
       "    </tr>\n",
       "    <tr>\n",
       "      <th>2</th>\n",
       "      <td>8544678</td>\n",
       "      <td>뭐야 이 평점들은.... 나쁘진 않지만 10점 짜리는 더더욱 아니잖아</td>\n",
       "      <td>0</td>\n",
       "    </tr>\n",
       "    <tr>\n",
       "      <th>3</th>\n",
       "      <td>6825595</td>\n",
       "      <td>지루하지는 않은데 완전 막장임... 돈주고 보기에는....</td>\n",
       "      <td>0</td>\n",
       "    </tr>\n",
       "    <tr>\n",
       "      <th>4</th>\n",
       "      <td>6723715</td>\n",
       "      <td>3D만 아니었어도 별 다섯 개 줬을텐데.. 왜 3D로 나와서 제 심기를 불편하게 하죠??</td>\n",
       "      <td>0</td>\n",
       "    </tr>\n",
       "  </tbody>\n",
       "</table>\n",
       "</div>"
      ],
      "text/plain": [
       "        id                                           document  label\n",
       "0  6270596                                                굳 ㅋ      1\n",
       "1  9274899                               GDNTOPCLASSINTHECLUB      0\n",
       "2  8544678             뭐야 이 평점들은.... 나쁘진 않지만 10점 짜리는 더더욱 아니잖아      0\n",
       "3  6825595                   지루하지는 않은데 완전 막장임... 돈주고 보기에는....      0\n",
       "4  6723715  3D만 아니었어도 별 다섯 개 줬을텐데.. 왜 3D로 나와서 제 심기를 불편하게 하죠??      0"
      ]
     },
     "execution_count": 18,
     "metadata": {},
     "output_type": "execute_result"
    }
   ],
   "source": [
    "test.head()"
   ]
  },
  {
   "cell_type": "code",
   "execution_count": 19,
   "id": "f1ad258b",
   "metadata": {},
   "outputs": [
    {
     "name": "stdout",
     "output_type": "stream",
     "text": [
      "train shape => (150000, 3) \n",
      "test shape => (50000, 3)\n"
     ]
    }
   ],
   "source": [
    "print(f\"train shape => {train.shape} \\ntest shape => {test.shape}\")"
   ]
  },
  {
   "cell_type": "code",
   "execution_count": 20,
   "id": "12ca4832",
   "metadata": {},
   "outputs": [
    {
     "data": {
      "text/plain": [
       "Index(['id', 'document', 'label'], dtype='object')"
      ]
     },
     "execution_count": 20,
     "metadata": {},
     "output_type": "execute_result"
    }
   ],
   "source": [
    "train.columns"
   ]
  },
  {
   "cell_type": "markdown",
   "id": "3627ca8f",
   "metadata": {},
   "source": [
    "## 훈련 데이터 라벨링 값 비율 확인"
   ]
  },
  {
   "cell_type": "code",
   "execution_count": 21,
   "id": "e4331902",
   "metadata": {},
   "outputs": [
    {
     "data": {
      "image/png": "[encoded data removed]",
      "text/plain": [
       "<Figure size 432x288 with 1 Axes>"
      ]
     },
     "metadata": {},
     "output_type": "display_data"
    }
   ],
   "source": [
    "sns.set_theme(style=\"darkgrid\")\n",
    "ax = sns.countplot(x=\"label\", data=train)"
   ]
  },
  {
   "cell_type": "code",
   "execution_count": 22,
   "id": "cba8bf00",
   "metadata": {},
   "outputs": [
    {
     "data": {
      "image/png": "[encoded data removed]",
      "text/plain": [
       "<Figure size 360x360 with 1 Axes>"
      ]
     },
     "metadata": {},
     "output_type": "display_data"
    }
   ],
   "source": [
    "labels, frequencies = np.unique(train.label.values, return_counts=True)\n",
    "plt.figure(figsize=(5,5))\n",
    "plt.pie(frequencies, labels = labels, autopct= '%1.1f%%')\n",
    "plt.show()"
   ]
  },
  {
   "cell_type": "markdown",
   "id": "a48f211b",
   "metadata": {},
   "source": [
    "## 훈련, 테스트 데이터 결측치 값 확인"
   ]
  },
  {
   "cell_type": "code",
   "execution_count": 23,
   "id": "80f1f7f9",
   "metadata": {},
   "outputs": [
    {
     "data": {
      "text/plain": [
       "id          0\n",
       "document    5\n",
       "label       0\n",
       "dtype: int64"
      ]
     },
     "execution_count": 23,
     "metadata": {},
     "output_type": "execute_result"
    }
   ],
   "source": [
    "train.isnull().sum()"
   ]
  },
  {
   "cell_type": "code",
   "execution_count": 24,
   "id": "37321580",
   "metadata": {},
   "outputs": [
    {
     "data": {
      "text/plain": [
       "id          0\n",
       "document    3\n",
       "label       0\n",
       "dtype: int64"
      ]
     },
     "execution_count": 24,
     "metadata": {},
     "output_type": "execute_result"
    }
   ],
   "source": [
    "test.isnull().sum()"
   ]
  },
  {
   "cell_type": "code",
   "execution_count": 25,
   "id": "9be02278",
   "metadata": {},
   "outputs": [],
   "source": [
    "train.drop_duplicates(subset=['document'], inplace=True)\n",
    "test.drop_duplicates(subset=['document'], inplace=True)\n",
    "train.dropna(inplace=True)\n",
    "test.dropna(inplace=True)"
   ]
  },
  {
   "cell_type": "markdown",
   "id": "7bf969be",
   "metadata": {},
   "source": [
    "# 전처리\n",
    "## 1) train, test data의 문장 길이 확인"
   ]
  },
  {
   "cell_type": "code",
   "execution_count": 26,
   "id": "d7f34985",
   "metadata": {},
   "outputs": [],
   "source": [
    "train_len = train.document.apply(lambda x: len(x))"
   ]
  },
  {
   "cell_type": "code",
   "execution_count": 27,
   "id": "b2765099",
   "metadata": {
    "scrolled": true
   },
   "outputs": [
    {
     "data": {
      "text/plain": [
       "count    146182.000000\n",
       "mean         35.981338\n",
       "std          29.491233\n",
       "min           1.000000\n",
       "25%          16.000000\n",
       "50%          27.000000\n",
       "75%          43.000000\n",
       "max         146.000000\n",
       "Name: document, dtype: float64"
      ]
     },
     "execution_count": 27,
     "metadata": {},
     "output_type": "execute_result"
    }
   ],
   "source": [
    "train_len.describe()"
   ]
  },
  {
   "cell_type": "code",
   "execution_count": 28,
   "id": "207aa26c",
   "metadata": {},
   "outputs": [
    {
     "data": {
      "text/plain": [
       "<AxesSubplot:>"
      ]
     },
     "execution_count": 28,
     "metadata": {},
     "output_type": "execute_result"
    },
    {
     "data": {
      "image/png": "[encoded data removed]",
      "text/plain": [
       "<Figure size 432x288 with 1 Axes>"
      ]
     },
     "metadata": {},
     "output_type": "display_data"
    }
   ],
   "source": [
    "train_len.hist()"
   ]
  },
  {
   "cell_type": "code",
   "execution_count": 29,
   "id": "33e93455",
   "metadata": {},
   "outputs": [
    {
     "data": {
      "text/plain": [
       "<AxesSubplot:>"
      ]
     },
     "execution_count": 29,
     "metadata": {},
     "output_type": "execute_result"
    },
    {
     "data": {
      "image/png": "[encoded data removed]",
      "text/plain": [
       "<Figure size 432x288 with 1 Axes>"
      ]
     },
     "metadata": {},
     "output_type": "display_data"
    }
   ],
   "source": [
    "test.document.apply(lambda x: len(x)).hist()"
   ]
  },
  {
   "cell_type": "markdown",
   "id": "551bec56",
   "metadata": {},
   "source": [
    "- train len과 test len의 분포를 비교해본 결과 상당히 유사해서 길이를 줄이는 등의 전처리는 진행하지 않는 것이 좋을 것 같았다"
   ]
  },
  {
   "cell_type": "markdown",
   "id": "340fefcd",
   "metadata": {},
   "source": [
    "## 2) 길이가 너무 길거나 짧은 실제 데이터 확인 \n",
    "\n",
    "- 한글자의 경우도 의미가 없지 않을 까 확인해봤는데 굿, 욜 이런 부분에서 의미가 있는 부분도 있었다\n",
    "- 문자를 다 삭제하는 것도 고민해봐야겠다. ♥,♡,乃, ㅄ 도 의미가 있어보인다"
   ]
  },
  {
   "cell_type": "code",
   "execution_count": 30,
   "id": "5deb257e",
   "metadata": {
    "scrolled": true
   },
   "outputs": [
    {
     "data": {
      "text/plain": [
       "40628     \"스폰으로 먹고사는 방송이라 어쩔수 없다고 하지만. 이건 그냥 비현실적인 자동차만;...\n",
       "80320     \"\"\"니 짓은 생각않고, 웬 복수!\"\"의 교훈이라! 그럼 \"\"서바이벌 액션\"\"으로 ...\n",
       "124252    \"2007.02.25_ 벌교의 한 국밥집_ 점심: \"\"갸는 첫째고, 저 놈은 우리 ...\n",
       "Name: document, dtype: object"
      ]
     },
     "execution_count": 30,
     "metadata": {},
     "output_type": "execute_result"
    }
   ],
   "source": [
    "train.loc[train_len[train_len > 145].index].document"
   ]
  },
  {
   "cell_type": "code",
   "execution_count": 31,
   "id": "b392026e",
   "metadata": {
    "scrolled": true
   },
   "outputs": [
    {
     "data": {
      "text/plain": [
       "'아 잼 1 4 굿 짱 휴 . 음 ? ㅎ ㅋ 즐 ♥ 굳 네 ㅇ k ㅠ 쒯 ♬ 토 O 똥 z 헐 삼 꽝 ! 풉 ㅅ 왜 ㄴ 쉣 봐 뿌 ㅜ ♡ ㅁ 0 ㅉ d 흥 乃 찜 귯 린 시 ㅗ a c 흠 웅 ㅣ 오 9 쩜 애 헝 쨩 f 움 ㄳ 업 헉 군 b ; g 올 걍 허 - 쀍 로 ㄹ ㅂ 갑 즛 킥 함 진 ㅡ 잠 곧 ㅍ h · 캬 ㅆ , 풋 ㄱ 파 ㄷ 웩 꺅 욜 ㅄ 2 핡'"
      ]
     },
     "execution_count": 31,
     "metadata": {},
     "output_type": "execute_result"
    }
   ],
   "source": [
    "' '.join(train.loc[train_len[train_len == 1].index].document)"
   ]
  },
  {
   "cell_type": "markdown",
   "id": "48d8e67a",
   "metadata": {},
   "source": [
    "- 한글자의 경우도 의미가 없지 않을 까 확인해봤는데 굿, 욜 이런 부분에서 의미가 있는 부분도 있었다\n",
    "- 문자를 다 삭제하는 것도 고민해봐야겠다. ♥,♡,乃, ㅄ 도 의미가 있어보인다"
   ]
  },
  {
   "cell_type": "code",
   "execution_count": 32,
   "id": "efcaa3dc",
   "metadata": {},
   "outputs": [],
   "source": [
    "import re"
   ]
  },
  {
   "cell_type": "markdown",
   "id": "9cefe336",
   "metadata": {},
   "source": [
    "### 반복되는 문자 처리 추가"
   ]
  },
  {
   "cell_type": "code",
   "execution_count": 33,
   "id": "53284828",
   "metadata": {},
   "outputs": [
    {
     "data": {
      "text/plain": [
       "'숨은글씨 찾기 의리니의리'"
      ]
     },
     "execution_count": 33,
     "metadata": {},
     "output_type": "execute_result"
    }
   ],
   "source": [
    "i = '숨은글씨 찾기 의리의리의리의리의리의리의리의리의리의리의리의리의리의리의리의리의리의리의리의리의리의리의리니의리의리의리의리의리의리의리의리의리의리의리의리의리의리의리의리의리의리의리의리의리의리의리의리의리의리의리의리의리의리의리의리의리의리의리의리의리의리의리의리의리'\n",
    "\n",
    "re.sub('(\\\\S{2})\\\\1+', '\\\\1', i)"
   ]
  },
  {
   "cell_type": "code",
   "execution_count": 34,
   "id": "67e5cea9",
   "metadata": {},
   "outputs": [
    {
     "data": {
      "text/plain": [
       "146182"
      ]
     },
     "execution_count": 34,
     "metadata": {},
     "output_type": "execute_result"
    }
   ],
   "source": [
    "len(train)"
   ]
  },
  {
   "cell_type": "code",
   "execution_count": null,
   "id": "502f9ad7",
   "metadata": {},
   "outputs": [],
   "source": [
    "### 최종 전처리 함수\n",
    "- 한글, 숫자, 초성, ♥♡乃ㄳㅄ의 문자를 남겼다\n",
    "- 초성 ㅜㅜ, ㅋㅋ이 감정의 의미를 담을 수 있다고 파악했기 때문이다\n",
    "- 다중 공백을 제거하는 코드를 추가하였다\n",
    "- ㅋ와 ㅋㅋ은 다르게 인지하였다\n",
    "    - ㅜㅜㅜ, ㅋㅋㅋㅋㅋㅋ 등의 다중 초성은 2개의 초성으로 모두 합쳐주었다\n",
    "- 빈 하트와 채워진 하트는 채워진 하트로 통일하고 하트의 갯수는 모두 하나로 바꿔주었다\n",
    "- 반복되는 문자열은 하나만 남기고 지워줬다"
   ]
  },
  {
   "cell_type": "code",
   "execution_count": 36,
   "id": "d71bccf2",
   "metadata": {},
   "outputs": [],
   "source": [
    "def preprocessing(train, col='document'):\n",
    "    train[col] = train[col].str.replace(\"[^ㄱ-ㅎㅏ-ㅣ가-힣0-9♥♡乃ㄳㅄ ]\",\"\") # 정규 표현식 수행\n",
    "    train[col] = train[col].str.replace('^ +', \"\") # 공백은 empty 값으로 변경\n",
    "    train[col].replace('', np.nan, inplace=True) # 공백은 Null 값으로 변경\n",
    "    train.dropna(how='any', inplace=True)\n",
    "    \n",
    "    train[col] = train[col].apply(lambda x: ' '.join(x.split()))\n",
    "    train[col] = train[col].apply(lambda x: re.sub(r'(ㅋ|ㅎ|ㅜ|ㅠ){2,}', lambda m: m.group(1) * 2, x)) # 반복되는 2자리 문자 처리\n",
    "\n",
    "    train[col] = train[col].str.replace(r'♡','♥')\n",
    "    train[col] = train[col].apply(lambda x: re.sub(r'♥+', '♥', x))\n",
    "    train[col] = train[col].apply(lambda x: re.sub(r'\\b(\\S+)( \\1)+', r'\\1', x))\n",
    "    \n",
    "    return train"
   ]
  },
  {
   "cell_type": "code",
   "execution_count": 37,
   "id": "a07ce8f7",
   "metadata": {},
   "outputs": [
    {
     "name": "stderr",
     "output_type": "stream",
     "text": [
      "/tmp/ipykernel_2247/3900349715.py:2: FutureWarning: The default value of regex will change from True to False in a future version.\n",
      "  train[col] = train[col].str.replace(\"[^ㄱ-ㅎㅏ-ㅣ가-힣0-9♥♡乃ㄳㅄ ]\",\"\") # 정규 표현식 수행\n",
      "/tmp/ipykernel_2247/3900349715.py:3: FutureWarning: The default value of regex will change from True to False in a future version.\n",
      "  train[col] = train[col].str.replace('^ +', \"\") # 공백은 empty 값으로 변경\n"
     ]
    }
   ],
   "source": [
    "train = preprocessing(train, col='document')"
   ]
  },
  {
   "cell_type": "code",
   "execution_count": 38,
   "id": "0efecf25",
   "metadata": {},
   "outputs": [
    {
     "data": {
      "text/plain": [
       "['걍인피니트가짱이다진짜짱이다♥',\n",
       " '이건 정말 깨알 캐스팅과 질퍽하지않은 산뜻한 내용구성이 잘 버무러진 깨알일드♥',\n",
       " '넘 사랑스러운 영화다 ㅠㅠ 1보고 2 연이어 봤다 넘 귀여워 ㅠㅠ♥',\n",
       " '1996년 그때 당시에는 우리 나라에 이런 판타지 로맨스가 없었다 아직도 신현준의 황장군 연기는 음 괜찮네 ㅎㅎ한석규의 전성시대가 열린 영화 이때 한석규한테 뿅 갔었다♥',\n",
       " '정은지 언니 연기 잘하구노래도 잘부르시고 마지막회 웃으면서 즐겁게 봤습니다 트로트의 연인♥',\n",
       " '니노의 이중인격연기 두근거리네요♥',\n",
       " '극장가서 안본 내머리를 깨버리고싶네요 제인생 최고의 영홥니다 키이라작품 중에서도 최고일듯 알럽키이라♥',\n",
       " '내사랑 키아누 ♥ 리브스 ♥',\n",
       " '김윤진 좋아하니깐♥',\n",
       " '너무재밋당최지우연기잘한다♥',\n",
       " '정말짱이에요진짜감동받을만큼눈물나게잘쓰셨네요별점십점드릴게요♥',\n",
       " '짱짱♥',\n",
       " '윤하♥ 때문에 10점',\n",
       " '♥',\n",
       " '아나 진짜이거짱져아요즘시험기간인데도 봄♥내가원래지빈오빠팬이라서 보다가 계속보는데 졸잼중간중간에 울다웃고 겁나 감동적이고 혜결이가복녀님따라하는거 기여엉 복녀님이 누군지알고싶소끝까니 닥본할끙♥',\n",
       " '진짜 재미있다 대박역시 신하균♥',\n",
       " '내 나이 14살에 이런 멋진 동시같은 영화는 처음이다 장르를 건너뛰고 대한민국 최고 영화라고 난 생각한다 하늘이 두쪽나는 일이 있어도 훈훈하고 슬프고 아름다운 공포물은 다시 나오지 못할것이다♥',\n",
       " '아 진짜 재밌게 봤습니다♥',\n",
       " '아완죤반했엇♥ 주인공인 팡지엔인가완죤 멋져♥',\n",
       " '주원오빠랑 기웅오빠 보고 완전히 빠졌어요♥ 다들 정말 촬영 수고 많으셨어요 항상 배우님들 응원합니다 파이팅',\n",
       " '많은 것에 대해 배웠다 캐리와 빅이 행복하길♥',\n",
       " '박스오피스1위 할만하네요초반 이야기시작 에피소드에서 웃음을찾고 중반부터 끝으로 갈수록 흥미진진한내용에 시간가는줄 몰랐습니다 10점이아닌이유는너무 재밌어서 나만보려고♥찡끗',\n",
       " '완전 재미있음 추천 ㅠㅠ♥ 생텀 화이팅 ♥',\n",
       " '에수님ㅠㅠ♥우아아아아유ㅜㅜ',\n",
       " '준면이 더빙 겁ㄴ나잘해요♥',\n",
       " '코난 중 가장 좋아하는 극장판 중 하나에요과연 명탐정코난은 명작♥ 사랑합니다남도일이랑 진 나오는 편 많이 보여주세요',\n",
       " '정말 가슴 설레게하는 드라마♥연기도 멋지고 보는내내 입가에 미소가득 만드는 돌싱녀 볼수록 잼있는 돌싱녀 앞으로도 본방사수합니다요',\n",
       " '정말 사랑스러운 영화 제가 가장 아끼고 좋아하는 영화봐도봐도 재밌고 배우들도 너무 매력있어요♥',\n",
       " '말이필요없다 진짜너무재밌다♥',\n",
       " '정말올해최고의드라마였어요주말이기대되고설레게하는 이제못본다는게너무너무아쉽네요ㅠㅠ창희강산둘다완전조아♥연기자스탭작가모든분들수고정말많으셨습니다♥',\n",
       " '진짜 마음이 따뜻해지는 영화네요♥',\n",
       " '재미있게봤는데 막상 끝나니아쉽네요스페셜이나 뒷이야기 같은 내용도있었으면 좋겠네요♥',\n",
       " '진짜재밌어요♥',\n",
       " '내인생 최고의 영화였음진짜 섬세한 감정표현과 마지막 팬텀의울음섞인 노래소리가 너무 감동적이었고돈주앙의 승리에서의 팬텀은 영화내 최고로 섹시하고환상적이었음제라드 버틀러 짱짱맨♥',\n",
       " '아직도 생각나는 드라마ㅠㅠ♥',\n",
       " '소블리♥ 공블리♥',\n",
       " '꽃보다 청춘 라오스편은 정말 보면서 힐링했었던 프로ㅠㅠ 끝나는게 너무 아쉽다ㅠㅠ 칠해빙 흥해라 유엄마 사릉흡니다♥',\n",
       " '코난극장판통틀어최고♥',\n",
       " '광희오빠♥예원오삐 짱잘해용 화이팅',\n",
       " '로맨스의일주일이 끝나서 이제 무슨 낙으로 사나요 한고은씨조여정씨 또보고싶어요 이렇게 티비보면서 설레인적은처음 나도 이탈리아여행 다녀온 기분♥남겨진사람들이 어쩐지 생각하니 슬퍼지네요 제발시즌2도만들어주세요박세현씨뒷이야기도 궁금해요',\n",
       " '내생애 최고의 드라마♥작가님 요즘 나인도 정말 너무 재미나요♥',\n",
       " '♥',\n",
       " '완전재이있어요짜세인듯언제든지저희는기다리고있담니다메이퀸♥사랑에빠졌어요 메이킌드라마에ㅋ',\n",
       " '광수오빠는 짱 멋있고 지효언니는 짱 예쁘다 목소리도♥ 이 영화 재밌다♥ ㅋㅋ',\n",
       " '너무 재밌기도하고 기광오빠의 멋진연기덕에 실감나게봤네여 울기도하고 ㅠㅠ 웃기도하고 ㅎㅎ 질투나기도하고 ㅋㅋ 기광오빠 너무 멋있어여 짱♥',\n",
       " '무자막으로 밧는데역시페테에여♥완전좋네요♥근데 전 그루지지잔데 좀 아쉽네용ㅜㅜ',\n",
       " '소유와무소유 이건 정말 걸작이다 보가트바콜 커플의 탄생계기이자 상당히 흥미진진한 흑백느와르 적당한 긴장감과 임팩트 그리고 로멘스가 감미된 아주 재밌는영화였다♥',\n",
       " '요일도 금토니까 마음편하게볼수잇고 배우들 내용 다캡짱이에요오늘도 본방사수♥',\n",
       " '히든싱어 항상 챙겨봤었는데요 모두 재밌었지만 이승환편이 정말 최고였습니다 저는 이승환님에 대해 잘 알지못했던 10대소녀인데요 이번에 이승환편보고 전율을 느낀후 그 누구보다도 정말정말 진심으로 이승환님을 좋아하는 팬이 되었어요♥감사합니다♥',\n",
       " '다시 봐도 재밌어요♥',\n",
       " '악 내스타일멋찌다 ♥',\n",
       " '몸을 사리지 않았던 배우분들과 대역 분들 덕분에 짜릿한 즐거움을 맛보았습니다재미도 있었구요ㅎㅡㅎ근데 액션 외에 분명한 감동을 주는 게 없어서 좀 아쉬웠습니다ㅎ그래두 퀵 정말루 재밌게 보았어요ㅎㅡㅎ이민기오빠 멋있으심♥',\n",
       " '상처를 어떻게 극복해가는지 어른들을 위한 성장드라마가족이웃과 함께 살아가는 방법을 찾아주는 간만에 정말 따듯한 드라마 빼놓치않구 챙겨보는 1인입니다 인물하나하나 캐릭터가 녹아잇구 자극적인 막상드라마와는 차원이 다른 유나의 거리 사랑합니다♥',\n",
       " '최고의 영화입니다 이창동감독님 후속작 기대해요♥',\n",
       " '내가 가장 좋아하는 영화예요 보고 또봐도 질리지 않고 너무너무 재밌어요 영원히 잊지못할 최고예요♥',\n",
       " '장쯔이 졸라 예뻐엉♥',\n",
       " '예체능테니스편진짜너무재밌어요매주 예체능 기다려지네요 다른 종목편은어땠는지모르겠는데 평점이너무안좋길래 난생 처음써봅니다 예체능 화이팅하세요♥',\n",
       " '깨금찡♥',\n",
       " '역시 혼다고로메이저♥',\n",
       " '결말이짜증나긴했는데공유덕에행복하게본드라마ㅋㅋ♥',\n",
       " '역시 거장답네요 심리묘사와 뛰어난 배우들의연기와 줄거리가 탄탄해요 2번봤는데 봐도멋진영화♥',\n",
       " '비원에이포의 어느 멋진날 대박나라♥앞으로도 이런거 많이 찍었으면 좋겠어용',\n",
       " '포뇨 소스케 스키♥ㅎㅎ 포뇨 귀여윰',\n",
       " '꽃보다 소년들 ♥',\n",
       " '완전 멋있음ㅎㅎ 이혼부부지만 당당하게 다시 연얘했으면♥오늘이 기다려진당',\n",
       " '정말 재밌다♥',\n",
       " '좋구만 ♥',\n",
       " '정말 재개봉 한다면 무조건 가서 봅니다 3도 정말 보고 싶고 이 아름다움과 스릴을 영화관에서 즐기지 못한 게 가장 아쉬워요ㅠㅠ♥ 정말 감사하고 앞으로도 좋은 영화 기대해봅니다',\n",
       " '보고있어도 보고싶은 꽃보다할배♥개성있는할배들근육있는 귀염 서지니천재 나영석넘 넘 좋아용보고있어도 보고싶은 꽃보다할배쵝오쵝오',\n",
       " '사랑해여 일지매♥',\n",
       " '권지용짱짱맨 사랑해요♥ 콘서트는 못가도 이런거라도잇으니다행ㅇ♥',\n",
       " '아바티칸 갔다온거 생각나더라근데 이게 더 좋은듯 설명도 더 자세하고 또가고싶게 만든다영화 짱이었음 ♥',\n",
       " '봐도봐도 재밌음♥',\n",
       " '조나단 리스 마이어스 ♥',\n",
       " '아진심두시간동안계속욺ㅠㅠ짱이다♥',\n",
       " '윤찬영앞으로티비에서자주봤으면♥화이팅',\n",
       " '많이엇갈리지만 현실감있어서 더 애틋한영화♥',\n",
       " '와 진짜 짱 이걸 이제야 봤다니ㅜㅜ홍종현 대박♥',\n",
       " '앞으로도 언제까지나 나에겐 최고의 판타지♥책도 다 읽어보신분들은 얼마나 멋진 이야기인지다들 아시죠ㅎ',\n",
       " '첫회부터무조건챙겨보는유일한드라마♥시작1초부터끝나는시간까지어느새내얼굴에미소가지어져있다너무웃고있어서팔자주름이생길지경이지만정말행복하고기분좋은날이다오래오래해주세요',\n",
       " '진짜 재미있오여♥ 그리고 천둥 너무 귀여버♥연기도 잘하고ㅋ 네일샵 파리스 잘볼게염',\n",
       " '마음이정말슬퍼요ㅠㅠ마음아사랑해♥',\n",
       " '꿀잼♥',\n",
       " '감동이었어요♥',\n",
       " '유쾌하고 즐겁게볼수있는 영화임 린제이로한♥',\n",
       " '이민정♥',\n",
       " '기다린 보람이 ㅇㅂㅇ♥',\n",
       " '제발 박시연♥노민우 커플 이어주세요',\n",
       " '스토리도배우들도다다좋아요♥요즘이거보는맛에살지요ㅋㅋ',\n",
       " '마지막까지대박♥ 근데 마지막화 대결결과는 어떻게된거죠ㅠㅠ',\n",
       " '신의 사랑함♥',\n",
       " '곽지민 매력터진다♥',\n",
       " '다니엘♥',\n",
       " '점점 더 흥미진진 유빈양이 눈물 흘리면 넘 슬퍼요 랑아 아프지 말고 아부지 기둘려 글구동욱님 도망 다니는데 왜케 가슴이 아픈지 회가 거듭날수록 기대되욧 문정왕후님 살살 해주세요 모두들 수고하시구요 행쇼♥',\n",
       " '완전재밌고만뭐가재미없다고들그러냐진짜남자케인 역활 배우굿굿멋있다♥너무재밌게잘봤어여우리나라는 이런영화절대못만들지진짜시간가는줄모르고빠져들게봤네♥간만에스케일좋은영화봐서기분좋아졌음여',\n",
       " '짱재밌어요ㅎㅎ 재발 조기종영되지말길 ㅜㅜ사랑합니다 내겐너무사랑스러운그녀♥',\n",
       " '너무 이쁘고 넘 재밌다♥',\n",
       " '재미있쭁지현 언니 ♥',\n",
       " '처키 조낸끈질겨ㅡㅡㅋㅋ 나름 재밌게봄ㅎ 알렉스빈센트 짱귀여워♥',\n",
       " '송일국씨♥',\n",
       " '이자스민빼고다좋앗어요♥',\n",
       " '뒤늦게 찾아본 드라마진짜 최고의 드라마이다ㅜㅜ♥',\n",
       " '계속 액션 쩐다 하면서 보다가 마지막에 엔딩곡나오면서 엔딩 나올때 소름 쫙 돋았음ㅠㅠ 액션 싫어하는데 이건 진짜 대박인듯 그리고 본시리즈 5에서 다시 출연하신대요♥',\n",
       " '쨩이예여♥',\n",
       " '진짜 괜찮은영화네요♥ 말이필요없어요이렇게 잔잔하게 처음부터 끝까지 재밌는 영화도 드물듯 정말 말이 필요없네요 최고',\n",
       " '장르의 다양성면에서도 바람직한 영화♥봉순씨와 비슷한 나이여서인지 몰입도 좋고 보는내내 웃으며 파안대소하며 봤다 다른 연령대의 공감대가 궁금타',\n",
       " '2013년도 최고의 드라마 쓰레기 칠봉이 나정이 삼천포 윤진이 해태 빙그레 최고의 배우들을 알게 해 준 드라마 너무 좋아요♥',\n",
       " '최한철 ♥ 조민주가 좋아하셧쌉싸리와ㅓ요',\n",
       " 'ㅣ편이 더 재미있었음 참새요괴 넘 귀엽♥',\n",
       " '뱀검사랑행♥시즌3기다릴게영',\n",
       " '아 진짜 재밌어요♥',\n",
       " '홉킨스ㅋㅋ♥',\n",
       " '좋아옇ㅎㅎ 시우역할ㄹ도짱이구옇ㅎ 드라마가재밋네열♥열심히해주세옇ㅎㅎ',\n",
       " '몇번을 봐도 재밌어요비디오도 있구 오늘 티비에서 하는거 우연히 봤는데도 재밌고아 바론♥하루도 이쁘고ㅎㅎ짱',\n",
       " '진짜진짜재밌어요♥ 주간아이돌만큼 잼나는 방송이 또 나왔어 형돈이와대준이 콤비는 아이돌 예능 전문이야',\n",
       " '오글오글오글ㅋㅋ 근데 진짜 재밌게 봤다ㅎㅎ 정일우 이기우 이청아 최고♥',\n",
       " '종영후보게됨왜정규방송땐관심없었을까 너무유쾌하고몇회않남은게아쉬울정도 드라마인물배경등정들었음 무정한♥미스김잘됐음 이희준매력적이네요',\n",
       " '최고의드라마ㅠㅠ♥',\n",
       " '응급남녀 12화때 정말달달하당♥ㅠㅠ완전잼있엉',\n",
       " '난정말재밋게봣는데♥남자주인공왜케멋짐이런남자가있을까',\n",
       " '무정도시 진정 매주를 즐겁게기다렸던 드라마♥ 아시겠습니까',\n",
       " '키아누♥ 최고당',\n",
       " '신화는 사랑입니다 ♥3♥보면서 정말 콘서트 보는 느낌도 나고 웃기기도 하고 한시간 반동안 정말 지루하지 않게 보고온것같아요 역시신화는 짱입니당0',\n",
       " '너무너무재밋어요세주랑 미래랑 됫으면 조캣는데 김신이랑 될듯한느낌아니겟지그럼 미래에서 온 이유가 없자나 세주랑 달달한 러브씬 마니 나오게 해주세요♥',\n",
       " '저는9화이후부터약간절망했긴했는데전혀지루하지않던데요정말최고♥',\n",
       " '태민♥나은 짱잼없습',\n",
       " '빅뱅오빠사랑해요♥',\n",
       " '왜 애완동물이 아니고 반려동물인가를 보여주는 아름다운 영화보는 내내 너무 울었어요 동물과의따스하고 순수한 교감을 느껴본 분이라면 공감하실듯 ♥',\n",
       " '이렇게두근거리는드라마는처음이다주원도 신인인데 엄청난 연기력으로 한길로라는역을 잘소화한다는것도 대단하다 또 최강희는 괜히 로코에여왕 이아니다♥',\n",
       " '아진심 윤한이랑 이소연 사귀면 안되낭너무 잘어울리고글구 태민♥나은 커플 감동적임ㅋㅋ',\n",
       " '네 여인들의 우정 사랑 패션정말정말 부러버♥',\n",
       " '최고♥각 역할의 캐릭을 너무 잘살림',\n",
       " '주제도 마음에들고 개인적으로 미야자키하야오의 작품중 아니 모든 애니메이션중 가장 집중해서 본 최고의 애니메이션♥',\n",
       " '첫시즌부터 하나도빠짐없이계속시청중이예요ㅎㅎ현실감있으면서재미있고공감가는부분도많고 조금과장된것도있긴하지만 말도안되는막장드라마보다 훨씬재미있어요ㅎㅎ다만옛날엔 정지순하나가밉상이엿는데 밉상이둘이나늘어서영애씨괴롭히는데ㅠ제가다스트레스받는기분ㅠㅠ영애씨화이팅♥',\n",
       " '까아♥한박사님♥강형사님신퀴 게속가자♥쭉쭉 고고이거끝내지마여ㅠㅠ훅훅ㅠ',\n",
       " '해리포터는 언제봐도♥',\n",
       " '최 고다 마의 가영이 짱♥',\n",
       " '여진구 대박짱 멋있고귀엽고키도짱얼굴도짱♥',\n",
       " '불만있으시면 안보시면되지 죄없는 아이돌은 왜 꺼내나요 저님들 웃기시넼ㅋ 아이유 짱♥',\n",
       " '기타노 히사이시 ♥',\n",
       " '너무 재미있고 좋네요필립과 아름이가 합쳤음 하네요♥',\n",
       " '꽃보다 남자가 진리♥',\n",
       " '쓰레기네꾹참고 보느라 혼났다 근데 일본여자맘에든다♥',\n",
       " '정말 간만에 많이 웃고 특히 하선이 표정연기졸라 잼남♥',\n",
       " '저도 짱을 먹고싶네요오늘 저녁은 삼겹살에 된장찌개♥',\n",
       " '보는내내 엉엉울엇네요 스토리가 쪼금 허술한 면도있지만 안내상씨 연기 너무좋았어요♥ 결말도아쉽고',\n",
       " '66일에 보러가다가 매진되서 68일에 다시 와서 봤더니역시 보자고 졸라대길 잘했어 라는 생각이 들었더군요 썬더일레븐때문에 갔는데 영화를 보다보니 골판지전사에도 관심이 생겨버렸다죠 산 왜이렇게 귀여운걸까요♥',\n",
       " '다시봐도꿀잼♥사랑해요',\n",
       " '이진욱♥매주 챙겨보는 드라마ㅎㅎ',\n",
       " '심플한 소재와 플롯 그것을 편안하고 재미있게 잘 풀어냈다 아놀드찡 넘 귀엽긔 역할은 유전자 몰빵 받은 완벽남인데 순둥순둥하고 유한 성격 힘 쓸 땐 터미네이터 아놀드 찡 매력에 빠지네요 현재에는 없는 체격과 매력을 가진 배우 ♥',\n",
       " '10점 만점에 10점 뿅♥',\n",
       " '승기오빠진짜너무머싯어요♥',\n",
       " '이종혁짱♥',\n",
       " '스토리 볼만 했다그리고 게임이 다 무시무시하다 그리고 남자주인공 잘생겼다♥엑소 카이 닮음',\n",
       " '예에 늦었지만 올만에 다시보면서 평점을♥',\n",
       " '매력적인 남주와 여주의 캐미가 잠시나마 현실을 잊을 수있는휴식을 주다♥',\n",
       " '대박이에요ㅜㅜ준형오빠♥',\n",
       " '범수님 연기완전짱임♥',\n",
       " '다들연기짱이심너므좋ㅇ다ㅠㅠ♥',\n",
       " '너목들 이후 쓸쓸했던 마음을 후아유가 가득 채워주는군요 택연 소이현 너무 잘 어울려요최고 본방사수 끝까지 할게요♥',\n",
       " '타츠야군 알러븅♥ 배틀에서 멋있었는데0',\n",
       " '어제 박훈과 한재준 선생 엔딩씬 감동이었어요이렇게 계속 훈훈한 감동으로 남을 드라마가 되길 기대합니다 이종석 멋있어요♥',\n",
       " '문근영짱♥박시후짱',\n",
       " '꿀잼 롭슈나이더한테 반해버렸다 레이첼은 굴욕이 없구만♥',\n",
       " '김소연 남궁민 성준 매력 넘치는 드라마♥ 소연언니랑 남궁민 연기는 달달달',\n",
       " '팀버튼♥',\n",
       " '주원 유이 결혼 환상 넘이뻐♥ 쭉 애인 처럼 사귀였음 홧팅',\n",
       " '사랑입니다ㅜㅜ♥',\n",
       " '개늑시2나와라 정말 최고의 드라마♥',\n",
       " '재미있게영화잘봤습니다 정이슬님화이팅입니다♥ 대박나세요',\n",
       " '재밌어요♥',\n",
       " '좀 신기한 대사없는영화의외로 아이들이 집중해서 넘 잘보고 유치하지않는 귀엽고 마음따뜻한영화또한번보고싶어지네요♥',\n",
       " '셜록홈즈가 제일 재밌다♥ 3편나오길',\n",
       " '♥',\n",
       " '볼때마다 제가 다 행복합니다내일 마지막회라니ㅜㅜ정말 많이 아쉽네요앞으로 기분 좋은 날처럼 이런 가족드라마가 많이 나왓우면 좋겠네요ㅎㅎ서인우좋아요♥매력에 푹빠짐ㅠㅠ소희한테 프로포즈존귀♥',\n",
       " '빈의 재미있는 실생활 너무 웃겨서 배꼽 빠지는 줄 알았어요 진짜 재미있네욤♥',\n",
       " '이영화보고 울다 웃다했던 기억이 나네요 무엇보다도 인피니트의 멋진 음악과 무대를 생생하게 볼수있어서 더욱 좋았습니다 인피니트의 무한한발전을 기대합니다 후속작품도 얼른 개봉하길 인피니트 화이팅♥',\n",
       " '완전 잼다능♥아이제 뭐보냐뭘보긴테니뮤나 봐야지재탕봐야지',\n",
       " '너무재밌어요 윤시윤♥박신혜 넘 잘어울림',\n",
       " '효주누나 사랑해요♥',\n",
       " '지연진짜좋아♥',\n",
       " '완전 내스타일♥',\n",
       " '두고두고 보고싶은 영화♥',\n",
       " '온스타일에서 하길래 또 시시껄렁한 영화가 하나부다 라면을 먹으며 대충 보는데세상에 너무 즐겁고 귀여운 영화가 아닌가악인도 음모도 미스테리도 없는 해피하고 즐거운 영화♥남자주인공이 후덜덜하게 캐멋있다는',\n",
       " '아최고다 임상준배우님 팬됐어요♥',\n",
       " '제왑네이션♥',\n",
       " '절대 잊지 못 할 드라마 마이걸♥',\n",
       " '또보고픈너무나 아름답고 슬픈 최고의드라마ㅡ♥',\n",
       " '지상파에 나왔으면 대박났을텐데진심 커플들 케미폭발 엄청나고 도 드라마에 맞게 너무 좋고ㅠㅠ 초롱이 넘 이쁘다♥',\n",
       " '이청아 리즈시절 ♥',\n",
       " '나의사랑진영빠♥때문에 봤는대 너무재미있음 내용이파격적ㅋㅋㅌㅋ근대 부모님이랑보기엔야하다그래도 무조건본방사수 진영빠도 생각보다 연기더잘했고 다른분들은 말할필요없이잘했다 우아한녀대박나길바래요',\n",
       " '시티헌터 끝난지 오래됬어도 계속 생각나는 드라마 주연들도 너무 잘생기고 이뻐요♥',\n",
       " '짱이죠 에드 정말 멋져욧 ♥',\n",
       " '최고의 신화 정말 자부심과 뿌듯함을 느끼게 해준 영화예요 매년 보고파요♥ 3월은 콘서트로 겨울엔 영화로 고정시키죠 우리 오래오래 함께해요♥',\n",
       " '사랑한다 잘금 ♥ㅋㅋ',\n",
       " '않좋은덧글이많은데저는시즌1이나시즌2나재밌고특히거스트가별로나오지않아서좋아요1박2일화이팅♥',\n",
       " '이거 10번은본듯꿀잼♥김보라짱줗음 다른등장인물중에 마은에드는애있는데 이름이 뭔지 네이버 등장인물에 안나옴ㅠㅠ',\n",
       " '영화보다 잔 유일한영화 선배님♥',\n",
       " '♥아 진짜 이런영화 사랑해줌ㅋㅋ',\n",
       " '짱재밌오요♥',\n",
       " '연정훈 권현상 오빠들 드라마너무재밋게 봤어요 뱀검 1기부터 무슨일있어도 본방사수했는데 뱀검3도 나오는거져검은우비가 누군지 알려주셔야죠 권현상오빠도 계속 나오셨으면 좋겠어요ㅠ 뱀검 화이팅♥',\n",
       " '마음이 따뜻해진다고양이들은 다 천사야♥',\n",
       " '런닝맨 너무 재밋고 멤버들도 너무좋아요 전 런닝맨 왕팬이예요♥',\n",
       " '좋아요 잔잔함으로 깨달음을주는영화♥ 시간가는줄몰랐네요 엔딩까지ㅎ',\n",
       " '굳 ㅠㅠ♥',\n",
       " '극적에 막장인 드라마속에 너무 순수한 시트콤을 발견해서 요즘 얼마나 즐거운지 몰라요ㅋㅋ 드라마속에 나오는 노래들도 다 너무 좋고 배우들도 좋아요ㅠㅠ 에피소드 하나하나 너무나 재밋어서 몇번이고 다시보기 하고있어요 감사합니다♥',\n",
       " '너무재밋어요♥주상욱이랑 한예슬 연기도잘하고보면서 화나고 슬픈장면도 많앗는데 점점 속쉬원해지는것도 나오고 좋아요',\n",
       " '정주행 달려보니 7편은 기존 시리즈의 명장면을 모으고 업그레이드 시켜 스피디하게 보여준 것 ㅎㅎ 개인적으로 7편이 가장 블록버스터 답고 지루할 틈 없이 좋았다 한 ♥ 지젤 커플',\n",
       " '거침없이 하이킥 다시 보고 싶어용ㅠㅠ 다시 하면 안돼깡영♥',\n",
       " '영화관에대자로뻗어자게만든영화는너가처음이야♥감독님이최고입니다',\n",
       " '나가요 성괴들 나가요 성괴들♥',\n",
       " '웅앙아아ㅏㅇ ♥조으다',\n",
       " '길이길이남을 정말 웰메이드 드라마네요 여운이 진하게남습니다 유인나씨 거의 주인공 친구 모습만 보여주셨는데 그 어느 드라마의 여주인공보다 빛나는 연기더군요 한없이 사랑스럽다가도 너무나 가슴 아팠고 정말이지 여러모로 최고의 드라마예요♥',\n",
       " '응급남녀 완전짱짱클라라는 쫌 그래도 보면서내가다설렘♥',\n",
       " '개웃김ㅋㅋ이렇게 빵터뜨린적 드물데 정말 진심 재밌음 챔피언ㅋㅋ아놔 정콤비짱♥',\n",
       " '귀엽고 재밌어요 ♥',\n",
       " '너무감동적이고재미있는드라마에요♥',\n",
       " '아이다 쇼코♥',\n",
       " '인천 상영 정말 특별한 경험이였습니다 앞으로도 좋은 영화 부탁드리겠습니다 그리고 철수씨 너무 잘생김♥',\n",
       " '개잼있더 진짜 응사보다더재미있는듯♥',\n",
       " '진짜 재밌고 감동적이었고 배두나♥김태우 커플보곤 나도 결혼이 간절해진ㅠㅠ',\n",
       " '남에게 상처주기싫은 탐의 에고 발견 그것은 엘로이즈 밀라♥',\n",
       " '웃고 울고 뻔한 소재였어도 넘 재밋었엉♥',\n",
       " '진짜 왕잼♥볼때마다 게스트가 누가나오는지 기대된다',\n",
       " '진짜 김남길 사랑해 너무 멋잇다ㅠㅠ♥',\n",
       " '이게왜 영화 인진 모르겠지만 내친구의집은 어디인가 화이팅♥',\n",
       " 'ㄱ그냥 꿀잼 ♥ 후반부에 애들 수트 쫙 빼입은거 보고 너무 멋있어서 토할뻔했엉ㄱ',\n",
       " 'ㅎㅎ그냥 웃음이 나는 드라마 ㅋㅋ 유천아♥ 내가 정말 아낀당 ㅋㅋ',\n",
       " '드라마도재밌고조승우연기완젼짱♥',\n",
       " '와우 악키는 사랑입니다♥',\n",
       " '주원♥ 난시즌1관심없어서 않봣는데 주원나오고 시즌2본다난 2가더재밋는데ㅋ예능이 쉬운건아니잖아',\n",
       " '아무기대안하고봣는데진짜감동적이고춤도너무잘추고노래도너무좋고다너무좋다평도처음쓴다5꼭볼꺼다 안보면후회할영화다♥',\n",
       " '감격시대 요즘 재밌게 너무 잘보고있고요 ㅋㅋ 저는 김현중♥진세연 커플 잘됐으면좋겠구요 그리고 김현중씨의 멋진 액션 기대중입니다',\n",
       " '흥미진진한 스릴러였다 여기댓글들 얼마나 대단한 평론가들이납셨는지정말 평가는 개인적인사견이지만 쓰레기란욕은 자제했으면 하는바램과함께 새벽에 좋은영화였다 ♥',\n",
       " '진짜 귀여워요ㅠ다리 하나로 콩콩 뛰어다녀서 이상하지 않을까 했는데 보면 볼 수록 매력포텐터짐조카데리구 갔더니 더 좋아해요♥',\n",
       " '정말 최고의 힐링 영화입니다♥ 봐도 다시 보고 싶은',\n",
       " '♥왜 7점대지',\n",
       " '오빠들♥너무 귀엽고 멋져요♥14의 어느멋진날 흥해라♥사랑해요♥',\n",
       " '완전짱짱재믹아뇨 발바닥까지치거웃엇다는ㅋ성에다시생각해보는시간이엇어여♥',\n",
       " '꽃보다남자 작가가 일을 벌일줄 누가 알았을까 극본 음악 배경 배우 어느것 하나 빠뜨릴것이 없다 최고♥',\n",
       " '좋다ㅋㅋ현우좋다♥',\n",
       " '시즌 2도 기다리고있을게요예전부터 이런예능 기다렷었는데 넘넘재밌고 각각 라운드마다 제가 생각지도못한 게임과룰보는재미 출연자들끼리의 심리싸움 보는재미 아 그냥짱♥',\n",
       " '노래가 정말좋앗어요 재밋슴♥',\n",
       " '정말재밌어요 짱 처음엔 영화보는건 흥미 없었는데 이거보고나서 다른영화도 흥미있어요 앨빈과슈퍼밴드3 강력추천할게요♥',\n",
       " '주간아이돌 재밌어요 알랑가몰라도 재밌고보미후니♥금주의아이돌도 누구나올지 궁금하고 오래오래해요',\n",
       " '마지막 완전웃으면서봄ㅋㅋ♥하울',\n",
       " '내생에 최고의 영화♥ 1 2 3 다 적극추천하고싶은 영화다',\n",
       " '쨩 ♥',\n",
       " '광고천재이태백제가 본 드라마중 젤 좋은작품이였습니다제가 이드라마를보고난후용기가생기고 자신감도생겼습니다 광고천재이태백♥그리고 배우분들또 스탭분들 좋은 작품만드느라수고많으셨습니다',\n",
       " '한나 아담 시몬♥ 나도 이런 사랑하고푸다',\n",
       " '저는 고3인데 이영화보고 진짜힐링받았어요 색감도너무예쁘고 애기들도 다예쁘고 내용도 걱정없이 편안하게 볼수있어서 진짜좋네요겨울인데 피서가고싶게 만드는 영화에요 영상 스토리 재미 힐링 다주네요♥',\n",
       " '희애언니 진짜 곱게 나이드시는듯♥ 이쁘세요 마음씨도 이쁘시고 언니같이 되고싶어욯ㅎㅎ 꽃누나 화이팅ㅎㅎ',\n",
       " '최민수씨 연기에 빠짐♥ 최우식씨도 정말 연기 천재이신듯 다들 너무 잘함 오랜만에 챙겨보고 싶은 드라마가 생겼습니다',\n",
       " '멋져멋져 성준 남궁민짱♥',\n",
       " '꿀잼♥너포위완전 좋아요',\n",
       " '완전좋은 드라본방으론시청못햤었지만1회때부터못봐사ㅏ18회때부턴가 볼수있었는데 졸잼 ♥이런드라마 좋아요좋아오늘 감동적이였음 ㅎㅎ',\n",
       " '진짜재밌음아 너무멋있고이쁘고 재밌고♥',\n",
       " '진짜유령보고소지섭한테반함ㅎㅎ♥진짜재밌음ㅠㅠ이런드라마또나왔으면',\n",
       " '와진짜반햇다♥',\n",
       " '짱짱♥효주언니랑고수오빠사랑해영',\n",
       " '공블리짱♥짧은데 여운이진하게남았다',\n",
       " '몰입도 최고의♥ 여운이 남는 영화',\n",
       " '재방송통해보게되었는데진짜재밌고훈훈해지는드라마네여저말오랜만에미소띄면서보게되네요본방사수완전좋아여♥',\n",
       " '솔직히 1회 챙겨보는거 처음임ㅠㅠ 아진짜 김소은 달달해서 너무 좋아3♥',\n",
       " '그냥지존영화군요 보는내내 흥미진진 소름돋는 영화였네요실화라는 점에서 더욱 감명깊은영화 최근본영화중에 가장 재밌게 봤습니다 아쉽다면 2시간30분이 넘는데도 조금씩 끊기는듯한 스토리1부2부로 더욱자세히 해석되었어도 전혀지루하지않을듯♥',\n",
       " '완전 재밌어요현빈오빠 너무 멋이땅혜고언니도 짱 이쁨♥현빈오빠 짱♥',\n",
       " '내 인생의 최고 드라마 ♥ 이종석 짱 사랑합니다',\n",
       " '남북분단의 현실을 겪고있는 우리나라이기에 남수단북수단의 내전의 아픔이 남일 같지만은 않았어요훨씬 더 절망적이지만요 물론삶의 의미를 모른채 그냥 살아가는 우리모두에게 피자 한조각이 또 오늘 하루가 정말 기적일 수 있음을 알게해줘 감사하네요♥',\n",
       " '우울할때봤는데 보는내내 웃겨죽는줄알았고 영화를 다보고나니 우울한감정이 사라지고 해피바이러스로 가득찬느낌♥',\n",
       " '진짜사나이 재미없었는데 여군특집 너무재미있고 감동이에요 오늘도 이거보다 울었어요 김소연 혜리 홍은희 등 7공주 너무너무 정이가고 사랑스럽네요 훈련중 다치지말고 힘내세요 ♥',\n",
       " '짱짱재미있었음♥',\n",
       " '박성웅 이니까♥ㅎㅎ',\n",
       " '진짜재밌어요 진짜강츄♥ 1년전에봤는데 또보려규욯ㅎㅎ',\n",
       " '음악과 영상이 더 없이 아름답고 감동적♥',\n",
       " '틸이거때문에 9점 스토리는그저그런데 틸이거가 넘멋짐♥',\n",
       " '여운이 정말 긴 드라마♥',\n",
       " '히메나찡은 여신이♥',\n",
       " '진짜 추억돋는다 ㅋㅋ 치킨런 월레스와그로밋 패트와매트 캐릭터도 귀엽고 에피소드도 너무 깜찍함♥',\n",
       " '아ㅠㅠ윤동하를보내야되다니너무슬프네요ㅠㅠ저런완벽한남자는이세상어디에가야있나요ㅜㅜ 둘이 이렇게 케미가 잘 맞을줄은 몰랐는데 보는내내너무행복했어요반땡자알바윤둘정말잊지못할꺼같고흑흑드라마끝나지마잉ㅠㅠ 정말재밌는드라마엿어요ㅠㅠ최고♥',\n",
       " '진짜 재밌어요아이들에게 꿈과 희망을 심어줘요♥',\n",
       " '말리매틀린 사랑스러워♥',\n",
       " '카메론디아즈드류베리모어 좋아 ♥ 미녀삼총사 1은 진짜 괜찮다',\n",
       " '너무 좋다ㅠ지연목소리 욀케 좋음 완전 공주처럼 생겨서 목소리가 허스키하넹지연♥',\n",
       " '목숨걸고 죽을각오로 열심히 하겠습니다 선생님♥',\n",
       " '우리신화오빠둘♥사랑해요♥무조건만점♥',\n",
       " '강용석빼요ㅜㅜ 그리고 10부작은너무 짧네요제발늘려줘요ㅜㅡㅜ 아이돌만 바꾸고 나머진다고정으로홍진호짱♥',\n",
       " '가족과 함께보기 진짜 좋은 영화다 억지스럽지않고 재밌으며 남일같지 않아 공감도 많이가고 진짜 감동스럽다ㅜ 특히 보리 편지읽을때 눈물ㅠㅠㅡ 웃기기도 하면서 마음도 짠해지는 그런영화 진짜 잘만들었다♥나도 전국노래자랑 한번 나가볼까ㅎㅎ',\n",
       " '베리 나이스♥',\n",
       " '완전재밌어요 도희♥재환 꺄11살이 그런거 보고있음',\n",
       " '영애씨가 할머니가 되도록 시즌이 많았음 좋겠다ㅜ 넘넘 재밌다♥',\n",
       " '꿀잼♥ 시즌3 더 대박 나길',\n",
       " '서윤이♥짱멋있었어용 15화에서 죽는연기도 멋있었는데ㅎ♥',\n",
       " '좋습니다♥추천이요',\n",
       " '정말 재미있어요 토이스토리 이후로 이렇게 재미있는 애니메이션은 처음인것 같아요 샌디맨 ♥',\n",
       " '오유에서 왔어요 ♥',\n",
       " '아귀여워♥',\n",
       " '대단한 영화♥',\n",
       " '이맘때되면 생각나서 또본다 진짜 달달하당♥',\n",
       " '평점올리기 위원회 ♥',\n",
       " '삼순이언니의 최고작이드라마는 10번이상을보는데도 질리지않고 달달한 드라마였던것같다이때부터 선아언니의 매력에 빠짐♥',\n",
       " '너무좋아요♥',\n",
       " '사극 답지 않게 완전 재미써요 한효주 짱♥',\n",
       " '짱입니다♥ㅋㅋ',\n",
       " '감동적이에요♥ 처음부터끝까지 계속집중하게되는영화',\n",
       " '일단 낚시용품점에서 춤추던 장면 낚시용품점이 그렇게 로멘틱할 수도 있구나새삼 느꼈구요♥ 컨트리 음악에영상미에로멘스에 전혀 어색함없던 스릴까지역시 노트북디어존 제작진다르네요ㅎ사랑하고싶어지는 영화네요',\n",
       " '진짜대박이거눈물흘리면서봄ㅠ♥ㅜ',\n",
       " '노민우씨 덕분에 보게 된 드라마인데요보다보니 넘 재미있네요연남생 멋쪄용♥',\n",
       " '강배우님이 잘 살려낸 영화역시 코믹 멜로에서 빠질 수 없는 캐스팅 강지환강지환 만세♥',\n",
       " '여주예쁨♥ㅎㅎ 개념있는 영화',\n",
       " '나오미왓츠♥ 영화 진심 감동♥',\n",
       " '시원하게 울수있었던 감동적인 영화♥',\n",
       " '된장녀♥',\n",
       " '스타일로그 흥해라이수혁홍종현너무재밌어요 앞으로도 기대합니다♥',\n",
       " '잼나요♥',\n",
       " '재밌어요 수목마다 웃고가요♥',\n",
       " '졸귀꿀기허니귀우리오빠들짱♥',\n",
       " '따듯한 드라마예요 진부하지 않은 내용 전개라 좋아요 물론 연기자들의 연기가 더 좋지만♥이동욱 신세경의 케미가 달달하네요고비서님의 감초 역할도 좋아요ㅋㅋ 딴사람이었음 어색했을 것 같아요',\n",
       " '짱짱이에요 추천합니다꼭봐야할영화♥',\n",
       " '후후 내가 주말에 이것땜에 산다♥ 꽤 재밌음 ㅋㅋ',\n",
       " '완전 이런스타일 영화 정말 좋다♥',\n",
       " '수호 백현 찬열 디오 카이 세훈 시우민 레이 첸 타오 모두다 사랑해 다시 보고 또 봐도 재밋다♥',\n",
       " '완전재밌어 애다♥ 사랑애 많을다',\n",
       " '14흥해라♥작가님 짱짱♥',\n",
       " '재밌는데요♥',\n",
       " '와 로보캅 멋있네요 ♥',\n",
       " '내생에 최고의 영화예요♥',\n",
       " '볼만하던뎅 정우♥',\n",
       " '아이언 화이팅♥ 오늘이 마지막이라 아쉽네요',\n",
       " '아 역시 엔 졸귀ㅠㅠ드라마 내용도 너무 재밋네요ㅋㅋ주말에 할거 없어서 심심햇는데 이거 보면서 지내면되겟네여ㅋㅋ호텔킹 화이팅 엔도 화이팅♥호텔킹흥해라',\n",
       " '재밌어요 강추 한번 보셩♥',\n",
       " '최고옥빈창만정말말이필요없다월화를기다리게만드는힐링드라마요즘난이게젤좋아♥',\n",
       " '완소미드♥ 진실은 저너머에ㅎㅎ',\n",
       " '돈크라이 마미도 이 정도였으면 좋았을걸 하는 아쉬움 미나토 가나에 좋아하는 작가인데 영화도 너무 좋았고 악역이지만 슈야군 너무 귀엽다♥',\n",
       " '♥',\n",
       " '짱입니다 정말 ♥',\n",
       " '완전재미있어요 주원오빠짱♥',\n",
       " '♥케이온 다이스키♥케이온 다이스키♥',\n",
       " '매주금요일이기다려지는이유♥',\n",
       " '책이 확실히 더 재밌긴 하네요 로건 레먼 보고 안구정화 했으니10점♥',\n",
       " '강동원 멋있음♥',\n",
       " '박보영누나연기너무잘해요♥',\n",
       " '와 진심 추천한다 특히1편은 또봐도안질림 이런영화개조아♥',\n",
       " '얼마나 대화가 중요하게 알려쥤다남자는 실패해도 힘내고 여자는 돈벌어오라고하지말구 남편 기살려줘용♥ 사랑받고싶음 그만큼 해줘야돼♥',\n",
       " '뀼♥',\n",
       " '내가이솜이였어도 집착할듯♥줄거리를 모르고 본게 더 재미를 준 것같음 심청전의 신선한 재해석용왕님이진짜있었네 ㅋㅋ',\n",
       " '시즌2 적극추천♥',\n",
       " '똥석오빠가 짱♥',\n",
       " '셰릴이라는 캐릭터를 보고 처음에 받았던 충격이영화를 보는 사이 나도 모르게 존경스러운 마음으로 바뀌어 있었어요 마크의 순수함과 그게 고스란히 드러나는 표현력들도 정말 따뜻하고 싱그러웠어요 정말정말 아름다운 이야기네요 고마워 홍♥',\n",
       " '기웅오빠♥ 사랑해요♥',\n",
       " '디스이즈 인피니트 대박나♥그리고 앙콘짱이었어♥',\n",
       " '영화중에 제일 최고 재밌음♥',\n",
       " '오빠들사랑해요오래보자비스트♥',\n",
       " '꺄악 수현오빠 연기력 짱이에여해품달을 잊어달라 하였느냐 미안하구나 잊으려 하였으나 너를 잊지 못하였다♥',\n",
       " '드라마도 재밌고 무엇보다 강대성 짱♥',\n",
       " '짱재미써요♥',\n",
       " '송재림♥김소은커플너무좋아여',\n",
       " '서방♥대빠조아',\n",
       " '시윤이오빠너무 귀여워♥ㅋㅋ',\n",
       " '내인생 최고드라마ㅎㅎ사랑한다 쓰레기♥',\n",
       " '빅뱅앞으로도화이팅♥',\n",
       " '진짜 숨겨둔매력도 보니깐 더 좋아지구진짜 머싯어요♥ 제작진님 너무감사해여♥본방사수♥',\n",
       " '아진짜 외국로맨틱코메디는 거의다봐서별기대없이봤는데 정말정말 재미있고 보는내내 너무설레고 재밌었어요ㅜㅜ♥',\n",
       " '짱♥너무재밌어요',\n",
       " '너무나 조은 드라마 김유석 염정아 신은경 정준호 네분 모두 어쩜 이리도 명품 연기인지눈물과 웃음을 함께 주는 종합선물 셋트같은 드라마김유석님의 내면 연기 감동과 놀람 그자체입니다 앞으로 더욱 대박나세요♥',\n",
       " '평범보고 안 볼뻔 했는데평점치곤 괜찮은듯 ㅎ 애기야 나도 사랑해♥',\n",
       " '아이들도 귀엽고 배우들도 멋있었고 감정연기가 특히 멋있었습니다 아이들의 순수함도 좋았구요♥',\n",
       " '진짜재밋엉요ㅠㅠ 얼떨결에재방을로1회부터보게되었는뎅 하루도안빼먹고보고잇어요ㅠㅠ정말짱이에용 이장우도멋잇공 김선아매력에푹빠져듭니다용♥',\n",
       " '내 생애 최고의 로코♥',\n",
       " '기대했던장면들이 나오지않아 원작에비해 아쉬운점이너무많지만ㅜㅜ 그래도 해리포터시리즈는 다최고♥',\n",
       " '볼때마다 소름돋는 내용인것 같아요 최진혁 너무잘생겼어요♥0',\n",
       " 'ㅋ재밌어요♥웃기기도 하구',\n",
       " '임수정의 재발견이다 ♥',\n",
       " '♥',\n",
       " '첫사랑의기억과사랑의의미를전해주는최고멋진작품♥',\n",
       " '최고였어요 아이들과 즐거운시간보냈어요♥',\n",
       " '꿀잼간만에 가슴설레는영화를봤네요♥',\n",
       " '재밌어요♥',\n",
       " '우주에 시간여행까지 ㅋㅋ생각보다 영상미있어서 놀랐다 뒤로갈수록 개그빵빵터지고 ㅋㅋ 3는 완전귀엽고♥',\n",
       " '몇번을 다시봐도 감동한다 디테일이 살아있는 감성무비♥',\n",
       " '공블리♥ 드라마 너무 재미있네요',\n",
       " '고인의명복을 빕니다이영화는 정말최고였어요♥',\n",
       " '박시후 팬 됬어요♥',\n",
       " '토르 개꿀잼♥ㅎㅎ',\n",
       " '씨엔블루에프티아일랜드주니엘에이오에이 다좋다♥',\n",
       " '10점만점에10점 순수가떠올르네요 가슴찡한구석 정말 오랫동안 여운이남는다 다시또 보고싶다♥',\n",
       " '세스코헨 때문에 봤음 미드 사상 최고 매력남♥',\n",
       " '우리 어디로 가나요 글쎄요 어디로 갈까요 다시봐도 잔잔한 영화 류승수님 출연료가 무척 궁금하다 배용준 슴가가 너무 큼 예진이의 연기가 난 참 좋다 ♥',\n",
       " '효주누나 사랑합니다♥ 이루어질수 없는 사랑',\n",
       " '말이 필요없는 최고의 애니 라구요♥',\n",
       " '시간이지나도 다시보고픈영화♥',\n",
       " '이런걸 이제 발견하다니0 캐릭터들도 귀엽고 다정하게 생겼지만 무엇보다 이준오빠 목소리가하ㅎㅎ ♥ 왜 이렇게 귀여운거야ㅋ 이준오빠 흥해라 흥 퐈이팅',\n",
       " '굿♥',\n",
       " '이기광사랑해요진ㄴ짜ㅠㅠ♥',\n",
       " '14짱♥ 14의 어느멋진날 진짜 재미있어요 다음에도 14 리얼리티 프로그램 많이 만들어주세요♥ 재미있게 보고있어요 재방송도 챙겨보는중♥',\n",
       " '강동원 드라마중에 가장재밌다♥',\n",
       " '완전 잼있어요♥',\n",
       " '제가좋아라했던 기황후접고 우사수 팬이되었어요♥',\n",
       " '내옆의가장소중한우리가족을 다시한번생각하게해준드라마매일직장생활에치여 정작중요한것을놓치지만 다시한번 가족의중요성을느끼게해준드라마♥ 고맙습니다 이후 눈물샘을자극한드라마 이번연말연기대상에서 수상을 기대합니다',\n",
       " '진짜 털털하고 재밌고 예능감 살아잇슼 꿀잼♥',\n",
       " '별무섭지는 않은데 반전이 쫌잇음 하지원은 뭘해도 이쁘니깐 10점준다♥',\n",
       " '휴 여기서도 안티가 난무하네ㅋㅋ빅뱅은 인기가 많다♥',\n",
       " '진짜 재미있었어요♥ 영원한 힐러ㅠㅠ',\n",
       " '완이의 따뜻한 사랑 완전설레였음고구마 ♥ 벌써끝ㄴㅏㄷㅏ니ㅜㅜ',\n",
       " '보고 또 봐도 매력적인 영화♥',\n",
       " '현실적인 사랑중 노인의 명대사♥',\n",
       " '이런영화 진짜너무반갑습니다♥',\n",
       " '재밌다 사람은 베풀면 다내게 오는법인듯 착하게 살아야겠고 나도 로또당첨이된다면 어려운사람을 도와야겠다 그리고 돈보다 사랑이지♥감동적이고 멋진영화였음',\n",
       " '콘서트다녀와서 3봤는데 정말 콘서트장에 온것 같았어요 ♥',\n",
       " '진짜 감동에 재미에 배우들연기에♥',\n",
       " '솔직히 영화의 내용이 너무 좋다 생각 없이 봤다가 몰입하게 되고 대사 하나하나가 귀에 들어온다 내 개인적인 생각인데요 인생 살기 힘들때 보면 되게 좋겠다고 생각든다 왠지 모든거에 탈출하고 싶고 마음만큼 자유 느낌 이 들어서 암튼 좋아요 ♥',\n",
       " '착한예능 인정보면서 같이 울고 웃고 정말 감동재미 보장한다더니 역시 약속을 기가막히게 잘 지키시는거같아요♥신화산',\n",
       " '이거 아직도 기억난다ㅋㅋ나 초3때 영화포스터보고 엄마한테 이거 보고싶다고 졸랐던 기억이ㅋㅋ실제로도 재밌었음ㅋ 프레디 하이모어♥',\n",
       " '나의 사랑 토이스토리♥',\n",
       " '최민호 진짜 예쁘당 최민호 최고♥',\n",
       " '와 진짜 더 높은 점수를 줘도 안아까운 영화다집에서 이 영화를 무료로 봣는데 진짜 눈물콧물 다나오고 재밌는 부분도 있고 지금봐도 하나도 안지루한 영화다 강혜정이랑 배종옥 진심 사랑함♥',\n",
       " '마지막변론에서 진짜♥',\n",
       " '강지환잘생김개잘생김♥ 이렇게재밋는걸왜이제봣지마지막에키스한거진짜한건아니지ㅡㅡ',\n",
       " '다시봐도 꿀잼♥',\n",
       " '한효주♥',\n",
       " '고비드의 눈빛은 몇년이 지나도 잊지 못한다 ㅠㅠ ♥',\n",
       " '찬미예수님♥원장수녀님의사랑그리고삶그리고깨달음저희도받고싶습니다♥',\n",
       " '아아정말 재밌게본 영화♥특히 에드워드 정말 귀엽다',\n",
       " '너무재밋어서이틀만에다본드라마ㅋㅋ내용도너무좋고설레고애틋하다1화부터또다시보고싶은드라마♥',\n",
       " '재밌어요♥',\n",
       " '야호내가 우리가 정말 좋아하는 못말리는 어린 양 숀♥',\n",
       " '예메한ㅋㄱ깽♥사랑',\n",
       " '어릴때 크리스마스날 티비에서 봤던게 기억난다 78년전에 봤던거라 기억이 잘 안나서 다운받아서 다시봤는데 역시 너무 재밌음 ㅠㅠ 그때로 돌아간기분 ㅠㅠ 노래들도 너무 좋당 ♥',\n",
       " '오랜만 도마뱀 아리와 조강이 참 예쁘네요 다른말 다 필요없고 참 예쁜영화♥',\n",
       " '2♥',\n",
       " '아진짜계속빵터졌음ㅋㅋ아너무재밌어♥',\n",
       " '인피니트 언제나 멋지고 열심히 하는 그 모습들이 너무나도 자랑스럽다앞으로도 멋진 인피니트가 됬으면 좋겠다인피니트♥',\n",
       " '그자리에 있을사람이 있어 좋다바로 강호동♥',\n",
       " '꿀잼♥허니잼♥',\n",
       " '이때까지본영화중 계속다시보게되는영화다진짜재미있고내가본영화중에소는 제일짱인듯함♥',\n",
       " '최고ㅠㅠ배우들 다 연기잘함♥아 호텔킹 짱',\n",
       " '엄마돌아가시기전에같이 영화관에서봣던영화♥다시봐도재밋당',\n",
       " '해변도없고날씨도형편없고미녀도보기드물다는클리블랜드브라운스써니케빈코스트너단장의기막힌드래프트처세술팬인데도12라운드픽교환에전쟁같은상황은같군요실력도좋지만좋은인성이더중요하죠되로주고말로받네요ㅋ클블복귀한르브론의첫시즌어빙러브♥화이팅',\n",
       " '꺅 김주혁 사랑해요♥재미있고 귀엽ㅠㅠ 1박 시즌3하고나서 너무 재미있으 앞으로도 멤버들 다 건강하고 오랫동안 했으면 좋겠어요',\n",
       " '완전재밋게봅니당잉여공주몰랏을땐그려러니햇는데송재림때문에봣엇는데캐릭터들도좋앗구안봣으면내가후회햇을만한작품이작품이나왓을때내가왜안봣는지모르겟다취업준비생역할의마음을잘헤아려서이시대의취준생을잘표현한것같다어쨋든송재림나와서완전조앗음♥다음에도이런작품이나왓으면',\n",
       " '이동욱내꺼ㅓㅓ♥',\n",
       " '중간중간재미있는대사가많아서꿀잼♥',\n",
       " '무슨말이 필요하겟나신화는 사랑입니다♥다만 슈팅스타 해결사가 없어서 아쉬웟습니다 하지만 신화산',\n",
       " '솔직히 케이블드라마 잘안보는데 이거진짜 넘 잼따ㅋㅋ 지상파는 뭐랄까 소재가 비슷먹는장면도 미치겟고 아두준두준♥',\n",
       " '완전 재미있어요 런닝맨 지효언니하고 응급남녀 지효하고다른것 같아요 지효언니 사랑해요♥',\n",
       " '도진오라버니♥짱',\n",
       " '식샤를 합시다 너무재미있어요ㅠ♥ 목요일이 항상 기다려집니다ㅠㅠ 근데 이제 곧 끝나서 많이 아쉽네요ㅠ다다음주면 구대영못보네ㅠ',\n",
       " '뽀로로 1기 초등6학년 되었습니다 13살 아직도 노는게 젤좋아♥',\n",
       " '요섭오빠 화이팅 사랑해요 비스트 오빠들♥',\n",
       " '완전감동♥',\n",
       " '베네딕트연기개잘하고 내용도반전에반전ㅠㅠ하셜록시즌4도나왔으면좋겠다♥',\n",
       " '대박빅꿀잼♥너무재밌었어요',\n",
       " '씨엔블루 짱짱♥ 담주가 마지막이래ㅠㅠ 안돼 ㅜ',\n",
       " '윤두준♥',\n",
       " '현재오라버닝 사랑해유♥',\n",
       " '보는내내 너무 행복했던 드라마♥ 난 지금 독고앓이 중♥',\n",
       " '항상 응원하고 있어요 홧팅♥',\n",
       " '♥ 400화',\n",
       " '또보고싶은 드라마 ♥',\n",
       " '짧은 시간이였지만 나의 감성과 동심을 살려준 아름다운 영화였다♥',\n",
       " '국내 유일의 싸이코 스릴러물 전문 김성홍 감독님의 영화는 올가미부터 닥터까지 모두 완전히 예술이다닥터 는 김창완의 엄청난 연기력과 특히 악이 승리한다는 점에서 굉장히 기뻤으며 김감독님께서 앞으로 이런 영화를 계속 많이 만들었으면 좋겠다♥',\n",
       " '현실적이고 재밌어요 연기도다들잘하셔서 몰입이된다는ㅎㅎ무척달달하고 굿♥',\n",
       " '사랑스러운이야기 ♥',\n",
       " '하루 너무 귀여웡♥',\n",
       " '오랜만에괜찮은로맨틱코미디영화♥',\n",
       " '정말재밌었요♥전우칠때는 진지함 우치는 코믹 강림은 카리스마 눈빛 독충 무연은 차가운 연기 모두 짱이였어요싸우기만하면 재미없을텐데로멘스까지 넘재밌서요 전우치 내년 연기대상 꼭받으세요전우치 사랑하는 팬입니다2회도 열심히볼께여 모두힘네세요♥',\n",
       " '몰입도짱역시이선균연기는최고김민희도어울리는역할정말숨죽이고긴장하고재미있게본영화♥이것이야말로진정한스릴러영화내스탈♥',\n",
       " '내 인생 최고의 영화 입니다 ♥디코타패닝 새롭게보고 진짜 콧물눈물 다흘렷네요하내가 왜 이명작을 이제봣을까',\n",
       " '내인생최고의영화 ♥',\n",
       " '마지막장면을 보면서 이렇게 울어보기도 오랜만인것같다 두고두고 생각날것같은 좋은 영화♥',\n",
       " '막장드라마 만렙을 추카드립니다 ♥',\n",
       " '드라마 잘안보는데 요즘 주말엔 엠비씨드라마에빠져사네여너무너무 재밌게보고있어여♥앞으로도 기대해요',\n",
       " '스토리도좋고 배우들연기도좋고 특히 최영의눈빛♥',\n",
       " '♥',\n",
       " '노래 무대 내용 정말감동 잼있게 봤어요 조카들에게도 보여 주고 싶은 영화내요♥',\n",
       " '너무 재밌고 웃기고 감동적이기까지했던드라마 스토리도 재밌고배우들의연기도 굿♥',\n",
       " '살아있음에 감사하게 되었습니다생명이 있음에 아프지 않음에 감사함을 가졌습니다하고싶은것들을 하나씩 해나가며 죽음과 마주할 순간 아쉬움이 적도록 노력할래요 감사합니다 ♥',\n",
       " '성은님짱♥ 영화잘볼께요',\n",
       " '아 대박 비스트 완전 멋있어요사랑합니다 비스트♥',\n",
       " '캐릭터도 너무귀엽고목소리도 너무너무귀여웠어용♥다섯살 아들램 혼을 쏙 빼놓고봤어요마지막 엔딩 자막이 다올라가도록',\n",
       " '믿음에 관한 이야기 잔잔하게 흘러가지만 예상 외의 여운을 줬던 영화 보는 내내 따뜻했다♥',\n",
       " '무한도전 정말 좋아하고 토요일만기다기면서 보기를 원하는데 방송에서 멤버들이 가끔 무한도전의 끝 그런것들을 이야기할때마다 정말 슬퍼요ㅠ 제발 진짜 무한도전 ㅠ 이름처럼 계속 이어가면 좋겠어요ㅠ무한도전을 이끌어가는 모든 사람들 감사해요♥',\n",
       " '아기자기하고 순수한이런영화좋다♥해피엔딩 결말도굿♥우울했는데 영화보고 힐링♥',\n",
       " '특유의 애틋한분위기와 화려한배경이 묘하게 어울려서 정말 계속또보고싶은영화♥',\n",
       " '연걸사마♥',\n",
       " '진짜 재미있고 강추입니다ㅠ 완전 상큼하고 신선한 주제여서 흠뻑 빠져들었네요♥',\n",
       " '아귀여워♥ 너무 재밌게 보고 있어요',\n",
       " '요섭이가 자주 안나와서 별 하나 깍음ㅠㅠ요섭이 자주 나왔으면 좋겠어요 요섭이가 보구 싶어요ㅠㅠ♥',\n",
       " '감동적여진구이민기잘생김♥',\n",
       " '완전 짱좋은드라마♥',\n",
       " '김유미 ♥ 김유미 재밌당',\n",
       " '윤아 너무 이쁘고 내용도 좋고 다 좋아요♥',\n",
       " '너무 재미있는것 같아요주원오빠도 잘생겼궁ㅎ다음주가 기다려지네요♥',\n",
       " '현실적내용에 완전공감♥',\n",
       " '대박 ♥',\n",
       " '유치하고 오글의 극치였어요오카다 마사키는 정말 잘생겼었지만♥',\n",
       " '잘된 시나리오에 연기력 까지 굿굿♥',\n",
       " '진짜 재밌고 신나는 영화 ㅋ비타민 같은 영화 완전 좋다♥',\n",
       " '오빠들진짜귀여워 첫방부터 기대만발 14 어느멋진날 흥해라♥',\n",
       " '완전 잼잇어요ㅎㅎ 두준이 오빠랑 수경 누나랑 잘 됏으면 좋겟다♥ 짱짱',\n",
       " '이걸 왜지금봤지초반에 약간 뭐하는거지 할수는있는데뒤로갈수록 몰입도장난아님 주제도좋고 진짜편집좋다 앤드류거필드도좋고♥',\n",
       " '처음부터 끝가지 나에게 웃음을 준 드라마여서 더욱 추억에남는다 ♥',\n",
       " '최고최고 ㅋㅋ 자극적이긴 했지만 소재와 연기자분들의 훌륭한 연기 조합 ♥',\n",
       " '사노타의 백성현 특별출연 미친존재감연기력 쩌내용♥',\n",
       " '티비에서 우연히보고 완전 빠져서 현재 몰아보는중 주인공의 역경이 보는사람도 지치지만 그와중에도 고담은 넘 머싯다♥',\n",
       " '최고 감동 우정 낭만 대박 꽃보다 청춘♥이게 바로 여행의 묘미 진정한 청춘 ㅎㅎ 내년에도 이 맴버로 계속 쭈욱 꽃청춘 시리즈 이어졌으면♥',\n",
       " '진짜 진영신우산들바로공찬대박14♥ 어느멋진날흥해라',\n",
       " '인피니트 사랑해요♥',\n",
       " '월 너무 귀여워요♥',\n",
       " '아 최원영너무좋아 철규찡♥마성의찌질남',\n",
       " '역시 동방싄기ㅠ♥',\n",
       " '걸림앓이♥ 인생을 살아가는 맛을 알려준 드라마♥ 지금도 계속 복습하고 있어요',\n",
       " '처음엔 재미없을줄 알았는데 보면볼수록 재밌고 보는내내웃음이 끝나서 너무 아쉽고 이런 시트콤 또 못볼것같네ㅠ닥치고 패밀리♥',\n",
       " '보면볼수록 빠져드는 드라마다 로필 13까지 다너무 공감되고 재밋는듯 싱싱고구마 ♥',\n",
       " '제가 정말 많이 아끼는 영원한 1등인 작품입니다 정말 좋아해요 아직까지도 응원하고 있어요 ♥',\n",
       " '♥슈퍼블립',\n",
       " '우왕♥',\n",
       " '조니뎁ㅜㅜ♥마지막에 용물리치는거짱 흰색여왕도이뻐ㅓ 진짜 10대들이보면딱좋을것같네요',\n",
       " '치아키 누나가 최고거든 ♥ㅡㅡㅋ',\n",
       " '아 정말 요즘 너무 빠져살아요 감정이입되서 가슴 아팠다가 웃었다가 서준이 넘 멋지구 노래도 잘하구♥ 엄정화는 역시 나인조금 들었어도 연기 넘 잘허구 입고나오는 옷들은 덤으로 눈요기ㅋ 조연들 보는 재미도 짱 이제 6회만 남은게 넘 아쉽네여ㅠ',\n",
       " '서동요보고 조현재씨가 누구보다도 제일 좋아졌습니다♥',\n",
       " '완전 짱이엇음♥',\n",
       " '완전감동잼있음엔딩사랑스러워요♥',\n",
       " '최고였음♥',\n",
       " '빈디젤사랑해♥폴워커ㅠㅠ믿기지가않아',\n",
       " '약간야하긴하지만재밌어요우와한녀화이팅♥',\n",
       " '쩌는드라맠ㅋㅋ초딩2학년이봐도재밋고재희가멋잇던드라맠ㅋㅋ고1이되가는지금도못잊는드라마임♥',\n",
       " '보는내내좋았다마지막장면은 진짜 가슴이너무막히면서아팠다가너무절묘했다굿♥',\n",
       " '케스팅짱 스토리짱좋아요♥',\n",
       " '여자주인공 너무 멋있다♥',\n",
       " '잼나요너무너무♥',\n",
       " '원피스가 최고지 ㅠㅠ♥',\n",
       " '너무 재미있게 본 드라마♥',\n",
       " '정말너무너무재밌네요 가족끼리보기참좋은 영화인것같습니다♥',\n",
       " '진심으로 잼있어요♥ 진짜 이거 보고 잭에프론이랑 바네사 허진스 커플도 다시 응원하고 배우들도 넘 이쁘고 멋지고 노래랑 춤도 넘넘넘 중독성있어요♥진짜 강추할게요아진심 하스뮤 4 나오면 좋겠어요♥하스뮤 홧팅♥',\n",
       " '2003년 영화치고ㅈ너무 조음♥캐스팅도 완전 완벽함♥',\n",
       " '아다윤이귀요미♥이뽀♥ 앞으로도쭉하시길',\n",
       " '애니도 극장판도 전부 명작인작품 신야 존멋♥',\n",
       " '초딩때부터 봤어요지금 제가 대학생이니ㅋㅋ 동물농장과 함께 컸네요항상 재밌고 감동적이예요감사합니다♥',\n",
       " '완전짱세계여행을안가도세계에대해많이배울수있어참좋습니다♥',\n",
       " '패션왕코리아가 매번 시즌을 이어갔으면 좋겠습니다 굿♥',\n",
       " '너무예쁜영화 ㅎㅎ계속생각나요 노래도♥',\n",
       " '해피바이러스♥10점 만점에 10점♥장나라 짱♥',\n",
       " '너무 감동적임♥',\n",
       " '치아키 센빠이♥',\n",
       " '말이필요없이대박ㅋㅋ난강형사님도좋지만배형사님고좋아♥',\n",
       " '하나님이 만든 영화♥였습니다마지막 엔딩 십자가를 보고 더 확신했습니다영화보시는 모든 분들♥예수님 믿고 모두 구원받으시길',\n",
       " '브래드피트 역시 정말 잘생겼다 ♥연기도괜찮고 재미도있구',\n",
       " '이걸왜보는거지진짜재미없다 너목들이짱이야♥',\n",
       " '재밌어요♥민혁오빠♥',\n",
       " '재밌음♥ 천상여자 화이팅',\n",
       " '잔잔하고 따뜻한 영화 재밌다♥',\n",
       " '너무 복합적 장르지만 재밌는 영화 순수하고 귀여운 베티 ♥',\n",
       " '원작보다 더 좋네요ㅎㅎ 넷다 매력이♥',\n",
       " '이야아 숨은 명작이채민서 몸매감상 할려구 빨리감기로 대충 흝어보려구 했는데 이런줸좡 처음부터 끝까지 재밌게 감동있게 보게될줄이야 채민서 표정연기가 장난이 아니네 주말 드라마 여주인공 감인데 왜 못뜨는지 이해가 안간다 숨겨진 명작 가족드라마 ♥',\n",
       " '너무 재밌어요 오늘 3화 기대됩니당♥',\n",
       " '최민호♥',\n",
       " '최우식 연기 정말 잘한다♥',\n",
       " '무료로 8회까지 처음봤는데 남자주인공들 외모 보고 반해서 저는 갑자기 금요일이 기대가 되었어요작가님 이런 드라마를 만들어주셔서 감사하고 마지막까지도 잘 만들어주세요화이팅이에요♥',\n",
       " '이티라는 명작을 32년이 지난 오늘 처음보았는데정말 이티를 지켜주려는 아이들의 순수한매력에 놀라고닮고 싶었어요이티는 초롱초롱한 눈망울이 어찌나 아기같던지ㅋㅋ마지막에 엘리엇과 포옹하는 장면에선 친엄마같은뭔가 따스한 느낌이 묻어나 가슴 찡했어♥',\n",
       " '꽃보다 시리즈 첨부터 다 봤어요근데 이번 시리즈가 최고네요전 아직 34살 밖에 안되었지만 훗날 나의 모습도 그려보게 되네요3분다 진정성이 느껴지고대화에서 서로에 대한 찐한 믿음이 보여요정말 즐거운 시간이었습니다♥',\n",
       " '시선너머 김현주 짱짱♥',\n",
       " '엑소사랑하자 연장햇음조켓다ㅜㅜ♥',\n",
       " '또 보고싶다♥',\n",
       " '호준♥홈빵가겠네요',\n",
       " '진연희누나 너무예뻐요♥ 영화는 그닥ㅎ',\n",
       " '세영언니 연기 잘 하신듯♥',\n",
       " '미래랑 세주랑 이어졌으면 좋겠어요ㅜㅜ세주 짱짱♥ 이어지거라',\n",
       " '닌자거북짱짱짱최고닌자거북중에서불루가제일로멌져요닌자거북♥사랑해♥',\n",
       " '진짜 말이 필요 없음ㄷㄷ 걍 명작임 ㅠㅠ♥제임스완♥',\n",
       " '정말재밋엇어요태어나서이렇게좋아하는드라마처음봐요진짜대박너무아쉽드아ㅜㅜ2나오나ㅎㅎ나올리없을려나근데나왓슴좋겟네요진짜돈으로세상다가질라고하는놈이랑그거막겟다고목숨까지걸고덤벼드는놈은사랑함요♥진짜이거만든분들존경합니다',\n",
       " '최고의 영화유덕화 완존 멋있음 ♥',\n",
       " '너무 훈훈했다 매순간마다 내가 다 조마조마하고 짜릿햇다 마지막에ㅠㅠ♥',\n",
       " '1회부터한회도안빠지고본방사수한드라마♥',\n",
       " '이제야 보게된 파스타 달달하고 정말 심장쿵쾅거리게해요ㅎㅎ이선균아저씨 커피프린스1호점떄하고 달라진거같아서 더 멋있어요♥공효진언니도 정말 귀여웠어요 잘봤습니다',\n",
       " '조아요 배우들 연기들이 흠 잡을 것 없이 다 조아요♥',\n",
       " '바니♥ 시즌7빨리나와랑',\n",
       " '유연석은 사랑입니다♥',\n",
       " '정말 재미있게 본 에니메이션ㅋㅋ최고♥',\n",
       " '오랜만에 다시보기로 봤는데 트와일라잇팬이라면 만족스런 로맨스♥영화관에서보다 좀 더 디테일하게 감성적으로 볼수있어서 그런가간만에 흐뭇한 미소로 봤네요 완성도 높은 영화가 아닌 그냥 가벼운 판타지에요어떤걸 기대했냐에따라 평점은 극과극으로 나뉠듯',\n",
       " '송중기 아완전멋있음♥',\n",
       " '진짜 완전 대박이에요 여태봤던 드라마중 최고로 뽑을만큼 제발 시즌4나왔음 좋겠어요 그리고 류덕환완전멋있어요♥ 강경희형사와의 러브라인도 기대되구요ㅎ암튼 짱이에요♥',\n",
       " '강추 여자주인공 목소리가 매우 매력넘침♥',\n",
       " '♥쩔엉♥근데 왜계속 10글자이상작성하래ㅡㅡ',\n",
       " '왜 김기덕감독김기덕감독 그러는지 이해가 가네요철학적 개념에 무지한 저도 주인공들의 사랑을 정말 잘 느낄 수 있었고원조교제라는 불미스러운 소재도 이렇게 아름다운 이야기로 풀어낼 수 있다는 것에 감동받았습니다김기덕감독님 명불허전이세요♥',\n",
       " '기대안햇는데잼게봣어요조니뎁 짱♥',\n",
       " '마치 소설을 읽는 듯한 감성과 멜로를 담은 멋진 스토리였습니다 ♥',\n",
       " '효진언니짱 팔색조매력짱짱걸♥',\n",
       " '시간대가 좀 아쉽긴 하지만 현주님의 완벽한 진행솜씨와 게스트도 괜찮고 완벽한 프로그램인 듯♥',\n",
       " '진짜 백퍼 공감공감 재밋음짱짱♥',\n",
       " '탄탄해 스릴만점 하정우와고현정특유의매력♥',\n",
       " '너무나도 사랑스런 다마뇨죠♥',\n",
       " '이런영화가 넘좋타 보고나서 찝찝하고 가슴이 먹먹해지는ㅠ 내가 이선균이라면 처제가만안나둔다 므흣♥',\n",
       " '하정우진짜여기서도멋이싸♥',\n",
       " '동원씨한번보려다가 으그♥',\n",
       " '마연애시즌2플리즈제발♥배우들은시즌1과동일제2의막영애만들어보자규용♥',\n",
       " '♥',\n",
       " '준호♥김소은커플 짱이예용♥',\n",
       " 'ㅠㅠ 넋을 잃고 보는 드라마다ㅠ슬프고 감동적이다ㅠ 다음주가 너무 기대되는ㅠ연기자분들도 넘 대단하시다ㅠ 흥해라 다섯손가락 ♥',\n",
       " '아이유짱짱걸♥',\n",
       " '조으다 겁나 조으다♥',\n",
       " '일본 액션 영화 중 그리고 에미 이쁨♥',\n",
       " '영애씨 너무 재밌어요♥ 목요일이 기다려져요',\n",
       " '걍 로코드라마니 즐거운맘으로보고잇어요다만 본방사수가 힘들뿐노민우멋짐♥',\n",
       " '지창욱 박민영♥ 믿고봅니다 꿀잼',\n",
       " '정말 재미있어요♥배우들 모두 연기완전 잘하고♥마지막까지 파이팅 하세요♥',\n",
       " '역시인피니트♥팬인지꽤오래됫지만 보면볼수록더좋아지는거같아요ㅎㅎ',\n",
       " '진짜 홍진영 너무조아여더늘러주면안대까여 ㅋㅋ ㅠㅠ우결안봣는데 진영씨 때무네 이번에제대루 빠젓슴당넘재미써용 ㅠ♥',\n",
       " '김정국 고아라 안연석 김성균 민도희 손호준 차선우 ♥',\n",
       " '우그웨이 대사부님이랑 시푸 사부님이 넘 좋다♥',\n",
       " '실화바탕이라니 더 감동이 오네요특히 나 기찬배우님의 연기가 돋보이며리얼리티하네요♥ 앞으로도 좋은 연기로 자주뵙고 싶네요',\n",
       " '스토리도 탄탄하고 이윤성과 김영주검사의 심리싸움도 정말 기대하게 만들어용♥ 김나나하고 이윤성 잘 어울려',\n",
       " '잘봤어요 대박나길♥',\n",
       " '왜 다들 정호연씨 까는지 모르겠네요 탈락에서 패자부활전으로 탑3 까지 들수있었던건 정호연씨만의 개성있는마스크와 뛰어난 워킹 그리고 매력이라고 생각해요 정호연씨 성격도 활발하고 전 좋아요 화이팅 하세요♥',\n",
       " '보고 또봐도 다시보고 시픈 영화♥',\n",
       " '완전 재밌음♥',\n",
       " '설명이필요없음그냥보면안다진짜ㅋㅋ연기자들의실감나는연기때문에더흥미진진이미숙님최고♥귀여우신최화정님커플너무즐거운드라마다아쉽다이제끝이라니ㅜ앞으로도쭉이런드라마가많이좀나왔으면하는바램이당ㅠ이런드라마현실성있고우리가같이공감할수있는',\n",
       " '처음부터끝까지 에드워드 노튼 이유 하나만으로 관람 노튼♥',\n",
       " '회를 거듭할 수록 창조의 연기가 발전하는 것 같아요 잘하고 있어요 창조 화이팅 5회 니엘 연기도 너무 좋았어요 역시 아역을 해서 그런가 자연스러운 연기 굳굳 강아지초롱 안고 있는데 내가 다 짠해지고ㅠ 그리워하는데 눈빛연기 애절합디다♥',\n",
       " '말이필요없지요 인피니트짱 흥해라♥',\n",
       " '매카보러 왔지만 베니도 기대♥',\n",
       " '아침드라마임에도 불구하고 막장으로 가지 않은 드라마라서 너무 맘에 듭니다 극의 긴장감도 계속 이어지고 중년의 로맨스도 같이 볼수있어서 더 좋네요♥',\n",
       " '에수님 사랑해요♥',\n",
       " '재밌어요 황정음 짱♥',\n",
       " '최고입니다♥',\n",
       " '유승호♥',\n",
       " '창민오빠 사랑해♥',\n",
       " '어릴때 읽었던 오즈의마법사 책이번에 영화로 보게 되서 너무 반가웠다재밌게 잘봤다 웃기도하고 마지막에는 눈물이 났다그이유는 모르겠다 뭔가 뭉클했다사탕마을 나두 가보고싶다 달달♥그래서 마시멜로대령이랑 도자기공주님은 어떻게 됐습니까',\n",
       " '각 이야기를 연결하는 것이 아주 조금 어색하긴 하지만애기가 연기도 잘하고내용 자체는 정말로 좋았어요♥무엇보다 뮤지컬이랑 영화를 함께 보는 것 같아서 좋네요',\n",
       " '난나이가어려서이영화못봤지만ㅜㅜ이제구할수도없어ㅜ젝키짱♥',\n",
       " '하유치하긴하지만 하지원오글발연기두 귀엽고 김재원의 풋풋할때모습 넘 잘생겼당ㅠㅠ영화가 옛날꺼라서그렇지 귀엽고 풋풋해재밌당♥',\n",
       " '내가 본 드라마영화중 1위로 재밌었음 하정우♥',\n",
       " '완전 코난 사랑 대박 재밋엉♥',\n",
       " '박시은짱 예쁨♥',\n",
       " '마르퀴스 정말 매력적이예요 ㅠㅠ마음 따뜻해지는 영화 적극 추천♥',\n",
       " '먹먹함에 계속 눈물은 나면서도 피식피식 웃게되는 스탠리의 해맑음♥',\n",
       " '제이♥',\n",
       " '진짜 반전의 반전 연기도 최강♥',\n",
       " '일말의순정 재밌어요 김태훈님 완전사랑합니다♥',\n",
       " '진짜1회때부터 뀰잼으루 보구있어욧ㅋㅋ 못보면 다운받아서까지 챙겨보는 애청자입니당ㅋㅋ 빨리 채연이랑 이강준 한민혁 그 엄마까지 싹다 태희군과 사라양이 통쾌한복수 할수있도록 잘만들어주세용♥',\n",
       " '진짜깨금독미커플짱인듯♥',\n",
       " '편안하게 볼 수 있는 영화 엘렌 페이지♥',\n",
       " '진짜재밌어요♥짱짱소지섭도짱♥',\n",
       " '루한♥너무 재미있음ㅋㅋ',\n",
       " '유아인♥홍식♥ 3월 패션왕 기다릴께♥ 걸오앓이는 영원할끄야신고',\n",
       " '몬스타 짜세♥진짜 금욜만 기다려지는거머죠흑흑12부작 너므 아쉽따요ㅜㅜ♥',\n",
       " '마지막에 감동적이에요이민우♥',\n",
       " '진짜 꼭 추천해주고 싶어요♥ 너무너무 재밋엇어요 ㅎㅎ',\n",
       " '아카니시진 완전사랑함♥',\n",
       " '아너무좋다ㅠㅠ한태희ㅠㅠ♥사라ㅠㅠ♥',\n",
       " '진짜 너무너무 강력추천하고싶은 드라마네요이드라마를만드신작가님도 짱이지시만 이드라마는연기로 승부하시는 연기자분들이 해서 더욱 감정몰입더잘되구 재밌네요♥완전강력추천오늘1화부터다 챙겨봤어요♥완전꿀꿀잼♥대박나세요♥',\n",
       " '♥아름다움 박해일김혜수',\n",
       " '와하하하 이번주말 방송타네 아이고 좆망이네 벗트그러나 대부 디지털 리마스터링도 뜬다는거 각잡고 그거나 봐야디 후후 즐거운주말♥',\n",
       " '엑소오빠들 보고 싶어요ㅜㅜ그리고 다음주에 엑소 쇼타임이 마지막이면 마음이 아프고 진짜 울고 싶어요엑소 오빠들 사랑해요♥',\n",
       " '여자가 좀 짜증나긴 하지만 그래도 좋아♥',\n",
       " '치바 유다이♥',\n",
       " '봐도봐도 재밌는 애니♥',\n",
       " '내 생애 최고의 감동ㅠㅠ할머니의 아낌없는 사랑을느낄수 있었어요할머니 사랑해요 할머니그리고 모든사람에게 자랑스런 손녀될께요ㅠ♥',\n",
       " '성민느님♥',\n",
       " '남자배우넘싸랑해요연기력넘좋아요♥',\n",
       " '콘서트에 가지못했는데 볼수있어서 좋아요♥',\n",
       " '아놔♥ 이하늬 졸긔 꺄일하다가 걷다가 계속 피식대다니ㅋㄷㅋㄷ 이하늬 표정 손동장 디테일 죽인다ㅋㅋ',\n",
       " '재밌다고 추천 받아서 1화 봤는데 재밌네요 좀 야하긴 하지만ㅋㅋ꼬마 너무 귀엽다♥',\n",
       " '말이필요없음꼭봐야할영화졸리졸예♥',\n",
       " '말필요없고 그냥 한번봣으면좋겟다스탠리하고아이들 너무귀여워ㅠㅠ근데 배우가아니라는암튼 강추♥',\n",
       " '정말 잘만든 프로에요♥히든싱어2를 보고서 요짐 히든싱어1을 다시찾아보고있어요 노래한곡을 집중해서 듣다보니 저절로 팬이되는♥',\n",
       " '너무 훌륭한 프로그램 입니다♥',\n",
       " '2편너무 재미있게 봐서 3편 본방은 아니지만ㅜㅜ 왕잘챙겨보고잇음진짜 재미있고 공감된다 진짜처음엔 캐스팅어색햇는데신의한수엿닼ㅋㅋ♥',\n",
       " '사랑하고싶어지는 영화♥',\n",
       " '오랫만에 만난 드라마 다운 드라마바쁘고 지친 워킹맘의 일상에 활력을 주는 드라마네요끝까지 응원하며 열심히 시청할께요힘내셔요♥',\n",
       " '카밀라벨♥',\n",
       " '공허공자ㅋㅋ고자공자ㅋ잘생기고 웃겼다♥',\n",
       " '몇년전에 봣엇던건데갑자기 기억나서 찾아봐야겟당 ㅡㅜㅜ토마스생스터♥',\n",
       " '그냥 가볍게 로맨틱 코미디 구나했는데 평점 등록하고싶어진 너무너무괜찮은 영화한편 둘만의 교감이 얼많아 위대하고 아름다운지 다시한번 새긴 조셉♥',\n",
       " '정말 재밌는 드라마에요 ㅎㅎ 보면볼수록 빠져들어요♥',\n",
       " '주지훈♥연기짱잘ㅎ해욯ㅎ메티컬탑팀짱점점재밌어져옇ㅎ',\n",
       " '삶으로 감동을 주시는 멋쟁이 선교사님♥',\n",
       " '함께 버킷리스트를 채우는 기분이들었다 멋진만남과 멋진 친구♥',\n",
       " '슈주짱 샤이니짱 에셈짱♥',\n",
       " '진짜진짜 재밌어요♥홍진남매의 케미란',\n",
       " '사랑하고싶은 영화♥ 바위같은 편견 사이로 스며드는 빗물같은 영화',\n",
       " '♥',\n",
       " '와완전 웰메이드 드라마네요 이렇게 좋은 드라마 많이 제작되면 좋겠어요아김명민씨랑 정려원씨 대박이에요♥',\n",
       " '미드중에 최강이라고 봅니다 캐릭터 모두가 매력만점 특히 제인앓이♥',\n",
       " '은은하게 다가오는 따뜻한 드라마♥',\n",
       " '아 캐릭터중에선 탐진이 예쁘다 ♥',\n",
       " 'ㅎㅎ 영구시리즈와 우뢰매 이런것들 다봤는데 너무좋아♥',\n",
       " '재밌어요♥',\n",
       " '에드워드 노튼한테 푹 빠졌었던 영화♥',\n",
       " '와우 역시 알파치노♥ 그당시엔 흔치않은 타임슬립 반전결말 명대사 신은 사디스트 허영은 내 최고의 기호품',\n",
       " '제이슨쨔응의 매력에 퐁당♥',\n",
       " '재밌었어요 굳굳♥한국에서는 인기를 못끌어서 안타깝네요다시한번보고싶은영화',\n",
       " '진짜 진정한 먹방드라마였어요더 오래보고 싶어요수경님과대영님의 러브라인♥',\n",
       " '유아인♥김태희이라서 더 재밋고 슬펏던 드라마 장옥정 사랑에 살다 잘 봣어요',\n",
       " '장애인은 우리들과 다른게아니라 단지 서툴 뿐이라는것을 깨닫게 해주는 영화10429♥',\n",
       " '조연이라도 좋다♥',\n",
       " '해품달보다 시청률은 안나왔지만 다시 또 보고싶을 드라마는 난로♥이시영은 너무 귀엽고 이동욱은 역시 멋져요 쾌남훈남나이스가잌ㅋㅋ코믹 스릴 로맨스 잘 어우러져서 짱짱짱',\n",
       " '윤두준♥',\n",
       " '저 코난 광팬임 ♥',\n",
       " '굳 잼있어요 릴리♥',\n",
       " '베바는사랑입니다강마에♥',\n",
       " '사랑해애들아뽐뽀징♥',\n",
       " '내가 제일 좋아하는 애니메이션♥',\n",
       " '정말 풋풋하고 사랑스러운 드라마 옥림이랑 욱이가 정말 사랑스러워요 장욱 ♥',\n",
       " '저거 마지막회때 울엇어요ㅠㅠ♥',\n",
       " '흥미진진 재밋었어요♥',\n",
       " '정말정말최고였어요♥',\n",
       " '이거보고 지리산가자고 해서 갔었는데 폭풍감동♥',\n",
       " '효민 잘하고있어지금처럼만 잘하면되안티는 신경쓰지말구 화이팅♥영원히 사랑한다',\n",
       " '보영이누나 연기너무잘하신다 앞으로응원할게요홧팅♥',\n",
       " '기대만발♥',\n",
       " '타일러 라쉬♥',\n",
       " '정말 재밌었다 춤 최고♥ 그리고 바로 아래에 왠지 내 친구같다는 ㅋㅋ',\n",
       " '서투른 사랑이지만 너무 이뻐보인다 ♥',\n",
       " '첫번째 볼때 미친듯이 웃으면서 봤고두번째 볼땐 한켠으로 아련해지는 느낌을 받았고세번째 볼땐 그래도 살아 나가야지하고 기운을 얻은 영화♥',\n",
       " '잼있어용ㅋㅋ정일우♥',\n",
       " 'ㅋㅋ재밌고슬프고짱이다 장근석때문에봣당♥',\n",
       " '아진짜쫭쫭쫭♥',\n",
       " '플린의 외도에 깜짝놀랐지만 ㅠㅠ 결국 돌아온 그 ㅋㅋ 난 플린이 좋아 ♥',\n",
       " '너무 사랑스러운 영화다 거기다까지 완벽하다♥',\n",
       " '베스트 사극 한효주 짱 ♥',\n",
       " '잉여공주 완전 꿀잼♥잉여공주 사랑해요♥',\n",
       " '♥시대의 명작♥',\n",
       " '사랑스러운 아이들♥',\n",
       " '다음회가 기다려집니다진짜 재밌다ㅎㅎ신하균♥',\n",
       " '태익인 말로설명할슈없는 멋진 캐릭이죵♥',\n",
       " '너무 좋은 드라마 볼수있어서 월화가 너무 행복했습니다 감사하고 배우분들 그리고 많이고생하신분들 정말 수고 많으셨고감사합니다 화이팅 무정도시 최고♥',\n",
       " '1234567890♥7입네다',\n",
       " '신화방송동완오빠가없어씁쓸하지만그래도재미있다♥',\n",
       " '머리긴거 너무 귀엽고 잘생김 ♥',\n",
       " '완전 강추1 짱 재미 있어요 한번 봐보시길 미우하 하루마짱♥',\n",
       " '두번째 보고 나서 더 감동받았다 안타깝지만 사랑스러운 영화 특히 강동원의 눈물연기 최고다♥',\n",
       " '드라마보면서 설렛던적은별로없엇는데 정말 꿀잼드라마이고 신하균앓이신하균♥',\n",
       " '♥마이클잭슨짜응♥',\n",
       " '만만치 않은 수목드라마 3개 중 1위를 차지한 드라마인만큼 너무 재밌어요ㅎㅎ후회되지 않는 드라마♥배우님들이 연기를 ㄴㅓ무 잘해요ㄷㄷ 이준기짱ㅎㅎ',\n",
       " '귀여워요 ♥진짜 표정하나하나 잘만든듯',\n",
       " '다들 연기잘하고 특히 이승준님 팬됐어요♥',\n",
       " '아이들이 좋아하고넘좋았어요♥',\n",
       " '씨엔블루짱짱짱♥ 곧 4주년인데 앞으로도 좋은활동많이 하고건강하세요',\n",
       " '대박대박ㅎㅎ완전욱겨요ㅡ 요즘티비에서하는것중 쵝오대박이예요♥딱내스타일',\n",
       " '이런 서정적인 만화 정말 좋다♥',\n",
       " '짱♥',\n",
       " '재밌어요 차인표씨 짱♥',\n",
       " '아진짜 너무좋다 이게 20년전영화라니 믿을수없다정말 최고ㅠ♥',\n",
       " '오늘 메가티비로 봤는데 재밌게봤어요 문화를 넘나드는 사랑♥',\n",
       " '귀여운 이야기♥',\n",
       " '최고의드라마♥이민정 공유 흥해라♥',\n",
       " '용화오빠 짱 멋있어♥',\n",
       " '좋다ㅠㅠ실화를 바탕으로 했다니더 좋다♥',\n",
       " '최고최고 정말 재밌는 드라마♥',\n",
       " '미친듯한 이정진의 연기가 내 눈물을 멈추지않게했다ㅜㅜ이영화좋다♥',\n",
       " '기대이상 넘 잼 있게 봤네요 자연스러운 진행이 돋보엿고 두분 호흡도 전 좋았어요♥',\n",
       " '미국개그를 인정하면서 보세요 충분히 재밌어요그리고 우리의 브루스윌리스잖아♥',\n",
       " '내가원하던영화♥ 우리나라를 더많이볼수있었으면 좋앗을',\n",
       " '참 잘만든 영화다 ♥',\n",
       " '요번꺼슬펐어요보는내내운듯ㅠㅡㅠ사랑과전쟁볼때마다욕만했는데ㅋㅋ이거보고운적은첨인듯요번꺼는잼있었어욤♥',\n",
       " '이혼한 오버형사 형준조재현 국회의원 남편 윤희김지수생각보다 무서운 일이 벌어질지 몰라요 허무맹랑 불륜에오버를 그리 떠는데 안 위험하겠수 둘 다 정신병이 있다포천연천88인3 안중에없는곱창 사랑듬뿍돈까스♥베스비 2년차 갱신',\n",
       " '연출도 스토리도 배우도 배경음악도 트릭도 섬세하고 정말 재밌고 좋다♥',\n",
       " '성준앓이♥',\n",
       " '짱짱짱지딘데무슨말이필요하것어♥',\n",
       " '미우라하루마대박♥',\n",
       " '으아설레서 계속 보게 된다♥송지효 부럽다',\n",
       " '마틴과 마리아나를 생각하며 폭풍 반복 재생♥',\n",
       " '가가 사랑해요♥',\n",
       " '올랜도블룸짱조타♥10자이상',\n",
       " '완전 재밌어여♥',\n",
       " '잘봤는데우박이 짱♥',\n",
       " '전상진변호사♥매력터짐',\n",
       " '서로를 믿고 의지하며 서로에게 도움을주고 같이 경기에 임하는모습들이 연예인방송인들이아니라 정말선수처럼보여요 페어플레이를 준수하면서 자신의한계에 도전하는 모습들이 진정한 선수아니겠어요 경기에 뛸때만큼은 지금모두가선수인듯싶네요 정말멋집니다♥',\n",
       " '오만과편견핵꿀잼♥',\n",
       " '아 너무재밌게 봤네요 나중에 한번 더봐야할듯 ♥',\n",
       " '정말 재미있어요 오랜만에 볼만한 드라마♥',\n",
       " '재밌다감동적이야 역시도라에몽♥',\n",
       " '디카프리오의 최강의 리즈시절 최고의 퀴어영화 예술 그자체 사랑과 영혼 육체의 사랑 랭보는 영혼의 사랑♥',\n",
       " '앜 내가슴을 설레게 했던 최고의 드라마♥',\n",
       " '내 인생 최고의 드라마♥시크릿 가든과 별에서 온 그대♥0♥',\n",
       " '드미트리 존쿠삭 목소리 넘 좋음♥계속 듣게돼',\n",
       " '케이오빠♥완전멋지심♥박규리님 넘넘 부러움♥',\n",
       " '♥완전 잘생겼다',\n",
       " '재밌다♥멋있구 이쁘고 잘생겻다♥',\n",
       " '솔직히 일본드라마는별루좋아하지않지만고쿠센을본후넘 잼따는걸알았어요 ♥',\n",
       " '왜이렇게 혹평이많아 난 진짜 재밌게봤는데 겨울왕국보다 더 재밌었음 박보영 짱짱♥',\n",
       " '예전에 개봉했을때 봤는데 이제야 올리네요수양대군 이정재♥진짜 안 반할 수 없는 이런 매력둥이 같으니♥',\n",
       " '♥',\n",
       " '클락켄트 순박한 청년 슈퍼보이 너무 좋아 ♥',\n",
       " '너무너무 재밌게 봤습니당 ♥',\n",
       " '이번주 토요일 노홍철 뒤를 이어 지코가 한다해서 기대된다♥',\n",
       " 'ㅂ블락비 흥행하자 사랑해♥',\n",
       " '시즌1부터 봐왔는데 어떻게 매번재밌는지ㅋㅋ근데 시즌3가 최곱니다시즌3화이팅성준소연 넘 잘어울려요♥',\n",
       " '명작중에 명작이죠♥최고 정말 재밌어요♥',\n",
       " '굿닥터사랑함♥주원도사랑함♥',\n",
       " '진이한 넘 멋져♥우리신랑아 나 어째 ㅋㅋ',\n",
       " '은오♥아랑사또전화이팅',\n",
       " '잔잔한 웃음과 함께 상황을 재미있게 끌어가는 방송너무 재미있게 보고있어요디지털 시대에 아날로그 방송으로 사람의 마음을 뺏네요♥',\n",
       " '진짜 재밌어요♥한번보면 또보고싶은',\n",
       " '너무너무슬프고 가족에대해 생각해볼수있는 계기가 된 드라마♥',\n",
       " '어제다시봣는데진짜웃겻음ㅋㅋ아기와나2만들엇음조캐땅ㅋㅋ장근석송하윤메이슨 쨔응♥',\n",
       " '정말재밌어요♥',\n",
       " '정말 2013년 초에 판타지영화 중 정말 재미있네요처음에는 그림만 보아서는 그냥 그럴것같았는데 영어공부로 보게되어서보는데 정말 재미있어요 판타지영화를 못보시거나 즐겨보시는 분들은 꼭봐야 해요 엄청 재미있어요♥',\n",
       " '진짜 짱짱 완전재밌어요♥',\n",
       " '샘이안보이는 순간에 울컥ㅠㅠ잭에프론 정말 연기잘한다 ㅠㅠ17어게인부터 너무너무 팬인데 우는 연기를 어쩜그리 잘하노♥',\n",
       " '2004년 작품 이렇게 긴 시간 기억에 남는 드라마가 있을까요 참 가슴 시린 드라마였죠 무혁아 보고싶어♥',\n",
       " '협주곡 ♥',\n",
       " '진짜 최고입니다♥',\n",
       " '정신 빠릿할때 봤는데 숙면을 취할 수 있었땅 ♥',\n",
       " '꺄아ㅏㅏ아아ㅏ아아 예수님이당 ♥',\n",
       " '기대평 아 세상에마상에 제가 평소에 너무좋아하고 사모하는 무민이가 벌써 70주년이고 또 영화도 나온다니 진짜 너무 기대가되요 내일 보러갈건데요 무민이 목소리는 처음들어봐서 기대되고요 무민이 지금인기처럼 이영화가 승승장구했으면 좋겠어요 기대해요♥',\n",
       " '민정언니 넘 예뻐요♥ 천정명오빠랑 두분 너무 잘어울린다ㅋㅋ',\n",
       " '이현우 짜응 모두다짜응♥',\n",
       " '사랑스러운 르네 젤위거♥',\n",
       " '멋진달향♥늘본방사수',\n",
       " '우아♥현실적이지 않아도 좋다',\n",
       " '역시엑소얔ㅋㅋ위아원♥사랑하자♥',\n",
       " '나드라마후기쓰는거첨인데 진짜이드라마내취향저격ㅋㅋ아나이거보는낙으로살았는데이거끝나면어떻게ㅜㅜ진짜이드라마너무좋ㅇ다 제작진들사랑해요♥',\n",
       " '말차를 홀짝이며 훈훈하게♥역시 지브리',\n",
       " '태현오빠 짱♥이치 전우치 스릉흔드♥뒷북이지만ㅋㅋ 다시보기로 이제봐서 죄송',\n",
       " '너무 재밌게 잘 봤습니다다소 억지도 있었지만훈훈하고 가슴이 따뜻해지는 영화인것 같네요정말 감사합니다♥',\n",
       " 'ㅜㅜ짱슬퍼여ㅕ하진짜장발장ㅜㅜ짱♥',\n",
       " '그냥 너무 좋아 요♥ 귀여운 꼬마아이 이쁜 누나 남매의 모습이 너무나 아름다웠어요',\n",
       " '배우가 하나같이 명품 이미숙언니 눈물나게 환호합니당ㅋ딴 사람같아요♥제발 횟수늘려주세요ㅠ',\n",
       " '♥',\n",
       " '짱입니다♥',\n",
       " '짱♥',\n",
       " '절대 9점대 짜리 영화가 아닌데분장술도 대단하고 그게 걸맞는 연기를 했던 로빈윌리엄스 늘 기억합니다♥',\n",
       " '크리스천으로서 내 자신을 돌아보게 하는 영화였고 앞으로 어떻게 나아가야 할 지를 주는 뜻깊은 메시지를 주는 영화였습니다많은 의미를 주는 영화 강추입니다♥',\n",
       " '감동적이예요 박기웅 볼수록 매력철철♥',\n",
       " '존잼임 ♥ 캐스팅도 존좋',\n",
       " '진짜 몰입해서봤어요 짱♥',\n",
       " '이효리 최고♥',\n",
       " '키보도10단김승연조아용♥',\n",
       " '닥터프로스트 재미있어요♥ 배우분들도 잘하시구 재미있게 보겠습니다 송창의씨 화이팅♥',\n",
       " '잘보구있어욤♥재미나요ㅎ',\n",
       " '짱 재밌어여♥ 이민기랑 여진구 잘생김♥',\n",
       " 'ㅋㅋ 우리오빠들♥',\n",
       " '기대를 저버리지않는 작품이다ㅎ 우디커플 버즈커플 잘어울리네♥',\n",
       " '내가본 최고의 판타지영화♥',\n",
       " '유느님 짜셰사랑하는 유느님 ♥유느님 존경해요하하 오빠 넘 ㅇ귀엽고개리 오빠도 넘 귀엽고지효 언니는 너무 이쁘니석진 오빠도 약하지만 긍정적ㅋㅋ광수 오빠 힘내요 팔 길어서 다행이다 ㅋㅋ',\n",
       " '선유야 사랑해 우리 좀있다가 보자♥',\n",
       " '오지은 누나 아니면 머업음 ♥',\n",
       " '감자별 완전 재밌당♥노민혁대표님기엽구♥여진구멍♥나진아씨♥',\n",
       " '이영하짱잼잇음♥',\n",
       " '이연희 예쁨♥ 공유 멋짐♥ 결말이야 뻔하지만',\n",
       " '아랑사또전 까는인간들 아랑보지말고 복수드라마 착한남자나 쳐봐ㅡㅡ 뭘 까면서까지 보니갈아타는 인간 이해안감 오늘 완전 재밌었고 스릴있었는데 뭘ㅋ 그리고 정치쪽으로 잠깐 가면 재없다고하는 인간들은 개념없냐 아랑사또전 완전 재미짐♥',\n",
       " '정말흥미진진긴장감이넘쳐요 뿌나는 보다 말았는데 이런류의드라마는오래보기지루해서근데캐스팅이한목한듯 이제훈 한석규 김유정 박은빈 권해효 이원종 김창완 박효주 김민종 서준영 장현성 최원영완전격하게아끼는연기신들만나오니그재미가두배인듯해요♥',\n",
       " '나오는 모두의 연기도 좋았고 소재도 좋았음 특히 지연잉최고♥',\n",
       " '그냥짱 일요일기다리기가너무힘듬ㅜ연정훈님너무너무멋있음♥',\n",
       " '23세 여자임ㅋㅋ영 아이 영화인줄알았는데 완전꿀잼♥ 평점 왤캐낮은지 이해불가ㅋㅋ캐릭터도넘귀엽고 웃겨서 좋았음 이런영화 너무좋다ㅠㅠ',\n",
       " '최지우 개좋♥',\n",
       " 'ㅎㅎ전 바나라서 오늘 진영 오빠가 이 드라마에 카메오로 출현한다고 해서 첨 봤구요ㅎㅎ진영오빠도 잠깐 카메오라도 출현하게 될수 있었던 것 같아 좋네엽ㅎㅎ진영♥비원에이포♥도 짱♥ㅋㅋ',\n",
       " '굿♥역시오빠들 짱',\n",
       " '다시봐도 재밌다♥영상 음악은 정말 최고',\n",
       " '고소영임창정의 이쁜영화♥',\n",
       " '재밌게 잘 보고있는데 오늘7회은 좀ㅠ 저는 개인적으로 조성겸♥남상효 밉니다 남궁민이 더 매력있게 느껴져요전남편과 이어지는 건 많이있었잖아요ㅠㅠ',\n",
       " '오정세배우님덕분에 잘봤어요♥',\n",
       " '짱재밋어요♥차태현',\n",
       " '닥극사 닥치고 극장사수 이런 영화는 극장에서보고 파일 다운로드 받아서 열번은 봐줘야해 토르 캐릭터 매력지수 10점 만점에 10점이구 화려한 씨쥐 2편이 기대되어지는 안보고는 못베길 결말과 코믹 재미 감동 모두 믹스된 마벨의 수작♥',\n",
       " '박신혜가 짱이지♥',\n",
       " '팰튼 톰ㅎ♥말포이',\n",
       " '대박이요김정은언니정준호 오빠김흥수오빠너무 너무 좋아요♥',\n",
       " '이 영화 시리즈는 그냥 짱이다♥',\n",
       " '박유천너무죠아용♥',\n",
       " '한국인이라면 심장이 뛸수밖에없는 그런 느낀점이 많은 그런영화 ♥',\n",
       " '뽀로뽀로뽀로뽀로 뽀로롱♥',\n",
       " '강민혁이랑이종현땜에봣는데정말재밋다♥',\n",
       " '신하균 진짜 최고네요 너무 멋있어 ♥',\n",
       " '배우들간의 환상의 조합 출연진들의 연기 스토리가 모두 소박한 재미가 있는 드라마입니다 전쟁이후 시대상을 보는 재미도 솔솔하고 다양한 캐릭터와 긴장감이 계속되니 지루할 틈이없네요 끝나면 안되는데♥',\n",
       " '드라마 진짜 재밋고 로맨틱도 잇고 반전도 잇고 그리고 특히이범수멋지다ㅎ착하시고 자상하시고 연기까지 잘한다니ㅠ넘 멋지댜♥',\n",
       " '내 인생영화 해리포터만한 영화는 어디에도 없는것같다 스네이프 사랑해요♥',\n",
       " '학교에서 선생님이보여주셨는데 정말 좋았어요 사랑해요♥',\n",
       " '남우현 ♥ 김새론 커플 너무 잘 어울려요 남우현 ♥ 김새론 커플 1회 20회 까디 응원 합니다',\n",
       " '너무좋아0♥',\n",
       " '왤케 귀여워보다가 쓰러질뻔ㅎ♥',\n",
       " '너무너무 좋아요갈수록 엄정화씨랑 박서준씨 케미돋고 빨리 이어져서 달달한거 더 마니 보고싶어용♥',\n",
       " '음수호가 나오내연♥',\n",
       " '전우치 완전 연기도잘하시고정말 짱이에요차태현님 정말 짱입니다요2회 남았지만 계속 열심히 연기해주세요오도일이관지♥',\n",
       " '언제 봐도 항상 좋고 질리지도 않고 너무 좋은 ㅠㅠ 정말 저런 곳에서 살고 싶다 어렸을 적 꿈이 하울이랑 결혼하는 거였는데♥ 볼 때 마다 항상 빠지네 하울 너란 남자',\n",
       " '연애의발견 최고의 드라마였어요ㅠㅠ 믿고 보는 정유미♥ 이제 끝나버려서 무슨 낙으로 사나ㅠㅠ',\n",
       " '훈훈한가족드라마보는내내즐거워요미소한가득♥',\n",
       " '내 인생 최고의 영화♥',\n",
       " '시티헌터도 난 본방사수♥ 진짜 미노팬클럽만 가입안햇지나 미노팬♥ 넘멋있쪄 박민영이랑 커플까지 갔던 드라마안타깝지만ㅋㅋ드라마에서만은 상대역과 정말 사랑하는 우리이민호님♥ 넘좋아했던 드라마♥',\n",
       " '완전재미있어요ㅠㅠ 완전대박이에요♥ㅠㅠ이제곧끝나가요그래도기억에오래도록남을거같아요♥',\n",
       " '달타냥 멋있네요♥',\n",
       " '흐앙ㅜㅜ쇼탐끝나믄일주일동안기대할거없는데시즌2도해주실꺼져오빠들힘내세여사랑해여♥',\n",
       " '케이블 방송이라 아쉽다 지상파3사에서 했으면 하이킥 시리즈 뺨칠만큼의 인기였을텐데잘 챙겨보고 있습니당 너무 재미있네요♥ 고경표씨 사랑합니다',\n",
       " '사랑 우정 뉴욕 그리고 스미스♥',\n",
       " '진짜 이면서 롱타임영화인데 보고나서 허무함도 하나없이 너무잘만들어진 걸작이다 개인적으로 위쇼스키감독 작품중에제일마음에듬♥',\n",
       " '빅뱅♥',\n",
       " '아 정말 봐도다시 보고싶은 드라마임 시후씌 멋쪙♥',\n",
       " '피노키오로 갈아타요어서 진짜 꿀잼임♥',\n",
       " '조승우♥ 그냥 말이 필요없다',\n",
       " '처음부터한사람만주욱나쁜사람으로만들어서보여주더니논란이심해지니까탈락시켜버렸어방송으로만보면월래성격이그럴지도란생각이들게했다논란잠재울려고빨리탈락시킨거아니예요정하은참아쉬워요항상열심히하셔서좋게봐왔었는데다른곳에서앞으로도멋지고노력하는모습보여주세요화이팅♥',\n",
       " '11정복자10003602 12홍빵♥슛 13나쁜녀석들미췬개형사 오구탁김상중일당백족팡매 박웅철마동석간지살인청부맨 정태수조동혁기억안나 이정문박해진초중반까지 사실 더 재밌었습니다만 즐거웠습니다 시즌2 기다릴게요',\n",
       " '쪼꼬쪼꼬 죠아 와와치치 죠아♥',\n",
       " '미니언들우하하하 너무 귀여웠어요♥미니언들 나중에 또 만나ㅎㅎ',\n",
       " '월령보고파요♥',\n",
       " '인피니트이름답게무한하게오래가자♥',\n",
       " '졸잼 또보고싶다♥',\n",
       " '노래도 너무즐겁고 내용도 아기자기 귀여워요동화같은ㅠ근데 아이들 너무귀엽다♥',\n",
       " '걍100 점 ♥ㅁㅇ헝으혀향',\n",
       " '♥',\n",
       " '최고존잼 연기짱♥',\n",
       " '배우로서의가능성이정말많이보엿어그동안수고했구생일축하해임윤아♥',\n",
       " '안성기 목소리 왜케 조음ㅜㅜ♥',\n",
       " '배경도너무 이쁘고 디즈니에서 라푼젤이 제일 좋다 너무 사랑스러워ㅠㅠ ♥',\n",
       " '초반보다 엘 연기도 자연스러워진것같고 볼수록 재밌다진짜 우연히 봤는데 계속 챙겨보게됬음 빨리 수요일 왔음 좋겠네♥',\n",
       " '크리스마스의 영원한 추억♥보고또봐도 즐거운 고마운영화♥',\n",
       " '명불허전 로다주 ♥ 역시 몰입도 최고',\n",
       " '강동원진짜잘생겼네♥',\n",
       " '감동적이고 간만에 좋은영화♥',\n",
       " '최고였어요마지막에는 눈물 펑펑흘렸어요ㅜㅜ김태희도 유아인도 너무이쁘고멋져서♥',\n",
       " '진짜 내가 재미있게 봤던 영화 5안에 들어요너무 멋지고 배우말고 인간 그대로의 모습을 볼 수 있었던것들이 또한 그 자리의 삶을 간접적으로 느낄수 있었던 것들이 모두모두 전부다 아름다워 보였고 진심으로 감동이였습니다♥',\n",
       " '준형오빠짱멋잇어용ㅎㅎ♥연기도잘하고노래도잘부르고랩도잘하고잘생기고흐아ㅏㅇㅇ아ㅏ아아아ㅏ느므조타♥ 그리고12화꺼지바께없어서아쉬워요ㅠㅠ몬스타짱화이팅♥',\n",
       " '씨엔블루 아일랜드 너무 좋아요♥ 짱 재미있어요',\n",
       " '정말 재밌어요♥',\n",
       " '꺅넘 귀여운영화ㅠㅠ♥',\n",
       " '오랜만에 진짜재밋는 드라마봤습니다나오는 배우들 다연기너무잘해용♥끝나서 너무 아쉬워요ㅜㅜ흑',\n",
       " '스토리 죽이네 1편꼭봐야함 믿고보는 제임스완 애인이 공포물 안좋아하는데 이영화는 12 편 다봤음 천재감독 컨저링도 잼있떠 이런거 넘좋아♥',\n",
       " '지성의 매력과 연기력이 어디까지인지 생각하게 만드는 드라마♥',\n",
       " '이준기 짱♥ 이준기 이유비 케미는 회가 거듭날수록 터지네 밤선비 꿀잼♥',\n",
       " '최고의드라마♥',\n",
       " '4년전에 한번도 안빠지고 얼마가 몰입했던지ㅎㅎ 동생하고 이거볼려고 강동에서 하남까지 버스타고오고 정말 달달하고 다시봐도 재밌고 추억에 빠져들게하는 드라마 인것 같네요♥ 그때 공효진하고 이선균 정말 잘 어울렸었죠',\n",
       " '마마가 제일로 명대사도많고 가슴아프게감동을주는것도 진짜좋았다오늘엔딩 흐뭇하면서 뭔가 되게 허한 느낌 ㅠㅠ 배우스텝분들수고하셨습니다 두달동안 즐거웠고 진짜재밌었습니다 마마♥',\n",
       " '정준영 사랑해요♥',\n",
       " '완전스릴감넘치고가끔마다재밌는얘기까지완전재미있어요시즌1부터지금까지보고있는데볼때마다의문과해결이너무재밌고기대했어요지금까지쭉이어왔던거처럼시즌4기대하고있어요시즌4에선강형사님과러브라인♥기대할깨요♥사랑해요작까님♥',\n",
       " '이런 영화 너무 재밌다 ♥',\n",
       " '고흐는 사랑입니다 ♥ 베네딕트 컴버배치가 고흐 분으로 출연한 반고흐 페인티드 위드 워즈도 추천해요',\n",
       " '엄청 재밋엇어요 ㅎㅎ 역시 나루토가 쵝오♥',\n",
       " '10점 주러 뛰어왔음 ㅋㅋ 아 진짜 웃긴영화임 2004년 개봉이라는게 안믿겨지넹ㅋㅋ암튼 처음부터 끝까지 재밌게 잘 봤음 굿♥',\n",
       " '내가 제일 좋아하는 영화임 진짜 재밌다♥',\n",
       " '수작 모든 점에서 십점만점♥',\n",
       " '진짜 완전 최고다 사랑해요 하이스쿨뮤지컬♥',\n",
       " '♥ 신의 퀴즈 덕분에 류덕환이라는 좋은 배우를 알게 되었네용 너무 잘 보고 있어요 일주일의 마무리를 신의퀴즈와 함께',\n",
       " '내 평생 최고의 사극 정말 짱이었엉♥',\n",
       " '조정석♥',\n",
       " '용기에 박수를보내고 더많은그들에게 용기를 줄수있고 희망에메세지를 전달할수있는 영화네요 응원합니다 그당연한 사랑에♥',\n",
       " '두시간의소중함을 알앗습니다♥',\n",
       " '꿀잼ㅋ재밋엇어요ㅋ류승범♥',\n",
       " '마펭이 역시 쵝오ㅎㅎ 펭귄들 넘 귀여워염꺄 다시보고싶은 영화에요 ♥',\n",
       " '완전조아ㅠ퓨ㅜㅜ♥',\n",
       " '연기대박 스토리대박 이제훈도♥',\n",
       " '어렸을때 정말 좋아했던 애니메이션 시간이 지나서 다시봐도 너무나 아름답고 노래들을 흥얼거리게 되는 내생에 최고의 애니메이션♥',\n",
       " '사운드며 조승우의 보컬이 너무 좋았다하지만 가장 좋았던겄은 별로 좋아하지 않았던신민아♥그녀의 인생연기 화면이감독이 암흑기를 표현했겠지만더 아름다웠을듯좋아하는 감독님이 추억의 가요로 리머이크를 잘 해준다면 오백만 이상 자신해요',\n",
       " '너무 재밌어요사랑스럽고 귀여운 땡글이와 개미들이 너무 재밌게 표현 되어 있는 거 같아요♥',\n",
       " '속사정싸롱 졸잼이에요 장동민땜에본다 개그의신♥ㅎㅎ윤종신님진행너무 매끄럽게잘하시는것같아요 그리고 진중권쌤 냉철한분석 좋아엲ㅎㅎ 요즘예능중에제일 재밌어용 속사정쌀롱 승승장구하시길바랍니다',\n",
       " '이거 넘 조으다 ♥',\n",
       " '연출 극본 연기 3박자가 딱 맞아 떨어진 작품 나중에 시간이 지나도 재미있게 볼 수 있을것 같다♥',\n",
       " '애들도 다 너무 귀엽고 아빠들도 귀여워서 좋다♥',\n",
       " '완전조으다♥',\n",
       " '승기승기 멋있어ㅎㅎ 역쉬 착한드라마♥ㅇ♥',\n",
       " '탑 승리 지디 영배 대성 ♥',\n",
       " '꺼거 너무 귀엽게 나왔음ㅜㅜ♥',\n",
       " '해리포터 시리즈 중 젤 좋아함♥ 마법 효과며 연출이며 쵝오',\n",
       " '완죠아♥',\n",
       " '재밌어요ㅎㅎ히스레저 대박♥',\n",
       " '바론녀석ㅋ 고양이주제에 사람을 심쿵심쿵하게 만든다♥ 근데 바론도 바론이지만 룬목소리도 꿀이다♥ 지금봐도 개심쿵',\n",
       " '정말 최고의영화ㅠㅠ 보면서 미소짓게만드는ㅠㅠ하정말 최고에요ㅜㅜ♥',\n",
       " '아니 뭔 애들이 이렇게 이뻐 ♥',\n",
       " '몇년전에 본 영화 지금봐도 감동 너무 사랑스러운 영화 ♥ 이 영화 50번은 넘게 본듯',\n",
       " '말이필요없지 특히 파도심한 바다 선상에서 움직이는 피아노에 몸을 맡기고 흔들리며 연주하는 그장면은 몇년이 지나 다시보고 계속봐도 굿굿♥',\n",
       " '정용화♥ 짱 조아요♥',\n",
       " '이제것 본것중에 최고 삶에 활력소가되는 프로그램 대리만족 여행프로 보는족족 넘즐거워요♥',\n",
       " '18개월이랑25일된 두아이보느라정신없는하루하루를보내며설레임이 아이스크림이름인줄만알고지냈는데본방재방삼방모조리시청하며박서준님보면서 둑흔둑흔♥한 하루하루 잘보내고있습니다',\n",
       " '탐니콜 티격태격하는거 너무 귀엽다♥ 포스터보고 진지물일줄 알았는데 동화같음ㅋㅋ',\n",
       " '너무귀여운영화 동심으로 돌아간듯ㅠㅠ내스타일♥',\n",
       " '미사♥차무혁송은채♥슬픈드라마다내생의최고의드라마다♥무채커플원하라♥',\n",
       " '디카프리오쪼아♥',\n",
       " '진심 감동했어요♥ 북한을 위해서 많이 기도해야될것같네요 이거보다가 먾이 울었습니다 추천할만한 엉화예요',\n",
       " '완전재밌음ㅎㅎ 이장우캐릭터가점점살아나는것같다♥',\n",
       " '이진욱♥',\n",
       " '평점최초등록해보는데 이영화가 왜이렇게 평점이 낮은지 모르겠다ㅠ 내 인생의 최고의 영화♥ 그때로 다시 돌아가고 싶다ㅠ',\n",
       " '아진심설리설리두준두준임♥윤시윤덕후됨ㅠㅠ',\n",
       " '별5개 10점만점 하루찡 시즈쿠찡 둘다 너무 귀여웡 ♥',\n",
       " '영상도 예쁘고 장면 하나 여운이 남는 좋은 영화♥',\n",
       " '주상욱 넘 멋지고 연기 대박 잘해요 로코의 신 ♥',\n",
       " '정말좋은드라마인데 학교랑마의에묻혀서안타깝다ㅠ 최시원도멋있고 김명민도멋있고 정려원도멋있고 배우들다멋있게나오던데♥ 안보신분들 꼭 재방송같은걸로다시보세요정말재밌어요ㅎㅎ',\n",
       " '로건레먼덕에영화가살았다♥ 몇가지아쉬운점은있지만 짱잼있음',\n",
       " '잼나다 믿고보는 지성 주지훈연기좋더라♥',\n",
       " '너무 재밌어 ♥',\n",
       " '준기니깐♥',\n",
       " '우리애기수고했어요♥아이구기특해라아이구♥엄청힘들텐데나날이발전하는울융이ㅠ',\n",
       " '진짜 재밌어요 일주일내내 했으면 좋겠어요배우분들도 연기 점점 늘고 계시고 내용전개도 빨라서 흥미진진해요♥',\n",
       " '최고의 의학드라마♥',\n",
       " '올해 연기대상이 기대된다 마지막까지 본방사수♥',\n",
       " '상속자들마지막까지너무감동적이고재미있었습니다마지막장면의상속자들처럼내주변사람들도행복한일만가득하길♥',\n",
       " '주인공들이 이쁘고 재밌어요♥',\n",
       " '후반부에서는 정말 눈물을 많이 흘렸던 것 같습니다 너무 현실적이라 더 마음에 와닿았던 것 같아요ㅠㅠ 이런 사랑 꼭 해보고싶네요 최고의 드라마 ♥',\n",
       " '너무 잘생긴 연걸님을 볼 수 있음ㅠㅠ♥ 제작사가 망하지만 않았어도 2탄이 나왔을텐데아쉬우면서도 재미있는 영화',\n",
       " '저는정말재밌게보구 코난사랑해요♥',\n",
       " '서준이서언이 대한민국만세 사랑이 ♥ 너무이뻐요',\n",
       " '19 20기로가면서 실망했지만 21기에서 다시회복시로랑 춤출때 졸귀♥',\n",
       " '아 어뜨케 ㅠㅠ빈센트 카테이저 사랑해♥하완전꽃미남',\n",
       " '아라시♥',\n",
       " '재밌또♥',\n",
       " '하정우완전짱이다♥',\n",
       " 'ㅋㅋ데뷔초에도 연기를 잘햇던 슈주는 최고네용♥',\n",
       " '많은시간이흘러도잊혀지지않은드라마♥',\n",
       " '진짜 내 생애 가장재미있게 본영화다 따로 다운받아서 10번도 넘게본영화계속봐도 스릴넘친다진짜 말로표현할수 없다 평점이 왜이렇게 낮은지는 모르겠지만 평생두고볼영화다 잭더자이언트킬러사랑해용 주인공도 너무좋고 가디언들거인들짱♥',\n",
       " '잘보구 왔습니다 ㅠㅠ역시 한지원 감독님코피루왁에서 눈물흘리면서 힐링 잘했습니다ㅠㅠ배경도 너무 아름다웠고 좋은 애니메이션 만들어주셔서 감사합니다♥',\n",
       " '오랜만에 완전 잼나고 건전하고 스토리 탄탄한 드라마 배우들 연기력도 최고이고 꼬박꼬박 챙겨보게 되는 드라마♥ 더더 흥하세요♥',\n",
       " '지금까지시즌1부터항상보고있어요ㅎ시즌5도나왔으면♥오늘마지막방송너무아쉬워우어어',\n",
       " '역시승기일세♥',\n",
       " ...]"
      ]
     },
     "execution_count": 38,
     "metadata": {},
     "output_type": "execute_result"
    }
   ],
   "source": [
    "train.document[train.document.str.contains('♥|♡')].tolist()[:10]"
   ]
  },
  {
   "cell_type": "code",
   "execution_count": 39,
   "id": "b7eeae2a",
   "metadata": {},
   "outputs": [
    {
     "data": {
      "text/plain": [
       "<AxesSubplot:>"
      ]
     },
     "execution_count": 39,
     "metadata": {},
     "output_type": "execute_result"
    },
    {
     "data": {
      "image/png": "[encoded data removed]",
      "text/plain": [
       "<Figure size 432x288 with 1 Axes>"
      ]
     },
     "metadata": {},
     "output_type": "display_data"
    }
   ],
   "source": [
    "train.document.apply(lambda x: len(x)).hist()"
   ]
  },
  {
   "cell_type": "code",
   "execution_count": 40,
   "id": "dac809f7",
   "metadata": {
    "scrolled": true
   },
   "outputs": [
    {
     "data": {
      "text/plain": [
       "count    145510.000000\n",
       "mean         33.154202\n",
       "std          28.073335\n",
       "min           1.000000\n",
       "25%          15.000000\n",
       "50%          25.000000\n",
       "75%          40.000000\n",
       "max         140.000000\n",
       "Name: document, dtype: float64"
      ]
     },
     "execution_count": 40,
     "metadata": {},
     "output_type": "execute_result"
    }
   ],
   "source": [
    "train.document.apply(lambda x: len(x)).describe()"
   ]
  },
  {
   "cell_type": "code",
   "execution_count": 41,
   "id": "2291691b",
   "metadata": {},
   "outputs": [
    {
     "data": {
      "text/plain": [
       "['아 진짜 조금만 더 손 좀 보면 왠만한 상업 영화 못지 않게 퀄리티 쩔게 만들어 질 수 있었는데 아쉽네요 그래도 충분히 재미있었습니다 개인적으로 조금만 더 잔인하게 더 자극적으로 노출씬도 화끈하게 했더라면 어땠을까 하는 국산영화라 많이 아낀 듯 보임',\n",
       " '화려한 색채때문에 눈이 아프지만 그 나름대로 화려연예계여자욕망에대해 표현해냈던거같다 보는내내 진짜 리리코심정가진 연옌들도 있을거같고나를한번도보지못하고알지못하는사람들이날어떻게사랑하냐그런대사 나왔을때 소름돋더라 연예인들은 많은사랑받으면서도 참 허전할듯',\n",
       " '한편의 영화에 너무도 많은걸 하려구 한거 같은데 결국 이것도 저것도 아닌 영화가 되버렸다 뭔가 한가지 뛰어난게 없다 겜블영화도 아니고 갱영화도 아니구 형사물도 아니구 그냥 킬링타임용으로도 솔직히 별루다 밴에플렉 펜이지만 좋은 점수를 줄수가 없다',\n",
       " '쥬산과 데이는 샬로를 너무도 순수하고맹목적으로 사랑했지만 정작 샬로는 그들이 자신을 사랑하는만큼 그들을 사랑하지 않았고 자기 본능과 자기 살길에 더 충실했던 답답한 인간일 뿐이었다덕분에 쥬산과 데이의 최후는 너무도 가슴을 아리고 먹먹하게 만든다',\n",
       " '우선 평점 1점의 이유는 현재 평점이 너무나 높기때문이다 간략해서 영화보는 내내 엄청나게 불편햇다 서울시장 후보아내 엄정화가 나와서 서른도넘은 섹시가수 몸에착달라붙고 가슴이거의다 보이는 의상을입고 춤을출때 불쾌함을넘어 상당히 안좋은기분을 느끼게해준다',\n",
       " '초등학생 시절에 접했던 스파이더맨 3부작을 히어로물 매니아가 된 지금 다시 찾았다 리부트 후 세계관 확장에 신경쓰고 있지만 독립된 세계관으로써도 깊은 여운과 재미를 줬던 샘레이미 감독과 토비 맥과이어의 스파이더맨 3부작은 정말 최고라 말하고 싶다',\n",
       " '예회장의 매력이 걷잡을수 없다 무간도 시리즈의 다른 작품들과 등장인물이 거의 완전히 다름에도 불구하고 다른 무간도 시리즈와 잘 조화되며 이 작품만이 주는 매력 또한 상당하다 한침의 먹방이 정말 압권 예회장의 카리스마는 대부의 돈 꼴레오네를 연상',\n",
       " '너무 시대를 앞서 개봉해 악평받는 영화중 하나 요즘같은 일일막장드라마가 트렌드인 시대 쪽대본드라마라는 장르가 가지는 스피디함과 돌발성이 극안의 극으로 표현되어졌다 뭣보다 보기만해도 유쾌해지는 황보라씨도 좋았고 이종혁씨는 캐릭터가 너무 잘맞아좋았다',\n",
       " '내가 이 드라마를 딱 마지막회까지 2회를 남기고 포기했는데 너무 재미가 없어서임 진심 보는내내 존나 짜증만나고 다음회가 기대가 전혀 안됨 왠만하면 마지막회까지 2회 남았으면 지금까지 본게 있으니 끝까지 볼텐데 이건진짜 쓰레기임 ㄷㄷ안보는게 답임',\n",
       " '히나타 진짜 싫어하는데 영화가 급전개그렇고 더 라스트가 아니라 제목은 히나타의목도리인듯내용도 이상하고 작가가 육백화쯤에서 뜬금없이 번외로 히나타 동생내보내더니 극장판때문이였는듯만화끝날때까지도 러브라인 확실하지않더니ㅋ작가겁나 배신감느껴짐괜히 본듯',\n",
       " '내인생 잊혀지지 않은 영화 지금도 빠삐용 주제를 가끔 듣노라면 내가슴 깊은곳에 고독과 살아야겠다는 서러움이 절절하게 끓어오릅니다 아마도 내 인생이 슷비슷비하지 않았나 생각됩니다 물론 빠삐용하고 비교할 수 없지만 조금이나마 내인생을 말해주는 이영화',\n",
       " '빵점이네요 다격거봣는데영어도몰라요배운것도없어요학교다닐때놀기만했어요공부가싫었어요왕따만당했어요결국우울증걸리고 화병과우울증으로 타락으로전락하여집에서아이안나옵니다그리고자살하던지범죄를이르켜서감옥갑니다그리고한명만결혼해서꼴인하고도이혼하는사람도있습니다결혼하고도자살',\n",
       " '중국의 어거지 로마 마을 광관홍보영화 중국에 있는 저 로마마을에 가면 로마에 있는 돈 받고 같이 사진찍어주는 로마병사코스프레를 따라한 중국할배들이 돌아다님 ㅋ 실화는 개뿔 학자들에 의하면 로마인들이 저 지역에 단체이주해 살았다는 역사적 근거는 전무함',\n",
       " '소재는 기발했다 하지만 그 이상의 뭔가를 보여주지못하고 이 참신한 설정의 무대에서 놀고 있는 캐릭터들은 길을 못 찾고 어느 쪽으로 가야할지 허둥대는 상황만 보여준다 사람들이 어둠속으로 사라질때 옷만 남겨놓듯 이 영화도 설정만 남겨놓고 사라진것같다',\n",
       " '여기 호감순보면 순 친일파에 알지도 못하는 사무라이 역사를 말하고있네 이 영화는 옛 사무라이의 더러운 것들을 미화시켜서 내논 영화입니다 군사철학은 없고 단지 주군에 충성한 살인청부업자들이 모인 단체입니다 글을 읽을줄 아는사람도 별로 없다고 하네요',\n",
       " '대학등록금 이랑 몸파는 거랑 무슨 의미가 있다는건지돈이 없으면 대학 안가면되는 거고 꼭 가고싶으면 노동을 해서 정당하게 돈을 벌면 되는거지 몸파는걸 정당화 시킬려고하네 ㅋㅋ 저런 인간들이 지능력은 인정 못하고 주변환경 탓하거나 신세타령만 늘어놓지',\n",
       " '룸메이트 1기 그냥 그데로 했으면 좋겠는데 ㅠㅠ 1기 룸메이트 했던 사람들이 더 좋았는데 ㅠ이렇게 아쉽게 가버린다니 ㅠ 평생 잊지 못할거예요 ㅠ 그냥 1기때처럼 그데로 해줬으면 좋겠는데 ㅠ제발 우리곁에 떠나지마요 ㅠ안가면 안되나 보고싶을 거예요ㅠ',\n",
       " '고양이가 생선 한조각 가져갔다고 극단적인 처분을 하고 싶지만 방송이니 돌팔매질한다고 이서진이 지껄이는 것 보고 깜짝 놀랐다 이걸 당당하게 방송한 나영석의 가치관도 똑같다고 본다 당신들은 동물 학대 범죄를 방송에 조장한 인격 장애자들이야 보이콧하겠다',\n",
       " '처음에는 막장 소스를 신선하게 풀어가는 것 같아 잼있게 봤지만 3분의1을 넘어가자 막장중의 막장이 되어 실망스러웠음 막장 소스를 이해할 수없는 상황에서 한꺼번에 퍼붓다가 맥없이 한큐에 해결되고 너무 유치함그나마 초반의 신선함과 배우들의 연기에 3점',\n",
       " '진심 내가 왠만하면 영화들 비판 안하고 다 괜찮다 하는데 평점 첨 보고 오 괜찮나 이러면서 보러갔었는데 진심 이렇게 뻔한 스토리에 지루한건 첨 이였음 영화관 나오면서 첨으로 별점 10점에 잼있어요이러는 애들 죽일뻔 송혜교 탈세 할때부터 알아야했',\n",
       " '진심 여주빼고 빡쳐서 볼때마다 암걸릴것같다 그리고 6회에선가 여주가 조은차에의해 강제하차선언할때 얽히고섥혀있는 남자들의세상에 질려버렸다는말 정말공감한다 연줄로 빌어먹고사는 남자라는 존재들은 정말 야비하고더러움그자체작가의 촌철살인 글에대한 박수를',\n",
       " '의미없이 쌈만 하고 오글거리는 허세 가득한 한국 조폭 영화보다 낮다 키가 작아도 믿음직한 남자는 정말 멋있다 일본 배우중에 저리 쌈 잘하는 남자가 있었나 놀라면서 봄 영화속 의미있는 메세지들이 많았다 요근래 개봉한 영화들보단 재밌으니 한번 보시길',\n",
       " '어려운 영화가 아니라 불편한 영화다 하지만 인상깊었다 영화가 인상깊다보니 배우들에게도 관심이 갔다 원태희씨의 연기도 좋았고 특히 차승민 이라는 신인배우의 강렬한 연기가 독특하다 찾아보니 저 연기할 때가 23살이였다는데 늦게라도 빛을보길 바래본다',\n",
       " '재일동포 자녀들 교육에 좀더 신경을 써야할 필요성을 느꼈습니다 일제와 분단때문에 생겨난 일본의 조총련이라는 동포들은 한국의 지원도 받지못하고 소외되었고 일본의 차별까지 더해져서 그들의 삶이 너무 힘들었을것 같습니다 동포지만 버려둔것같아 안타까워요',\n",
       " '이 영화를 가장좋아하는것은 20대여자 라고 되있고 가장 싫어하는 사람들이 20대 남성이다 이로써 볼 수 있는것은 여자는 감정이 발달되있고 남자는 이성이 발달했다는 것이다 감정이 발달되어 있으니 신이란 존재를 이성적 논리적으로 판단하지 못하는것이다',\n",
       " '영화속의 영화는 영화속의 현실이되고 그 현실이 영화로 만들어 졌다면 우리가 보는 영화는 어디에서부터 어디까지일까요 현재속에 숨어있는 과거들 과거속에 숨어있었던 현재들 수많은 장치들을 찾아보는 것도 이 영화가 가지고 있는 즐거움 아닐까요 좋았습니다',\n",
       " '10년전인 2005년에 처음 봤는데 그때 봤을때의 충격이 전율이 아직도 생각난다 왜 사람들이 대부를 20세기 최고의 영화이고 불후의 명작이라고 하는지 보고나서야 이해가 됐다 총 5번 정도 본거 같은데 결혼하고 아버지가 되어서 또 한번 더 보고싶다',\n",
       " '개콘빠들 빼곤 알거다 밤바야때 부터 이어진 개콘이 웃찿사한테 밀렸던 시절보다 더더욱 최악으로 떨어졌다 얼굴로 미는 개그 유행어만 미는 개그 광고를 찍으려고 하는 개그들이 눈에 보이는 개콘 도대체 서수민은 얼마나 높길래 이따구로 만들어놓고 잘리질않는가',\n",
       " '티비에서 해준거보고 빡쳐서 들어와서 쓴다 주인공커플 하는일 하나두없음 쫓기며 돌아다니기만하고 싸움중인 군인 불러대면서 구해달라 난리치고 주인공답게 뭐 하는것없어 답답해 죽겠는데 쓸데없이 화면은 느리게잡고 마지막엔 아오뽁쳐 엔딩화면뜨는데 온가족이 말잃음',\n",
       " '정말불쾌한영화 똥 만질줄 몰라서 사람들이 똥을 안만지는게 아닙니다 더러워서안만지는거지적나라한표현으로감독딴엔표현면에서우쭐했겠지만그건 작품성이 아닌 똥을주물럭거리는 표현밖에 아닌겁니다 감독이요구한 이런저질표현때문에 이은주씨가 후유증을 앓은거다감독양반',\n",
       " '나는 나쁘지 않게 봤다만 대부분의사람들은 뭔가 있어보이면 명작이라고 칭송한단 말이지 니들이 이해못해서 재미없다고 하는 정신승리를 곁들여 말이야 연출은 참신했으나 복선이 진부하고 각 플롯마다 연관성이 부족했다 뭐 이것도 감독이 설계했다하면 할말 없겠지만',\n",
       " '1 2는 제목 그대로 카메라로 녹화하는 1인칭 시점으로 나오지만 3는 아에 컨셉자체를 팔아먹고 피식도 안할만큼 재미없는 개그만 계속 나오고 뜬금없이 여주는 무슨 데드라이징 주인공마냥 하이힐 신고 하이킥에 전기톱에 좀비무쌍하고 엔딩은 개똥망고어물',\n",
       " '이딴걸드라마라고썼냐 수습할수없으면걍친자녀아니면되고 간단하네 얼굴을바꿨으면 결말이라도잘정리하던가 가족땜에 밥먹을때할수없이보는데 토나올것같아서밥도못먹는다 볼때마다 오프닝이며대사며 하나하나유치하고어이가없어서웃는다ㅋㅋ제발빨리끝나고 더이상이딴드라마쓰지마라',\n",
       " '스마트 폰이 나오는데 투지폰이 나와도 어색하지 않을 2014년도 서울 사람들의 패션 그리고 왜 구형 전투복임그리고 나도 부산사는데 부산 여자들 그런 사투리 안써요 부산 사람이 듣는데 거북해서 거북목될뻔 ㅆ빨개오글 영화 리뷰 처음쓴다 개빡쳐서ㅇㅇ',\n",
       " '이건 종교를 떠나서 당신은 혼자가 아니오 서로사랑하며 살자 이메세지전달을 위해 짜여진스토리가 너무 지루하고 감동이 없어요이런 영화가 평점이 높다는게 도무지 이해가 안되며 기독교인이라해서 무조건 평점을 높게 주는거보면 우리나라 종교수준 참 뭐같네요',\n",
       " '막완전 으스스하고 그러진않지만 소재가 좋다 우리나라 일베하며 페이스북에서의 마녀사냥등 여기저기 정신이상한 사람들의 남 생각안하는 댓글들 그리고 행동들 정신차리고 살기를 바란다 이렇게 당하고 싶지않으면개인적으로 저게 귀신이아니라 사람이었으면 재밌었을',\n",
       " '잔잔한 영상으로 시각과 청각을 힐링시켜준건 좋았으나 딱 2030대 여성들이나 좋아할법한 진부한 스토리와 젊은 여자들의 로망 유럽 파리배경 늙고 한물간 여주에게 하늘에서 뚝떨어진 존잘 능력남 남주 배경 유럽 배우 일본인만 다른 흔한 김치드라마 스토리',\n",
       " '보다가 어처구니가 없어서 존쿠삭이나 애드리안브로디 를 삼류로 만드는 감독의 능력 일단 각본이 말이 안되는게 너무 많다 성룡이 어렸을때 자기 동생 우는걸 막다가 죽이고 또 그거에 분해서 장군을 칼로 찌른거 맞지 사실 그냥 틀어놓고 자꾸 딴일을 하게돼서',\n",
       " '파이트클럽을 안봤다면 재미있을수도 있었겠지만 멀쩡하고 성실한 사람이 정신병자 취급 받을만큼 금융계에 야비한 인간들이 많다는 것에는 절대 공감한다 상투성으로만 취급하기엔 부모가 아프고 직장에서 함정에 빠지고 하는것은 누구에게 닥칠지 모르는 보편성이다',\n",
       " '별 빵개는 없나요 드라마 보다가 빡쳐서 평점쓰기는 또 처음이네요 작가분 정신과 상담 좀 받아보세요 진짜 배우들이 아까운 드라마등장인물들이 죄다 미치광이들이네요 밑에 분 말처럼 한사장이랑 윤재아빠 빼고 다 미쳤어 상식적으로 이해할 수 없는 드라마',\n",
       " '한국인비하하는 영화가 뭐가 좋다는거지 인종우월주의를 따지자는게 아니라 음악으로서 즐거움을 주는 영화면그런 영화답게 음악적 요소에 집중해야지 개그부분에 욕심을 너무 부려도 도가 지나쳤다 한국계미국인배우도 굳이 동양을 까내려가며 연기하고싶은지 의문이다',\n",
       " '데스노트의 열렬한 팬인 나로써는 이 작품을 최악으로 볼수밖에 없다심리전도 없고 반전도 없고 유일하게 마츠마야 켄이치 배우님의 연기실력 덕분에 이 정도는 한것이다지금이라도 데스노트 속편이 나오는건 환영이지만 이런 데스노트와 대립이 없는 속편은 사양',\n",
       " '시즌1볼때도 머리싸움안하고 대가리머릿수싸움하는거보고 더럽다보기싫다햇엇다 근데 유일하게 홍진호만이 지니어스라는 표현에 맞게 정정당당하게 전략적으로 승리를하는것을봣다 그래서 시즌2도봣는데 시즌2는 6화가 완결인거같다 더이상더러워서못보겟다 상금이아깝다',\n",
       " '전 모태솔로였는데 이 영화를 보고 여자친구를 만나 식탁보러브를 할 수 있었습니다 또한 영화를 보고 돌아오는 길엔 우연히 존경하던 피디를 만나 제 꿈인 영화제작을 할 수 있게 되었습니다저도 나중에 꼭 이런 영화를 만들겁니다 여의도에서 시작하겠습니다',\n",
       " '이채영완전채 이쁘고 귀엽고 가능성도 충분히있다고생각하지만 모든것을다걸고나온 사람들을 밟고올라갈만큼 뛰어나다고생각하지않습니다 솔직히 홍정희썸띵 노래들을때 진짜 소름끼칠만큼 감동이전해졌고 연애하는느낌이들정도로좋았어요 심사의 기준이 뭔지 정말궁금해요',\n",
       " '챙겨봤었는데 요즘 정 떨어짐 박준금은 맨날 돈뺏는 깡패에다가 사치쩌는데 뭐라한다고 시어머니한테 대들고 알고보니 혼인신고도 안했고 류진행은 맨날 당하는 답답이에다가 김수현은 남자저울질만 해대고 요즘 장면만 다르지 맨날 이내용 개막장 최악의 시트콤',\n",
       " '평점가가 5점밖에안줬다고해서 왜비난받아야하냐 1점주면서 쓰레기영화라고하는사람도있다 사람마다 영화보는 눈은 다를수있는거고 많은 평론가들이 동일하게 5 6점씩 준걸보면 타당한평점이라생각한다 니같은 막눈이랑 평점이다르다고 평론가를비하하는짓 개한심해보인다',\n",
       " '유년기의추억인 바람의검심만화를 영화로보니 감회가새롭고 연출 배우들이 자연스럽고 정말 원작을보는것같다 내용은 애니중 4분의1에피소드지만 평이할수도잇지만 여러모로 벅찬감동이느껴진다 다만 크게크게내용을 나눠도되면 좋겟고 성상편으로 결말각색니정말로 기대된다',\n",
       " '악행을 지시하는 넘보다 그 밑에서 기생충처럼 붙어서 그 지시에 따르는 버러지들이 더 싫어그 지시에 맞장구치는 넘이 없으면 높으신 영감님들이 손수할 줄 아는게 없어서 악행이 진행될 수 있을까 모두가 양심을 가지고 있으면 지시하는 영감님들은 청소됨',\n",
       " '돈이걸리니깐 연예인들도 본성 나오네요 김풍씨 여기서 첨봤는데 당신 인간성에 매우 놀랍네요 김구라 면전에 대고 좋다고소리지르고 ㅉㅉ 지가 그렇게 붙던 홍진호 떨어지게 생겼는데 글케 분위기 파악 못하나 검색하니깐 하고다니는짓도 또라이드만 면상부터 재섭음',\n",
       " '왠만하면 평점안남기는대 참나 ㅋㅋ너무햇다 제목만 대작삘이고 영화는 수준 ㅋㅋ용몇번나오지도않고 용같지도않고 작살몇번던지고 어설푼연기력에 스케일도작고 줄거리역시 지루하다 박진감도 전혀없는 티비에서해주는 주말에영화급에도 못낀다 ㅋ진짜 평점높게준애들알바',\n",
       " '140322날에 스타의 장기를 찾아라 특집한다면서 오늘 웬기타치고 줄타는 애들 둘이 나오네요 지금 시청률 올릴리려고 아이돌 팬들 가지고 장난 깐것도 아니고 1시간 25분가량 기다린 팬들은 뭐가 됩니까ㅋ 예고를 하셨으면 지키셔야지요ㅋㅋ 장난하세요',\n",
       " '정당화시킬려고 막판에 다시 도 바람피웠던걸로 포장 해서 각자각자 어울리는사람과사는걸로 마무리된것같은데 초반에 덱스가 레이첼이랑 바람난거볼때 욕이수두룩하게나 왔음 그뒤로 레이첼의모든게 가식적이고 얄미움 뺏을껀다뺏고 착한척ㅋㅋ 이런친구사귈까봐 무서운영화',\n",
       " '처음엔 나인과 다르게 왜이렇게유치하지 싶었는데 후반부로 올수록 정말 재밌어지네요 과거부터 거슬러오는 인연도 충분히개연성있고 억지스럽지않은데다가 스토리도탄탄하고요 멜로씬이많이없어서 아쉽지만ㅎㅎ 남은 2회는 정치얘기보단 달달한사랑얘기가많았음 좋겠어요',\n",
       " '개인적으로 노숙자가 잡히고 뉴스데스크에 경비아저씨가 인터뷰하는 모습을 보고 박장대소를 하며 웃었습니다 인상적인 장면은 이성재가 개를 옥상에 던질때 같이 떨어진 쌍안경을 보고 뚱녀가 개보다 쌍안경을 향해 가는 모습을 보며 저를 반성하게 만들었습니다',\n",
       " '만화책 3번 봤는데 원작을 잘 살린 영화라 생각합니다 시장의 연설에서 인간이 벌레가 아닌 짐승이라 기생수라 말한 장면 작가의 말에 나온 주인공이 쓰러진 고토를 살려주려다 다시 죽인 장면은 책보다 더 와닿았습니다 모성애를 강조한 것도 감동이었습니다',\n",
       " '김세윤 최강희 이동진 이화정 무슨 영화 얼마나 존문가랍시고 지들멋대로 평점쳐날리네 한국영화에는 돈쳐받고 10점날리고 돈쳐받고 외화에 평점테러하는년들 쓰레기년들 자살추천한다 내가 니들보다 영화더알아 쓰레기년들 이런명화에 저따위개소리를 입에재갈물린다',\n",
       " '후유증이 크다면 정말 큰 영화 이 영화를 본 이후로 아무리 좋은 영화를 봐도 이 쓰레기가 자꾸 비교돼서 화만 납니다 지금도 식스 센스 재밌게 보고나서 도둑들이 계속 생각나서 들어옴 망할 놈들 진짜 처음 봤을 땐 인터넷 소설을 영화화 한 줄알았다',\n",
       " '말도 제대로 못타고 10년 넘게 총을 놓고 돼지를 키우며 농부로 살던 전설의 은퇴 살인마 빌 머니 모간 프리만옹의 죽음이후 영화는 시작되고 시작부터 허세를 떨던 봉사 스코필드는 그제서야 정신을 차린다 마지막 술집에서의 침착함을 정말 잊기 힘들다',\n",
       " '나는 김지운이 남성적인 감성을 가진 영화만 만드는 사람인줄 알았는데 의외로 이런 섬세하고 여성적인 감성의 영화도 잘 만드는 감독이라는걸 이제서야 알게 되었다 아름답게 섬짓하고 우아하게 처연한 영화 김지운 필모에서 가장 독특한 지점에 서 있는 작품',\n",
       " '보고나서 소름돋는 영화는 있었지만 보는 도중 소름이 돋은 영화는 처음이다 정말 영화 크레딧 다 올라갈때까지 충격에 휩싸여서 넉놓고 보게됬는데 왜 평점이 이 모양이지 1점 준 사람들이 너무 많다 내가 볼 때는 영화 안에 있는 모든 것이 완벽했는데',\n",
       " '10점도 아깝다 이 영화를 이제 본 내가 원망스럽다 정말와 일본 애니 남주들은 진짜 하나 같이 다 짱이고 이 영화는 정말 말로 표현할수없음 하울이랑 결혼하라하면 하겠어 진짜 시간을 달리는 소녀처럼 재밌는 영화다 와 평점이 140자 까지인게 싫다',\n",
       " '르넬 젤위거도 연기 잘했지만 캐서린 제타 존스만 못했다 뮤지컬 영화를 좋아하는 영화팬이라면 적극 추천합니다 캐서린 제타 존스는 아카데미 여우조연상 받을만한 연기력이었다 10점 주고 싶었지만 뮤지컬 영화인데도 좋은 노래가 별로 없어서 1점 감점했음',\n",
       " '이런컨셉이면 최소한 현실성에 기반을 두는데 이건 공상을 넘어선 허상 킬링탐용도 안됨 잠이안와서 뭔가 하나라도 스킵 해가면서 보려느 목적이라도 이건 보지마소 짜증나서 잠이 깰듯 내가 이거 호주에서 봤는데 이거 다 욕했음 밑엣놈은 그저 한국까는 한국쓰레기',\n",
       " '부성애인지 맬로인지 거기다 아들 전쟁터에서 죽는데 그 통곡소리 개듣기 싫음 진짜 짜증나게 통곡한다고 해야하나 듣기 싫은 소리 한 510분이어져가니까 감정이입도 안되고 스토리도 자연스럽게 안 흘려가고 진짜 영화보면서 튀쳐나오고 싶은 생각듬 전쟁으로 인',\n",
       " '정준 무슨찌질이같은애를 넣어가지고산악원전부예민해진 상태라오지은도 짜증냈다고치고정준 딴장면에서보면 눈치가없고 융통성없는이미지더라 말투도 재미없는사람의특징적인 말투고 글고 저번에밥먹다가 재밌는분위기에서 갑자기 정준혼자 진지모드들어가시고 깊은질문하고',\n",
       " '가장 중요한 히무라 켄신의 싱크율이 놀랍다 사토 타케루 원래 일드때문에 알고는 있던 배우인데 바람의 검심 통해서 완전 재평가 함 검술이나 무술에 꽤 시간을 투자해 연습한게 보이고 눈빛 목소리도 연구많이 한듯 진짜 켄신이 만화책찢고 나온 느낌이다',\n",
       " '뱁새가 황새의 마음을 어찌 알리요 아름다운 영상미와 두 남녀 사이의 사랑만이 가득한 보기드문 역작이다 그리고 일반적인 상식을 뛰어넘는 숭고한 사랑이 이루어진 걸작이다 이 만난지 이틀만에 손잡고 모텔가는 싸구려 썸이 넘쳐나는 시대에 순수한 사랑이',\n",
       " '다율엄마 같은 착한병 환자는 암이나 치매 같은 병 같이 국가에서 관리해야 합니다 특히 다율엄마의 착한병은 다율엄마 본인 뿐만 아니라 가족과 이웃의 삶을 파탄시키는 아주 큰 질병 입니다 다율 엄마 같은 착한병 환자들을 국가에서 집중관리 당장 해야 합니다',\n",
       " '얼마나 입체적으로 죽일 것인지에만 몰두한 4편 덕분에 망할 뻔한 시리즈를 구사일생으로 구해낸 5편 이번에는 다른 이를 죽여 그 생명을 빼앗음으로써 살수 있다는 새로운 법칙을 정립하며 내용을 전개한다 깔끔하게 도돌이표를 찍은 센스있는 결말에 가산점',\n",
       " '딸을 위해 자기 자신을 희생하는 아버지의 모습이 정말 인상깊은 영화였읍니다 제 평점은요 10점 만점에 10점 되겠읍니다 굿임 사람은 누구나 실수를 한다 이 영화처럼 말이다 그리고 모두가 이렇게 시간을 되돌릴 수 있다면 살인도 마다하지 않을것이다',\n",
       " '난생 첨으로 네이버에 한국영화 평점을 남기게 하는 이 영화는 그냥 딱 볼때는 정말 어이없는 포인트가 이 유에프오처럼 찾기 힘든 흐릿한 맥락따위 제데로 짜임새있게 연관된 것들을 찾아 보기가 어려웠지만 어느정도 소재나 아이디어는 더 좋게 만들수 있을수',\n",
       " '부자연스럽고 전체적으로 원작과 엇박이었다 갑작스럽게 가족이라고 선포하는 부분 감정선도 어색하고 너무 태연하게 받아들이는것도 이상했다 무엇보다 최대한 원작의 분위기와 환경 스토리를 살려야했는데 셋 다 정말 다른이야기를 억지로 만들어 넣은것 같았다',\n",
       " '역사와 정치를 날카롭게 통찰하며 정통사극에 대한 갈증 해소 주조연 가릴 것 없는 훌륭한 배우들 그중에서도 인간미와 카리스마를 넘나드는 유동근의 연기는 가히 압권이자 감동과 전율 그 자체 기억에 남는 것이 아니라 가슴으로 남게 될 역대급 걸작의 탄생',\n",
       " '현실적인 소재와 대기업과 맞서는 현실에선 불가능한 일들을 주인공이 해냄으로서 느끼는 일반대중들에게 카타르시스마져 느끼게 하는것은 좋았지만 다소 주인공의 어리석을정도로 현실성을 한번도 고려하지 않는 우직함은 몰입을 방해했다 8점 대가 무난한듯 싶다',\n",
       " '에피소드1이 그나마 흥미로웠다 혹시 소재를 광우병사건으로 부터 모티브를 얻었다면 지금이라도 자면서 이불킥을 할것이다 말도 안되는 괴담에 선동돼서 촛불이나 들고 선동된 사람은 반성하길 바란다 나머지 2개는 전달하는 뜻이 있겠지만 그냥 재미가 없다',\n",
       " '개인적으로 상당히 좋아하는 케빈스페이시와 사무엘잭슨이 함께 출연했다는거에 10점 그리고 협상을 하는 과정에서의 몰입도와 스릴감은 가히 압도적이였다 마지막 반전 또한 좋았고 스토리를 풀어내는 방식이 너무나 마음에 들었던 세번봐도 질리지 않았던 그런영화',\n",
       " '재밌게 봤지만 영화역도산은 그에 비해 평점이 너무 낮은거같다단순히 일본영화라서 평점이 낮은거라면 네이버 영화평점 수준에 한심함을 느낀다 미국현지에서 극찬받은 레슬러는 재밌게보고 역도산은 그저 쪽바리영화 그 영화만큼 인간역도산을 잘그린작품은 없다',\n",
       " '첫시즌부터 하나도빠짐없이계속시청중이예요ㅎㅎ현실감있으면서재미있고공감가는부분도많고 조금과장된것도있긴하지만 말도안되는막장드라마보다 훨씬재미있어요ㅎㅎ다만옛날엔 정지순하나가밉상이엿는데 밉상이둘이나늘어서영애씨괴롭히는데ㅠ제가다스트레스받는기분ㅠㅠ영애씨화이팅♥',\n",
       " '2015년 현재 5까지 본 시점에서 2와너무 비교를해서 냉정한 잣대를 들이밀어서 그렇지 이렇게 공포스럽고 액션이 훌륭한 터미네이터가 또있을까싶다 후속편들도 계속 스토리재탕하지말고 차라리 예전처럼 이런 슈퍼터미네이터와의 싸움이었으면 더 잼있지 않을까싶다',\n",
       " '내가중학교3학년이지만 애들한테 아직도짱구본다하면 비웃지만 짱구는엄청재밌다 내가 유일하게매일밥먹을때간식먹을때챙겨보는건데 진짜재밌다 커서도 짱구는 내인생에가장재미있는만화로남겨질꺼갓다이번 노래하는엉덩이폭탄도 감동적이고ㅜ ㅜ슬퍼서너무많이움ㅜㅜ 진짜재밌다',\n",
       " '불우한 가정환경에서 자랐기 때문에 비정상적인 인격이 형성된 살인범들이 그들의 무차별적인 살인을 찬양하는 팬들이나 죽기 직전까지 시청률만 신경쓰던 방송인보다 인간적이다 그러나 필요이상으로 가학적인 이 영화를 주인공들을 인간적으로 좋아하기는 힘들다',\n",
       " '얼마 전 13부를 마지막으로 짧은 여정이 끝이 났다 그 마지막 여정에서 난 눈물을 흘렸고 이것은 단순한 과학 다큐가 아닌 진리를 탐구하는 거룩한 여정의 한 페이지 라는 것을 느꼈다 이과와는 담 쌓은 미대생도 너무나 재미있게 봤다 많은 이들이 보길',\n",
       " '까메오가 너무 화려해서 깜놀ㅋㅋ 근데 이번 비욘세는 이쁜게 다여야 하는 본드걸 치고 너무 캐릭이 강해서 개인적으론 별로드라 기본적으로 오스틴 파워는 원맨쇼가 웃긴건데ㅎㅎ 세스 그린이 좋은데 비중이 좀 더 많았으면 좋을걸ㅎㅎ 미니미는 무슨 강철같다ㅋ',\n",
       " '세상의모든종교의 신은 하나의 영혼에서 비롯됬고 그 신의 영혼을 가진 미래를 보는자가 가면쓴 싸이코 악마 천재과학자에 슬픈과거있던 초능력자 독재자를 처막는데 중간에 외계인이 개입함 엔딩은 세일러문에 나올만한 마법봉으로 원기옥사용 막장애니의 끝판왕',\n",
       " '그냥 천한 계급의 남자의 씨를 받은 여자가 어리버리한 지주 아들과 지주 어머니 속여서 지주의 씨인양 사기쳐서 결혼하는 스토리인데 전형적인 부성사기 아닌가 정말 샴이라는 남자를 사랑한다면 둘이 손잡고 도망가서 막노동이라도 하며 살용기는 없고 쓰레기',\n",
       " '연출도 좋고 음악도 좋고 연기도 좋다 하지만 이런일이 실제로 일어나서는 안된다 범죄를 저질렀으면 뭐가 됬든 간에 형을 살고 나와야지 깽판과 법치주의를 조롱하는 정신나간 영화 아무리 영화판이 좌파 세상이라지만 진짜 돈 영화 10점준 인간도 반성해라',\n",
       " '블레어 윗치 같은 1인칭 시점의 영화가 있다면 이 영화는 거기에 소스를 더한거 같다1인칭 영화의 업그레이드 버전이라고 해야하나 색다른 시도이자 스토리와 전개가 좋았다영상이 지직거리는 것도 하나의 페이크일줄은 몰랐다영화는 영화일뿐 현실성을 찾지말자',\n",
       " '이거 평점 왜이렇지 진심 속았 ㅠ진짜 유치함 게다가 내용은 전형적인 평화로움 갈등발생 해결의 실마리 위기 극복 진짜 뻔함 ㅠ 보는 내내 한순간도 내 예상을 빗겨간적이 없음ㅠㅠ진짜 초등학생들이나 보고 가슴 두근두근 감동이얌 하면서 볼 만한 영화임',\n",
       " '평점 높게 준 새끼들은 중2병 새끼들인가 메세지도 모호하고 스토리도 중구난방인 이런 영화보고 8 9점을 주다니 ㅋㅋ 평점 높게 준 새끼들 파이트 클럽이나 아메리칸 뷰티 같은 영화보고 이 영화 다시봐라 이따위 영화에 평점 높게준 자신이 부끄러질거다ㅋ',\n",
       " '노출도 안나와 스토리도 재미없어 연기도 못해 소재가 신선하지도 않아 진짜 어느 것 하나도 좋게 봐줄 수가 없다ㅋ 요즘 그래도 독립영화 예전보다 잘 만들던데 왜 이렇게 만들었지 일부러 망하게 할려고 만들었나이런 영환 왜 만드는지 세계불가사의임 진짜',\n",
       " '소재가 아깝다 이 흥미로운소재를 이렇게 재미없게 만들수 있다 인간의 본성과 본질을 파고들어 더 흥미있게 만들 수 있는 부분들을 많이 놓치고 옛날구닥다리 감성신파를 지지부진하게 마구 집어넣어 지루하기 그지 없는데 칸느 경쟁부분에는 어떻게 진출한겨',\n",
       " '너가 제일좋아하는영화라고해서 보았고 너가 제일좋아하던책도읽고 책작가에 대해서도 더 알아봤다 공감했다던 그드라마도 봤고 견자를 더 알기위해 랭보를 찾고 책도사서읽었다 너를더알고싶었고 너에게맞는사람이되고싶었다 너가 읽다만 나라는책의 내용을 더채우고싶다',\n",
       " '소방관과 의사이야기라서 그런가 사람 목숨가지고 관객들 감동시키는 너무 극적인 에피소드들이 과하게 많이 나열되어있고 한 부부 인생 망쳐놓고서 고수만 졸졸따라다니며 꼬시려는 한효주캐릭터는 너무 비현실적이며 별로였다 차라리 김성오랑 쥬니 커플이 훨씬 좋았다',\n",
       " '현실적인 군대사회를 보여주지 못하고 미화시킨다는 의견으로 시청 안하다가 여군특집을 한다기에 기대감에 봤는데 짐싸는시간에 꿀호떡먹었다고 얼차려라니 위생때문에 실내에서 취식금지 인권이 무시되는 군대를 적나라하게 보여주긴하는데 보기 힘들어서 채널돌림',\n",
       " '책을 보고 너무 기대했었는데 책에서는 다 캣니스 시점에서 서술하고 캣니스의 심리를 다 보여줬던 반면에 영화에서는 캣니스 시점을 통해서가 아닌 그냥 그 상황을 보여주려고 해서 새략된게 너무 많고 내용이 뚝뚝끊김 아쉬움 고작 이 정도 연출이라니ㅠㅠ',\n",
       " '언제나 객관적인 평가로 네티즌들에게 감동을 선사하는 30대 남자 입니다 스토리는 그닥 연기들은 머 나름 평타는 침 재미는 별로 못 느낌 노출은 털이 이슈화 되었지만 베드신이 별로 안나옴 남자라면 베드신 편집 장면만 따로 소장하고 여자들은 안볼듯',\n",
       " '아니근데 너무 말이안된다 주인공 하는 행동 꼬라지를 봐라 국무부나 펜타곤 대사관같은 도움받을수 있는 곳에 전화를 해야지 무슨 지 여자친구한테 전화했다가 싸우기나하면서 전화끊기고 뭐하는거냐 ㅡㅡ 지 엄마한테 전화해서 사랑한다고하네 ㅋㅋ 빠데리없구만',\n",
       " '맞는 말도 있지만 무조건 부자라고 다 나쁜놈이고 증오해야 할 대상이라는 것에는 공감못한다 시장경제 자유민주주의에서 노력한만큼 얻는 것은 당연한것인데 그 세상에 적응 못하고 세상을 바꾸자는 자는 무인도에 들어서 혼자만의 세계를 구축하고 살다가면됨',\n",
       " '한번도 이런 평점 달아본적이 없는데 진짜 이 영화만큼은 남기고 싶네요 잠자고 있는 그리고 게으르고 겁많은 우리의 모습을 전복시키는 영화입니다 많은 인간중 하나지만 살기 위해서 살아가는 빈센트의 모습은 우리에게 깨달음을 줍니다 꼭 보십시오 인생영화입다',\n",
       " '사람의 삶 인생 그게 어떻게되든 모든사람은 같이태어나 똑같이 늙어가고 결국 아이가되어 왔다간흔적만 남기고 사라져간다 아빠의 삶 그리고 엄마의 삶 중요한건 제일 소중한게 어떤것인지 그리고 그걸 어떻게 알아가는지 마지막까지 얼마나 소중한것에 충실했는지이다',\n",
       " '정말 아름다운 영화 사실 한국사람으로서 서양영화는 문화적 차이 때문인지 슬픔을 묘사해도 쬐금밖에 안슬픈게 있음 이 영화는 슬픈메세지를 전하는 서양영화 중에는 최고 만약 한국식으로 이런영화가 만들어 진다면 눈물바다를 만들 수 있지 않을까 생각해 봄',\n",
       " '결말맘에안든다중반까진괜찮았는데 후반엔지루하고내용을끌기만하는것같고 해피엔딩으로끝내려고 애쓴느낌이든다 복선과달리 해핑엔딩이라 내용이잘맞지도않고 해피엔딩으로끝나기엔 어울리지않는드라마이기싶다 새드엔딩으로끝났으면 훨씬더여운이남고 더좋은드라마로 남았을것같다',\n",
       " '패리스톤 같은 원작의 소재를 가져오는 부분은 좋았다 그렇지만 주어진 상황과 캐릭터들의 행동에 일관성이 없으며 전개 방식이 상당히 허접하다 후반부로 갈수록 스토리 정말 개판 이구나라고 느껴지게 만드는 영화다 진심 캐릭터성만이라도 제대로 지켜달라고ㅠ',\n",
       " '주인공이 경찰이면서 범죄심리학자인데 사건현장에서의 추론이나 범인추적에 있어서 이유가 없음 이거다 그러면 주변에서 ㅇㅇ 넌똑똑하니까 맞음 끝 스토리 개박살 액션도 후지고 ㅋㅋ 대략여기 평점은 클레멘타인하고 비슷한 이유로 높은거니 시간 낭비하지마시길',\n",
       " '대사 치는거 기가 막힘 이 상황에 최선정을 맨몸으로 내치던지 외국으로 쫓아내던지 양단간에 해결 났어야지 뭔놈의 드라마가 대화로만 스토리가 이어지냐 말로는 이미 만리장성 쌓고도 남았네 가만 안둘거야 지겹도록 가만 냅뒀음 내가 해결해볼게 늘 제자리',\n",
       " '이게 뭐야 요즘 단편영화 퀄리티가 얼마나 높아졌는데 예전에 영구와 나홀로 집에 같은 시리즈를 만들고 있는거죠 심지어 두편합쳐서 40분도 안되는데 만오천원 받는건 뭐에요 서독제 초청작인 줄 알았는데 출품하고 광탈한걸 당당히 홍보문구에 넣는 클라스보소',\n",
       " '올초 영화를 먼저 보고 이제서야 책을 읽고 평을 쓰는데 책 못지 않게 영화를 잘 만들 것 같다 원작이 워낙 스릴러로써 마력으로 독자를 흡입하는 것 몹지 않음 다소 충격적인 소재와 배경이지만 여타 잔인한 스릴러와 비교하면 탄탄하고 흥미진진한 느낌',\n",
       " '어떤이는 알파치노의 갱스터영화 중의 다소 떨어진다고는 하지만 조금 더 사실적으로 마피아 세계를 다루고 있어 어쩌면 더 잔인한 전개가 이루어지고 있지 않나 생각한다긴 러닝타임에 지루하지 않은 편집 신세계의 미국판이 아닌 도니브래스코의 한국판이 신세계',\n",
       " '즐겨보는방송이지만 요즘 너무실망입니다 싸구려방송도아니고 지나친욕설에 개인감정이 필터없이 그대로 방송된다는게 넘 웃기네요 정하은의 몰상식한행동 혹시 뒤에서 잘한다잘한다 부추기는건 아닌지도수코는 아마추어가 프로로 성장되어가는 과정을 그리는방송아니가요',\n",
       " '살인사건발생딸아이 아빠 빡쳐서 현장 부랑자 동료들과 패죽임 부랑자 죽는시간과 동일하게 서에 들어옴 한명씩 자백마다 죽임 동료는 다죽고 주인공은 딸아이가 범죄자 이름을 알려주며 이름을 부르면 싫어한다해서 부르면서 총쏘니까 귀신도 총맞음 주인공생존끝',\n",
       " '오늘 심사위원들 특히 박진영심사에 눈살이 찌푸려졌다 알맹솔직히 실력면에서는 월등하다 그러나 오늘에 무대는 음이탈에 실망스러운 무대다 전에 박진영 심사평 목관리도 가수라면 당연한거라더니 1등은 2등으로 2등은 꼴등으로 정말 이건 아니란 생각이든다',\n",
       " '내가 뭐 영화광이라서 명화만 찾거나 하는건 아닌데 어찌나 유치하고 재미없고 못만들었는지 옛날 이소룡이 케이토로 나온 그린호넷을 다운받게 만들었다 나도 고급스런 관객이 못되서 꽤나 대중적인 안목을 가졌는데 이영화는 내가 본 허리웃영화중 최악이었다',\n",
       " '맨위에 평점 주는 인간들 얼탱이없다 그래 좀 원작 어스좀 보셧나보다 스토리가 맘에 안드셨나보다 이영화는 어스3등 후속 영화들 베놈 시니스터 식스 심비오트 등등을 위해 굉장히 많은 떡밥을 뿌린거다 이영화 연출미만 봐도 10점이구만 진짜 천재적인 감독',\n",
       " '보지도 않고 주는건 아닌것 같은데요 시사회에서 봤을수도 있지만 해외에서 보고 오신분들도 있을겁니다 그리고 아무리 뮤지컬 실황이라도 영화로 나왔으면 그에 걸맞는 관람요소가 있어야 하지 않나요 제가 보기엔 뮤지컬이라면 모를까 영화로서의 평점은 1점입니다',\n",
       " '잔다르크를 광녀로 표현했다고 아쉬워하는건 단지 광녀가 되지 않았으면 하는 바램이지 그게 사실인 마냥 떠들지 않았으면한다 그녀가 신의 시자였건 광녀였건 우린 그시대에 살아보지도 못했고 잔다르크도 못봤다 고로 이영화처럼 광녀 일수도 있다는점은 충분하다',\n",
       " '게이 장면을 너무 리얼하게 보여줘서 조금 거부감이 들었지만 그 외에는 다 훌륭했다 급하게 끝내는 다른 미드와는 다르게 엔딩이 정말 영화처럼 깨끗했고 많은 생각을 하게 만들었다 어쩌면 당연하지만 지금 이 땅에도 저렇게 수 세대가 지나왔겠지라는생각',\n",
       " '이영화 진짜 제대로다 이건 우뢰매라기 보다는 파워레인저나 후뢰시맨 같은 전대물 느낌이 아주 강력하다 돈주고 봤다면 눈물 10방을은 족히 흘렸을것같다 특히 쓰레기통같은 프라스틱 쪼가리 속에 사람이 들어가서 초절정 과학의 메카닉을 연기하는 배우에게 한표',\n",
       " '변호를 위한 영화인가 어느정도 현실적인 부분은 건축을 떠나 어느분야에서건 그 한계나 모순은 어디고 존재하나 그것들을 뛰어넘는 더나은 무엇을 만들어내는 이가 후에 역사에 기록되거나 시대의 우상이나 위인이 된다 물론소잃고 외양간고친게 소탓은아니겠지만',\n",
       " '막장드라마계의 쓰레기드라마 진짜 작가는 반성해라 하얀거짓말 아내의유혹 아내가돌아왔다 천사의유혹 밥줘 등등 표절안한게 없다 진짜 쓰레기드라마 재미는 드럽게없고 90회가 넘어가는데 아직도 당하고있기만하니 뭐 10회 남기고 복수하고 화해할듯 드라마 ㅉㅉ',\n",
       " '나의 평점은 9점인데 평균평점이 8점이라 10점으로 주겠다 오페라 몇편을 감상한듯 전율이 이는 사운드와 자유를 갈망하는 민중의 패기 어린 웅장함이 가슴을 울렸다 살짝 아쉬운 느낌이 들지만 한편에 긴 대서사시를 이렇게 옮긴것만 해도 극찬받을만하다',\n",
       " '인물의 행동의 당위성에 납득이 가지 않아 시종일관 영화에 몰입하는 것이 힘들었다 짐작 가능한 반전은 그 내용의 흥미로움을 떠나서 새로운 시각을 제공해 주기엔 턱없이 부족하고 그 표현 방식 역시 조악한 추리물의 수준을 넘지 못하고 있단 생각이 들었다',\n",
       " '초반 중반 다 별론데 정말 세상사 끝이 중요하다는 말이 괜히 있는 게 아닌듯 끝에 미나토가 아들을 낳으면 너같은 아이면 좋겠다는 그 말에 펑펑 울어서 그나마 4점 줌 원작이 너무 좋아서 어거지스토리에 막판 미나토 나루토 때려박아도 눈물이 나왔음',\n",
       " '우디 앨런 작품들 보면 자기가 주연으로 나와서 어린 여자 따먹는 씬은 꼭 하나씩 넣던데 작품들이 상당히 과대평가됬다 다수의 작품에 어린여자가 자기한테 홀딱 반하는 씬은 꼭 넣음 이양반이랑 어린 여자가 뒹구는 씬을 매작품 볼때마다 불편하고 이해불가',\n",
       " '이 영화에 후한 평점을 주는 사람은 학창시절에 빠졌던 순정만화 속에서 아직도 헤어나지 못하는 인간들이다 내가 본 최악의 영화 중 하나로 손꼽힐 만큼 진짜 별로다 아담샌들러의 코믹 연기나 특유의 익살스러움을 기대하는 사람들은 절대로 이 영화 보지마라',\n",
       " '봤던 영화지만 시간이 꽤 지났기에 인트로 영상을 확인해보니 이병헌의 진한 감성이 묻어난 묵직한 저음에서 울리는 사랑 이면의 이유모를 슬픔과 세상 그무엇도 아닌 한 남자의 사랑을 통해 완벽해지는 수애의 미소가 스크린을 꽉채우며 그들의 향기를 수놓더라',\n",
       " '의미자체만 딱 좋은 영화 주인공이 왜 코믹속물 캐릭터에서 정의의사도로 바뀌는지도 모르겠고 류승룡 성동일 캐릭도 이도저도 아니고 후반부 뜬금 도축맨 범인 등장도 너무 부자연스럽다 감독이 투자받을거 받고 찍다가 생각보다 별 재미없으니까 급하게 마무리',\n",
       " '자신이 떠난 후 부모없이 남겨지게될 아이들 자신도 일찍 아버지를 여의어 자식들에게는 그러지않도록 애쓰는 아버지의 모습 그 모습을 꾸밈없이 가식없이 진짜 그 인물이 되어 연기가아닌 진심을 보여준 하비에르 정말 존경합니다 이냐리투 감독님도 대단합니다',\n",
       " '이 작품은 메카와 일상물 그리고 하렘물을 섞어 놓음으로써 내가 신선한 기분이 들었었다 하지만 원작인 라이트 노벨이 6권에서 절판되면서 스토리가이어지지 않게되어 애니에서도 스토리의 전개가 되지 않은 것이 옥의 티라고도 할 수 있지만 정말로 좋은 애니다',\n",
       " '이건 또 무슨 애들장난 하는 유치한 영화인가 하고 봤는데 몰입도 좋고 넘잼났다 중간에 나도 모르게 흐르고 있는건 눈물 ㅠㅠ 다시한번 나의 학창시절을 회상하게 되고 좋은 추억을 떠올리게 한 영화였다 심은경 귀여움 유호정이뿜아역시절배우섭외 정말 잘한듯',\n",
       " '꼭 이런 영화에서 반전이 중요한게 아니라는 넘들 있는데 이 영화는 반전이 중요하다 멍청이들아 반전이 없었다면 이 영화가 이정도 평을 받을 수 있겠냐 반전이 있기 때문에 스토리도 탄탄하게 되는거다 어서 주서들은것만 있어가지고 평론가 코스프레 쩌네',\n",
       " '지금봐도 상당한 수작의 재난영화 실베스타스텔론 역대급 작품중의 하나 그리고 흥행 참패했다고 오해들 하시는데 비록 북미에선 3천만달러를 벌어들이는데 그쳤지만 북미지역을 제외한 해외에서 무려 1억 3천만달러를 벌어들이면서 당당히 흥행에 성공한 작품임',\n",
       " '인간들의 뇌만 필요한 외계생명체가 그전에는 뭐로 버티며 생활해왔는지 의문이다 설마 다른 행성에도 인간의뇌를 가진생명체가 있었으며 멸종 시키고 지구로온건가 바다에는 외계인이 못오는 장면이라도 보여줘야 배타고 도망가도 살수있다는게 설명이 가능할텐데',\n",
       " '책으로 먼저 접했었던 프로그램인데 이렇게 다시 보게 되어 기쁩니다우주에 대해서 전반적으로 잘 알 수 있었고 화려한 영상을 통해 책으로 읽었을 때보다도 이해력도 높아졌던 것 같습니다 특히 학생들이 본다면 지구과학 과목에 큰 도움이 될 것 같습니다',\n",
       " '평론가의 평점을 이해할수없다 극성인 부모님밑에서 자란 여자그런지공감되는내용이였다비현실적이라고하지만 딸에대한 사랑이 가득해보이는 어머니의 쌍욕과 폭력은 뒤틀린인간의 모습으로 오히려 현실감있었다구혜선이라는 편견만 빼면 상당히 잘만든 수작다음작품기대',\n",
       " '어쩐지 관람객 수가 100만도 못 넘는다 싶더니 그만큼 써니가 연기를 못했다는 거네 전문 성우들도 많고 성우지망생들과 신인성우도 넘치고 넘치는 마당에 웬 아이돌 써니 밉상이던데 비주얼 되는 김선혜나 박리나가 써니보다 비교도 안 되게 훨씬 이쁘다',\n",
       " '이러시면 안됩니다 배우들한테도 스텝들한테도 이러시면 곤란합니다 저예산이라는건 오히려 핑계조차 되지 않는 영화네요 제작비가 아깝고 배우들도 불쌍하고 누굴 탓하겠습니까 감독님 그래도 촬영하느라 고생하셨을텐데 다음엔 여러사람 헛고생 시키지 말아주세요',\n",
       " '이거 제발 조기 종영 안돼나요아침하면서 수년간 아참드라마 보는 낙으로 살았는데 이렇게 짜는나는 드라마 정말 최악이예요 신선한 인물이 있길하나 내용이 신선하길하나 즐겁게 시작해야하는 아침시간이 하희라 쥐어짜는 울부짖음 어울리지도않는 무대감독연기ㅜ',\n",
       " '자신의 영화중 반이 쓰레기라고 했던가 이영화가 그영화인거같네 최악이다 영화보는내내 뭔개소리를 지껄이는지 모르겠다고 생각되었다 미학을 위한 미학 보는내내 불편했고 구토가 나올지경이였다 세바퀴에서 이상아씨는 어린시절에 성적수치심을 느끼며 촬영해야했다지',\n",
       " '준석이가 동수 작업 지시한거는 맞지만 죽이라고 하진 않았을겁니다 2에서 불구로 만드는 작업이었음이 나오죠 글구 하와이로 갈것을 권하고 거절당하고 나올때 동수 부하들이 칼들고 작업하려는걸 동수가 아버지 제사란다 하고 보내줬죠 동수는 공항가려다 죽고',\n",
       " '이영화 잼있게 보긴 봣지만 이해가 안가느부분이 딸은 죽고 엄마혼자 살았는데도 전혀 슬퍼하지도않고 그리고 영혼은 엄마고 몸은 딸인데 자기남편이랑 잠자리를 가져질려고 하지를않나 그리고 갑자기 딴남자를 좋아하고 남편을버리고 결혼을하지를않나 어이없슴삼류',\n",
       " '선발대 보고 드립니다 정확하게 말씀 드리자면 수준이 1992년도 변강쇠와 대립 할만한 작품이고 연기자들의 연기는 1994년도 판관 포청천 수준이라고 말씀 드립니다 내용 역시 실화나 현실성과 동떨어지며 아무 의미없다고 말씀드립니다 평점은 001임',\n",
       " '유덕화 영화 중 최고라고 생각하는 영화입니다 무간도를 뺠 수 없지만 정말 남자가 여자를 사랑하는그 장면을 너무나도 잘 표현했고 영화 마지막 자살한 아령에게 가려고 머리와 옷을 고쳐입는 장면을 보며 유덕화라는 배우의 최고 잘생긴 모습을 볼 수 있습니다',\n",
       " '그로테스크하고 몽환적인 시대를 앞서간 섹스어필스릴러공포영화다 김영애의 집착적 망상속에 나오는 환상적이고 오버래핑 촬영기법은 이영화를 더욱 기괴하고공포스럽게 보이게한다 그리고 김영애가 정신분열증을 앓고있는걸 암시해주는 단적인 예라고도 할수 있다 최고수작',\n",
       " '그냥 하는 말이 아니라 이 영화는 무언가 굉장히 엄청난 영화다 이 영화는 국제사회의 문제를 시사하고 있는 것과 더불어 무지했던 이 시대의 국제사회의 문제를 계몽시켜 준다 배움을 주는 또 하나의 영화 내게 이 영화는 무언가 굉장히 엄청난 영화였다',\n",
       " '로마랑 한나라랑 뭔가 있을것처럼 하더니 뜬금없이 듣보잡들 나와서 지들끼리 싸우는데 남주가 무슨 왕되는데 왕이아니라 동네 이장 아니냐 뭔놈에 국가가 마을두개합친게다고 한마디로 시골패쌈에 오바마랑 시진핑이 군대끌고 오는 말도 안되는 개막장 뜬금포 노잼',\n",
       " '유익한 정보도 내보내주지만 최악으로 극대화 시켜서 내보내는 편파적인면있네요이번에 방송된 제습기편을 보면 제습기 사지말잔 생각이 당연히 드는데 저도 주부이고 제습기를 사용하는데 좋거든요 에어컨있어도 이 방송보고 제습기 사려는 주부들에게 혼란을 주네요',\n",
       " '이 극장판부터 저연령층을 타겟으로 삼은거같은데 한국은 물론이고 일본에서도 이렇게 제작하는게 흥행스코어가 월등히 좋다보니 영화가 매년 저 연령화에 초창기 코난이 보여주던 추리물로서의 기능을 완전히 상실한체 얘들이 좋아할만한 요소만 듬뿍넣어서 유치해짐',\n",
       " '개인적으로는 6점 정도 주고 싶다 시각적으로나 심적으로나 배우들이나 스토리나 어느 한 가지에완성도가 떨어지는 작품이라고 생각한다 애초에 미국 영화스럽게 만들거나 한국 영화스럽게 만들거나 둘 중 하나를 택해야 했던 걸까 영화 자체가 전반적으로 어색',\n",
       " '환풍기도 없는 환경에서 열다섯시간 이상을 갇혀 일해야했다니자본앞에 노동자들은 인간적인 대우를 받지 못했다고 생각된다요즘도 여전히 악조건에서 일하는 사람들이 있다는 기사를 보면 소외계층에 더욱 관심이 필요하다영상미 뛰어나고 스토리도 흡입력 있었다',\n",
       " '괜찮은 영화 제목은 글쎄 진부한 미녀와 야수 스토리 속에는 러브스토리만이 아닌 서로를 만남으로써 자신의 모습을 찾게 된다 여주인공이 선생을 관두면서 꼬맹이한테 한 말이 인상 깊다 살다 보면 멋진 사람을 많이 만날거야하지만 그 사람들을 따라가지마',\n",
       " '이 영화 사상 위험하다 마침 국가가 대통령을 위해 있는것 처럼 묘사한다 진짜 대통령이랑 윗대가리들이 수많은 군인들을 죽게 하고 핵무기도 넘기고 국가 핵폭탄에 망하게 할거 주인공이 운빨로 살린것밖에 안된다 대통령은 국가를 위해 있는 건데 그 반대가 됬다',\n",
       " '솔직히 오공보다는 이번극장판의 비루스와 배지터 캐릭터가 너무 재밌었어요 신치고는 디게 철없는 듯 하면서 전투력 없는 일반 지구인 한테까지 사과를하는 겸손함을 갖추고 끝까지 여유를 잃지않는 비루스와 그런 비루스에게서 자존심다버리고 지구를 지키려는 배지터',\n",
       " '네이버에서 영화 다운받지 마세요 영화 받아볼때마다 욕나옵니다 3천원 8천원씩 돈 더럽게 많이 내고 보는데 다운로드 더럽게길고 버퍼링 장난하는것도 아니고 8초에 한번씩 영화 8초보고 20초 버퍼링 타는데 어이가없어서 고화질받으면 모해 화질도 답없음',\n",
       " '주인공 으로 나오는 아빠가 인간쓰레기에 개양아치에 대가리는 정말 나쁘고 마누라 죽일 용기는 있고 지 잘난줄 알고 싸움은 고양이 보다 못하고 딸 유괴되고 8년을 딴 년이랑 살고 딸생각을 단시간에 까먹고 이런 아빠를 주인공으로 만든 감독 작가님 대가리가',\n",
       " '악담하는 사람들은 드라마를 대충보는사람 10점 남겨주는사람들은 정말로 드라마를 좋아하는 사람거 독설좀 그만합시다 드라마를 개같이 보지 말라구요 잼없음 걍 가시라구요 여기서 드라마 욕좀 그만 하시고 당신들한테 맞는 드라마 찾아보시라구요 제발공간이',\n",
       " '보는 내내 정말 지루했고 중후반에 부도리가 졸때 납치범이 나타날때까지 그 이상한 연출들이 꿈이었다는것도 몰랐다 세계관이 그런줄로만 자연재해로 인한 위기 개인의 희생으로 헤쳐나가는거 좋다 그런데 그 과정을 꼭 이렇게 지루하게밖에 표현하지 못하는건가',\n",
       " 'ㅋㅋ기대하고갓는데 아역배우목소리 애니메이션 같아서 전혀 집중이 안되고 진부한스토리에 억지감동 끌려고 비지엠만 주구장창 틀어놧네요 되게 사소한거에도 잘울고 슬퍼하는데 오늘은 영 하품만 하다나옴 그리고 송혜교볼때마다 저 얼굴뒤에 탈세한 그얼굴이보엿음',\n",
       " '그래서 주인공이 꿈인데 왜 살아남는거지 왜 안경안쓰면안보이는데손목상처는없지 오웬은 찔려죽은건데 그전의 달리기는 무슨힘으로 뛴거지 가시나무는 가시코스프레인가 달릴때 바닥 가시나무인데 신발없이 전력질주하고 트집잡으면 끝도없네 총체적난국을 잘 표현한영화',\n",
       " '다루는 주제는 뭐 그럴듯했지만 전개방식이나 연출이 무슨 어린이 다큐처럼 너무 뻔하고 어이없을 정도로 당연했다 나쁜놈들은 대놓고 과장된 나쁜 연기를 하고 주인공은 그렇게 예쁘고 어려보이는 연기자를 쓰면서 아줌마니 뭐니 천대 받는 그림이 받아들여지나',\n",
       " '프랑스 영화에서만 볼 수 있는 특유의 섬세함이 돋보이는 영화 오래간만에 스크린에서 보는 이자벨 위페르의 연기를 보면서 관록과 내공이 시간의 깊이를 따라 쌓인 대배우가 일상 연기에서 뿜어내는 아우라가 잔잔히 기억에 남네요 사랑은 가까이에 있는 것',\n",
       " '모두가 1점 주길래 2점을 준다 영화를 보고 느낀점은 배우들의 문제보다도 감독의 문제인것 같다 사실 저것보다 좀더 나은 연기를 보여줄수 있는 배우들을 데리고 삼류를 만들었다보는 내내 노출이 있어야 영화의 관람객을 확보할수 있다는 논리를 깨버렸다',\n",
       " '쓰레기라는말은 이런영화에 쓰는거다 이지승이란 사람은 영화감독이 아니라 어떻게든 여론몰이해서 한탕하려는 사람같다 여주인공의 좋은 연기력을 억지스런 설정과 말도안되는상황들로 관객을 안티로 만들어버리는 저력 전국 경찰들의 사신ㅋㅋ전기도 아까울정도의 영화',\n",
       " '평소 애청자였지만 아무리 그래도 한국 방송에 기미가요를 틀었다는건 정말 있을수 없는 일이다 제작진들 정말 반성 한다면 양심껏 프로그램 폐지하세요 이 프로그램 좋아했던 애청자로써 정말 실망스럽고 한국 방송에서 기미가요가 울려 퍼졌다는게 너무 창피하네요',\n",
       " '우리는 시키는 대로 해왔고 또 그렇게 살아가고 있다 그런 수동적인 생활은 소심한 행동과 발언을 낳게 되고 그렇게 낮고 안전한 그늘만 찾아 피신한다 우리는 기억해야 한다 책임감과 부담감을 짊어지고 팀을 위해 희생하는 리더라는 위치의 고독과 용기를',\n",
       " '정사를 읽어보니까 이 영화가 얼마나 쓰레기인지를 뼈저리게 느끼게 할 뿐이다 고작 관우 따위에 무려 견자단씩이나 되는 배우를썼다는 것도 노어이다 견자단은 손견 역을 해야 마땅하며 관우 역에는 차태현을 써야 어울린다 감녕이 무서워서 벌벌 떤게 관우다',\n",
       " '언제까지 집밥소재방송을 봐야하는건가요 집밥이라는 컨셉이 무색할정도로 현실성이 떨어집니다 또한 모델하우스같은 연예인집 구경도 한두번이지 계속보자니 짜증납니다 좋아하는 연예인이 나온다고 봐주는것도 여기까지입니다 더이상은 시청자를 우습게보지말기를 바랍니다',\n",
       " '이걸로 연평해전 까내린 그 영화죠 미나인가 뭔가 성격도 이상하고 현실에선 없는 이야기 그냥 어둡게만 표현하면 예술성 인정받는거 극혐 갑자기 과장한테 왜 들이대는거임 거기서 부터 보기 싫던데 의지할거 없는 사람이라고 아무한테나 몸준다는 발상자체가극혐',\n",
       " '전역하고 수년이 지난 지금 다시보니 감회가 새롭고 대단한 영화다 본 영화만큼이나 군대내에서의 조직원들의 심리묘사를 사실적으로 표현한걸 못봤다사회나 군대나 정해진 매뉴얼대로 따르는게 왕도다 어리광응석부리며 고집세우면 본인뿐아니라 주변인도 피곤하다',\n",
       " '그레이스 켈리가 아니라 그냥 니콜 키드먼이다 무슨 프랑스가 모나코를 위기로 빠뜨려서 그녀그레이스가 마치 나라의 당락을 쥐게 만든 여자로 미화 해놨는데 그냥 그녀는 왕궁생활에 지겨움을 느껴 가출해서 유랑다니다가 교통사고난 비운의 아름다운 여배우일뿐',\n",
       " '별점은 마이너스없나요 이상윤 때문에 진짜 참고참고봤는데 구혜선 화장이며 연기며 너무거북스럽고 작가님 너무하신것같아요 차라리 마지막을 비극으로 끝냈으면 그래 있을때소중함을 느끼자 한번 느끼기나하지 정말끝까지 실망시키시네요 비판을위한 비판이아니고요',\n",
       " '극반전이 최고네요 해피엔딩이길 바랬는데 5초도안돼서 해피엔딩 ㅋㅋ 미국영화는 이래서 안돼 ㅋㅋ 장난치는것도 아니고 관객우롱하는건가 그냥 그렇게 죽었다면 더 큰 감동과 여운이 남았을꺼 같은데 너무 짜집기 하네 짜증나게 영웅액션 히어로도 아니고 나참',\n",
       " '너무나많은 동물들 사람이동물보다 못한사람도있다 동물들이상처받고살아가지만 이방송은하지말아주세요 왜야면요하지안은것도방송보고따라하는습성이있지요인간들이 그레서애완동물들이 치료목적으로사용할수있는방법만남기고 일반인은자재하면좋으련만 너도나도키우다버리고 방송자제좀',\n",
       " '법이 제자리에있는게아니다 이리저리 왔다갔다 돈있고 권력이있으면 그쪽으로 쏠린다 돈없고 힘없는 사형수 돈많고 힘있는 사형수 너무나도 차원이 틀린 결말 좌파우파를 떠나 돈있고 힘있으면 장땡인 대한민국의 현주소 10년이 지나도 변함없고 앞으로도 변함없다',\n",
       " '난 진짜 이 영화보고 할 말이 없었음 돈아까워 죽는줄 워낙 기대를 안하고봐서 평타라도 쳤으면 높은 점수 줬을텐데 이건뭐 평타는 커녕 완전 거지같았음 그리고 무슨 영화에 내용이 없음 내용이 300같은 영상을 좋아하는 사람은 모르겠지만 정말정말별로였음',\n",
       " '영화 혼혈왕자편에 말포이가 덤블도어 지팡이 무장해제하는 장면 안나옴 영화 죽음의 성물1편에 해리가 말포이 지팡이 무장해제하는 장면 안나옴 그런데 이 영화에선 마지막에 해리 대사 들어보면 무장해제했다고 나옴 결정적인 옥의틴데 아무도 언급을 안하네',\n",
       " '현실로 비춰지는 비현실의 세계라는 말이 김기덕 감독의 영화에서는 고개가 끄덕여진다 그의 작품에서 사랑은 늘 일관된 본질을 가지고 있어도 색다른 형태를 보여주는데 영상미와 음악에서 보여주는 은은한 모습과 함께 맵고 찡한 그런 강한 감동을 남겨준다',\n",
       " '죽은 친구대신 바수밀다가 된다는 허접한 논리에 빠진 내용 강간이나 성범죄가 정당화 될수없는 것처럼 고교생의 원조교제가 정당화가 될수 없다고 생각한다 상업성에 대해 욕하지만 돈을 주고 봐야하는 관객입장으로 흥행에 항상 실패했던 김기덕감독의 영화중 하나',\n",
       " '너무나도 많은 것이 주어져 우리가 더 이상 사람을 갈구하지 않아도 되었을 때 사람들은 사람들을 찾았다사람들은 어딜가든 있었으나 외로움을 전하는 사람들은 늘어만 갔다사람들은 어딜가든 있었기 때문에 그들이 외로운 건 전적으로 그들의 탓으로만 보였으니',\n",
       " '트루맛쇼는 평점이 높고 이영화는 평점이 낮은데 정치적이냐 아니냐다 표몰이 선동질이라고 하는데 이런 영화보고 자기가 지지하는 정치세력이 바뀌나 이영화에 마지막부분에 나오는 아줌마의 이야기를 봐라 그래도 박근혜는 이명박과 다를거라고 말한다 그게 현실이다',\n",
       " '영화의장르가 애매한영화 주인공의 성장물이라기엔 애가 크다말앗고 액션물이라기에는 풍부하지못한액션 개싸움을 가르치는듯한영화 정작 스승이란놈은 뼈뿌러트리고 칼로찌르는것밖에안보여줌 게다가 결말을 멋잇게 포장하지만 그저추잡하다 결국멋잇는건 기웅씨의 미친얼굴뿐',\n",
       " '맨날 돈없는 감독이 여자 옷벗기는 한국 영화만보다 이런거 보니 먼알긋냐 ㅉㅉ 100 년이지나도 못만든다 조선에서는 감독색히들 매스컴 이용해 돈적게들이고 돈번생각만하는데 ㅉㅉ 미국 블럭퍼스트도 매 한가지 수입없다면 때까지 옷벗는영화만보다 꽥 ㅋ불쌍',\n",
       " '색깔 잘 사용했고 인물묘사 독특했고 옛날기법들을 잘 적용한거같고 이야기방식도 다른영화와 다르게 시도한거같고 그래 그런 숨은의미가 있다는건 알겠어 너네들이 너네만 아는 뭔가를 본듯이 막 허세떠는거 다 백번 양보한다 쳐 근데 결정적으로 재미가 없음',\n",
       " '이 영화를 끝까지 볼려고 몇번이나 디비디도 빌려보고 다운로드도 받았는데 지금까지 메이저 영화중에 끝까지 다 보질 못한 영화중에 비트졸리 나오는 스미스 부부 이후로 처음이다 지루하고 하품나는 구성 왜 이 영화가 정이 안가나 했더니 문제는 올리버 스톤',\n",
       " '내용이뻔하다고별점을깍는거말이안된다 감독사람이기때문에 우리들처럼생각을해서만드거다 꼭반전있는영화좋은거아니다뻔하지만그것도그것만큼에재미는있다이영화에주목할점은연기자의훌륭한연기도있지만이영화조잘조잘하고셈세한액션씬이이다다른사람은들은모르겟지만몰입감도잇고잔잔한재미도있다',\n",
       " '난 이영화 괜찮게 봤는데 왜들 지루하다고 그러지 재밌기만 한데뭐 샤말란 특유의 반전이나 스릴러적 재미는 좀 약하지만 구성도 괜찮고 특히 영화 특유의 미스테리한 분위기에 묘하게 빠져들던데 여주인공의 순수한 사랑과 희망을 잃지않는 모습도 나름 멋졌고',\n",
       " '내가노래를잘알거나그런건아닌데솔직히 합채랑썸띵중에썸띵이떨어진건말도않된다고생각합채가아무리나이에비해잘해도썸띵에비해못한건 확실한데 가능성이더뛰어나다고우승이라니참나이가없어서 시청자들이귀엽다고다우승시켜주면좋아할줄아시나봐요ㅋ우리가재롱잔치보자고케이팝스타보는줄아나',\n",
       " '처음부터 왠지 모르게 몰입이 됐다 재판신이 지나고 끝나갈 즈음에 찰리가 장인어른하고 장모님에게 묵혀뒀던 감정이나 말을 터트렸을때 나도 모르게 속이 시원해지면서 울었던 거 같다 두 주연의 연기가 너무 인상적이라 여운이 깊고 계속 머리속에서 맴돈다',\n",
       " '객관적으로 전쟁이라는 것을 느끼게 해준 다큐 감독이 의도한 것인지는 모르겠지만 전쟁의 비인간성을 뒤통수 후드려 패는 듯한 느낌으로 와닿게 해줬다 죽은 사람이 도살된 가축처럼 느껴지고 사람을 죽이는 것을 정당화 해야만 미치지 않는 곳이 전쟁이였다',\n",
       " '약간 어색한 느낌의 연기를 제외하곤 좋네요 그것도 신인들위주의 캐스팅을 고려하면 충분히 이해해줄만하고 재미도 있네요 특히 가장 좋은건 마지막에 나오는 춘향가 각색한 음악 ㅎㅎ 노래만 따로 구해보고 싶은데 ㅠㅠ 전 스탭아니니까 제작진여러분 힘내세요',\n",
       " '배트맨같은 영화를 보면 나도 천하무적영웅이 되고 싶다고 생각했지만 이 영화를보니 크리스가드너가 정말 영우처럼 보이네요 나라면 진작에 포기했을텐데 힘든생계를 꿋꿋이 끌고나가는 그가 참 강해보였습니다 화장실에서 아들끌어앉고 우는 장면은 진짜 슬펐음',\n",
       " '1님답변요1번은 총쏜여자가 목사의 내연녀임 둘이 벗은 사진 나옴 그리고 다시 등장않함 2번은 나비캐릭터 개연성 만들기가 여기서 키포인트 3번은 총은 두발짜리 한발은 동생 한발은 자기를 위함은데 엄마한테 쏘지않고 강간녀쏘면 나비두마리가 날라가면서',\n",
       " '사람의 죽음에 대한 작가님의 이해가 부족하다고 느껴지는건 아마 대다수의 시청자가 그러리라 보입니다 책이든 드라마든 작품은 작가의 정신을 담아내는 매개일텐데 너무 쉬운 방법으로 시청률만 잡으려다보니 스스로 자신을 망쳐가며 작품을 만드는게 안타깝네요',\n",
       " '이영화를 이제야 보았내요 개인적으로 영화 관에서 보지못해서 아쉽다 평점을 보니 흥행은 못한뜻 하지만 내눈에 좋았다 요즘에 나온 영화 보다 특히 한점이 매우 좋앗다 내가 보았던 로맨틱 코미디 중에 탑 1위 라고 말할수 있을 정도로 나는 재밌게 보았다',\n",
       " '내가 아무리 아빠어디가 팬이고 민국이 지아를 예쁘게보긴 하지만 이건 진짜 아니다ㅠ 차라리 성우분들께 맏겼더라면 적어도 이렇게 욕은 안 먹었을텐데ㅠ 왜 얘들한테 더빙을 시켜서 영화 관람객들에게 짜증민폐끼치냐고ㅠ 이러니 당연히 비성우 더빙이 욕먹지ㅡㅡ',\n",
       " '헐리우드와 한국을 통틀어 이제까지 본 유괴 소재로 다룬 영화중 가장 색다르다 보는내내 역발상으로 전개되는 스토리가 긴장감을 불러일으키며 진짜 이런 일이 벌어지게 된다면 어떻게 되는지 충분히 체감할 수 있는 영화이다 영화 포스터를 빨리 바꿨으면함',\n",
       " '솔직히 첨엔 말도 안되는 말을 지껄이질 않나 장면이 뒤죽박죽 나오질 않나 하는 생각에 이해가 안 됐었는데 보면 볼수록 꿈에 대해 이야기 하는 영화구나 라는 걸 아주 잘 깨닫게 해줌 꿈에 대해서 표현을 참 잘한 영화인듯 접근이 색달라서 매력적이었음',\n",
       " '이미 일본에서 써먹었지만 능력 소재도 참신하고 아역 연기 까지 재미있었는데 후반부터 너무 개연성이랑 리얼리티 떨어지고 잃어버린 10년이란 기억을 어떻게 포장할지 궁금하다 애시당초 남자주인공 캐릭터도 현실성 결여에 순수함을 빙자한 멍청함이 답답하다',\n",
       " '폭력으로 인한 분노를 참아내고 죽음에 대한 두려움을 극복했던 그의 모습이 지금까지 인정되고 존중받으며 기억되고 있다는 점에서 찬란한 역사로 기록되었다는 점에서 그의 위업은 우리에게 귀감이되고 감동받게 한다는 데에 그 누구도 이의가 없을것이라 생각한다',\n",
       " '일점도주기아까워요 무슨드라마를이렇게질질끄는지 시청자들화병만드려고만든드라마도아니고무슨 매일악역위주고 사랑도감동도감흥도없고 짜증나는드라마네요 아무리막장드라마라고하지만이건막장을떠나서진짜쓰레기네요진짜 짜증나서보기싫은데혹시나 오늘은다를까하고보면 또화병나네요',\n",
       " '물론군인분들의희생은너무나도슬펐습니다하지만이런영화는나와선안됩니다김대중대통령께서장례식에참가못한건박정희가만든법때문에어쩔수없었고그후김대중대통령께서법을바꾸시고위로금도더많이주는쪽으로바꿨죠감독님은도대체왜김대중대통령의의도와전혀다르게표현하셨나요나와선안될영화입니다',\n",
       " '주인공의 입장에서 보면 억울하고 분통터지는 일이면서도 내가 당사자라면 마을사람이라면 과연 이 일을 영화에 나오는 사람들과 다르게 볼 수 있을까하는 의구심이 든다 친구와 마을사람의 모습을 통해 집단이 가질 수 있는 오류에 대해 생각해 보게되는 영화',\n",
       " '그냥 공포 스릴러영화가 아니라 생각을 하고 보게되는 영화다 생각없이 그냥 보는데 무언가 내용이 엇박자이고 부터 영화제목의 뜻을 알게됐다리셋과 반복되는 스토리는 자칫 영화 지루하게 만들수 있다이 영화 역시 그랬고 영화 자체의 내용이 너무 추상적이다',\n",
       " '살짝 지루하고 공감가는 류의 이야기는 아니었지만 연출이 굉장히 좋았다 영화에서 어떤 것을 찾으려하지말고 그냥 한편의 이야기를 본다는 자세로 본다면 나쁘지 않다 결말까지 보고 나서야 재밌는 영화다는 생각이 드는 영화 중간에 재미없다고 나가지 말것',\n",
       " '3류떡영환데 여자들 평점 8점준거봐랔ㅋㅋ뭔소리냐면 늙고애딸린 이혼녀한테 애완견처럼 질질 끌려다니는 젊은총각이 기본세팅이거든ㅋ 병맛감독에 김치녀용 한드같은 병맛설정이니 망하는게 당연하지ㅋ 성괴여주신음이랑 몸매 감상하고 휴지통에 버리면 되는 싸구려 영화',\n",
       " '10점 분명히 지금까지 본 그 어떤 영화도 이 영화보다 희노애락애오욕을 잘 표현한 영화는 없었다 영화를 보는 동안 영화속에 빠져들어 마치 나 자신 또한 눈먼 사람이 되어 영화 속 주인공들과 같은 기분을 분명히 느낄 수 있었다 어마어마한 영화였다',\n",
       " '이 드라마는 우리에게 많은 걸 생각하게 해주는 방송이라고 진심으로 생각한다 가족이란 우리에게 어떤 의미인지 다시 한 번 생각하게 되었다 지금 거의 국민의 절반 가까이가 이 방송을 보고 있지만 더 많은 국민들이 꼭 보셨으면 하는 드라마라고 생각한다',\n",
       " '다들 슬프다고 하시는데 저랑 친구랑 전에 개봉했을때 보러갔다가 거짓말이 아니고 1시간 내내 웃고 왔어요 화면 클로즈업 할때마다 배우들 표정때문에 웃겨 죽는 줄 알았네요 결말도 예상 그대로였고 사람들 있는데 웃음참느라 죽는줄 알았습니다 먹던것도 뿜고',\n",
       " '초등학교때 이영화를 보고 마지막 장면만이 내 머리속에 남아있었다시간이 지나고 나는 이영화내용도 제목도 기억하지 못한체 그냥 그장면만 머리속을 되네이고 있었다 이영화라는 사실을 알고 소름이 돋았다 마지막 북경역에서의 연주는 죽기전까지 기억될거같다',\n",
       " '개봉하고 봐야지하다 이제서야봤는데 개인적인입장으로선 근래본영화중에 최고였습니다 영화취향이특이해서그런게아닌가하실수있겠지만 저도 영화많이보고 대중이반응하는영화에 적절히반응할줄도압니다 폰부스와 비슷한장르지만 사운드와 긴장감 적절했습니다 개인적으로쩔게재밌네요',\n",
       " '이 영화는 부모님들의 올바른 교육을 일깨워준다 니모를 찾아서에서 올바른 교육이란 역경을 겪지 않게 하는 것이 아니라 그 역경을 스스로 헤쳐나갈 수 있도록 도와주는것이라고 보여준다 내가 해줄게 보단 넌 할 수 있어 라는 말이 더욱 중요할 때가 있다',\n",
       " '서정성에 기대어 진실을 감춘 추악한 영화 이런 영화로 세상을 향해 징징거리기 전에 당신들이 먼저 해야할 일이 있지 않은가 역사를 모르는 아주 어린 내가 봤을때는 눈물을 흘렸지만 역사를 아는 내가 봤을때는 이들의 시커먼 의도에 부아가 치미는 영화',\n",
       " '이렇게대놓고 베낄수가있냐 ㅋㅋ 대단한감독이네 평론가들은 오이런컨닝작에는 평점이 평타이상을 주네 ㅋㅋ 완전 허접한 전쟁신에 그나마 스토리와긴박감은 아포칼립토를 그대로 가져와서 살림 대한민국 관객을 호구로아나 아포칼립토를 본사람이 많이없을거라생각한건가',\n",
       " '10여년전 헐크를 처음 봤을때는 그다지 큰 재미를 못 느꼈지만 몇일전 다시 봤더니 인크레더블 보다 더 재밌다 다만 처음 개봉 당시엔 시대를 너무 앞서나간듯해서 아쉽긴 하다 인크레더블의 라스트 씬과 헐크1의 전체적인 내용이 합쳐 졌으면 대박 쳤을듯',\n",
       " '여기 멍청이들 진짜 많다 ㅋㅋ 물로 왜죽냐 외계인은 분명 물을얻으로 왓다 하지만 인간의 진화된 세상의 맑은 물은 이미 사라진지 오래다 그걸 보가 알거잇엇자나 어른들은 그냥 장난치는거다 생각햇지만말야 물을얻으로 왓다 오염된물인걸 알게되고 후퇴한거지',\n",
       " '재미없습니다 그리고 신음 소리땜에 당황했네요 아 물런 전 21살 영화가 참 재미없어보였는데 평점들 보고 재밌구나 하고 봤는데 젠장 재수없게 속았네요 이런게 도대체 뭐가 재밌다는건지 망할만한 영화였습니다 전 공짜로봐서다행입니다 이걸돈내고보면미친년',\n",
       " '내 살다살다ㅋㅋ이딴영화가 다있노ㅋㅋ중간에 끄려는거 마지막에 반전이라도 있겠지 싶어서 멜로영화인지 르와느 영화인지도 모르는 영화를 헛웃음 내밷으며 봤소ㅋㅋ이 감정을 느끼고 싶음 보시오ㅋㅋ진심 시간 아깝소 10점 준 님들 대단하시네ㅋ같이 죽자는거지ㅋ',\n",
       " '다른 로맨틱 코미디와는 다른 현실적인 연인관계를 다루려는 시도는 좋았으나 결국엔 다시 본인들이 영화속에서 꼬집던 흔한 로맨스의 결말 덧붙여 영화 편집의 문제인지 씬 하나하나 산만해서 몰입이 안됨 이 좋은 배우들을 갖고 이정도 연출밖에 못한게 아쉬움',\n",
       " '어차피 추억은 추억일 뿐이지 주인공 로봇은 물론 기타 악역들까지도 죄 표절 디자인 투성이인것을 포장해봐야 21세기의 지금와서는 부끄러운 과거일 뿐김청기는 왜 오리지날 디자인으로 만들어보자는 아랫사람들 의견 무시하고 저 디자인을 고집했는지 모르겠다',\n",
       " '나는 남자지만 내인생이랑비슷해서 나의명작인 혐오스런 마츠코의 일생을 거의표절해서 만들다니 망해서 다행이다 명량감독처럼 표절해도 안망하고 그감독도망해야하는데 그나마 배우들때문에 1개준다 그리고 이영화는 김녀들이 많이보면 도움될듯 김녀들이잘하는짓나옴',\n",
       " '밑에분 평점 모르고 비호감 찍었네 중고딩 대상으로 만든 영화임 공감되지도 않으면서 무작정 평점 좋게만 주네 진짜 딱 밑에 사람 말대로 우리나라 애들은 지들 공부하는게 제일 힘든줄만 암 직장인되봐야 느끼겠지 공부가 세상에서 제일 힘든게 아니라는걸ㅋ',\n",
       " '여자도 사람인데 가슴 한켠에 사랑을 꿈꾸고 있는 소녀를 수도원에 보낸다고 하나님만을 사랑할수 있을까 저런 강요되고 밀폐된 사회는 부정부폐를 낳을수 밖에 없다 다행히 재능있는 변호사와 후작아버지 파워에 해방될 수 있었지 세드 엔딩 이었으면 뒷목잡을뻔',\n",
       " '페이크 다큐인걸 알지만 이 장르 자체가 좀 적응이 안되네요어차피 페이크라는걸 아는데 다큐로 진짜처럼 하는 의도가 뭔지 내용이나 다른걸 떠라서 진짜처럼행동하는게 오글거려요그리고 페이크다큐니까 괜찮아하는느낌으로 영화에서 보여줘야할 크고작은 기술이나',\n",
       " '여기 알바몬인가요 단기 알바들의 성지인듯 이 영화이야기는 걍 한마디만 할께요 아직도 이런거 만드는 분은 정말 대단하심 투자를 어떻게 받았나요 대단대단 초딩 스토리에 발연기들 그리고 갓배운 아마추어 캠코더구준 화면구성과 연출력 이어지는 발편집 ㅋ',\n",
       " '정말 아름다운 드라마이네요 대사하나하나에 공감하며 울고웃으며 첫화부터 쭉 시청해왔어요 이런거안남기는데 드라마퀄리티에비해 흥행이잘안된거같아 아쉬움에 남깁니다 다음에도 아름다운이야기써주세요 작가님 연기자분들 역할호응도가 대단했습니다 모두수고하셨어요',\n",
       " '90년대초 그린 파파야 향기와 씨클로로 떠올랐던 베트남의 신예 감독 그린 파파야의 아름다운 미쟝셴 베트남의 어려운 현실과 갱단 세계를 충격적으로 고발했던 씨클로 다 사라지고 허탈한 연출과 개연성 없는 스토리 기괴하게 보이고자 하는 유치함만 남아',\n",
       " '한국의 피해망상 날조 역사교육이 영화로 나왔다 일제의 잔혹한 수탈타령하는데 조선인들을 가장 잔혹하게 수탈한건 다름아닌 조선의 양반들이다 한해 농사지으면 온갖 명목의 세금으로 80뺏아가고 병역에 징용에 너무나도 심한 수탈에 스스로 노비가되던조선시대',\n",
       " '88년인중학생때 고교관람가 인데도 보고싶어 봤더 기억이 지금봐도 그리 촌스럽지 않고 엄청난 몰입감과 액션을 가장한 휴먼드라마란 멋진 스토리까지 전율이 일던 내인생에 몇안되는 큰임팩트를 줬던 영화였다 인간을 상실한 사이보그가 다시 인간이 되는 감동',\n",
       " '저예산에 소소한 소재의 영화라고 다 좋은 영화가 아니다 오히려 반짝반짝 빛나야하거늘 매력없는 대사와 에피소드들의 일렬횡대식 나열과 아줌마조연들의 발연기 감독의 의도치않은 무미건조하고 재능없어보이는 둔탁한 연출력 클리셰한 에피소드들의 총체적 난국',\n",
       " '긴장감을 기법으로 메꾸는 자기 자신에 대한 오마주에 사로잡힌 브라이언 드 팔마 영화의 미학을 얘기하시는 분에겐 좋은 영화겠고 드 팔마를 팬에게는 좋은 영화일지 모르지만 내겐 평점 4점도 후해서 3점 평범한 이에겐 이도 저도 아닌 지루한 내용일색',\n",
       " '영화 초반에 동자승에게 죽은 뱀은 과거 노승의 스승의 환생이고 영화 마지막에 죽은 뱀은 노승의 환생 그리고 과거 동자승이었던 그리고 교도소에서 출생한 승 또한 과거의 업보로 언젠가 죽은후 뱀으로 환생하여 똑같은 일을 당하겠지 모든 캐릭터는 하나',\n",
       " '기타노 자신의 스타일을 퇴색시키지 않고 낯선 미국땅에서도 그대로 스며들게 한 진정한 걸작 기타노 뿐만 아니라 조연배우들까지도 빛을 발하는 진정한 명작 폭력의 말로와 더불어 그만의 폭력미학미장센을 톡특하게 보여준 정말이지 한번 더 상기되어야 할영화',\n",
       " '배우들의 표정부터 다른 드라마일반적인 한국드라마와는 매우 다르고 줄거리도 전혀 어색하지않고 사실적이라 딱딱한 느낌이 든다특히 추적자 이후 발전된 촌철살인은 일정 배경지식을 가지고있어야하고 1회만 놓혀도 갈피를 못잡아서 이런 시청률굴욕을 당하는거같다',\n",
       " '이집트 신전과 피라미드는 히브리노예가 만든것이 아니고 이집트 평민들이 월급받고 만든것입니다 당시 이집트에는 노예제도가 없었고 각종 건축물은 농한기에만 만들어졌으며 당시 이집트의 국민들이 왕으로부터 월급을 받으면 만든것입니다 일종의 뉴딜 사업이었습니',\n",
       " '딱 20대초반 청춘영화목숨도 아깝지 않던 친구들도 30살만 되면 전혀 다른 인간이 되어있다ㅋㅋ재미는 있지만 솔직히 낭만적인 영화 그 몽환적인 음악과 다 잘될거같고 근사한곳 어디론가 떠날 수 있을듯한 이상적인 느낌은 좋았다 다만 영화일뿐 청춘일뿐',\n",
       " '등장인물은 엄폐물없이 총을 쏘는데도 총알 하나도 안맞고 기둥뒤에 숨어있는 엑스트라들만 죽어나가는 식이라 긴장감이 하나도 안생김 끝에 문제가 해결되고 나서 지하철상황실 직원들이 기립박수치며 환호하는거보고 이런 구닥다리 연출이 다 있나 부끄러워졌음',\n",
       " '인간의 감정을 갖은 로봇을 1회용으로 치부해버리는 그저 돈벌이로만 이용하는 이기적인 인간의 모습을 비판하려하는거같다로봇의 등장으로 사소한잘못과 사생활 침해문제를 다룬 그저그런 액션영화가아닌 탄탄한시나리오 연기등등 근래에 보기어려운 수작임은 분명하다',\n",
       " '난 무신론자이지만 종교인들의 말도 일리가 있다고 생각하는 편이다 누굴 믿어서 마음이 편해진다면 그걸로 된것 아닌가 하지만 강요는 싫어한다 이영화는 처음에는 아닌듯 하다가 점점 믿음을 강요시킨다 마지막에는 보복성죽음까지 어이없더라 예수천국 불신지옥인가',\n",
       " '불륜 막장 드라마 그만 좀 합시다 과거 조폭영화 드라마 통해 조폭이 우상시 되어 적지 않은 청소년들에게 영향을 끼친걸로 알고 있는데 이런 불륜 막장내용으로 불륜 판타지를 제공하고 사회에 영향을 미칠 수 있다는걸 모르시는지 혹은 알면서 그러시는건지',\n",
       " '한쪽의견만을 듣고 만든 어쩌구니 없는 선동영화이다 사실을 기초한다는 명목으로 정치적인 색을 보이고 냄새를 풍기는 하찮은 삼류영화이다 나는 법학을 전공한 사람이긴 하지만 이건 일반시민이 보기에도 너무 편향적이라는것을 쉽게 알수잇다 너무 좌선향적이다',\n",
       " '훌륭한 소재 형편없는 연출 그넘의 되도않는 신파좀 안찍을수 없니 진짜 우리가 주변에서 흔히 보는 말솜씨 없는데 괜히 이빨까서 분위기 다운시키는 딱 그런 인간이 영화를 만들면 이런 느낌인것같다 정말 영화만드는 솜씨가 없어서 눈물이 다 흐르네 ㅠㅠ',\n",
       " '난진짜 노잼이엿다 눈물도안나고 감동도그다지없엇고스토리도없었다 팝콘이랑 콜라먹으면서보는데 진짜 먹을맛도안나는 그런 영화였다 이걸 7시 25분영화로봣는데 8시 되서 나왔다 처음시작할땐 뭔가재밋을꺼같앗는데 점점지루해졋고 같이보던내친구는 잠들엇다 ㅋㅋ',\n",
       " '내가 겁을 안타는건지 스토리가 별로여서 그런지 하나도 안무서웠다 솔직히 몇몇 갑툭튀 장면들 빼고는 귀신 나올 때 어이없어서 웃기더라 그리고 무섭고 안무섭고는 개인차이니 제발 허세 좀 부리지 말라는 소리 좀 자제하라 니들보고 쫄보라 하면 기분좋음',\n",
       " '특이한소재로제작하면그만인줄아는감독이라고건방지게생각했다이영화를보고나서다시봤다김기덕은몇번의생을산사람처럼인간의 모든내면 모든심리를꿰뚠사람이다난20대후반여성으로가난도겪어보고자수성가로갤러리아포레를구입할만큼의성공도했지만다부질없는걸알기에김기덕은천재다정말놀랐다',\n",
       " '모두 지루하다고 하길래 보는 걸 계속 미루다 이제야 보게되었는 데 진작 볼걸 이런 생각이 들었다 ㅠㅠ 파이널 편이 기대된다 파이널 주인공을 보니 이번 1편에서 나온 반삭언니가 비중있게 나오는 것 같은 데 이 언니가 어떤 반전을 보여줄지 기대된다',\n",
       " '지극히 주관적인 후기를 달자면 나로서는 에미넴을 싫어하지도 않고 힙합에 미쳐사는놈인데 이 영화는 최악이다 보는 내내 답답한 구석들만 가득하고 결국 에미넴은 한것도없이 좀만한 프리스타일대회에서 랩한게 고작 더 커가는 모습이 나오길 기대한 관객들은',\n",
       " '티라노한태 왜 그렇게 잘해주는지 모르겠다 인형한태 의미부여 해놓고 이 인형을 위해선 사람도 죽일 수 있어라고 말하는거 같다 사냥 방해만 안했어도 무사히 탈출할 텐데 여자도 진짜암덩어리다 위험한거 뻔히 알면서 전문가라고 나대는 꼴이 진짜 짜증난다',\n",
       " '원피스팬인디 원작만 보고 극장판은 이게 첨이다 원작을 말아먹는 개 유치뽕짝 허접한 스토리 오글거려 미치는줄 걍 어린이 만화 오락영화수준이다 원작을 보고도 이게 재밌다는 사람들 걍 수트입고 총질하는게 멋져서 좋다거리는 거겠지ㅉ 그리 안목이 낮을까',\n",
       " '우리가언제부터 합리화하면 돈과바꾼 삶의터젼과자연이 결국 우리의소소한행복을 책임져주지못하고ㅈ누군가 지켜주리라떠넘긴다면 썩은물을 먹으면서 고급승용차를 타고다니며 행복하다말할수있을까 늙어가는모습이더 멋있는배우 각본 참여 구스반산트감독과언젠가영화다시찍고싶',\n",
       " '시사회 봤었습니다 솔직히 영화중에 나가시는 분들도 있었습니다만 어떻게 무엇을 불러야할지에 대해 해답을 찾던 저에겐 정말 뜻 깊은 영화 였습니다 그후 동두천 소재의 작은 외국인 교회에서 그들의 예배를 몸으로 직접 느끼고 와서 나름 해답을 찾았답니다',\n",
       " '호불호가 갈릴 수 있겠지만 내게는 사랑영화중 최고라 말할 수 있을만큼 좋았던 영화다 모든 사랑을 이야기한다 특히 그 대사는 잊을 수가 없다 사랑하는 사람이 사라지면 나도 사라지는거라던개봉 후 영화관에서부터 시작해서 다운구입해서 몇번이고 돌려본다',\n",
       " '아니 이때 참 웃긴게 다들 그냥 물타기 식으로 멋있는 척을 했던게 기억이난다ㅋ 멍청한것들이 뭘 안다고ㅋ 딱 봐도 이건 롱타임상 평론가들이 좋아할 영화인데ㅋ 참 보면 영화 흥행되기 쉬워 앞뒤 다 짤라먹고 큼지막히 이런 여운만 주면 끝이니까 걸작은',\n",
       " '어설픈 홍경민의 연기 부족한 연출력 스토리야 머 큰 기대는 안했으나 그래도 조금만 더 손 보면 평타 이상은 칠 스토린데 먼가 어설픔 연기때문인지 아닌지는 모르겠지만 김선영은 이제 이런 장르영화에선 믿고 볼만함 노출만 더해주면 감사ㅋ 이번영환많이아쉬웠음',\n",
       " '정말 신비롭고 태아의 발달과정을 생생하게 볼 수 있어서 정말 신기했어요 ㅎㅎ 근데 왜 다른 평에서 여성시대 등의 커뮤니티가 입에서 오르내리는지 모르겠네요 전혀 낙태랑 관련없는 곳인데 ㅋ 이렇게 다른 커뮤니티를 깎아내리려는것을 보니 일베충들인것같네욬',\n",
       " '유투브가서 뱅크신이나 한번봐라 어떻게 시드부터 데스티니까지 장면을 우려먹을수가 있을까 노래는 평타쳤지만 그외에는 안습 인물간의 또렷한 인간관계 묘사도 없고 애니가 끝나자 설정구멍을 이상한 부가 설정으로 매꾸고 있고 오죽하면 게임에서 내용 바꿔서 내겠음',\n",
       " '최악의 영화 미국배우들이 야쿠자의 문화라든가 분위기를 모르니 특유의 오바스러움만 나오고 오락성도 떨어져 시간아까운 최악의 영화가 만들어졌습니다 이건 진짜 보는거 자체로도 시간 아깝습니다 아웃레이지 생각하시고 오시는분들 그 영화에 30라고 보면됨',\n",
       " '대선 직후에 이 영화를 보게 돼서 여운이 길게 남았습니다 사실 줄거리 자체만 놓고 보면 이전의 소설이나 영화에서 많이 사용된 내용의 반복이라고도 볼 수 있지만 개성 강한 인물들의 흡입력 있는 연기 덕분에 새로운 내용의 영화로 재탄생된 것 같습니다',\n",
       " '저는 영화에 대해서 잘모르지만 두주연 연기도 뭔가 뻣뻣한 느낌이 들고 스토리도 특임팩트적이지않고 그냥 폭포없는 계곡같은느낌이였어요그리고 재희가 머리스타일을 바꾸면서 미래와 과거가 나와서 대충알아봤지만 딱보면 너무 뒤숭숭하게 너무 빙빙도는느낌이네요',\n",
       " '엔딩씬의 불꽃놀이처럼 찬란한 사랑의 시작과 소멸을 두배우의 명연기에 의해 스크린에서 눈을 뗼수없게 만든다 라이언고슬링이 부른 주제가도 너무 좋았다 이기적 현실적으로 변해가는 여자와 가족이 최우선이지만 갈수록 찌질해지는 남자의 거리는 너무 멀어보인다',\n",
       " '숨은글씨 찾기 의리의리의리의리의리의리의리의리의리의리의리의리의리의리의리의리의리의리의리의리의리의리의리니의리의리의리의리의리의리의리의리의리의리의리의리의리의리의리의리의리의리의리의리의리의리의리의리의리의리의리의리의리의리의리의리의리의리의리의리의리의리의리의리의리',\n",
       " '김근태 전 장관님 수기 보면 고문 받을때 칠성판에 묶여서 하두 몸부림쳐 발목에 흉터가 생겨서 생긴 딱지를 재판 구금 중에 증거로 쓸려고 몰래 가지고 있었는데 간수들이 와서 뺏어갔다는거 보고 저 시대는 정말 말도 안되는 시대였구나라는 것을 알게 되었음',\n",
       " '미칀 감독아 도대체 중국이랑 아무관련도 없는데 중국이 배경이고 중국배우쓰고 박한별목소리도 다른성우가 더빙하는건데 절대 보질마라 지금까지 본영화중에서 제일 쓰레기 같음 재미도없고 내용도 일반 한국쓰레기 공포물이랑 차이도 없고 노잼개막장 개십 돈아깝다',\n",
       " '도대체 이 영화를 가족과 친구랑 보라고 하는건 무슨 생각에서 나온 말일까 친구까진 이해하겟는데 가족은 아니다 아기들의 찰진 섹드립을 부모님과 본다니 상상만해도 민망하다 섹드립에서 섹드립으로 끝나는 영화에서뭘 보고 눈물을 흘리고 감동을 느낄수있지',\n",
       " '공포없는 공포물 1편부터가 진부한 소재를 어줍잖은 페이크다큐로 망쳐놓더니 2편에선 극영화 형식으로 태세전환을 했으나 지나치게 식상하고 스릴도 없다 1편보고 좋다고 설쳐대는것들은 엑소시스트나 기타 엑소시즘 소재 영화들 안본거 티내는 영알못들 ㅇㅇ',\n",
       " '끊지 않고 정말 재밌게봤다여주인공 제니가 좀 사람 암걸리게 만드는부분이 있었지만 검프에게서 배울점이 많았던 영화 이 영화를 좀더 일찍보지 못했던게 아쉬울정도였고 만약 좀더 빨리 봤으면 더 재밌었을지도 20년이 넘은 작품인데도 지금봐도 손색없는영화',\n",
       " '별 1개도아깝고 별 그지같고 왠만하면 이런말안적지만 너무 잔인해서 안젤리나졸리임신중 칼이꽂히는거 정말잔인하고 잔혹 끔찍해서 다른이들 이딴거지같은영화에 피해보지않길바래적는데 이딴그지괴기같은영화우연히라도보기싫으니채널돌리다 너무 끔찍하니까 상영을말기를바라며',\n",
       " '예쁜 쓰레기 이브가 매력적이라고 계속 나오는데 관객들한테 캐릭터성 어필이 1도 안된다 한나머레이 나온다길래 봤는데 캐시란 캐릭터 자체도 영화상 필요가없음 이브가 언급도 안됐던 제임스 가치관에 대해 갑자기 화내는 이유도 당위성도 전혀 없네요 보지마시길',\n",
       " '예전에 비디오 가게에서 빌려다 봤을 때는 많이 울었던 거 같은데 지금은 감성이 메말랐는지 눈물이 나오지 않네요 그때는 에릭 엄마가 너무하다 싶었는데 지금은 이해가 갑니다 내 아이가 에이즈 환자랑 친구라면 혹시 작은 실수라도 할까 봐 신경이 쓰일 듯',\n",
       " '별 기대없이 봤는데 정말 보기 잘한것 같고 할머니 첫사랑 찾은 것도 너무 감동적이고 마지막에 찰리랑 잘 돼서 끝까지 너무 기분좋게 본 것 같다 아만다가 남자 생겨서 떠난거지만 빅터같은 남자라면 충분히 그래도 된다고 생각하고 현명한 선택인 것 같다',\n",
       " '차라리 전부 빈사상태 되서 이제 전개 될 내용 중요인물인 히소카가 기존 능력으로 싸우다 내가 왜 허세 부리는지 보여주지 하면서 그 부분을 짜르고 싱겁군 대사 치고 이기는 부분 보여줘도 헌헌 팬들 오줌 지리고 난리날텐데ㅋㅋ패리스톤도 개입시키든가 ㅉㅉ',\n",
       " '역시 캐리비안의 해적 이시리즈를 지금 보았다는게 믿겨지지가 않는다 키이라 나이틀리어린시절 연기모습도 엿볼수있고 거기다 주연으로 조니뎁까지 고어 버번스키감독이 마냥 좋습니다 반지의 제왕다음으로 이 시리즈를 좋아할것같네요 그리고 03년도이런특수효과를',\n",
       " '결국 여자 혼자 살겠다고 가네 마지막에 셋이 낭았을때 특수부대원 두명도 다쳐서 여자보고 혼자 가라고 하는데 어떻게 혼자 가냐고 하더니 잘가네 가식적인 현대인의 실상을 볼수 있었다 궁금한건 저렇게자신때문에 죽어간 사람들을 두고 편히 지잘난줄 알고 살겠지',\n",
       " '망해가는 감독이 지푸라기 잡는 심정으로 그나만 유명한 올가미 스럽게 온갖 자극적이고 터ㅣ폐적인 소재만 모아서 만든 쓰레기통속 눌러붙은 찌꺼기 영화 감독에 메세지도없고 재미도 없고 그냥 명배우 하나 내세운 자본주의형 싸이코패스 감독이 만든 급 영화',\n",
       " '글로 읽는것과 영상으로 만들어지는 것의 간극을 읽지 못한듯한 기획물 추리와 가설의 하나일 뿐인데도 쓰레기봉투를 얼리지 않았다고 김준을 범인에서 단번에 제외시켜버리는 허술함과 비둘기장면에선 실소를 금할길 없었다 ㅋㅋ 좋은 소재를 살리지 못 한 케이스',\n",
       " '일부러 약간어설픈듯하지만 나름대로 액션은볼만한 영화만드는거 아직도모르네 그런건 그런거대로 재미가있다는걸 알아야지 그리고 미모는 마지막에 언데드뮤턴트되는 쉐린이짱이고 한예슬의어디가닮았다는건지 머리카락만 닮았나브다 ㅎ여튼내점수는3점4점 두인간땜에10점',\n",
       " '처음에는 저들의 정서를 이해할수없었지만 중반부 들어서면서 과거의 자신의 아픔을 마음속에 이제껏 짊어진것이 슬퍼 눈물을 흘렸다 마지막 부분도 버튼을 누르지 못하던 그장면또한 눈물을 흘리고애국가를 부르던 장면도 너무 애절하고 슬펐다 눈물흘리기좋은영화',\n",
       " '노진구와 도라에몽의 끈끈한 우정이되었던 장면도 담겨 있었으면 하는 아쉬움도 남아있지만 이건 정말 세계적으로 오래오래 기억이 남을 영화인거 같습니다 어린아이에서 어른까지 남녀노소 누구나 볼수 있다는 거와 감동적인 부분이 가슴속에 와닿는 다는 겁니다',\n",
       " '보고 울었읍니다 후 욘나 개슬픔 마지막 주인공 쿠로노 케이가 모든것을 짊어지고 희생하는 장면에서 울었읍니다 원작을 완결까지 본 저로서는 이 영화작품도 굉장하다고 생각합니다 역시 간츠의 작가님은 욘나 천재신거 같애요 으아앙아 대박국 10점 만점드려어',\n",
       " '무슨소린지 모르겠다 6학년 유타가 30년전으로 갔다왔는데 거기만났던 또래들도 현실에 돌아와선 어떻게 다 같은나이가 되어있지 다 더 늙어있어야되는거아닌가 그리고 사에코도 타임리프를 한건지뭔지 설명좀 해줘야되는건 아닌지 감성에 취해 모든걸 얼버부린영화',\n",
       " '아니왜썸띵만미워하냐고요ㅠㅠ동영상보니깐김아현눈밑에다크써클내려와잇고피곤한표정딱보이드만얼마나열심히햇겟냐고여그리고썸띵노래조은데왜그래요가사가뻔하다고요요즘히트치는가요가사중에제대로된가사가몇이나잇다고요솔직히요즘가요들가사보다썸띵가사가훨씬좋아요제발심사제대로하세요',\n",
       " '장미정사건이 놀라운게 아니고 한국외교부의 대처가 정말 놀라웠다 예전에 추적60분이나 그것이 알고싶다를 통해 알고있던 사건이지만 한국 대사관의 문제는 하루이틀일이 아니다 물론 한국이 외국에서 힘이없는건 알지만 노력자체가 없다는건 정말 한심한 일이다',\n",
       " '쳇바퀴 돌듯 답답한 이야기 전개와 어설프기 짝이 없는 인물들의 대립 갈등 구조 중심을 잡아줘야할 이연희서강준 콤비는 사극 연기의 밑바닥을 보여주는 수준 극본이며 배우며 50부작이라는 대장정을 이끌어 나가기엔 턱없이 모자라는 추진력 조기종영이 답',\n",
       " '평을 하는 자체가 필요없네요 똑같은 액션에 스토리에 정말 보면서 불쾌감만 ㅋㅋ 액션은 억지스러운게 너무 보얐네요 합을 맞추지 않으면 불가능한 억지스러운 액션에 야마카시라는게 생소할때 새로운 액션을 보여줬던 13구역을 배우만 바꿔서 또 보여주면 참',\n",
       " '대체 뭐를말하고자하는영화인지 모르겠네요글쿠첨에 채식할때밥은잘먹더만 괜히 아버지란작자가 때려서 손목에난도질하고 그러인해병원에실려가구 그때부터상황이굉장히안좋아지구 퇴원해서 형부랑작업하다 이상하게되버리고 어쩌면그이상한관계에서 그냥놔뒀으면 치료가됫을수도',\n",
       " '세쌍둥이 팬들 이기적이네요 세쌍둥이 인기가 얼마나 많은지는 몰라도 쌍둥이네 없었으면 슈돌 제작 들어가지도 못하고 사랑이네 없어으면 편성받지도 지금까지 오지도못해요 쌍둥이네 사랑이네가 빠지면 슈돌도 끝인데 세쌍둥이만보고 다른가족한테 하차하라고 하지마요',\n",
       " '초반에 키자루랑 대등하게 싸웠던 제트가 루피한테 너무 쉽게지네요 스트롱월드도 어떻게 루피가 시키한테 이기나싶을정도의 전설의해적였는데 루피가 이겨서 어이없었는데 전 해군대장을 루피가 이기다니 아무리 나이가 많더라도 설정파괴라고밖에 생각이 안들어서 비추',\n",
       " '사회 부조리에 미친 놈들이 그냥 돌아가지고 상어가지고 하드코어 쇼한다는 것부터 거지같고 그나마 개가 귀여워서 조금 재밌었고 가장 디테일한 장면이라고 해봤자 제트스키 타고 가는데 앞에서 상어가 머리무는 장면정도집에서 보기에도 시간 아까워서 걍 끔',\n",
       " '브누와 쟉꼬 감독이 연출한 이색적인 스릴러틱 로맨스 영화에 깔리는 사운드 트랙은 인물들의 관계와 이를 바라보는 관객들을 더욱 불안하게 만든다 안티크라이스트와 멜랑꼴리아를 통해 인상깊은 연기를 선보인 샤를로뜨 갱스부르는 이영화에서도 여전히 빛난다',\n",
       " '생방 클라라가 다잡아먹음 그것도 막 섹시섹시거리고 그것땜에 40분잡고 투표시간 10분 승리 이야기 과거사에 말도제대로 안듣고 빨리 질문하라고ㅋ 배려도참 클라라한텐 울까봐걱정이러고 승리에겐 질문빨리빨리ㅋ그리고 투표시간1분ㅋ존나 짱이넹ㅋ 화신 걍페지',\n",
       " '무시를 받으며 하루하루를 힘겹게 살고 있는 장학우가 유명해지기를 동경하는 심리가 십분 이해가 간다 장학우를 허무맹랑한 꿈을 쫓는 사람으로 취급하는 유덕화의 심리도 이해가 간다 결말부에서 장학우가 죽는 장면을 슬로우 모션으로 촬영한 점이 왕 좋았다',\n",
       " '개인적인생각으로 최근 흥행해서봤던 영화들중 몇개만빼고는 비슷한장르에 비슷한스토리에 어디서본듯한 느낌이 많이들었다 하지만 이영화는 노래 영상 스토리 전개 결말 엔딩후 먹먹해지는 느낌 어느것하나 빼놓을게없다 이 영화는 감독에게도배우에게도 잊지못할최고작일듯',\n",
       " '영화의 제작의도는 높게 평가할 수 있으나 디테일에서 많은 아쉬움이 있고 일본인역의 배우들에 많은 아쉬움이 있다 우리들이 미국영화를 볼 때 한국인역할로 나오는 배우가 한국말을 잘 못하면 기분이 상하는 것처럼 우리 감독들도 반드시 고쳐야 할 점이다',\n",
       " '톰하디랑 크리스파인으로 일단 훈훈하게 먹고들어가는영화 뻔한내용인데 재밌게잘풀어놨음 근데여주가 너무 빡퉁쳐서 마이너스두개 자기는실컷저울질해놓고 나중에 둘이친구인거 안후론 오히려 자길이용했다고 ㅈㄹ전부인은 국가요원인거알게되고 갑자기 돌아오고 뭔지대체',\n",
       " '한국 영화계가 어느 정도로 타락했는지 참으로 잘 보여주는 영화이다 세 명의 남성중 누가 이 여자와 관계를 갖는가 이것은 세상을 타락시키고 사람들의 무의식속에 음란을 즐기도록 인식을심는 영화이지 인간의 고귀함이나 순결의 가치등은 조금도 찾아볼수없다',\n",
       " '클라라 승리 화신 검색어순위에올랏다고좋아하지말고공개적으로사과부터해야될듯 승리김대희김준호 왜초대한건지도무지이해도안되고게스트대접해준게모잇는지의문이듬 시간없다고재촉하는건 순서기다리고잇는게스트들에게무슨매너인지 분배좀제대로하시고사과는아무리해도모자를듯 최악임',\n",
       " '꿈을 좇는 아이들은 너무 이쁘고 사랑스럽고 존경스러웠다 춤추는것이 좋기에 그들은 모든 고통과 덜 좋아하는 것 들을 포기하는 모습을 보여줬다우리는 그들의 가장 이쁘고 멋진 모습만 보았을지 모른다 하지만 그 뒤에 보이지 않는 그들의 노력을기억해야한다',\n",
       " '말이안된다는분 세상에는 별의별 사람이 다있습니다 정신적으로 연탄가스 맡아서 죽을번해 뇌세포가 잘못되어 똑같은 문제를 30분 40분 반복해서 읽는 사람도 있어 필기시험 자체가 안되는 사람도있어요보기엔 평범해보이지만 남이 이해못해주는 어려움있는사람들',\n",
       " '색감에 취하는 영화 어떤 이는 안 좋게 볼수 있는 의도라고도 생각하나 죽였다면 과연 더 좋은 세상이 왔을까 수많은 피를 부르고 더 큰 혼란이 왔을듯 새로운 이가 다스려서 과연 불만이 없고 희생이 안 따랐을까 희생이 항상 따르는게 안타깝지만 현실',\n",
       " '누구든 이 애니를 본다면 비가 올때마다 생각이 날것이며 그로 하여금 볼때마다 전율이 올 것이다 길지 않은 애니임에도 불구하고 하나 둘 내리는 가랑비에 옷이 젖듯이 어느센가 감정이 눈시율이 젖어있는 애니이다어떤 의미로든 볼 때마다 생각이 많아진다',\n",
       " '베트남전쟁에 반대하는 민주학생연합 과격분자들이 여러곳에 폭탄테러를 했는데 또 은행을 털었다 이게 말이되나 대사중에 사회시스템에 대한 얘기가 언급이 자주되는것으로 판단할 때 정치적 사주를 받은 젊은 희생양들이었다고 판다되나 영화에선 전혀 표현안됨',\n",
       " '정말 이영화가 6점대라니ㅠ분이 옛날시절 사랑얘기 잠깐나오는데 왜이렇게 슬플까요 그리고 중간중간 웃기부분도 있고정말 천국이 있다면 이런곳일까요천국이있다면 저런모습이였으면좋겠어요 지금 하늘에 있을 아이들이나 많은 사람들이 하늘에서라도 편햇으면좋겟네요',\n",
       " '알수없는 슬픈눈으로 그렇게 나를 바라보는너 더이상외면할수 없기에 가까이 다가서는거야 아무말도 없지만 난 모든것을 느낄수있어 아름다운 두눈이나를이제 원하고있어 쓸쓸히 거닐던 어둠속으로 돌아가고싶지는않아 아무도 내곁에 없는시간에 홀로지새고 싶지는않아',\n",
       " '관객과 소통하기 위한 영화를 만들 생각이 없다면 그냥 홈비디오 소장용으로나 간직 하시길 바랍니다 멀홀랜드 드라이브라는 영화를 예로 들자면 영화가 온통 상징성으로 가득하지만 보는내내 눈을 뗄수없게 만드는 힘이 있는데 이 영화는 그저 쓰레기라는 생각만',\n",
       " '개보다 사람이 이해 안 되는 영화는 또 처음일세 개 싫다고 딸이 키우는 개를 다짜고짜 버리는 아빠나 그런 전남편한테 개 맡기면서 일언반구 없던 엄마나 가족같은 개가 눈 앞에서 버려지는데 다시 오겠다고 그냥 가는 딸이나 상식적인 인간이 안 나온다',\n",
       " '실화부분은 어부가 여성두명을 배에서 추행살해 했다는건데 굳이 생크림하고 분쇄기장면을 넣은 의도가궁금 영화검색하면 온통 생크림얘기 사건의본질과 경각심따위없음 흥행안될거같으니까 자극적인거 끼워팔려고 염병을떨어놨네ㅋ감독개한심 실력없으면 그냥 영화접어',\n",
       " '리허설하긴함생방송이벅차면대본대로하던가ㅋ영화더테러보는줄나까지급박해서ㅋ시간분배도안되있고승리김준호김대희한테기본적으로게스트에대한예의는지켜줘야되는거아닌가ㅋ뭔말만하면쳐자르고막말하고김준호보고자빠져가뭐야예의없게ㅋ무슨엠씨가게스트보다말이많아ㅋ승리해명도쳐자르고앨범홍본ㅋ',\n",
       " '소재가 이랬어도 그 속에서도 삶에 대해 진정 하고자 하는 말이 담겨있는 영화일거라 생각했는데 그냥 가슴쳐진 백인 여자들이 돈주고 부른 젊은 흑인남자 거시기 세우려 경쟁하는 장면에 제일 공들인 영화뿌옇게 모자이크된 남자 거시기가 역겹도록 지겹게 나올뿐',\n",
       " '평점 너무 높다 좀비 보는 재미와 깜짝 놀라는 맛 빼고는 파라노말 뭐는 들고찍는 기법이 놀랍고 긴장감 있었는데 이건 굳이 이렇게 찍어야했나싶고 지루했음 주요장면이나 내용도 유치하고 어이없는데 어수선하게 눌러담아서 그럴듯해보이나봄 그리고 씨끄러움',\n",
       " '지존파 가해자들은 산업화 시대의 피해자로 묘사 삼풍백화점 참사는 산업화와 인간 탐욕의 절정 악의 정수로 묘사 정치적 논리를 위해 무고한 시민 5명을 강간 살해한 범죄자들을 피해자로 보는 억지는 영화를 보는 내내 역겨웠다 피해자가족에대한 폭력이다',\n",
       " '정유미 정준영 부부막둥이 부부 땜 에 봐요 윤한부부 나오면 바로 다른 채널로 사상 최초로 윤한 부부가 젤 재미없음 막둥이 부부 말고 윤한커플 하차해요 금 이 채널 정유미부부만 봄 윤한 부부 예능을 가식 으로 하는거 같음 이부부 가 제일 잼 없음',\n",
       " '민종 오빠를 위한 영화 감독은 액션을 찍고 싶었던 걸까 코믹물을 만들고 싶었을까 에로물일까 역사극을 원한걸까 어느 방면으로도 전혀 만족시키지 못한 전혀 말도 안 되는 스토리 구성에 시간과 배우들 인건비만 낭비하는 영화지만 임창정 때문에 내가 참는다',\n",
       " '이십대 남자가 바라본 관점에서는 남배우와 여배우가 연기를 정말못하고 내용은 뭔가 있을거같았지만 결국 다 부질없는것이였음 아름다운 배경과 아름다운 배우들의 외모말고는 눈에띄는게 없었음한마디로 이런영화 볼 시간에 다큐멘터리 프로그램 하나보는걸 권장함',\n",
       " '에드워드 노튼의 부드러우면서도 강력한 카리스마를 엿볼 수 있는 영화 스킨헤드의 영웅이며 극단적인 사고로 자신의 인생과 가족을 망쳐 버린 데릭 다시 시작하려는 그의 가족 하지만 증오는 증오를 낳아 동생인 대니가 화장실에서 총에 맞고 사망하는 결말',\n",
       " '평점이 낮아도 사토시 하정우가 만났다는것 하나만으로 믿고 봤는데 왜 평점이 이지경인지 알 수 있었던 사토시 한국어 발음도 너무 안 좋고 감독이 이상한 주문을 했는지 하정우 연기도 좀 어색했고 전체적으로 독립영화느낌이 나는 스토리가 너무 뜨는 영화였던',\n",
       " '추리적 요소도없으며 흔한 재난 탈출 구조에 팔아먹기위해 만든 영화 다만 이딴 작품에 코난과 키드의 이미지가 낭비되는게 안타깝다스토리가 최악이면 연출이라도 잘해야되는데 비둘기와 함께 날아가던 세기말의 마술사가 아무런 신비감도 주지못하게 바뀌어버림',\n",
       " '혹자는 그런다 이 영화는 망작이라고 초호화 캐스터진을 살리지 못한 그런 영화라고 하지만 난 그들에게 비판을 한다 너희들이 아나키즘을 모르기에 아나키스트의 입장에서 보지 않았기에 영화의 묘미를 느끼지 못하는것이라고 아나키스트 입장에서는 최고의영화',\n",
       " '영드를 보고 궁금해서 보게 됐는데 드라마도 각색이 심해서 맘에 안들었지만 그래도 연기나 극적 요소는 잘 살려서 재밌었거든요 근데 이건 도저히 봐줄수가 없네요 두 주연 다 연기를 너무 못해서 공감도 못하겠고 카메라는 줄곧 핸드 헬드라 어지럽기만 함',\n",
       " '오디션은지금까지한것들을보는것미래가능성이높다고해서지금까지노력한사람의실력을밟을가치를누가판단함또미래발전은누가정하냐 그들에대해다알지못하기때문에지금까지실력으로를우선으로해야되는거다글구누가기여많이했냐는질문왤케못나보임같이해온팀에게잔인한선택을하게하니함께해서멋있는곡',\n",
       " '이 영화는 책이랑 같이 봐야 비로소 이해가 된다 대체 어떤 과정에서 이 엄청난 책이 만들어진건지 책의 뒷면을 까발린 영환데 평소 카포티에 대한 이해 또 인콜드블러드는 무조건 읽고 봐야 흥미로운 영화다 자신의 배경지식 없음을 영화탓으로 돌리지 말자',\n",
       " '연우진 좋아서 보는데 진심 서미도 진짜 개갈대 예고보니까 지 맘이 또 이상하대 진심 또라이 신세경 연기 존나못함 완벽 미스캐스팅 신세경 주연드라마 다 시청률바닥 패션왕때도 연기 ㅅㅂ이던데 남사도 이러네 신세경때문에 별로인드라마 연기력논란은 왜안뜸',\n",
       " '처음에는 연기가 조금 어색했지만 갈수록 좋아졌고 내용도 탄탄하고 재밌는 요소들도 많았다 9시 드라마여서 본방 못보고 지금에서야 보게됬지만 몇년이 지나 봐도 배경도 아름답고 배우들도 좋아서 마음에 든다 정말 마음에 들어 여운이 남는 드라마인것같다',\n",
       " '여주 굳이 안해도 될껀 다떠벌리고 다녀서 아버지 죽게해 광철이 몇년간 죽은채로 살고 총리아들은 만나지말라는거 만나서 깨져 힘은 없으면서 왜자꾸 죽으려 발광하는지 모르겟음 극중 서인애 암적인 존재인듯 복수에 공감이 안가는상황에서 이런 전개는 답답하기만함',\n",
       " '평점낮은거이해안가고올리비아남친일안하는건필요한설정이었죠 올리비아가지금느끼고있는감정상황들을돌아볼때너무도필요했다고보는내내느꼈는걸요 남친돈많은건뒤의일이고거지고실업자였어도 올리비아를정말많이어루만져줬을겁니다 돈밖에없는사람은누군지돌아보길올리비아는안정이필요했을뿐',\n",
       " '작년에 못 봐서 이번에 다시보기로 정주행 했는데 이렇게 완성도 있는 드라마가 왜 시청률이 저리 낮았나 의아 할 정도로 수작이라 생각됩니다 소지섭씨를 비롯한 모든 분들의 연기가 흠 잡을 데 없고 줄거리와 연출도 기존 국내 드라마보다 훨씬 뛰어납니다',\n",
       " '내가 시간나면 불 다끄고 혼자 가만히 영화만 절대적으로 영화만 보는데 그래서 평점은 크게 신경을 안쓰고 보고싶은걸 봅니다 그래서 알바 이런거 안믿어요 난 평점을 거슬러 갈수있는 1인1영화의 법칙으로 몰입을 하니까 오늘 확실해졌네요 알바가 진짜 있구나',\n",
       " '요새 일본이 자기네들 땅이라고 우길때독도를 챙겼지 평소에는 별로 관심을 갖지않았는데 학교사회시간에 독도에대해 배우다가 이영화를 보고 어렸을때 가족과 독도에 가서 봤던 아름다운풍경을 회상할수있는 좋은기회였던것같고 앞으로독도에관심을갖고살것이다 3719',\n",
       " '와 정말 이상한 영화였어요 영상 스토리 재미 다 완전 이상하던데 여기 평점 다들 이상해요 편집을 잘못했는지 내용 연결이 안될뿐더러 영상도 너무 구식이고 캐릭터도 너무 식상했어요 우리나라에서 만든 티비 만화영화보다 더 구려요 러시아 영화라서 그런가요',\n",
       " '실제 있었던 베트남전쟁의 실존인물의 회고록을 참고로 만든 영화로 미화찬양영화는 아니다 마지막에 나오는 승리장면은 픽션이 가미되어 이부분에서 많은 사람들의 비판을 받았지만 전쟁의 참담함을 보여주고 나라가 아닌서로를 지키기위해 싸웠다는 표현이 좋았다',\n",
       " '승리는에피소드준비햇다하면서엠씨들은주구장창스캔들얘기만물어보고또엠씨들이포장식으로하면서계속물어보는데생방송인데대답을안할수도없고웃고있지만말더듬거리고당황하는몇몇질문들이보였다이게도대체뭔가요컴백후처음나온예능에질문할게그거밖에없나요승리를화신이슈거리로쓸려고이용한것만같다',\n",
       " '위험할지도모르는생방송에게스트로나와줘서고맙다고얘기하고잘해줘야하는게정상아닌지요 엠씨들이출연자가얘기하고있는데말끊고이게더재밌으니이얘기나하자고그러고 질문을만들어왔더니거지같고찌질하다면서2개로자기맘대로줄여버리고 시청자들의문자투표시간도출연자들간에차이가엄청나더군요',\n",
       " '로멘틱코메디류 매니아의 한사람으로 이거 꽤 재밌는 스토리에 비해 평점이 너무 낮게 나온것같아요 은근 주인공들 심리묘사 현실적이면서 코미디로 잘 풀어놓은것같아요 특히 여자로써 완전 공감가요 영화내내 웃기진 않지만 크게 빵빵 터지는 몇부분 있습니다',\n",
       " '개스비에스야오늘 힘찬이나온다매응저저번주에다음주나온다고해놓고또다음주에 나온다매오늘나온다매아주그냥니들의낚시실력에비난과욕울 보낸다 우리 베이비나 나도이런 무개념 짓은 하고싶지않아니들이이딴식으로나오니까우리도이렇게나오는거야 멍청이들아우리만무개념이라하지마ㅇㅋ',\n",
       " '목소리 들으면 다 아는것을 헛짓거리 하는 웃긴영화 ㅋㅋ 거기다가 여자주인공 졸라 걸래 무슨 남자를 바로 교체 하는 저렴한 몸뚱아리를 보여주노 아님 여자란 동물이 원래 그런건가 졸라 추잡스럽고 드러운 느낌의 영화 여자에 대해 다시 생각해보게 만든 영화',\n",
       " '보는내내 가족들이 답답했어요 도둑들이 자기말만 잘따르고 반항하지않으면 죽이지 않겠다고 약속하고 그럴 도둑들로 보였는데 틈만나면 신고할려고하고 반항하고 돈몇푼이 아깝냐 ㅋㅋ 전 보는내내 도둑들이 가족을 빨리 처참하게 죽였으면 하는 도둑들 편이되었음',\n",
       " '전체적으로도 식민지배를 미화하는 부분도 문제지만 특히 결말부는 허구의 요코이야기를 보는듯해서 께름칙하다 항복선언을 제대로 들은자도 없거니와 좋게 보내주었다는 사료들이 남아있는 작금에 왜 이딴식의 영화로 내선일체를 찬양하는지 친일파 청산이 제대로 이',\n",
       " '일단 강지환 팬이라 봤어요 열심히 제작하신 감독님 배우들께는 죄송하지만 이 영화는 대체 뭘 말하는건지도 모르겠고 보다가 끌뻔했지만 꾹 참고 봤어요 영화가 보고 감동이라도 있던가기분이 썩 좋지도 않고 제 평생 다른의미로 가장 기억에 남을만한영화예요',\n",
       " '수년간 냉정과 열정사이 라는 단어만 듣고 책도 영화도 보지 않은채 살았어서 냉정과 열정사이 라는 말의 뜻 의미를 정확히 알지 못했는데 영화를 보고나니 이제 그 말 뜻을 정확히 알겠네요 90년 19살때 장면에서의 순수함을 보며 미소짓다가 눈물흘린',\n",
       " '140맞추기드럽게힘드네와진짜이런쓰레기가세상에다있네분리수거해야지내가정말평점단사람들무서워서한번지리고개흥분해서평점테러한줄알았어근데진짜이건테러할만해스토리개잠뽕이다중국집이냐진짜개빡치네이건1000자달아도욕할게모자라와진짜농구공할매개에바얔ㅋ삼촌뭔뎈ㅋ결국내용이뭐냐곸ㅋ',\n",
       " '전력삼국지 몇번다시보다가 다시 영화봤는데 이해가 빠르네요 관우랑 안량이랑 일기토할때 무력이 관우 98 안량 95인데 한방에 ㅋㅋ 더구나 왕식은 무력 80도안되는데 ㅋㅋ 암튼 게임으로해석해서 웃기긴해도 마지막장면 인상깊네요 땡중왈 죽어서도 대공에게',\n",
       " '저는 이 영화를 보면서 계속 가슴이 벅차올라 중간종간 눈물이 났습니다 안나와 베토벤 사이의 아가페와 배경음악에맞는 편집다 이 영화하면 합창 교항곡에만 비중을 두는데 전 그것보다 음악을통해 신과 교감을 하는 장면들에서 대사가 정말 너모 좋았습니다',\n",
       " '리틀 제야 벨제바브를 말하는걸가 악마같은 살인이 취미며 생활이었다 시티오브갓 어린아이들도 권력을 행세할수있는 실태 현실이라는점이 안타까운 나라중의 하나라는걸 알수있었다 마리화나류의 마약 재배를 막을수 없으니 악순환의 나라다 마약에는 총기 매춘이라서',\n",
       " '별점 조정을 위해 1점 줌 초반 너무 노잼이였고 불친절한 시공간이동이 관람에 있어서 스트레스를 줌 영화가 말하고자 하는바를 파악했음에도 감흥이 없음 스스로를 파멸에 이르게 하는 복수 시기 질투 마술사들의 희생등 재미가없다 복제부분은 흥미롭게봤다',\n",
       " '시간아깝다고 할 정도의 실패작은 아닌것 같다 박진영의 연기도 생각외로 괜찮았다 그리고 시나리의 흐름이 자연스럽고 조연들의 연기력이 뛰어나서 식상할수도 있는 내용을 지루하지 않게 잘 만들었다 박진영 민효린 커플이 제법 어울리고 기대이상으로 재밌었다',\n",
       " '전작들 보다 미흡한 부분이 많은것 같네요 전작들은 새벽 늦은시간에 불끄고 이어폰 끼고 혼자 봤을때 엄청난 공포감과 스릴을 느낄수 있었는데 이번 작품은 살짝 졸면서 봤던것 같네요 기대를 너무 많이하고 봐서 그런가 너무 아쉽네요 다음작 기대해봅니다',\n",
       " '솔직히 실망스럽다 밀폐된 공간속에서 여러 인간들이 갈등하고 죽음의 공포에 시달리는 장면은 있으나 와닿지 않았다 긴장감이 안 느껴진다 손에 땀을 쥐게 할만한 장면도 그렇지 못했다 연출력 문제인지 배우의 연기가 문제인지 좁은 공간의 답답함만 있었다',\n",
       " '한 6점 짜린데 점수가 너무 높게 돼있어서 1점 줌 도대체 이게 왜 무섭다는지 전혀 이해가 안 가는 대목 결말만 괜찮았어도 7점 정도면 좋은데 결말이 엄청 이상함 감독이 끝에가서 피곤했는지 급하게 끝내고 망쳐버린 완성도 낮은 영화 거품 잔뜩 낀',\n",
       " '그냥 너무나 뻔한 연출이다 드라마 보면서 대충 다음 장면은 어떤장면이 나올지 생각하면 어김없이 이제까지 수많은 드라마에서 보아왔던 진부한 추격신이나 주인공의 추락신이 등장한다 장면과 장면사이 매끄럽게 연결되어야하는 연결고리 조차 하나도 없음 최악',\n",
       " '창공으로 옛조선 우리나라의 조선기술과 같이 창공으로 날으는 전투기도 우리나라 최고의기술력을 보여준 영화가아닌가싶네요 보는내내 박진감넘치고 스펙터클한 비행은 가히 세계최고라꼽을수있습니다140자평으로는 말로도 다표현하지 못할영화 직접 눈으로 감상하세요',\n",
       " '불륜이란 주제가 너무 무겁고 대사들도 딱딱하고 무섭고 매일집에오면 엄마가보고있는데 제발 안봤으면 하는 드라마에요 우리 현실도 힘든데 이 드라마보면 내 몸과 마음또한 무거워지고 지치네요 배우들 연기는 좋은데 이러한 점때문에 방금 엄마리모콘 빼앗았네요',\n",
       " '호불호는 갈릴수 있는 영화지만 감독자체에 색안경을끼고있는 평들이 많이보이는듯 난 전체적으로 분위기랑 메세지가 굉장히 따뜻하게 느껴져서 좋았다 둘이였지만 하나로 살아가야했던형제 그림자의 아픔 그리고 희생 그 마음이 보여서 너무 아팠고 좋은영화였다',\n",
       " '여기 좌파니 우파니 따지는 사람들 땜에 평점이 엄청 낮은거 같습니다 별 기대 안하고 봤는데 영화 안에 깊은 뜻이 담겨져 있더라구요 생각 없이 보면 별볼일 없는 영화 입니다 하지만 조금만 생각하면 가슴이 벅차오르는 그런 영화입니다 어머니의 위대함',\n",
       " '별점을 많이줘서 알반가 하겠지만 그건 아니고 ㅋㅋ 나도 더로드 파라노말엑티비티 이런 영화를 좋아하는 한사람으로서 정신은 없었지만 몰입할수 있었고 무서운 소재는 다 갖다 놓은것 같다 할머니 우물 귀신들림 폐교 터널 폐교씬은 알이씨를 보는것 같았음',\n",
       " '이영화를보고나서 가슴이 먹먹하고 기분이착찹하다 해피엔딩이 될수없다는걸 알았지만 생각지도못한 반전에 충격이왔고 여주가 너무불쌍해서 눈물이 하염없이흘렀다 독립영화라 별기대안했는데 기대이상이었다 특히 남주분 영화에서 첨뵙는분같았는데 연기가 굿인상깊었다능',\n",
       " '에일리언 같은 명작을 아류작으로 탈바꿈 시킨 폴 앤더슨이 대단하군 시고니위버가 명품연기를 해서 에일리언이 삼류가 아닌 명작을 만들었는데 무슨 또 프레데터 애완용 취급도 모잘라 여주인공이랑 프레데터가 동맹을 맺지 않나 ㅉ 이래서 5편이 안나오는군',\n",
       " '15살 어리고 감수성 예민한 사춘기 여학생에게 전라로 촬영을 강행하다니요 그것도 거짓말하고 속이고 협박까지 도대체 감독이 사람이 맞는지 의심이 듭니다 몇몇 분들중에 피해자 이상아씨를 가해자로 몰고가는 제2의 임권택이 있던데 제발 우리 짐승이되지맙시다',\n",
       " '원작에 러브라인을 안넣겠다던 오다가 극장판이라도 러브라인을 넣고 싶었던것 같다 이런 애매모호하고 은근한 연출이 뒷맛이 더 남는다 오다의 인터뷰대로 라스트씬이 인상깊었다 전투씬은 적고 사기성이 짙었지만 그저 원피스라는 이유로 높은 점수를 매길만함',\n",
       " '게이는 병입니다 게이는 병입니다 게이는 병입니다 게이는 병입니다 게이는 병입니다 게이는 병입니다 게이는 병입니다 게이는 병입니다 게이는 병입니다 게이는 병입니다 게이는 병입니다 게이는 병입니다 게이는 병입니다 게이는 병입니다 게이는 병입니다 게이는 병',\n",
       " '홍상수 최초 각본 영화 아직 스타일이 완전히 녹아있지 않아서 두개 에피소드의 링크본드가 다소 약하다그가 촬영기법 측면에서 실험적인 영화를 만들지는 않기 때문에 화면에 자주 들락거리는 마이크는 의도된 것이든 아니든 무시당한다는 느낌 연기도 아쉽다',\n",
       " '마지막장면은 눈물을흘렸으나 중간중간 역시 드라마답게 정말 말도안되는 부분을 억지로 끼워넣고 세나의 말도안되는 우연에 우연을 가장한 개입부분도 너무억지스러워서 삼점주려다 마지막부분 잘만든흔적이있어서4점줌 마지막화빼고 정말 막장드라마였다 좀더 잘만들지',\n",
       " '연기와 분위기가 장악하여 캐릭터가 스스로 어긋난 행동을 하고 저정도의 반전에 맷이 마음을 바꾼다는 것도 부사장급이 저러고 다니는 것도 착한 수가 바로 회사에 맷의 배신을 찌른 것도 반대입장인 가게주인이 수에게 급호감을 느끼는 것도 전부 개연성없음',\n",
       " '우리의 공공재들은 민영화를 위한 블랙딜로 인해 늘 위협을 받고 있다 적자라는 이유로 또는 흑자이지만 또 많은 이득을 위해 늘 위협을 가하고 내 삶에 와닿지 않으면 또 흐지부지아르헨티나의 모습을 보니 우리의 미래모습이다 지켜야 한다 우리의 공공재를',\n",
       " '커다란 일장기 깃대로 마지막 마루타를 찔러 죽일때 일장기에 튀는 선혈일본의 이름으로 자행된 학살의 전형을 의미하며 동시에 일본 여성은 아이를 낳는데 생명의 탄생과 죽음이 한 곳에 있다 몸에 불이 붙은 쥐떼가 흩어지는것이 실제적으론 가장 잔인하다',\n",
       " '여군특집도 최악이다 군대를 뭘로보고 질질짜면서 여성임을 강조하는 아이돌들을 왜 캐스팅했을까 군대로 입대한만큼 여군으로서 자질을 갖추도록 하던가 훈련이 쉬운줄아나 눈물바람을 대놓고 할거면 하차해라 마음가짐이 너무 부족함 애당초 군대방송은 하면안된',\n",
       " '전에 봤던 영화이지만 영화에서 해피엔딩으로 끝나지만 현실에선 친구와 친구사이에서 썸을 타다가 그기간이 지속되면 썸으로 끝나는 경우가 많더라구요 결론은 서로 사랑한다면 둘 중에 하나는 남자가 되든 여자가 되든 적극적으로 표현 하다는 걸 느끼게 되요',\n",
       " '어릴적이영화가티비방송되엄마가보라고하시며녹화도해주시고이후녹화한비디오테잎을몇십번을보며주제가까지웨웠구지금도부를수있어용한국말이아니라한글로적어웨웠던기억ㅎ그때말로설명하기벅찰정도로정말감명깊고보았고요지금31살인데요글을쓰고있는지금도그때생각하니지친삶에위로가되네요',\n",
       " '공산당의 과오에 대한 직접적인 언급을 피하고 있지만 당시 극단적 좌경향 시대가 남긴 상처들을 평범한 가족의 눈으로 잘 묘사하고 있다 그리고 마지막 장면을 통해 감독이 강조하고 있는 전통의 회복은 곧 사상으로 얼룩진 인생의 회복을 의미하는게 아닐까',\n",
       " '기대평 아 세상에마상에 제가 평소에 너무좋아하고 사모하는 무민이가 벌써 70주년이고 또 영화도 나온다니 진짜 너무 기대가되요 내일 보러갈건데요 무민이 목소리는 처음들어봐서 기대되고요 무민이 지금인기처럼 이영화가 승승장구했으면 좋겠어요 기대해요♥',\n",
       " '전형적인 한 쪽 시선에 치우친 다큐 물론 그 속에도 배울 점이 있지만 전반적인 논조로 볼 때 수구세력 뉴라이트가 주장하는 역사관과 극단을 달린다는 점에서 유사한 다큐 굳이 말하자면 볼 필요가 없는 편협한 다큐 편집으로 이뤄진 편향적 주관적 자위',\n",
       " '그지같은영화 의상만 볼만함 쓸때없는 롱태이크 감독이 너무 폼잡는걸좋아 하는듯 한마디로 졸짝이다 감독 자하도치영화 한마디로 폼잡다 끝남 절때보지마시길 왜 올래에서 공짜로 했는줄알게됬음 윤발이 갑옷보다 끝남 시나리오가 듨숙날숙 몬소리를 하고싶은건지',\n",
       " '정말 무섭게도 실제 이야기의 주인공들은 대부분 보호관찰 처분만을 받았습니다 1년 산 애 1명 빼고 미국 사이트에서는 이들이 빈민가의 흑인이었다면 오지게 살고나왔으리리고들 합니다 실제 이들은 현재 다수가 블로그 등으로 유명인 행세하며 떳떳해 합니다',\n",
       " '룸메이트라는 프로그램이 좋다고 생각하는데 이번 시청을 통해서 제가 마음을 편히 볼 수 없었던 게 두 팀으로 나누어졌다 해도 두 차가 같이 오는 상황을 만들어야 하는 게 아닌가 싶습니다 문제가 생겼을 때 같이 의논할 수 있는 부분인데 좀 아니지 않나',\n",
       " '무슨 군인 몇사람이 외계인 수백마리로 싸우냐 그것도 고작 대포하고 총으로 ㅋㅋ 중장비로 했으면 모를까 주인공보정이 너무 심함 스타로 비유하자면 노업 마린들이 풀업 대규모 중무장 프로토스랑 싸우는꼴 주인공보정인건 알겠는데 이건 너무 과장인거 같다',\n",
       " '이거 아빠가 나 어릴대 집에서 본영화 진짜 난이게 1987년도 영화 라는게 믿겨지지않아 이렇게 좋은데 진짜 이영화 다시보삼 난이 영화 최고임게다가 크리스찬베일의 아역시절 영화 진짜 최고다 그냥 아련하고 후우우한 기분 순수할 나이에 보면 좋은영화',\n",
       " '노잼이라하신분들은 아직어리신 남성인듯머리로는 이해하겠는데 맘으론너무 가슴아픈 과거이며 우리가 살고있는 현실이네요사십데쯤엔 한번더 보실만한 영화인듯82년전과 지금이 별반 다르지않다는게 느껴질때 내가 앞으로 어떻게 살아야할지 나침판이 되어주는이야기',\n",
       " '거북이는 오늘도 달린다아내와 자식들을 끌고가야만하는 가장으로써의 사명감그 무거운 짐이 거북이의 등껍질과 너무도 닮았고 자신의 자존심을 회복하기위해 타인에의해서가 아닌 자신의 손으로 끝까지 싸우고자하는 남자의 분투가 느리지만 열심히전진하는 거북이같다',\n",
       " '이런 드라마는 근절 됭어야 한다고 생각합니다 작가가되었으면 돈 몇푼 벌자고 국민들의 의식에 찬물을 끼얹으면 안된다고 봅니다 이런 드라마를 어릴적부터 달고사니 애들의 일탈이 일어나고 무슨 이혼을 당연하게해도 되는것마냥 착각하는거 아닌가 방통위 일좀하자',\n",
       " '시간은 가지고 있는 재산중 건강 다음 가장 소중하다고 생각합니다 시간과 건강을 낭비하하는 그런 어리석은 일은 하지 마세요다만 이영화를 끝까지 감상하실 시간적 여유가 있다면 다음 그어떤 영화를 감상하시더라 재미있게 볼수있는 인내라는 재산이 생길꺼임',\n",
       " 'ㅉ 이 영화의 참뜻을 이해하지 못해서 6점 대이군 일단 어른들 말고 애들만 구한 이유는 그들이 타락하지 않고 순수하기 때문이다 이미 더럽혀진 어른들을 제외하고 새로운 세상에서 새로운 아담과 이브가 되는 거지 외계인으로 표현은 했으나 꽤 적절했다',\n",
       " '혼란이야 말로 본래의 질서다 단지 그 질서를 이해하지 못하기 때문에 인간은 인위적인 질서를 세운것 뿐이다강도에게 칼을 쥐어주면 살인을 저지르고 의사에게 칼을 쥐어주면 생명을 구하듯 양면성이 존재하는 것이고 때문에 이러한 개념앞에 모두가 평등하다',\n",
       " '프로메테우스가 이런소재를 처음 다룬줄알았는데 이영화가 먼저였군요 개인적인생각은 외부외계 혹은 또다른 무언가의 영향으로 인해 지구 생명체가 생겨났다는걸 신뢰하기때문에 이영화를 굉장히 인상깊게 잘봤습니다 2편이 나왔으면 좋았을걸하는 아쉬움은 남네요',\n",
       " '애니메이션이라 평점 등록할 정도일줄은 몰랐다 진짜 내가 이걸 쓰고 있다니ㅋ 여자가 오토바이타고 가는데 누구나 요리할 수 있다 이거 보고 멈춰있는데 무슨 영화의 한장면인줄ㅋ 마지막은 막 벅차오르더라 눈물날뻔함 라따뚜이 맛까지 궁금해질 지경이다 또보고싶다',\n",
       " '광주민주화운동 충분히 안타깝고 존경스러운 분들인건 절때 변하지 않는 사실이지만 단지 이 영화가 광주민주화운동을 소재로 했다고 해서 무조건 평점 10점을 받아야하는건 아니에요 솔직한 평점 4점 드립니다 그런 논리로 따지면 천안문사건 영화로 만들면',\n",
       " '6점정도인거같은데 너무 점수가 높아서 1점 스토리는 뒤죽박죽에 빈약하고 철학적인 메시지는 주다말고 액션도약하고 한국사람은 액션없으면 재미없다는 베댓이 있는데 다른나라 반응도 좀보고 오길 오히려 한국은 뭔가 어두운분위기다 싶으면 무조건 점수 높게주는듯',\n",
       " '개인적으로 나이트 샤밀란 감독은 우리나라 곽경택 감독과 같은 느낌으로 다가온다식스센스와 친구로 데뷔해 대박치고 그 이름을 알렸지만 그 이후로는 평작이하의 작품만 내놓으면서 곽경택은 통증이후로 샤밀란은 이 해프닝을 끝으로 얘네들 영화 다신안볼예정',\n",
       " '아동성범죄자는 아동을 성인으로 인식한다는데에 한번 놀라고 어차피 나중에 경험할거 미리 경험하게 해주는거다라는 생각에 또한번 놀라고 죗값이 2년 2개월이라는 거에 또 놀라고 나와서도 한치의 망설임도 없이 똑같은 패턴으로 범죄대상을 찾는다는 데에 놀라고',\n",
       " '드림걸즈 좋아하면 꼭 보라길래 봤는데 음악에 관한 얘기보다는 아침드라마같네요 왜 싸우는 걸 그렇게 많이 보여주는지 그리고 초반에 탭댄스추는아이는 왜 비중있는것처럼 나오더니 첨나오고안나오는지 제가 뭘 보고 왔는지 잘 모르겠네요 진짜 아침드라마 같음',\n",
       " '일단 느낀점이 남자주인공분 연기가 충격초반에 집중이 안될정도끝으로 가면서 좀 괜찮아지긴 한거같음 그리고 여주가 남주한테 반하는거 정말 뜬금없고 어이없음근데 어이없어하면서도 끝까지 다본거보면 나름 나쁘진 않았고 이소정씨랑 그 매니저역할한분좋음연기',\n",
       " '처음에는 난해한 전개때문에 머리가 복잡해질수 있으니 영화의 기본줄거리를 읽고 보는겟 낫다하지만 중반부를 지나서 점점 퍼즐이 맞춰지면 진한 여운을 느낄수있는 영화다2번째 볼때 더 재밌는 스토리다역시 워쇼스키 남매 영화는 실망할수없다너와나의연결고리',\n",
       " '보통 영화를 보고 한참 지나면 기억이라는 이름으로 영화를 기억하지 이 영화에서 단지 기억나는건 웃기게 생긴 인도인스러운 단발머리 살인마가 빵야빵야 나 존나 무서운 사람이야 빵야빵야 동전을 던져봐 앞이나오면 살고 뒤가 나오면 죽고 블라블라블라 개소리',\n",
       " '스테로이드로 시작한 영화는 곧 미국인들의 바디이미지에 대한 집착 건강보조제와 약물복용에 대한 주제 그리고 3형제의 각자 인생에 대한 관점까지를 부드럽게 포괄한다 다큐멘터리임에도 불구하고 무척 재밌었다 성급하게 결론을 내지 않는 점도 마음에 든다',\n",
       " '거의 30년 전에 나온 영화인데 수준이ㄷㄷ다시 봐도 전혀 촌스럽지 않고 철학과 오락성을 두루 갖춘 걸작이다 요즘은 제작비 왕창 투입해서 그래픽으로 눈을 현혹하려는데 이 때는 스토리 또한 탄탄해서 영화로서 훨씬 고급스럽게 느껴진다말이 필요없는 걸작',\n",
       " '김근홍김은한회에샷이필요없는부분을자꾸앵글만바꿔방송하는게별로좋아보이지 않네요예를들어허준이공빈의침을놓는장면에서카메라를여기한컷머리위로한컷침컷다시클로즈업김근홍께한말씀드려요이병훈국장과 예전에 같이작업한걸로아는데 제발좀신경써 주세요예전전굉렬의허준을 보고싶네',\n",
       " '심장이뛴다보면서어이없는게 구급차안이나 화재가나서 출동한집이 니들집이고 니들가족이면그러고 막고싶냐 우리가 소방관없으면 살수잇을것같아제일 고마운분들이야 니들이함부로대할사람들이아니라고 니들보다 하등한 존재도아니야 알아 제발 제대로 머리에 개념좀박고살아',\n",
       " '이 영화를 처음본게 초딩5학년때다 20중반에 보니 대역이보인다 30초반 성룡을 우러러 보게된다 그리리고 30대중반 다알고봐도 재밌고 액션이 호쾌하며 어릴적보던 드라마를 다시보는 기분이다 지금봐도 호쾌하고 재미있다 뭘 더 말해야하나 그냥 명작이다',\n",
       " '무언가를 쫒으며 복수하는것보다 이젠 무언가에게 쫒기며 방어하다는건 좋은 생각이었다 하지만 말도안되는부분이 많아 예를 들어 갱단이 딸을쫒아가는 부분 분명 애 아빠보다 최소 30초이상 빨리 출발했고 속도도 비슷했는데 아빠가 10초만에 따라잡은 부분',\n",
       " '저만 마지막 장면을 다르게 본건가요 가브리엘이 비맞는걸 좋다고하는 대사와 비오는 파리가 좋다고 하는 대사가 주인공이 한말과 똑같아서 미래에서 온게 아닐지 미래에는 주인공이 유명한 작가가되고 가브리엘이 과거로와서 그 유명한 작가를 만났다고 생각되는데',\n",
       " '1편이 수작이였으면 2편은 걸작 혹은 대작이고 3편은 졸작도 이런 졸작이 없다그렇게 완벽한 불멸의 존재가 칼싸움 몇번하다 바이러스맞고 다이바이러스 맞아도 다시 재생하는게 더 설득력 있지 않냐아니면 차라리 다시 잠들게 하거나 봉인이나 이런거면 몰라',\n",
       " '아진짜 시리즈대로 잘나가다가 꼭되도않는 중국소스뿌려서 망치는거 극혐 행오버3도 그렇고 미이라3도그렇고 엑스맨도 그렇고 뭐만하면 중국이여 진심 역사대대로남을이시대최고의 문화컨텐츠들을 항상 중국브로커들이 투자비용으로 꼬셔서 하나같이 개밥말아먹고있어',\n",
       " '장동민씨 시골출신아닌가요 출신을 떠나 방송서 아이는 기본이고 퇴비에 발길질 멍청한건 당신아닌가 수레바퀴가 하나인 이유는 좁은 도랑을 이동하기위한건데 힘들면 방송하지마세요 묵묵히 일하는 다른 멤버에게 미안하지않나요 아님 당신아버지께 더 배우고 오던지',\n",
       " '보는내내 카메론과 놀란교장 진짜 밉상이었고 특히 닐 아빠란 인간은 명치 정말 세게 후려치고 싶었다 지가 지 욕심으로 아들 죽음으로 몰아간 걸 남탓으로 전가하려 하고 정말 인간 쓰레기임 근데 현실에서도 닐 엄마아빠같은 학부모가 많다는 게 더 열받음',\n",
       " '태평양전쟁 당시의 새로운 관점들을 보여주는 신선한 면도 있지만 그게 너무 작위적으로 부각되고 또 정리되지 않는 너무 개인적인 감성적 상념들이 나열되는 점에서 공감하기 힘들고 지루하며 취향에 안맞음 사실주의적 연출 또한 특출난게 없고 유명배우단체등장용',\n",
       " '시청률을높이기위해재미있다고한다지만연애인들이야돈받고연기하는것이지만이건군대의질을떨어트리고장난하는것같은군대라고할수밖에없다고볼수있네요지금북한에선우리시민들을노리고전쟁에만전준비하고있는데군인의질만떨어트리고돈받고연출하는느깜만드는프로라고만할수밖에없네요1점주기도아깝내요',\n",
       " '시나리오가 진국 마지막엔 충격적인 반전ㅠㅠ글고 시완 연기진짜 외로워보이고 불쌍했다ㅠㅠ 마지막회 시완이 나올 때마다 울었당ㅠㅠ 뭔가 울적해보이는 눈빛이 이장일이랑 정말 잘어울렸던것같다 이준혁배우도 연기잘하심ㅠㅠ미사이후로 눈물짜낸 드라마처음이였다ㅠㅠ',\n",
       " '나쁜남자 멋있다고 좋아하면 어떻게 되는지 보여주는 영화 그러니까 인생이 꼬일수밖에 모든게 자업자득임 이젠 하다못해 주인공이 매춘부가 되도 관객들은 멋지고 로맨틱하다고 동경하며 박수를 치는구나 인생 막사는걸 꿈꾸는 요즘 여자들이 아주 좋아할 영화',\n",
       " '유작인데 웬 쓰레기를 찍은 거냐 ㅡㅡ 난 귀신이 걸레로 환생 한 줄 알았는데 그 것도 아니었고 의사도 걸레짓 하다가 학생때 애인이 죽어서 귀신으로 나타난 건데 그 때 부터 존나 어설프다 차라리 초반 산사태로 죽은 모자는 그나마 괜찮은 편인데 노잼됨',\n",
       " '486세대들의 과거 자위영화일 뿐 그이상 그이하도 아니다 그 세대들의 인생이 영화 주인공인 영호를 통해 동질감을 느끼며 자기자신의 과거의 과오를 부정하고 아름답게 미화시키는게 역겹다 이 영화에 점수를 주고싶은건 딱하나 현실성이 다분한 영화라는것',\n",
       " '너무좋고여기나오는 엘리 패닝과 찰리 로우 정말연기도잘하고 너무 멋지고 예쁜것 같아요 두 배우가 어렸을때 찍은 거라고 하던데 어떻게 저런연기가 나오는지 모르겠어요 암튼 덕분에 동심으로 돌아간것 같아요 마지막에 여주가 호두까기랑 해어질떼 저 정말 눈물이',\n",
       " '별 내용도 없는 레즈비언 러브스토리 레즈 둘이 사랑에 빠져서 열나게 사랑을 불태우다가 여자1이 예전여애인을 가까이 한 사이 여자2가 딴남자에 잠깐 한눈 팔다 둘이 깨지고 이후 여자2가 예전여애인과 살고있는 여자1을 그리워하며 홀로 외롭게 지내며 끝',\n",
       " '망했다더니 왜 망했는지 알겠다 극장판이라해도 각색도 정도가 있지 ㅡㅡ 괜찮은 건 주연 성우 뿐 ㅡㅡ 그리고 이해못해서 평점 낮다는 헛소리하는 사람들은 원작이나 보고 하는 소린지 ㅡㅡ 원작 발끝에도 못미치는 시나리오에 구성 덧붙여 몬스터디자인도 구림',\n",
       " '한국 개신교의 교만이 도를 넘어서고 있음을 보여주는 영화 고개 숙이고 바짝 엎드려 낮은 곳을 지향해도 모자랄 판에 뭐 잘했다고 이따위 쓰레기나 만들어 내놓는지 당췌 이해가 안된다 독실한 개신교 집안에서 성장한 내가 교회를 떠난 이유도 바로 이거다',\n",
       " '봄에서 시작하여 봄으로 돌아온다는 것 그리고 피래미 개구리 뱀 으로 이어지는 천적과 먹이사슬 관계 또 그것들의 생사를 좌지우지 하는 인간 그러나 인간 또한 최상위 포식자인것 같지만 그 업보로 인해 고통 받는걸 보면 결국 모든것은 부질없는 것이다',\n",
       " '50년 가까이된 영화라 믿기지않는 감독의 세련된 연출력 불안하고 흔들리는 청춘은 누구나 겪는 시기이기에 이영화가 시대를 초월한 명작이 된것같다 일탈을 꿈꾸지만 결국 허무함이 되어 돌아오는 감정을 몰입할수있게 연기한 더스틴호프만 정말 대단한 배우',\n",
       " '뻔할수도 있는 소재를 재밌게 만든듯요 결말은 제가 생각한대로 흘러가긴했는데 2시간이라는 러닝타임이 길지않게 느껴졌고 몰입하게 만드네요 제목과 줄거리에서 이미 어떤 결말일지 느껴지겠지만 진짜 재미와 감동을 제대로 전해주네요 프라프라 왤케 귀여움ㅋ',\n",
       " '이영화를봣는대 어이가없음 총을 계속쏴서 겨우 죽이더라고요 근대 각목으로 여자가 한대치니까 쓰러지더니 죽어요 총싸움도 액션신도없이 제자리에서 쏘기만함 무슨 코미디영화같이 그러다 탈출은 개쉬게함 도망갈때도 그냥 쉽게도망가고 앤딩도 어이가없음 ㅋ보지맠ㅋ',\n",
       " '지금껏 본 영화중 색다른 로맨스 영화였다남녀주인공이 각기다른 에피소드를 겪으면서 마지막에 만나게 되는 흥미로운 스토리였다더구나 배경이 겨울이라 차갑고 앞길에 대해 고난이 닥칠거란 암시가 정말 좋았다대사가 많이 없고 일상 풍경장면이 많아 서정적이다',\n",
       " '히든싱어는 유명한 곡 히트곡 뿐만아니라 잘 안 알려졌어도 듣기 좋은 곡들을 다시 들려주는 방송프로그램이라고 생각한다 특히 김광석 편의 경우는 불가능을 가능으로 바꾼 감동을 선사하기까지 했다 또한 각각의 모창능력자들의 사연은 대중에게 큰 감동을 준다',\n",
       " '진짜 내가 학생떄 처음 보고 충격먹은 영화 일본영화 특유의 음산하고 어색한 분위기 연출이 이 영화에는 정말 적격 물론 작품성은 보장 못하는데 충격적인 걸로는 엄지다 다만 어린 나이에 보는 것은 비추 그냥 피가 난자하는 잔인성이아닌 또다른 잔인성',\n",
       " '쓰레기영화 보는내내 암걸리는줄 도망가는대 소리지르고 라이트키고 가면 나라도 다알고 쫒아가겠다 조용히 할때를 모르고 떠들고 싸우고 환장ㅡㅡ 방사능의 위험성이나 정부가 돌연변이를 덮고 심오한 의미전달 개연성없고 불친절한영화 이걸본 내 시간이 너무 아까움',\n",
       " '더스티는 레이스에서 우승하기위해 아픈 과거가 있는 훌륭한 지도자를 만나게 되고 맘이 착한 주인공은 어려움을 이겨내지요 비행기가 보여주는 스릴과 하늘을 나는 벅찬 즐거움을 보여줍니다 원어로 들을 수 없어아쉽지만 아이들과 함께한 감동적 영화였습니다',\n",
       " '아들이 문열어줄때 욕하면서 끌려다가 간신히 진정하고 다시 볼려고 하는데 딸 남친이 아버지와 총격전을 하다가 남친이 총을 맞았는데 딸이 남친만 걱정하는거 보고 이건 더이상 볼필요가 없겠다 싶어서 그냥 껐습니다 왠지 이 영화를 보면 암걸릴거같아서요',\n",
       " '남주서준영ㅋ그냥사이코사회부적응자욕만꽦꽥질러대네ㅋ여주반소영ㅋ태권도를했다한들무서운여전사를이겨뿌네ㅋ동안이신원진무술감독님의우아하고현란한동작에반했다디지게뚜디맞고는수갑채우며낄낄거리는남주모습에소름ㅋ차이나타운가면짜장면만먹고조용히와야지무서워서어휴ㅋ권법형사가지켜주나',\n",
       " '뭐야이게 애니에서는 히나타말고 사쿠라만 따라다니더만 갑자기 무슨 히나타랑 결혼을하고 육도선인 동생은 뭐임 스토리짜집기에 사스케 분량은 그냥 예고편 만들려고 그린건가 그리고 이거는 나루토 이름만 빌려온 다른 만화 같은느낌이난다 끝날때 되니까 막그렸나',\n",
       " '진짜 내가 태어나서 본 영화 중에 최고의 쓰레기 영화였슴 줄거리도 없고 그냥 총만 쏘다 끝나는 영화 현실감도 전혀없고 총들이 반동이 없음 ㅋㅋ 스나이퍼 라이플을 리로드 없이 연발로 쏴대고 ㅋㅋ 이 영화 재밌게 봤다는 사람들 수준이 어떤지 딱 보인다',\n",
       " '내가본영화중에 제일최악임 재미도없고 내용도이상하고 고모년은침대밑에숨엇으면 아가리를 닥치던가 징징거리고 무슨 귀신은 머리카락 분쇄기에찡겨서 혼자떨고 개웃겻음 내용도이상하고 무서운장면이엿다가갑자기훈훈해지질않나암튼몰입도도엉망이고무섭지도않고재미도없엇음',\n",
       " '때리고 자기는 맞았다고 코스프레하는걸 가만히 두고볼수가 없다니들이 만약에 자기와이프가 여자친구가 여동생이 누님이 어머니가 일본군의 성노리개로 쓰다 버려지는데 사과도없고 99엔1400원으로 지금와서 그당시 화폐가치는 그정도라고 보상한 일본기업이나',\n",
       " '역대 막장극보다 그 정도가 심하긴 하지만 주말에 하는 다섯손가락 보단 덜 한듯 막장 극도 신기생뎐 처럼 풀어나가면 되는걸 점점 치졸하고 억지에 유치스럽게 질질끈다 10시 드라마 작가와 7시드라마 작가는 그냥 메이저 마이너리그 차이인듯 급이 확실히 다',\n",
       " '태어나서 이렇게 돈아까운영화는 처음이에요 중간에 10분정도 이상한 의식하면서 토하는장면소리 엄청나오는데 진짜 영화보다 혐오느낀적은처음이고 이렇게 시간돈 아까운건처음이에요 예매율이낮은건 작품성을몰라본게 아니라 재미가없어서입니다 결과엔 이유가있는것',\n",
       " '안개 속에서 균형을 잃고는 자신도 감당치 못할 탐욕을 부리다 압도적인 운명의 거미줄 속에서 공포와 절망과 함께 파멸한다 반면 셰익스피어의 색채를 뺀 자리에 자신의 색깔로 과감히 채워넣는 구로사와 감독의 예술가적인 야망은 대단히 성공적이라는 아이러니',\n",
       " '요즘 드라마도 홍수 예능도 홍수라 오히려 다 거기서 거기라 식상하다 그래도 아빠 어디가는 넘 신선하게 다가왔고 따뜻하고 진솔해서 좋았다 그냥 웃고떠드는 예능이 아닌 1년동안 아이도 아빠도 변화하고 성장하는 과정을 자연스럽게 보여주는 참 좋은 프로다',\n",
       " '아들과 아버지의 재회와 생존 이후 아버지의 심경변화와 담배를 끝는 모습에서 감정이입되어서 정말 서럽게 울었고 마지막에 아버지가 구하러 나타났을 땐 통쾌하고 감동적이고 사랑마저 느껴졌다 구성도 완벽하고 설정하나만 가지고 스토리를 완벽하게 만들어냈다',\n",
       " '와 ㅋㅋ 새벽에 티비에서 틀어줬는데 개진심 쓰레기영화였다 감독 뺨때리고 싶은 영화는 이게처음이다 제목보고 뭔가 있는가 기대했는데 수염거무튀튀한 백정색휘 돼지멱따는 고함지르는데 개 주겨버리고싶은 충동 ㄷㄷ했음 아 어떤생각으로 저런 영화를 만들지 레알',\n",
       " '진짜댓글처음다는데요정말너무재미없습니다 진짜친구가보자고돈내고 다운받았는데 진짜 잔인하고 답답하고예상되는결말진짜시간내서까지이렇게하는건진짜 너무아깝고그리고결말도머하자는건지총쏘는거손가락만계속보여주면재밌을것같다는생각한감독도대단합니다0점못주는게 아쉽습니다',\n",
       " '눈뜨고본생방중에가장최악이었던프로그램시청하고너무불쾌해평점남깁니다물론생방이라미흡할수있지만오늘방송은미흡한정도가아니라엉망진창녹방이었다면굉장히재밌었을게스트들분량분배조차못하는엠씨분들특히엉뚱한소리와도가지나치는비판의김구라보는내내너무짜증나더군요괜히봐서기분만상함',\n",
       " '이영화를 봤다면 당신은 정말 행운아 임에 틀림이 없다 이렇게 감동적인 영화는 오랜만이다 개인적으로 군대를 갔다온후 보면 더 의미 있게 볼수있을것같다 부모님의 마음 가장 아버지로서의 책임감 경제대공황에 허덕이는 시민들의 희망의짐을 떠앉고 복싱을한다',\n",
       " '가자장미여관으로 1편 만든 곳에다가 제목 패러디하겟다고 허락은 받앗냐 줄거리 보니까 그냥 저질 영화같은데 1편이 비록 성인영화로 매도당햇지만 나름 사회적 문제를 다룬 문제작이란다 가자장미여관으로 두번죽이는짓 하지말고 최대한 빨리 2차 판권시장으로',\n",
       " '반점주기도 아까움 이게 어떻게 재밌다는거지 평점ㅁ이해안감 무슨 결혼을두세번씩이나 하고 이혼을 밥먹듯이 사랑하지 않으면 하질말던가 진짜 불륜을 정당화 시킴 암결려 죽을뻔 감동적이지도 않고 주인공 배우자들은 바람을 밥먹듯이 피고 여주는 경찰이랑도 ㅅㅅㅋㅋ',\n",
       " '성태현씨아이는 어른한테 너무건방진거같네요 보는내내 조마조마 무슨말을할까하구요 애들이나 어른도같이보는프로에서 그렇게 어른한테 훈계하듯이 말하는건 너무한듯싶어 아이들이배울까 걱정스럽네요 출연하는아이들중몇아이들도잇으니사전에 가르쳐서 녹화를하셧음하네요',\n",
       " '좀비 판타지 애니에 걸맞게 흥미를 주는 요소가 미흡하며 보는 내내 지루하고 짜증까지 나고 시간낭비한 샘이라 완전 실망스럽다 좀비5섯마리로 찌질하게 대충 제작한 개막장 쓰레기 삼류 애니메이션이다 유아들과 부모가 함께 손맞잡고 볼만한 저급한 수준이다',\n",
       " '최고의 영화지만 최악의 영화가 될 수도 있는 영화 인간의 추악함을 여실히 드러내는 영화임에도 불구하고 그것을 연기로 승화시키는 배우들의 연기력또한 최고가 될 수 있는영화 영화를 보고나서 밀려오는 불쾌함과 동시에 온몸에 소름이 돋지 않을 수 없었다',\n",
       " '다시한번 우리 정부에게 실망했고 다시는 이런일이 일어나서는 않되며 만일 또 이런 사태가 벌어진다면 정부가 지신들의 체면보다는 우리 모두가 바라는 일을 해주셨으면 합니다 자신들의 이익과 체면보다는 더 많은 사람을 구하는게 우선이라 고 저는 생각합니다',\n",
       " '3편은 제발 다이하드 시리즈에서 없어졌으면 좋을 정도로 최악의 시리즈가 아닌가 한다 억지설정과 다이하드 특유의 폐쇄공간에서의 긴장감은 애초에 존재하지도 않고 대책없이 시트콤 같이 물흐르는대로 놔두다가 어의없는 엔딩으로 욕되바가지 먹어야 할 영화',\n",
       " '들어는봤지만 보진못했었다 어느날 에서 해줘서 조금보고선 불륜이네했다 그리고 끝까지보고나선 180도바뀐나의생각 저둘에겐 또 이영활본사람들은 아름다운사랑이라할것이다 나또한그렇다 결혼이란어쩌면 족쇄일지도 부부가사랑은식어도 끊임없이 노력해야 하는것같다',\n",
       " '정말 욕밖에 나오지 않는다 조선시대 왕이 할 일이 너무 없어서 허구헌날 도자기만 주관심사이고 마치 조선이라는 국가가 도자기만 있고 도자기만들기가 모든 백성의 일과인것 같은 이상한나라의 정이 라는 소설보는것 같다 잼따고 보는 사람들 뇌구조가 궁금하다',\n",
       " '솔직히 고은언니 팬이라서 기대많이했습니다 근데 너무 악평이 많아서 보러갈까 고민하던 중 공짜로 인터넷에 있더군요 한시간 조금 안되서 꺼버렸습니다 영화관가서 돈 내고 안본게 다행이라 생각드네요 고은언니ㅜ전 솔직히 발연기 이런거 잘 모르는데 알겠어요ㅋ',\n",
       " '스토릴꾸며도말같은 소릴해야지 시청자가유치원생들도아니고 딴놈이랑떡치고 임신해서 강정훈이얘로몰아부친다는게 요즘세상에말이되냐 기억도없는데 자기얘라하면 바보아닌이상 나중에라도 유전자검사함딱걸릴텐데 납득할만한 스토리로 방송좀만들어라 제발 시청자들열받는다',\n",
       " '성인개그 케이블티비에서 나오는거랑 공중파에서 나오는거랑 모가다른거지 단순히 시간대별 연령대가 성인이 많아서 필요하다니클라라도 비호감 당신을보면서 여성으로서 수치심을 느낀다 아이들과 여자들 눈에띄지않았으면 한다 이번화신 세사람 주제가 모두 더럽다',\n",
       " '개인적으로 서바이벌 룰에 이의가 있어요 탈락후보에서 참여자 투표로 올라가는거 그것두 한두번이지 매번 탈락후보에서 참여자나 심사로 또 올라가고 그건 좀 불공평하네요 탈락후보 한번이상되면 자동탈락으로 하는건 어떤지요 개인적인 생각입니다 샘김2번이나',\n",
       " '19금 영화를 이렇게 유치하게 만들어 놓다니 사회지도층이 그냥 아무이유없이 엘리시움 주민수를 제한하고 있엇다는 결말에선 헛웃음 밖에 안나오네요 그리고 살려고 불법도 마다하지 않지만 생판 남의 자식을 살리기 위해 기꺼이 죽는 성자 주인공도 웃겼음',\n",
       " '처음에 제목 때문에 못 봣엇는데 친구 권유로 보게되었습니다 진짜 너무 재미잇네여 그런데 중간에 이한서가 너무 쌔게악질로 나오니깐 좀 보기가 힘들엇네여 ㅎㅎ 그래도 이 드라마를보면서 느낀게 많습니다 정말 드라마를 이렇게까지 재밌게본게 오랜만이네여',\n",
       " '일본 우익의 왜곡된 가치관이 투영된 배경 설정임에도 옳바른 비판없이 무개념으로 공각기동대를 흡수하는 좁은 시야의 애들이 많다 인터넷 세상과 연계된 사상에만 집중하지 말고 만화를 통해 왜곡하고 오염시키려는 실존 가치관이 뭔지 정도는 인지해야 한다',\n",
       " '기대안하고 봤는데 액션씬 스토리 굿이다 다개1소리입니다 액션 삼류 수준이구요 감동적으로 그릴려고 노력은한게 보였습니다만 머랄까 많이 부족했습니다 감동적으로 보기에는 전쟁이라고 하기에는 너무 어설픈 스토리에 감독에 역량이 많이부족한 작품이였습니다',\n",
       " '의미가 있고 없고를 떠나서 하나같이 발연기다 몰입이 안됨 특히 곽현화 개그맨이셨던 그 분 정말 발음부터 글러먹었다 귀여운 척만 하고 발음 진짜 개망 연기도 못하고 예쁘지도 않고 노출도 별로 없는데 그냥 다른 좋은 배우 쓰지 왜 이 배우를 쓰는지',\n",
       " '이 영화감독은 이런현실에닥쳐본적없는듯 그러니 마음은 전혀 표현하지못한채 그저 욕심꾸러기철딱서니없는 딸이 엄마병든거알고 뉘우치는 거표현했나본데 감독 니가 이런상황되봐 이렇게울고짜는거 유도 하는거말고 더 깊고 우거운 감정을 담을수있었을텐데 필름아깝다',\n",
       " '1998년에 개봉된 영화치고 무려 17년이나 지난 2015년 지금까지도 유료로 판매되는 영화는 이 영화밖에 없을 것이다 2차 세계 대전 영화중 최고를 꼽으라면 단연 라이언 일병 구하기를 꼽을 것이다 특히 마지막 독일군과 싸우는 장면은 스릴 넘쳤다',\n",
       " '좌익에겐 그저 썩어빠진 정치꾼들에 의해 희생된 소외계층의 결말 정도라고 생각될지 모르겠어나 진정한 애국자로써 보수주의자들의 강인한 인내와 신념에 앞으로 젊은이들이 나아가야할 방향을 제시하는 영화라 할수있겠다 안보가 가장중요한 것이며 어떤댓가를 치루',\n",
       " '첨엔 긴장됫다 근데 갈수록 막장이고 주원하고 박보영은 무슨죄냐 그리고 귀신역 누구냐 아 짜증나네 박보영을 죽일라하네 와 무섭지도않고 이건 걍 내가본 공포영화중 무서움은 없고 짜증난다 박보영 팬이거나 주원팬이면 보지마라 짜증만 난다 귀신 죽여버리고싶다',\n",
       " '왜 공포영화로만 이영화를 지 같잖은 말같지도않은 잣대를 들이대고 평가하는건데 충분히 재밌고 충분히 감동적이고 캐스팅도 좋다보는데 엄마가 집에서 삼시세끼 꽈배기만 삶아주나봐 왜이렇게 사람들이 부정적인지 모르겠네 보지를 말고 그돈으로꽈배기나 사드시지들',\n",
       " '늑대인간설정은 조금에러긴하다 평점글처럼 좀 비중있으면또모를까 후속작 2탄이 나오면또모를까 근데 마지막 끝날때 여자의사 눈 번쩍뜬거보니 마치 그뒤 내용 후속작이 나올것만같은느낌ㅋㅋ나오진안겠지만암튼 개인적으로는 재밌게봤다 퀄리티도 나쁘지않다고생각함',\n",
       " '오늘 마지막회를 다 보았다 잘만들었고 인기있는 드라마라느느 것을 오늘 알게 되었다 아쉬운 점은 마지막 회 연출이 아쉬웠다 10점을 주고 싶으나 마지막 회 부분이 아쉬워 1점을 주지 않았다 드라마 속 인물들 다좋았으나 무휼을 잊지 못하겠다 아 무휼 최고',\n",
       " '그러나 지금 이렇게 하얗게 늙어서도 지난 세월에서 떠오르는 수많은 얼굴 중에서 그 소녀의 얼굴이 가장 또렷한 게 부끄럽다 이 오랜 세월 동안 꿈에서 지울 수 없었던 얼굴 속세의 내 유일한 사랑이었던 그녀 그럼에도 지금까지 그녀의 이름을 알지 못한다',\n",
       " '죽은 사람들을 위해 살아온 주인공 존 메이와 살아 있는 사람들을에게 영향을 끼치며 살아온 빌리 스토크의 삶이 대비된다 둘다 사람을 위해서 살아왔기 때문에 각자좋은 영향을 받은 사람들에게 환영 받지만 정작 죽고나서 존 메이를 추억할 사람이 없었다',\n",
       " '인생은 어차피 불협화음의 연속 엉망진창이야 그래도 우린 마지막까지 내게 주어진 사명을 연주해야해 보잘것 없어 보여도 소중하지 않은 삶이란 결코 없어란 교훈을 주는 명작 깊이를 알지 못하던 철없던 나 이제야 철학돋는 밤 연주하듯 대글 달아달아밝은달아',\n",
       " '이거 평점 높은건 딱 게이들과 동인녀들의 몰표때문임을 확실히 알겠다 진부한 시나리오 개판오분 연기력 뻔하디 뻔한 연출력 퀴어영화도 잘 만든 건 여운남고 성소수자에대한 이해심이 생기기도하는데 이영화는 참 언제 끝나나 생각만 들었다 하이틴로맨스 게이버전',\n",
       " '지루하다 톰행크스 팬이지만 감옥범죄드라마에서 뜬금없이 마법쓰면서 판타지로 바뀌는 막장스토리 현실성도 떨어지고 기대했던 톰행크스식의 재미도 느끼지못했고 장르가 갑자기 판타지로 바뀌면서 감동도 씹어먹어버리고 평점이 이리 높다는게 도저히 이해가 안감',\n",
       " '단순히 연예인 더빙이라서 해당 연예인이 싫어서 그러는게 아니죠 10년 이상씩 활동하신 전분성우분들이 많은데도 불구하고 나이도 어리고 발음도 성우에 비해 모자란 연예인이 주연이고 성우분들이 조연뿐만아니라 출연자 명단에 이름도 없다는게 안타까울 뿐',\n",
       " '자신의 특정한 목표를 표현하기는 쉽지않은데 무엇을 말하려고 하는지 알것같다사마리아에 대한 지식적형성이 덜된상태에서 보았을땐 그저 변태사회얘기인줄 알았는데 시간이 지나고 공부좀한 상태에서 보았더니 다양한 이해분석이 된다그는 분명 공부하는 예술가다',\n",
       " '평론가들이 블러드다이아몬드를 가리키니 그 손가락헐리우드영화만쳐다보는 평을한다 물론 메시지 뿐 아니라 수단도 중요하다 하지만 평론가들처럼 생각한다면 세상 모든영화는 오로지 다큐만으로 존재해야할듯 싶다 제발 자신의무식을 우월감으로 표출하지마라 역겹다',\n",
       " '정말 뭔가라도 일꺠워 줄 것만 같은 리뷰들은 읽다보면 허황에 지나지 않은 것 같고 순전 에드워드 노튼때문에 봤다지만 정말 평점에 낚인 기분이다 공감가는 것이라면 감옥가는 길이 내게 있어선 군대 첫 가족 면회외박에서 다시 위병소로 돌아갈때 느낌정도',\n",
       " '혹자가 패퓨7의 어느씬을보고 이영화를 언급하기에 무작정 챙겨본 영화다 마지막 장면만 멋있다는 생각뿐 그앞의 내용은 페미니즘에대한 전개가 상당히 유치하다고 느껴질뿐이다 따지고보면 뭐든게 상징적 비유적 표현들이였지만 억지스러움에 진절머리만 날뿐이였다',\n",
       " '개봉당시에 한국영화 보고 평론 쓰는 과제가 있었는데 당시 개봉한 한국영화가 정말로 몇 편 없었기에 이걸 돈주고 영화관에서 봤음 중간에 뛰쳐나오고 싶은 충동을 과제를 해야 한다는 신념으로 자제하며 힘들게 끝까지 본 기억이 난다 대본을 초딩이 쓴듯',\n",
       " '현재14년도 12월 초기다 허나 나란 사람은 현재나오는 멜로영화에 별 흥미를 느끼지 못한다 요즘 멜로영화는 코메디멜로의 위주여서 멜로의 깊은 맛을 느끼질 못한다그러나 시월애라는 멜로는 약14년전 영화이지만 지루함과따분함 따윈 느낄수 없었으며 최고다',\n",
       " '진정한 수행자들의 내부를 조명한게 아니라 아직도 6070년대 인냥 출가를 그저 속세와의 절연하는 것에만 초점을 맞춰 이 감독은 아직 본질을 모르고있다고 느꼈다 서양인들도 진정한 자유와 진리를 찾아 출가하는 요즘 시대에 고리타분한 관념만 보여준듯',\n",
       " '방금 이영화 봤는데 2012 레미제라블에 비해 미흡한게 많다고 생각합니다 ㅎ 그렇다고 욕까지 할정돈 아니지만 에포닌 없어서 아쉬웠고 떼마르띠에 부부 없어서 더 아쉬웠고 자베르가 뜸금없이 수갑채우고 자살합니다 이해는 하겠는데 엔딩이 진짜 너무 아쉽',\n",
       " '내 인생에 가장 기억남을 영화인것 같다 스토리도 완벽하고 모든 구성이 만족이다 이런 영화는 처음 본 것 같다 나도 모르게 상황에 이입해서 눈물이 나고 케이트와 벡 과 함께 상황을 겪고 있는 느낌을 받았다 인생을한번 생각해보게 되었다 최고의 영화다',\n",
       " '내 밑에 10점 주신분들 소설읽어보시면 지리실꺼임 소설이 훨남 이거 보면서 기가 차서 한숨쉬면서 봤었지 1편이랑 2편까지는 나도 정말 좋아했는데 3편에서 갑자기 수준 낮아진거 같아서 실망했음 그동안 내가 나이먹은것도 있겠지만 별로 결론은 소설이 짱임',\n",
       " '감독님 말처럼 장애를 연민의 대상으로 보지 않아서 좋았어요 비장애인들의 생활처럼 조금은 특별해 보이는 삶을 부러움과 즐거움과 감동으로 볼수 있어서 좋았네요 만약 제가 수화와 지문자라는 언어를 더 잘았다면 더 웃고 울수 있었을것 같아서 아쉬웠습니다',\n",
       " '휴머니즘이 있는 드라마 재미만 있는 공중파 드라마들 보다 더 깊이있고 잔잔한 웃음이 있는 드라마였다 초반에는 현지엽의 러브라인만 눈에 들어왔는데 지금은 못난이 삼형제와 김혜자님이 표현해내신 삶들로 인해 웃었다가 울었다가 한다 아쉽다 빨리 끝나서 ㅠ',\n",
       " '유치한 말장난에 로맨스로 똘똘뭉친건 둘째치고 두남자를 미치게만드는 여자가 리즈위더스푼이라니 집중이 안된다 집중이 샤를리즈 테론도 아니고 내가 영화 웬만하면 끝까지 보는데 리즈위더스푼이 집에서 상의만입고 춤출때 나에게 1시간03분의 시간을 아꼈다',\n",
       " '삶의 순간에서 선택에 따라 다른 결과의 세계가 있다면 어떨까하는 생각은 살면서 한번 쯤은 해볼것이다 나도 평행이론과 시간과 관련된 영화를 좋아하는데 정말 깔끔하고 잘 만든 영화인것같다 그저 참신한 소재를 나열하는것 이상으로 감동을 더한 영화였다',\n",
       " '초반에는볼만한데 배싸움에선 내용이 갑자기말도안되게 넘어가고 기입니다 제가영화보면서 중간에끄긴처음이네요 아무리 그지같은영화라도 끝까지봣는데 이건 배씬에서 다필요없고 보기싫단생각듭니다 연기하는분들 연기좋아서봣는데 다필요없고 한마디로 디워보다심합니다ㅋ',\n",
       " '여주인공은 아름다움 여신 그 자체였다 저승사자와의 산으로가는 러브스토리로 중간에 매우 혼란스러웠으나 천녀유혼이 내게 깊은 감명을 주었던 어린 시절에 비해 지금의 내가 나이든 탓인것 같다 순수한 마음으로 본다면 가슴설렘을 듬푹 품을 수 있는 영화다',\n",
       " '정말 몰입해서 봤던 영화입니다 군인 정말대단하다는생각바께안들고요 아멋집니다 특히마지막 여자가 아직 살아있는 두명 찾기전엔 못떠난다고했을때 한번 제독이 바로업어가는장면에 한번 마지막으로 찾아서 군인이 손들었을때 전율을 느꼈습니다 감동이란 이런겁니다',\n",
       " '약간 전개가 빠른듯하지만 그래도 감정이입충만했던영화 지난날의 아픔을 여전히 갖고있는 그 가족과 후손들에게 빼앗긴것을 돌려주고 무엇보다 잘못을 인정하고 정식적인 사과가 필요한것같다 다시금 나치와같은일이 역사에 등장해선 안된다는 생각을 들게한 영화',\n",
       " '별점반개주는게아깝습니다뭐이런방송이다있나싶네요게스트를 네분이나 불러놓고 삼십분도넘게계속클라라씨만얘기하시고 승리씨는 한십오분정도 김준호씨는오분김대희씨는한마디이게말이되나요이번엔승리씨때문에봤지만 하는질문마다 몰아가기식으로하고 정말눈쌀찌푸려지는방송이네요',\n",
       " '영화를 다 본 지금도 배가 너무 아프고 눈물이 아직도 흘르고 있을만큼 너무 웃기다 너무 웃어서 그런지 아직도 광대가 다 아플지경이다 정말 멋있는 영화 ㅋㅋ 이게 연기인지 실제인지 구분이 안 갈 정도로 정말 주연배우 두명이 혼신의 힘을다해 연기를 한다',\n",
       " '정말 드라마 이따구로 밖에 못만드냐 저번주 까지 꾹참고봤더니 2편정도 기억 찾느라 바둥거릴테고 기억찾고 춘희 노래부르는데 가서 사랑한다 할테고 이터널선샤인 처럼 못만들면 정말 작가 개호구네 대체 뻔한 내용도 전개가 좋으면 볼만한것을 중간도 못가냐',\n",
       " '어떻게든 소소하고 잔잔하게 여자들 공감 끌어내려고 한거 같은데 나도 20대 여자지만 연애하라는 잔소리로 밖에 안들렸고 등장인물들은 어찌나 많은지 발연기에 몰입도 안됫음 그리고 한국판 섹스앤더시티라고 한사람아 여자 4명 모이면 무조건 섹스앤더시티냐',\n",
       " '나름 영화 매니아이며 코엔의 파고를 다섯 손가락에 들정도로 좋아했지만 이 작품은 3번이나 끝까지 보려했으니 20분 보고 지웠슴 서부 영화이기에 현대적 어프로치감 없는건 그렇다 치지만 매력적인 여성 캐릭도 없고 현실적인 몰입감도 없고 편집이 느림',\n",
       " '저는 한국문화영상 고등학교에 재학중인 학생입니다동아리 활동을 통해서 더 레이디란 영화를 감상하였는데 버마 애서 이런 당황스럽고 황당한 일이 발생됫다는것을 영화를 감상하고서야 알앗습니다 나라를위해 희생하여 노력하는 아웅산수치의 모습을보고 감동이었다',\n",
       " '처음에는 웃으면서 보다가 후반부에 진짜 너무 울었어요 내용 정말 좋아요 무었보다 배우들의 연기가 다 좋았어요 특히 이기광씨의 연기를 보고 깜짝놀랬네요 아이돌은 연기를 못한다는 생각을 가지고 있었는데 제 생각이 잘못된거 였어요 정말 잘 하시더라구요',\n",
       " '댄싱9은차라리생방하지마요느므화가남ㅋ댄싱9다음시즌이어가고싶다면조작하지말고쓸데없는9에집착하는거하지말고인원수9명유지나하시고사전점수3점은상관없고심사위원점수공개하시고아그리고진심마지막에한명떨어트릴때하는춤추는거절대ㄴㄴ그비슷한것도절대안됨너무잔인하십니다엠넷이여',\n",
       " '만감이 교차한다 단순히 배우들의 연기력을보고 감탄하는 그 이상으로 의미있는 안타까움과 끝나지 않은 그 무엇인가가 존재했다 지금 이 순간에도 현재진행형인의미로흘러가는 민족의 뼈아픈 상처를 조금이나마 씻고 더 나은 미래를 조금이나마 희망할수있게해주었다',\n",
       " '오랜시간동안 소련구러시아를 악당으로 만들어 잡아먹던 미국 할리웃이 더 이상 꺼리가 없어지자북한 등의 소재로 먹잇감을 만들다가 그것또한 소재가 고갈되자 데가리굴려 생각해 낸 것이 이 영화 입니다 돈벌이에 눈깔이 먼 할리웃의 전형적인 반러 영화입니다',\n",
       " '발로 쓴 듯 대충 만들어진 얄팍한 스토리 위로 미스터리는 어설프게 나타나고 섹시함에 관해 나름 노골적으로 한다지만 전혀 매력 없이 엉성하며 재밌지도 않고 무척 민망한 코미디에 지루할 뿐이다 이딴 쓰레기 영화에 시간을 썼다는 사실이 무척 불쾌하다',\n",
       " '처음부터 끝까지 클라이스막스로 달리더니 역시 반전도없고 반전만 놀리는 그런 짜집기한 감정대립에 부자연스러운 연기까지 처음부터 끝까지 이요원 아무런 가치성없는 케릭터 ㅎㅎ 끝까지 고수만 죽일려고 하다가 지애미 보내고고수는 허구헛날 이랬다가 저랬다가',\n",
       " '완전 최고의영화다 리딕은 빈디젤은 분노의질주보다 영화가 훨씬더 멋있게나온다 수년을기다린 보람이있다 몇번더보려고 했는데 일이너무밀려 한동안못보다가 다시또보려했는데 20일도 안지나서 이미 영화관에서 사라지고없었다 우리나라영화보는수준이다 미박스오피스1위',\n",
       " '홈페이지도 들어가기 싫어서 그냥 여기다 남긴다 순옥킴 이 미친작가야 앞으로 절대 드라마 만들지 마라 독자들 뒷통수 치는게 네년 취미냐 어떻게 망쳐도 드라마를 이렇게 까지 쓰레기로 만드냐 내가 다섯손가락때도 그렇고 니년이만든거 보다가시간낭비한게아깝다',\n",
       " '도성시리즈 흑사회 나이트폴을 본 이후로 장가휘님의 팬이되었는데 어둡고 불확실했던 사람들이 하나의 행복을 위해 몸을 던져가는 영상을 보면 뭉클하기도하고 장가휘님과 같이 연기했던 출연진분들도 다시금 새롭게 보게되네요 인생에 꼭봐하는 영화주저말고 보세여',\n",
       " '야이 징징이들아 벌써 12년 전에 만든건데 그 당시 한국무협영화 수준치곤 잘만들었지 뭘 이러니저러니 말이많어ㅡㅡ 당시엔 재밌게만봤는데 ㅈㄹ들은ㅉㅉ 10점주고싶지만 9점준건 역시 조금 빠르게전개해도될부분이 아쉬워서임 그빼곤 지금봐도 괜찮은영화다 굿',\n",
       " '타락하고 더러워진 이 사회에 대한 답답함과 고민으로 진정으로 외로워하고 괴로워하는 트래비스같은 캐릭터가 모든 영화 통틀어서 얼마나 되나 온갖 부도덕으로 뒤덥힌 사회를 살아가는 현대인들에게 이 영화는 필수이며 보고 한번쯤 생각해봐야 할 최고의 영화다',\n",
       " '저 밑에 누가 이든레이크 비슷하다고해서 봤는데 이제껏 본 공포고어물중 최악이었음무섭지도 잔인하지도 그렇다고 긴장감도 전혀없음80년대 동네4류극장에서 틀어주던 어느나라에서 만들었는지도모를 족보없는 영화류임별하나준건 전반부에 영상미와 음악좋았기때문',\n",
       " '괴물영화 생각하면 실망하시겠지만 그냥 영화 한 편 본다하고 보면 아주 잘 만든 영화입니다 10점까지는 아닌데 제 생각보다 워낙 평점이 낮아서 10점 해놓고 갑니다 괴물영화는 맞는데 에이리언 우주전쟁류는 결코 아닙니다ㅎ 잔잔한 로드무비에 가깝습니다',\n",
       " '개연성 너무 없고 대사도 뻔하고 케미도 없고 평점 7점이상은 되길래 기대하고 봤는데 완전 대실망 웬만큼 지루한 영화라도 결말이라도 탄탄하고 좋은 대사 많았으면 괜찮았다 치는 편인데 감동도 없고 주연배우 케미도 없고 재미도 없고 본 시간이 아까움',\n",
       " '강동원씨 영화는 항상 극장에서 보는데 이번 만큼은 정말인터뷰 보니까 강동원씨는 송혜교씨가 먼저 캐스팅 되고 서로 안부 물어보다가 이 영화 얘길 접하고 시나리오 건네받아서 출연하게 됐다던데 송혜교씨에게 안부를 물어봤다가 영화인생에 오점을 남겼네요',\n",
       " '재밌어서 보긴하는데 확실히 케이블 드라마라그런지 주연급들이 넘 약한거같아요 그외분들은 연기너무잘하는데 특히 제인이맡은배우는 너무어색한듯 표정도그렇고 차영이는 너무 소리만질러대는거같아요 세트장이 울려서 뭔가 집에서 대사하는장면나와도 부자연스러워요',\n",
       " '배경도 좋고 아만다도 이쁘고 스토리도 뻔할수있지만 좋다 이제서야라도 이런영화를 알고 봐서 다행이다 항상같은실수를 반복하지만 정말 사랑한다면 놓치면안될꺼같다 헤어지는건 시간으로 잊지만 시작도못한 짝사랑을 보내는건 시간이 흐를수록 더욱 미련이 남는다',\n",
       " '그시대 문화와 미로 승부하는 영화 소품의상배경색감은 정말 예쁘다 그 쪽에 중점뒀으니 스토리나 감정이 약한건 괜찮은게 흐름도없고 주인공의 상황이나 감정을 그냥 겉핥기함 배우들얼굴이 시대나 역할에 안맞아서 비쥬얼도 백점 아님 오로지 소품배경으로 2점',\n",
       " '진짜 보는동안 감독이 누군지 궁금하세 만드는 영화네요 배우들의 노력을 쓰래기로 만드는 영화네요 만들어 놓고 보기는 하셧는지 이정도로 짜임세 떨어지는 영화는 오랫만입니다 스릴러라고 하기 창피하네요 하나부터 열까지 다 쓰래기 아배우들의 연기는 좋습니다',\n",
       " '에바의 모습이 내게도 있다 엄마의 사랑이란 기반없이 자란 아이는 냉소적이고 이기적이며 부정적 시각을 갖게 되고 심지어 죄의식이 결여되어 제 잘못을 지적하는 사람에게 공격성을 보이며 수긍하려 들지 않더라늦었지만 아이에게 사랑을 주려 노력하고 있다',\n",
       " '왤케 잭한테 저렇게애정이깊지 솔직히 난하울의움직이는성에서 하울한테는 애정이생겼지만 잭은모르겠던데 그냥 어린애같던데 난평점먼저보고나서봐서 얼마나 매력쩔게나오면저럴까싶었는데 그정돈아니었는데 저런사람은 초딩이나 중딩아닐까싶네ㅋㅋ아님말고ㅋ암튼영화는괜찮았다',\n",
       " '코믹하고 슬프고 감동있고 이준의 연기에 몰입하고 빠져들었어요 말 그대로 하균신 역시 기대를저버리지않네요 장나라와 박예진도 짱짱이고요 완벽한드라마네요 이준 신하균은 상 받았으면좋겠네요 한회도 빠뜨리지 않고 본방사수중이에요 진짜 빠져들어요 이준화이팅♥',\n",
       " '기껏해야 벽에 대가리나 박는 에이리언이 엘리베이터 이용에 무임승차까지 하는게 감탄스러웠고 아주매미가 로봇 타고 나와서 에이리언 귓방맹이 2대 때리는데 그렇게 짜릿할수가 없더라 무엇보다도 뉴트가 너무 사랑스럽더라 아청법은 꼭 필요한거 같다 뉴트♥',\n",
       " '12부 남은 1회분까지 모두 본방사수할 생각이다 아쉬운 한주가 지나면 더이상 코스모스를 볼 수 없다는 허탈감에 벌써부터 슬프다 지식이면 지식에 상상력과 교훈까지 모든 걸 갖춘 코스모스는 여러 관점을 정확하게 알려줬다 최고이자 최후의 다큐멘터리다',\n",
       " '인터스텔라가 개봉전에 그런 엄청난 기대를 얻은것은 크리스토퍼 놀란이란 감독이전에 그 영화자체가 바로 이 컨택트라는 영화의 후속작이었다는 점 때문이었다 물론 그 기대는 산산조각 박살이 나 버렸지만 두 영화를 비교하는 자체가 컨택트에 대한 모욕이다',\n",
       " '진심 이영화 진짜 역대급에 들정도로 3류 미국 성인영화 내용에 진지함 한스푼 추가 선정성 2스푼 빼서 만든 이도저도 아닌 쓰레기 정말 댓글 잘 안다는데 너무 억울해서 댓글 2개 쓴다 심지어 연속 댓글도 불가능한데 기다렸다가 쓸 정도 다른 피해자',\n",
       " '재미있는데 몇몇 사람들이야 말로 다른 배트맨시리즈로 이 영화에 이상한기대를 하고 있는거 같다 급유머와 베트크레딧카드 ㅋ배트맨시리즈 중 이렇게 유쾌한 시원한 내용을 담은 영화가 또 있을까 진짜 무슨 개똥철학에 대한 이상한 기대만 아니면 재밌는영화',\n",
       " '처음엔 아기에게 반해서 마냥 흐뭇하게 웃다가 대한민국 교육시스템에 대해 고민해보게 되고 가족이 화해하는 모습에서 우리 가족이 보여 울다가 가족이 역이민을 결정한 이유를 듣고 그 당시 한국의 시대적 상황까지 돌아보게 되는 훌륭한 사적공적 다큐영화',\n",
       " '그리 만족스럽진못했어도 7점은 나와야되는것같아 10점줌 주인공들연기도 훌륭했고 내용도 이정도면 괜찮았다 해피엔딩으로끝났으면 그저 진부한영화가 되버릴뻔 그래도 엔딩이 섭섭한건 없지않아있었음 킬러들의도시도그렇고 콜린파렐을 너무 축축하게 끝내버리는듯',\n",
       " '시간이 아깝다 어린 여주의 연기는 인상적이었고 나중이 기대되어서 좋았고 남주 여주 외모도 꽤 반반해서 그냥저냥 봤지만 일본 특유의 오버액션이 곳곳에 들어나 웃기지도 공감도 가지않는 부분이 많았고 그로 인해 영화의 맥을 탁탁 끊었다 내용도 뻔했다']"
      ]
     },
     "execution_count": 41,
     "metadata": {},
     "output_type": "execute_result"
    }
   ],
   "source": [
    "train_len = train.document.apply(lambda x: len(x))\n",
    "\n",
    "train.loc[train_len[train_len > 135].index].document.tolist()[:10]"
   ]
  },
  {
   "cell_type": "code",
   "execution_count": 42,
   "id": "3448246b",
   "metadata": {},
   "outputs": [],
   "source": [
    "corpus = train.document.tolist()"
   ]
  },
  {
   "cell_type": "markdown",
   "id": "98d1bfb3",
   "metadata": {},
   "source": [
    "### 네이버 영화리뷰 감정 분석 코퍼스에 SentencePiece를 적용시킨 모델 학습하기"
   ]
  },
  {
   "cell_type": "code",
   "execution_count": 32,
   "id": "249bf886",
   "metadata": {},
   "outputs": [
    {
     "name": "stderr",
     "output_type": "stream",
     "text": [
      "sentencepiece_trainer.cc(177) LOG(INFO) Running command: --input=/aiffel/aiffel/sp_tokenizer/data/korean-english-nsmc.train.ko.temp --model_prefix=korean_spm --vocab_size=8000\n",
      "sentencepiece_trainer.cc(77) LOG(INFO) Starts training with : \n",
      "trainer_spec {\n",
      "  input: /aiffel/aiffel/sp_tokenizer/data/korean-english-nsmc.train.ko.temp\n",
      "  input_format: \n",
      "  model_prefix: korean_spm\n",
      "  model_type: UNIGRAM\n",
      "  vocab_size: 8000\n",
      "  self_test_sample_size: 0\n",
      "  character_coverage: 0.9995\n",
      "  input_sentence_size: 0\n",
      "  shuffle_input_sentence: 1\n",
      "  seed_sentencepiece_size: 1000000\n",
      "  shrinking_factor: 0.75\n",
      "  max_sentence_length: 4192\n",
      "  num_threads: 16\n",
      "  num_sub_iterations: 2\n",
      "  max_sentencepiece_length: 16\n",
      "  split_by_unicode_script: 1\n",
      "  split_by_number: 1\n",
      "  split_by_whitespace: 1\n",
      "  split_digits: 0\n",
      "  treat_whitespace_as_suffix: 0\n",
      "  allow_whitespace_only_pieces: 0\n",
      "  required_chars: \n",
      "  byte_fallback: 0\n",
      "  vocabulary_output_piece_score: 1\n",
      "  train_extremely_large_corpus: 0\n",
      "  hard_vocab_limit: 1\n",
      "  use_all_vocab: 0\n",
      "  unk_id: 0\n",
      "  bos_id: 1\n",
      "  eos_id: 2\n",
      "  pad_id: -1\n",
      "  unk_piece: <unk>\n",
      "  bos_piece: <s>\n",
      "  eos_piece: </s>\n",
      "  pad_piece: <pad>\n",
      "  unk_surface:  ⁇ \n",
      "}\n",
      "normalizer_spec {\n",
      "  name: nmt_nfkc\n",
      "  add_dummy_prefix: 1\n",
      "  remove_extra_whitespaces: 1\n",
      "  escape_whitespaces: 1\n",
      "  normalization_rule_tsv: \n",
      "}\n",
      "denormalizer_spec {}\n",
      "trainer_interface.cc(329) LOG(INFO) SentenceIterator is not specified. Using MultiFileSentenceIterator.\n",
      "trainer_interface.cc(178) LOG(INFO) Loading corpus: /aiffel/aiffel/sp_tokenizer/data/korean-english-nsmc.train.ko.temp\n",
      "trainer_interface.cc(385) LOG(INFO) Loaded all 145510 sentences\n",
      "trainer_interface.cc(400) LOG(INFO) Adding meta_piece: <unk>\n",
      "trainer_interface.cc(400) LOG(INFO) Adding meta_piece: <s>\n",
      "trainer_interface.cc(400) LOG(INFO) Adding meta_piece: </s>\n",
      "trainer_interface.cc(405) LOG(INFO) Normalizing sentences...\n",
      "trainer_interface.cc(466) LOG(INFO) all chars count=4969659\n",
      "trainer_interface.cc(477) LOG(INFO) Done: 99.9501% characters are covered.\n",
      "trainer_interface.cc(487) LOG(INFO) Alphabet size=1559\n",
      "trainer_interface.cc(488) LOG(INFO) Final character coverage=0.999501\n",
      "trainer_interface.cc(520) LOG(INFO) Done! preprocessed 145510 sentences.\n",
      "unigram_model_trainer.cc(139) LOG(INFO) Making suffix array...\n",
      "unigram_model_trainer.cc(143) LOG(INFO) Extracting frequent sub strings...\n",
      "unigram_model_trainer.cc(194) LOG(INFO) Initialized 313586 seed sentencepieces\n",
      "trainer_interface.cc(526) LOG(INFO) Tokenizing input sentences with whitespace: 145510\n",
      "trainer_interface.cc(537) LOG(INFO) Done! 304749\n",
      "unigram_model_trainer.cc(489) LOG(INFO) Using 304749 sentences for EM training\n",
      "unigram_model_trainer.cc(505) LOG(INFO) EM sub_iter=0 size=153930 obj=14.1706 num_tokens=644321 num_tokens/piece=4.18581\n",
      "unigram_model_trainer.cc(505) LOG(INFO) EM sub_iter=1 size=141565 obj=13.2714 num_tokens=647424 num_tokens/piece=4.57333\n",
      "unigram_model_trainer.cc(505) LOG(INFO) EM sub_iter=0 size=106112 obj=13.3537 num_tokens=679452 num_tokens/piece=6.40316\n",
      "unigram_model_trainer.cc(505) LOG(INFO) EM sub_iter=1 size=105891 obj=13.3002 num_tokens=679869 num_tokens/piece=6.42046\n",
      "unigram_model_trainer.cc(505) LOG(INFO) EM sub_iter=0 size=79416 obj=13.5176 num_tokens=719186 num_tokens/piece=9.05593\n",
      "unigram_model_trainer.cc(505) LOG(INFO) EM sub_iter=1 size=79407 obj=13.4583 num_tokens=719321 num_tokens/piece=9.05866\n",
      "unigram_model_trainer.cc(505) LOG(INFO) EM sub_iter=0 size=59555 obj=13.6969 num_tokens=756475 num_tokens/piece=12.7021\n",
      "unigram_model_trainer.cc(505) LOG(INFO) EM sub_iter=1 size=59555 obj=13.6356 num_tokens=756498 num_tokens/piece=12.7025\n",
      "unigram_model_trainer.cc(505) LOG(INFO) EM sub_iter=0 size=44666 obj=13.9103 num_tokens=796152 num_tokens/piece=17.8246\n",
      "unigram_model_trainer.cc(505) LOG(INFO) EM sub_iter=1 size=44666 obj=13.8477 num_tokens=796143 num_tokens/piece=17.8244\n",
      "unigram_model_trainer.cc(505) LOG(INFO) EM sub_iter=0 size=33499 obj=14.1503 num_tokens=836705 num_tokens/piece=24.977\n",
      "unigram_model_trainer.cc(505) LOG(INFO) EM sub_iter=1 size=33499 obj=14.0862 num_tokens=836710 num_tokens/piece=24.9772\n",
      "unigram_model_trainer.cc(505) LOG(INFO) EM sub_iter=0 size=25124 obj=14.421 num_tokens=878427 num_tokens/piece=34.9637\n",
      "unigram_model_trainer.cc(505) LOG(INFO) EM sub_iter=1 size=25124 obj=14.3515 num_tokens=878519 num_tokens/piece=34.9673\n",
      "unigram_model_trainer.cc(505) LOG(INFO) EM sub_iter=0 size=18843 obj=14.7159 num_tokens=922492 num_tokens/piece=48.9567\n",
      "unigram_model_trainer.cc(505) LOG(INFO) EM sub_iter=1 size=18843 obj=14.6377 num_tokens=922581 num_tokens/piece=48.9615\n",
      "unigram_model_trainer.cc(505) LOG(INFO) EM sub_iter=0 size=14132 obj=15.038 num_tokens=968937 num_tokens/piece=68.5633\n",
      "unigram_model_trainer.cc(505) LOG(INFO) EM sub_iter=1 size=14132 obj=14.9492 num_tokens=969029 num_tokens/piece=68.5698\n",
      "unigram_model_trainer.cc(505) LOG(INFO) EM sub_iter=0 size=10599 obj=15.3953 num_tokens=1018622 num_tokens/piece=96.1055\n",
      "unigram_model_trainer.cc(505) LOG(INFO) EM sub_iter=1 size=10599 obj=15.2884 num_tokens=1018780 num_tokens/piece=96.1204\n",
      "unigram_model_trainer.cc(505) LOG(INFO) EM sub_iter=0 size=8800 obj=15.5887 num_tokens=1051115 num_tokens/piece=119.445\n",
      "unigram_model_trainer.cc(505) LOG(INFO) EM sub_iter=1 size=8800 obj=15.5221 num_tokens=1051289 num_tokens/piece=119.465\n",
      "trainer_interface.cc(615) LOG(INFO) Saving model: korean_spm.model\n",
      "trainer_interface.cc(626) LOG(INFO) Saving vocabs: korean_spm.vocab\n"
     ]
    }
   ],
   "source": [
    "import sentencepiece as spm\n",
    "import os\n",
    "\n",
    "temp_file = os.getenv('HOME')+'/aiffel/sp_tokenizer/data/korean-english-nsmc.train.ko.temp'\n",
    "\n",
    "vocab_size = 8000\n",
    "\n",
    "with open(temp_file, 'w') as f:\n",
    "    for row in corpus:   # 이전에 나왔던 정제했던 corpus를 활용해서 진행해야 합니다.\n",
    "        f.write(str(row) + '\\n')\n",
    "\n",
    "spm.SentencePieceTrainer.Train(\n",
    "    '--input={} --model_prefix=korean_spm --vocab_size={}'.format(temp_file, vocab_size)    \n",
    ")"
   ]
  },
  {
   "cell_type": "code",
   "execution_count": 33,
   "id": "091105c6",
   "metadata": {},
   "outputs": [
    {
     "name": "stdout",
     "output_type": "stream",
     "text": [
      "-rw-r--r-- 1 root root 377035 Jul  1 02:27 korean_spm.model\r\n",
      "-rw-r--r-- 1 root root 146347 Jul  1 02:27 korean_spm.vocab\r\n"
     ]
    }
   ],
   "source": [
    "#위 Train에서  --model_type = unigram이 디폴트 적용되어 있습니다. --model_type = bpe로 옵션을 주어 변경할 수 있습니다.\n",
    "\n",
    "!ls -l korean_spm*"
   ]
  },
  {
   "cell_type": "code",
   "execution_count": 55,
   "id": "02a7304f",
   "metadata": {},
   "outputs": [],
   "source": [
    "sample = '아기자기하고 순수한이런영화좋다♥해피엔딩 결말도굿♥우울했는데 영화보고 힐링♥'"
   ]
  },
  {
   "cell_type": "code",
   "execution_count": 56,
   "id": "97c1200a",
   "metadata": {},
   "outputs": [
    {
     "name": "stdout",
     "output_type": "stream",
     "text": [
      "[4533, 4160, 32, 2262, 3624, 1843, 289, 54, 421, 3220, 3119, 1931, 289, 99, 290, 629, 2715, 2746, 289]\n",
      "['▁아기', '자기', '하고', '▁순수한', '이런영화', '좋다', '♥', '해', '피', '엔딩', '▁결말도', '굿', '♥', '우', '울', '했는데', '▁영화보고', '▁힐링', '♥']\n",
      "아기자기하고 순수한이런영화좋다♥해피엔딩 결말도굿♥우울했는데 영화보고 힐링♥\n"
     ]
    }
   ],
   "source": [
    "s = spm.SentencePieceProcessor()\n",
    "s.Load('korean_spm.model')\n",
    "\n",
    "# SentencePiece를 활용한 sentence -> encoding\n",
    "tokensIDs = s.EncodeAsIds(sample)\n",
    "print(tokensIDs)\n",
    "\n",
    "# SentencePiece를 활용한 sentence -> encoded pieces\n",
    "print(s.SampleEncodeAsPieces(sample,1, 0.0))\n",
    "\n",
    "# SentencePiece를 활용한 encoding -> sentence 복원\n",
    "print(s.DecodeIds(tokensIDs))"
   ]
  },
  {
   "cell_type": "markdown",
   "id": "55379344",
   "metadata": {},
   "source": [
    "## Tokenizer 함수 작성\n",
    "\n",
    "우리는 위에서 훈련시킨 SentencePiece를 활용하여 위 함수와 유사한 기능을 하는 sp_tokenize() 함수를 정의할 겁니다. 하지만 SentencePiece가 동작하는 방식이 단순 토큰화와는 달라 완전히 동일하게는 정의하기 어렵습니다. 그러니 아래 조건을 만족하는 함수를 정의하도록 하습니다.\n",
    "\n",
    "1. 매개변수로 토큰화된 문장의 list를 전달하는 대신 온전한 문장의 list 를 전달합니다.\n",
    "\n",
    "1. 생성된 vocab 파일을 읽어와 { <word> : <idx> } 형태를 가지는 word_index 사전과 { <idx> : <word>} 형태를 가지는 index_word 사전을 생성하고 함께 반환합니다.\n",
    "\n",
    "1. 리턴값인 tensor 는 앞의 함수와 동일하게 토큰화한 후 Encoding된 문장입니다. 바로 학습에 사용할 수 있게 Padding은 당연히 해야겠죠?"
   ]
  },
  {
   "cell_type": "markdown",
   "id": "28121773",
   "metadata": {},
   "source": [
    "### 학습된 모델로 sp_tokenize() 메소드 구현하기"
   ]
  },
  {
   "cell_type": "code",
   "execution_count": 39,
   "id": "beb0e586",
   "metadata": {},
   "outputs": [
    {
     "name": "stderr",
     "output_type": "stream",
     "text": [
      "/tmp/ipykernel_1316/3900349715.py:2: FutureWarning: The default value of regex will change from True to False in a future version.\n",
      "  train[col] = train[col].str.replace(\"[^ㄱ-ㅎㅏ-ㅣ가-힣0-9♥♡乃ㄳㅄ ]\",\"\") # 정규 표현식 수행\n",
      "/tmp/ipykernel_1316/3900349715.py:3: FutureWarning: The default value of regex will change from True to False in a future version.\n",
      "  train[col] = train[col].str.replace('^ +', \"\") # 공백은 empty 값으로 변경\n"
     ]
    }
   ],
   "source": [
    "test = preprocessing(test)"
   ]
  },
  {
   "cell_type": "code",
   "execution_count": 40,
   "id": "8d25e649",
   "metadata": {},
   "outputs": [],
   "source": [
    "test_data = test.document.tolist()"
   ]
  },
  {
   "cell_type": "code",
   "execution_count": 41,
   "id": "a05affe4",
   "metadata": {},
   "outputs": [],
   "source": [
    "import re"
   ]
  },
  {
   "cell_type": "code",
   "execution_count": 42,
   "id": "d1a64024",
   "metadata": {},
   "outputs": [],
   "source": [
    "def sp_tokenize(s, corpus): \n",
    "\n",
    "    tensor = []\n",
    "\n",
    "    for sen in corpus:\n",
    "        tensor.append(s.EncodeAsIds(sen))\n",
    "\n",
    "    with open(\"./korean_spm.vocab\", 'r') as f:\n",
    "        vocab = f.readlines()\n",
    " \n",
    "    word_index = {}\n",
    "    index_word = {}\n",
    "\n",
    "    for idx, line in enumerate(vocab):\n",
    "        word = line.split(\"\\t\")[0]\n",
    "\n",
    "        word_index.update({word:idx})\n",
    "        index_word.update({idx:word})\n",
    "\n",
    "    #tensor = tf.keras.preprocessing.sequence.pad_sequences(tensor, padding='post')\n",
    "\n",
    "    return tensor, word_index, index_word"
   ]
  },
  {
   "cell_type": "code",
   "execution_count": 43,
   "id": "6ea99325",
   "metadata": {},
   "outputs": [],
   "source": [
    "tensor, word_index, index_word = sp_tokenize(s, corpus)"
   ]
  },
  {
   "cell_type": "code",
   "execution_count": 44,
   "id": "c9ca4d01",
   "metadata": {},
   "outputs": [
    {
     "name": "stdout",
     "output_type": "stream",
     "text": [
      "토큰 길이 평균: 15.419716857947908\n",
      "토큰 길이 최대: 117\n",
      "토큰 길이 표준편차: 13.512547749642769\n",
      "설정 최대 길이: 42\n",
      "전체 문장의 0.9373857466840767%가 설정값인 42에 포함됩니다.\n"
     ]
    }
   ],
   "source": [
    "num_tokens = [len(tokens) for tokens in tensor]\n",
    "num_tokens = np.array(num_tokens)\n",
    "\n",
    "# 평균값, 최댓값, 표준편차\n",
    "print(f\"토큰 길이 평균: {np.mean(num_tokens)}\")\n",
    "print(f\"토큰 길이 최대: {np.max(num_tokens)}\")\n",
    "print(f\"토큰 길이 표준편차: {np.std(num_tokens)}\")\n",
    "\n",
    "max_tokens = np.mean(num_tokens) + 2 * np.std(num_tokens)\n",
    "maxlen = int(max_tokens)\n",
    "print(f'설정 최대 길이: {maxlen}')\n",
    "print(f'전체 문장의 {np.sum(num_tokens < max_tokens) / len(num_tokens)}%가 설정값인 {maxlen}에 포함됩니다.')"
   ]
  },
  {
   "cell_type": "code",
   "execution_count": 45,
   "id": "8f630bdd",
   "metadata": {},
   "outputs": [],
   "source": [
    "# 전체 샘플 중 길이가 max_len 이하인 샘플의 비율이 몇 %인지 확인\n",
    "\n",
    "def below_threshold_len(max_len, nested_list):\n",
    "    cnt = 0\n",
    "    for s in nested_list:\n",
    "        if(len(s) <= max_len):\n",
    "            cnt = cnt + 1\n",
    "    print('전체 샘플 중 길이가 %s 이하인 샘플의 비율: %s'%(max_len, (cnt / len(nested_list))*100))"
   ]
  },
  {
   "cell_type": "code",
   "execution_count": 46,
   "id": "af3a5ff5",
   "metadata": {},
   "outputs": [
    {
     "name": "stdout",
     "output_type": "stream",
     "text": [
      "전체 샘플 중 길이가 60 이하인 샘플의 비율: 98.22280255652532\n"
     ]
    }
   ],
   "source": [
    "max_len = 60\n",
    "below_threshold_len(max_len, tensor)"
   ]
  },
  {
   "cell_type": "code",
   "execution_count": 47,
   "id": "055cfd86",
   "metadata": {},
   "outputs": [],
   "source": [
    "X = tf.keras.preprocessing.sequence.pad_sequences(tensor, padding='pre', maxlen=60)"
   ]
  },
  {
   "cell_type": "code",
   "execution_count": 48,
   "id": "2d674bfd",
   "metadata": {},
   "outputs": [
    {
     "data": {
      "text/plain": [
       "(145510, 60)"
      ]
     },
     "execution_count": 48,
     "metadata": {},
     "output_type": "execute_result"
    }
   ],
   "source": [
    "X.shape"
   ]
  },
  {
   "cell_type": "code",
   "execution_count": 49,
   "id": "bb66f1d2",
   "metadata": {},
   "outputs": [
    {
     "data": {
      "text/plain": [
       "(145510,)"
      ]
     },
     "execution_count": 49,
     "metadata": {},
     "output_type": "execute_result"
    }
   ],
   "source": [
    "train.label.shape"
   ]
  },
  {
   "cell_type": "code",
   "execution_count": 90,
   "id": "761a4317",
   "metadata": {},
   "outputs": [],
   "source": [
    "import pandas as pd\n",
    "import sentencepiece as spm\n",
    "from sklearn.model_selection import train_test_split\n",
    "from sklearn.metrics import accuracy_score\n",
    "import tensorflow as tf\n",
    "from tensorflow.keras.preprocessing.sequence import pad_sequences\n",
    "from tensorflow.keras.models import Sequential\n",
    "from tensorflow.keras.layers import Embedding, Dense, LSTM, Dropout, Conv1D, GlobalMaxPooling1D, Dense\n",
    "from tensorflow.keras.callbacks import EarlyStopping, ModelCheckpoint\n",
    "from tensorflow.keras.models import load_model"
   ]
  },
  {
   "cell_type": "code",
   "execution_count": 51,
   "id": "a5df5b9e",
   "metadata": {},
   "outputs": [],
   "source": [
    "y = train['label']"
   ]
  },
  {
   "cell_type": "code",
   "execution_count": 52,
   "id": "3813a96b",
   "metadata": {},
   "outputs": [
    {
     "data": {
      "text/plain": [
       "(145510,)"
      ]
     },
     "execution_count": 52,
     "metadata": {},
     "output_type": "execute_result"
    }
   ],
   "source": [
    "y.shape"
   ]
  },
  {
   "cell_type": "code",
   "execution_count": 62,
   "id": "c8e452c0",
   "metadata": {},
   "outputs": [],
   "source": [
    "X_train, X_val, y_train, y_val = train_test_split(X, y, test_size=0.2, shuffle=True, stratify=y, random_state=42)\n",
    "\n",
    "# X_train = preprocess_data(X_train, sp)\n",
    "# X_test = preprocess_data(X_test, sp)"
   ]
  },
  {
   "cell_type": "markdown",
   "id": "a7e29c11",
   "metadata": {},
   "source": [
    "# 모델 구성하기"
   ]
  },
  {
   "cell_type": "markdown",
   "id": "755bb228",
   "metadata": {},
   "source": [
    "- 모델 선정 이유\n",
    "    >- 기존에 네이버 리뷰 프로젝트와 똑같이 모델을 사용하여 같은 환경에서 토큰에 따라 성능이 어떻게 변화할 수 있는지 확인하기 위해 같은 모델을 사용하였다.\n",
    "    >- 시계열에서 좋은 성능을 가지는 lstm, stacked lstm, 1d cnn 모델을 테스트하였다. \n",
    "\n",
    "- Metrics 선정 이유\n",
    "    >- 데이터 label 분포를 확인해본결과 거의 반반으로 분포해 있어서 acc를 사용하였다\n",
    "\n",
    "- Loss 선정 이유\n",
    "    >- 긍정, 부정을 분류하는 task이기에 binary_crossentropy 를 사용하였다.\n"
   ]
  },
  {
   "cell_type": "markdown",
   "id": "c89d7e4b",
   "metadata": {},
   "source": [
    "### LSTM 모델"
   ]
  },
  {
   "cell_type": "code",
   "execution_count": 86,
   "id": "7cbcd77f",
   "metadata": {},
   "outputs": [],
   "source": [
    "# 모델 설계\n",
    "tf.keras.backend.clear_session()\n",
    "\n",
    "model = Sequential()\n",
    "model.add(Embedding(vocab_size, 100))\n",
    "model.add(LSTM(128))\n",
    "model.add(Dense(1, activation='sigmoid'))"
   ]
  },
  {
   "cell_type": "code",
   "execution_count": 87,
   "id": "c530871c",
   "metadata": {},
   "outputs": [
    {
     "name": "stdout",
     "output_type": "stream",
     "text": [
      "Model: \"sequential_3\"\n",
      "_________________________________________________________________\n",
      "Layer (type)                 Output Shape              Param #   \n",
      "=================================================================\n",
      "embedding_3 (Embedding)      (None, None, 100)         800000    \n",
      "_________________________________________________________________\n",
      "lstm_3 (LSTM)                (None, 128)               117248    \n",
      "_________________________________________________________________\n",
      "dense_4 (Dense)              (None, 1)                 129       \n",
      "=================================================================\n",
      "Total params: 917,377\n",
      "Trainable params: 917,377\n",
      "Non-trainable params: 0\n",
      "_________________________________________________________________\n"
     ]
    }
   ],
   "source": [
    "model.summary()"
   ]
  },
  {
   "cell_type": "code",
   "execution_count": 88,
   "id": "8770b5c7",
   "metadata": {},
   "outputs": [],
   "source": [
    "# 모델 검증\n",
    "\n",
    "es = EarlyStopping(monitor='val_loss', mode='min', verbose=1, patience=4)\n",
    "mc = ModelCheckpoint('best_lstm_model.h5', monitor='val_acc', mode='max', verbose=1, save_best_only=True)"
   ]
  },
  {
   "cell_type": "code",
   "execution_count": 89,
   "id": "8fe29289",
   "metadata": {},
   "outputs": [
    {
     "name": "stdout",
     "output_type": "stream",
     "text": [
      "Epoch 1/20\n",
      "3638/3638 [==============================] - 37s 10ms/step - loss: 0.3965 - acc: 0.8224 - val_loss: 0.3457 - val_acc: 0.8475\n",
      "\n",
      "Epoch 00001: val_acc improved from -inf to 0.84747, saving model to best_lstm_model.h5\n",
      "Epoch 2/20\n",
      "3638/3638 [==============================] - 35s 10ms/step - loss: 0.3227 - acc: 0.8630 - val_loss: 0.3372 - val_acc: 0.8496\n",
      "\n",
      "Epoch 00002: val_acc improved from 0.84747 to 0.84963, saving model to best_lstm_model.h5\n",
      "Epoch 3/20\n",
      "3638/3638 [==============================] - 32s 9ms/step - loss: 0.3038 - acc: 0.8715 - val_loss: 0.3331 - val_acc: 0.8568\n",
      "\n",
      "Epoch 00003: val_acc improved from 0.84963 to 0.85685, saving model to best_lstm_model.h5\n",
      "Epoch 4/20\n",
      "3638/3638 [==============================] - 32s 9ms/step - loss: 0.2906 - acc: 0.8782 - val_loss: 0.3299 - val_acc: 0.8593\n",
      "\n",
      "Epoch 00004: val_acc improved from 0.85685 to 0.85925, saving model to best_lstm_model.h5\n",
      "Epoch 5/20\n",
      "3638/3638 [==============================] - 32s 9ms/step - loss: 0.2779 - acc: 0.8844 - val_loss: 0.3330 - val_acc: 0.8592\n",
      "\n",
      "Epoch 00005: val_acc did not improve from 0.85925\n",
      "Epoch 6/20\n",
      "3638/3638 [==============================] - 33s 9ms/step - loss: 0.2662 - acc: 0.8912 - val_loss: 0.3294 - val_acc: 0.8600\n",
      "\n",
      "Epoch 00006: val_acc improved from 0.85925 to 0.85998, saving model to best_lstm_model.h5\n",
      "Epoch 7/20\n",
      "3638/3638 [==============================] - 32s 9ms/step - loss: 0.2552 - acc: 0.8967 - val_loss: 0.3326 - val_acc: 0.8605\n",
      "\n",
      "Epoch 00007: val_acc improved from 0.85998 to 0.86049, saving model to best_lstm_model.h5\n",
      "Epoch 8/20\n",
      "3638/3638 [==============================] - 32s 9ms/step - loss: 0.2429 - acc: 0.9036 - val_loss: 0.3368 - val_acc: 0.8551\n",
      "\n",
      "Epoch 00008: val_acc did not improve from 0.86049\n",
      "Epoch 9/20\n",
      "3638/3638 [==============================] - 33s 9ms/step - loss: 0.2298 - acc: 0.9090 - val_loss: 0.3440 - val_acc: 0.8504\n",
      "\n",
      "Epoch 00009: val_acc did not improve from 0.86049\n",
      "Epoch 10/20\n",
      "3638/3638 [==============================] - 32s 9ms/step - loss: 0.2157 - acc: 0.9161 - val_loss: 0.3611 - val_acc: 0.8558\n",
      "\n",
      "Epoch 00010: val_acc did not improve from 0.86049\n",
      "Epoch 00010: early stopping\n"
     ]
    }
   ],
   "source": [
    "# 모델 훈련\n",
    "\n",
    "model.compile(optimizer='rmsprop', loss='binary_crossentropy', metrics=['acc'])\n",
    "history = model.fit(X_train, y_train, epochs=20, validation_data=(X_val, y_val), callbacks=[es, mc])"
   ]
  },
  {
   "cell_type": "code",
   "execution_count": 90,
   "id": "f0cead92",
   "metadata": {},
   "outputs": [],
   "source": [
    "def draw_graph(history):\n",
    "    history_dict = history.history\n",
    "    try:\n",
    "        acc = history_dict['accuracy']\n",
    "        val_acc = history_dict['val_accuracy']\n",
    "    except:\n",
    "        acc = history_dict['acc']\n",
    "        val_acc = history_dict['val_acc']\n",
    "    loss = history_dict['loss']\n",
    "    val_loss = history_dict['val_loss']\n",
    "\n",
    "    epochs = range(1, len(acc) + 1)\n",
    "\n",
    "    fig = plt.figure(figsize=(12, 5))\n",
    "\n",
    "    plt.subplot(1, 2, 1)\n",
    "    plt.plot(epochs, loss, 'r', label='Training loss')\n",
    "    plt.plot(epochs, val_loss, 'b', label='Validation loss')\n",
    "    plt.title('Training and validation loss')\n",
    "    plt.xlabel('Epochs')\n",
    "    plt.ylabel('Loss')\n",
    "    plt.legend()\n",
    "\n",
    "    plt.subplot(1, 2, 2)\n",
    "    plt.plot(epochs, acc, 'r', label='Training accuracy')\n",
    "    plt.plot(epochs, val_acc, 'b', label='Validation accuracy')\n",
    "    plt.title('Training and validation accuracy')\n",
    "    plt.xlabel('Epochs')\n",
    "    plt.ylabel('Accuracy')\n",
    "    plt.legend()\n",
    "\n",
    "    plt.show()"
   ]
  },
  {
   "cell_type": "code",
   "execution_count": 91,
   "id": "6d0157a6",
   "metadata": {
    "scrolled": true
   },
   "outputs": [
    {
     "name": "stdout",
     "output_type": "stream",
     "text": [
      "dict_keys(['loss', 'acc', 'val_loss', 'val_acc'])\n"
     ]
    }
   ],
   "source": [
    "history_dict = history.history\n",
    "print(history_dict.keys())"
   ]
  },
  {
   "cell_type": "code",
   "execution_count": 92,
   "id": "2df0e4ca",
   "metadata": {},
   "outputs": [
    {
     "data": {
      "image/png": "[encoded data removed]",
      "text/plain": [
       "<Figure size 864x360 with 2 Axes>"
      ]
     },
     "metadata": {},
     "output_type": "display_data"
    }
   ],
   "source": [
    "draw_graph(history)"
   ]
  },
  {
   "cell_type": "code",
   "execution_count": 93,
   "id": "8d4e936b",
   "metadata": {},
   "outputs": [],
   "source": [
    "def predict_x(s, corpus):\n",
    "    \n",
    "    tensor = []\n",
    "    for sen in corpus:\n",
    "        tensor.append(s.EncodeAsIds(sen))\n",
    "\n",
    "    tensor = tf.keras.preprocessing.sequence.pad_sequences(tensor, padding='pre', maxlen=42)\n",
    "\n",
    "    return tensor"
   ]
  },
  {
   "cell_type": "code",
   "execution_count": 94,
   "id": "96047704",
   "metadata": {},
   "outputs": [],
   "source": [
    "X_test = predict_x(s, test.document.tolist())\n",
    "y_test = test.label"
   ]
  },
  {
   "cell_type": "code",
   "execution_count": 95,
   "id": "db1a6c3b",
   "metadata": {},
   "outputs": [
    {
     "name": "stdout",
     "output_type": "stream",
     "text": [
      "1529/1529 [==============================] - 6s 4ms/step - loss: 0.3373 - acc: 0.8601\n",
      "\n",
      " 테스트 정확도: 0.8601\n"
     ]
    }
   ],
   "source": [
    "loaded_model = load_model('best_lstm_model.h5')\n",
    "print(\"\\n 테스트 정확도: %.4f\" % (loaded_model.evaluate(X_test, y_test)[1]))"
   ]
  },
  {
   "cell_type": "markdown",
   "id": "14b12ccf",
   "metadata": {},
   "source": [
    "# stacked lstm"
   ]
  },
  {
   "cell_type": "code",
   "execution_count": 68,
   "id": "b7a941ee",
   "metadata": {},
   "outputs": [
    {
     "name": "stdout",
     "output_type": "stream",
     "text": [
      "Model: \"sequential_1\"\n",
      "_________________________________________________________________\n",
      "Layer (type)                 Output Shape              Param #   \n",
      "=================================================================\n",
      "embedding_1 (Embedding)      (None, None, 300)         2400000   \n",
      "_________________________________________________________________\n",
      "lstm_1 (LSTM)                (None, None, 8)           9888      \n",
      "_________________________________________________________________\n",
      "lstm_2 (LSTM)                (None, 16)                1600      \n",
      "_________________________________________________________________\n",
      "dense_1 (Dense)              (None, 1)                 17        \n",
      "=================================================================\n",
      "Total params: 2,411,505\n",
      "Trainable params: 2,411,505\n",
      "Non-trainable params: 0\n",
      "_________________________________________________________________\n"
     ]
    }
   ],
   "source": [
    "# 모델 학습\n",
    "def create_model(vocab_size, word_vector_dim):\n",
    "    model = Sequential([\n",
    "        Embedding(vocab_size, word_vector_dim, input_shape=(None,)),\n",
    "        LSTM(8, return_sequences=True),\n",
    "        LSTM(16, return_sequences=False),\n",
    "        Dense(1, activation='sigmoid')\n",
    "    ])\n",
    "    model.compile(optimizer='adam', loss='binary_crossentropy', metrics=['accuracy'])\n",
    "    return model\n",
    "\n",
    "vocab_size = len(s)  # SentencePiece의 vocab size\n",
    "word_vector_dim = 300\n",
    "stacked_lstm_model = create_model(vocab_size, word_vector_dim)\n",
    "stacked_lstm_model.summary()"
   ]
  },
  {
   "cell_type": "code",
   "execution_count": 69,
   "id": "459e68a0",
   "metadata": {},
   "outputs": [],
   "source": [
    "es = EarlyStopping(monitor='val_loss', mode='min', verbose=1, patience=3)\n",
    "mc = ModelCheckpoint('stacked_lstm_best_model.h5', monitor='val_accuracy', mode='max', verbose=1, save_best_only=True)"
   ]
  },
  {
   "cell_type": "code",
   "execution_count": 70,
   "id": "32031b01",
   "metadata": {},
   "outputs": [
    {
     "name": "stdout",
     "output_type": "stream",
     "text": [
      "Epoch 1/20\n",
      "3638/3638 [==============================] - 44s 11ms/step - loss: 0.3752 - accuracy: 0.8303 - val_loss: 0.3395 - val_accuracy: 0.8483\n",
      "\n",
      "Epoch 00001: val_accuracy improved from -inf to 0.84826, saving model to stacked_lstm_best_model.h5\n",
      "Epoch 2/20\n",
      "3638/3638 [==============================] - 41s 11ms/step - loss: 0.2821 - accuracy: 0.8795 - val_loss: 0.3440 - val_accuracy: 0.8512\n",
      "\n",
      "Epoch 00002: val_accuracy improved from 0.84826 to 0.85118, saving model to stacked_lstm_best_model.h5\n",
      "Epoch 3/20\n",
      "3638/3638 [==============================] - 40s 11ms/step - loss: 0.2341 - accuracy: 0.9035 - val_loss: 0.3541 - val_accuracy: 0.8526\n",
      "\n",
      "Epoch 00003: val_accuracy improved from 0.85118 to 0.85259, saving model to stacked_lstm_best_model.h5\n",
      "Epoch 4/20\n",
      "3638/3638 [==============================] - 41s 11ms/step - loss: 0.1897 - accuracy: 0.9250 - val_loss: 0.3905 - val_accuracy: 0.8459\n",
      "\n",
      "Epoch 00004: val_accuracy did not improve from 0.85259\n",
      "Epoch 00004: early stopping\n"
     ]
    }
   ],
   "source": [
    "stacked_lstm_history = stacked_lstm_model.fit(X_train, y_train, epochs=20, validation_data=(X_val, y_val), callbacks=[es, mc])"
   ]
  },
  {
   "cell_type": "code",
   "execution_count": 74,
   "id": "0b056ff1",
   "metadata": {},
   "outputs": [
    {
     "data": {
      "image/png": "[encoded data removed]",
      "text/plain": [
       "<Figure size 864x360 with 2 Axes>"
      ]
     },
     "metadata": {},
     "output_type": "display_data"
    }
   ],
   "source": [
    "draw_graph(stacked_lstm_history)"
   ]
  },
  {
   "cell_type": "code",
   "execution_count": 84,
   "id": "cb4ffe53",
   "metadata": {},
   "outputs": [
    {
     "name": "stdout",
     "output_type": "stream",
     "text": [
      "1529/1529 [==============================] - 7s 4ms/step - loss: 0.3564 - accuracy: 0.8517\n",
      "\n",
      " 테스트 정확도: 0.8517\n"
     ]
    }
   ],
   "source": [
    "loaded_model = load_model('stacked_lstm_best_model.h5')\n",
    "print(\"\\n 테스트 정확도: %.4f\" % (loaded_model.evaluate(X_test, y_test)[1]))"
   ]
  },
  {
   "cell_type": "markdown",
   "id": "e506a337",
   "metadata": {},
   "source": [
    "## 모델링 1D CNN"
   ]
  },
  {
   "cell_type": "code",
   "execution_count": 71,
   "id": "18894c60",
   "metadata": {},
   "outputs": [
    {
     "name": "stdout",
     "output_type": "stream",
     "text": [
      "Model: \"sequential_2\"\n",
      "_________________________________________________________________\n",
      "Layer (type)                 Output Shape              Param #   \n",
      "=================================================================\n",
      "embedding_2 (Embedding)      (None, None, 256)         2048000   \n",
      "_________________________________________________________________\n",
      "dropout (Dropout)            (None, None, 256)         0         \n",
      "_________________________________________________________________\n",
      "conv1d (Conv1D)              (None, None, 256)         196864    \n",
      "_________________________________________________________________\n",
      "global_max_pooling1d (Global (None, 256)               0         \n",
      "_________________________________________________________________\n",
      "dense_2 (Dense)              (None, 128)               32896     \n",
      "_________________________________________________________________\n",
      "dropout_1 (Dropout)          (None, 128)               0         \n",
      "_________________________________________________________________\n",
      "dense_3 (Dense)              (None, 1)                 129       \n",
      "=================================================================\n",
      "Total params: 2,277,889\n",
      "Trainable params: 2,277,889\n",
      "Non-trainable params: 0\n",
      "_________________________________________________________________\n"
     ]
    }
   ],
   "source": [
    "embedding_dim = 256 # 임베딩 벡터의 차원\n",
    "dropout_ratio = 0.5 # 드롭아웃 비율\n",
    "num_filters = 256 # 커널의 수\n",
    "kernel_size = 3 # 커널의 크기\n",
    "hidden_units = 128 # 뉴런의 수\n",
    "\n",
    "cnn_model = Sequential()\n",
    "cnn_model.add(Embedding(vocab_size, embedding_dim))\n",
    "cnn_model.add(Dropout(dropout_ratio))\n",
    "cnn_model.add(Conv1D(num_filters, kernel_size, padding='valid', activation='relu'))\n",
    "cnn_model.add(GlobalMaxPooling1D())\n",
    "cnn_model.add(Dense(hidden_units, activation='relu'))\n",
    "cnn_model.add(Dropout(dropout_ratio))\n",
    "cnn_model.add(Dense(1, activation='sigmoid'))\n",
    "\n",
    "es = EarlyStopping(monitor='val_loss', mode='min', verbose=1, patience=3)\n",
    "mc = ModelCheckpoint('cnn_best_model.h5', monitor='val_acc', mode='max', verbose=1, save_best_only=True)\n",
    "\n",
    "cnn_model.compile(optimizer='adam', loss='binary_crossentropy', metrics=['acc'])\n",
    "cnn_model.summary()"
   ]
  },
  {
   "cell_type": "code",
   "execution_count": 72,
   "id": "dce2a193",
   "metadata": {},
   "outputs": [
    {
     "name": "stdout",
     "output_type": "stream",
     "text": [
      "Epoch 1/20\n",
      "3638/3638 [==============================] - 47s 7ms/step - loss: 0.4015 - acc: 0.8151 - val_loss: 0.3449 - val_acc: 0.8460\n",
      "\n",
      "Epoch 00001: val_acc improved from -inf to 0.84599, saving model to cnn_best_model.h5\n",
      "Epoch 2/20\n",
      "3638/3638 [==============================] - 24s 7ms/step - loss: 0.3115 - acc: 0.8687 - val_loss: 0.3357 - val_acc: 0.8528\n",
      "\n",
      "Epoch 00002: val_acc improved from 0.84599 to 0.85283, saving model to cnn_best_model.h5\n",
      "Epoch 3/20\n",
      "3638/3638 [==============================] - 24s 7ms/step - loss: 0.2678 - acc: 0.8894 - val_loss: 0.3354 - val_acc: 0.8546\n",
      "\n",
      "Epoch 00003: val_acc improved from 0.85283 to 0.85465, saving model to cnn_best_model.h5\n",
      "Epoch 4/20\n",
      "3638/3638 [==============================] - 24s 7ms/step - loss: 0.2284 - acc: 0.9060 - val_loss: 0.3737 - val_acc: 0.8460\n",
      "\n",
      "Epoch 00004: val_acc did not improve from 0.85465\n",
      "Epoch 5/20\n",
      "3638/3638 [==============================] - 24s 7ms/step - loss: 0.1964 - acc: 0.9198 - val_loss: 0.4034 - val_acc: 0.8523\n",
      "\n",
      "Epoch 00005: val_acc did not improve from 0.85465\n",
      "Epoch 6/20\n",
      "3638/3638 [==============================] - 24s 7ms/step - loss: 0.1689 - acc: 0.9314 - val_loss: 0.4351 - val_acc: 0.8491\n",
      "\n",
      "Epoch 00006: val_acc did not improve from 0.85465\n",
      "Epoch 00006: early stopping\n"
     ]
    }
   ],
   "source": [
    "cnn_history = model.fit(X_train, y_train, epochs=20, validation_data=(X_val, y_val), callbacks=[es, mc])"
   ]
  },
  {
   "cell_type": "code",
   "execution_count": 73,
   "id": "ef6ddc61",
   "metadata": {},
   "outputs": [
    {
     "name": "stdout",
     "output_type": "stream",
     "text": [
      "dict_keys(['loss', 'accuracy', 'val_loss', 'val_accuracy'])\n"
     ]
    }
   ],
   "source": [
    "history_dict = history.history\n",
    "print(history_dict.keys())"
   ]
  },
  {
   "cell_type": "code",
   "execution_count": 75,
   "id": "004072aa",
   "metadata": {},
   "outputs": [
    {
     "data": {
      "image/png": "[encoded data removed]",
      "text/plain": [
       "<Figure size 864x360 with 2 Axes>"
      ]
     },
     "metadata": {},
     "output_type": "display_data"
    }
   ],
   "source": [
    "draw_graph(cnn_history)"
   ]
  },
  {
   "cell_type": "code",
   "execution_count": 85,
   "id": "fdbac858",
   "metadata": {
    "scrolled": true
   },
   "outputs": [
    {
     "name": "stdout",
     "output_type": "stream",
     "text": [
      "1529/1529 [==============================] - 5s 3ms/step - loss: 0.3372 - acc: 0.8557\n",
      "\n",
      " 테스트 정확도: 0.8557\n"
     ]
    }
   ],
   "source": [
    "loaded_model = load_model('cnn_best_model.h5')\n",
    "print(\"\\n 테스트 정확도: %.4f\" % (loaded_model.evaluate(X_test, y_test)[1]))"
   ]
  },
  {
   "cell_type": "markdown",
   "id": "2617e0bf",
   "metadata": {},
   "source": [
    "## Sentence Piece 결과 정리 (test acc 기준)\n",
    "- lstm model : 0.8601\n",
    "- stacked lstm model : 0.8517\n",
    "- 1d cnn model : 0.8557"
   ]
  },
  {
   "cell_type": "markdown",
   "id": "5a606754",
   "metadata": {},
   "source": [
    "## 구현된 토크나이저를 적용하여 네이버 영화리뷰 감정 분석 모델을 재학습하기"
   ]
  },
  {
   "cell_type": "markdown",
   "id": "1efba2ed",
   "metadata": {},
   "source": [
    "# KoNLPy 형태소 분석기를 사용한 모델과 성능 비교하기"
   ]
  },
  {
   "cell_type": "markdown",
   "id": "39a6f623",
   "metadata": {},
   "source": [
    "- 꼬꼬마(kkma)는 java 용량 문제 및 속도가 너무 느려서 수많은 시도 끝에 테스트하기 어렵다는 판단을 내렸다"
   ]
  },
  {
   "cell_type": "code",
   "execution_count": 9,
   "id": "b64616c4",
   "metadata": {},
   "outputs": [],
   "source": [
    "hannanum = Hannanum()\n",
    "kkma = Kkma(max_heap_size=2048)\n",
    "komoran = Komoran()\n",
    "mecab = Mecab()\n",
    "okt = Okt()"
   ]
  },
  {
   "cell_type": "code",
   "execution_count": 101,
   "id": "bb1f6e53",
   "metadata": {},
   "outputs": [
    {
     "name": "stdout",
     "output_type": "stream",
     "text": [
      "[Hannanum] \n",
      "[('노래', 'N'), ('도', 'J'), ('너무즐겁고', 'N'), ('내용', 'N'), ('도', 'J'), ('아기자기', 'N'), ('귀여워요동화같은ㅠ근데', 'N'), ('아이들', 'N'), ('너무귀엽다♥', 'N')]\n",
      "[Kkma] \n",
      "[('노래', 'NNG'), ('도', 'JX'), ('너무', 'MAG'), ('즐겁', 'VA'), ('고', 'ECE'), ('내용', 'NNG'), ('도', 'JX'), ('아기자기', 'MAG'), ('귀엽', 'VA'), ('어', 'ECS'), ('요동', 'NNG'), ('화', 'XSN'), ('같', 'VA'), ('은', 'ETD'), ('ㅠ', 'UN'), ('그', 'VA'), ('ㄴ데', 'ECE'), ('아이', 'NNG'), ('들', 'XSN'), ('너무', 'MAG'), ('귀엽', 'VA'), ('다', 'ECS'), ('♥', 'SW')]\n",
      "[Komoran] \n",
      "[('노래', 'NNG'), ('도', 'JX'), ('너무', 'MAG'), ('즐겁', 'VA'), ('고', 'EC'), ('내용', 'NNG'), ('도', 'JX'), ('아기자기', 'MAG'), ('귀여워요동화같으뉴근데', 'NA'), ('아이들', 'NNP'), ('너무', 'MAG'), ('귀엽', 'VA'), ('다', 'EC'), ('♥', 'SW')]\n",
      "[Mecab] \n",
      "[('노래', 'NNG'), ('도', 'JX'), ('너무', 'MAG'), ('즐겁', 'VA'), ('고', 'EC'), ('내용', 'NNG'), ('도', 'JX'), ('아기', 'NNG'), ('자기', 'NP'), ('귀여워', 'VA+EC'), ('요동', 'NNG'), ('화', 'XSN'), ('같', 'VA'), ('은', 'ETM'), ('ㅠ근데', 'UNKNOWN'), ('아이', 'NNG'), ('들', 'XSN'), ('너무', 'MAG'), ('귀엽', 'VA'), ('다', 'EC'), ('♥', 'SY')]\n",
      "[Okt] \n",
      "[('노래', 'Noun'), ('도', 'Josa'), ('너무', 'Adverb'), ('즐겁고', 'Adjective'), ('내용', 'Noun'), ('도', 'Josa'), ('아기자기', 'Noun'), ('귀여워요', 'Adjective'), ('동화', 'Noun'), ('같은', 'Adjective'), ('ㅠ', 'KoreanParticle'), ('근데', 'Adverb'), ('아이', 'Noun'), ('들', 'Suffix'), ('너무', 'Adverb'), ('귀엽다', 'Adjective'), ('♥', 'Foreign')]\n"
     ]
    }
   ],
   "source": [
    "tokenizer_list = [hannanum, kkma, komoran, mecab, okt]\n",
    "\n",
    "# kor_text = '별 반개도 아깝다 욕나온다 이응경 길용우 연기생활이몇년인지..정말 발로해도 그것보단 낫겟다 납치.감금만반복반복..이드라마는 가족도없다 연기못하는사람만모엿네'\n",
    "kor_text = '노래도 너무즐겁고 내용도 아기자기 귀여워요동화같은ㅠ근데 아이들 너무귀엽다♥'\n",
    "\n",
    "for tokenizer in tokenizer_list:\n",
    "    print('[{}] \\n{}'.format(tokenizer.__class__.__name__, tokenizer.pos(kor_text)))"
   ]
  },
  {
   "cell_type": "code",
   "execution_count": null,
   "id": "e1083ddc",
   "metadata": {},
   "outputs": [],
   "source": [
    "# kkma_doc = train.document.progress_apply(lambda x: kkma.pos(x)).tolist()"
   ]
  },
  {
   "cell_type": "code",
   "execution_count": 10,
   "id": "9541027f",
   "metadata": {
    "scrolled": true
   },
   "outputs": [
    {
     "data": {
      "text/plain": [
       "Index(['id', 'document', 'label'], dtype='object')"
      ]
     },
     "execution_count": 10,
     "metadata": {},
     "output_type": "execute_result"
    }
   ],
   "source": [
    "train.columns"
   ]
  },
  {
   "cell_type": "code",
   "execution_count": 43,
   "id": "ea65abf9",
   "metadata": {
    "scrolled": true
   },
   "outputs": [
    {
     "name": "stdout",
     "output_type": "stream",
     "text": [
      "[Hannanum]\n"
     ]
    },
    {
     "name": "stderr",
     "output_type": "stream",
     "text": [
      "  5%|▍         | 6936/145510 [00:48<12:35, 183.30it/s] java.lang.ArrayIndexOutOfBoundsException: Index 2046 out of bounds for length 2046\n",
      "\tat kr.ac.kaist.swrc.jhannanum.plugin.MajorPlugin.MorphAnalyzer.ChartMorphAnalyzer.MorphemeChart.addMorpheme(MorphemeChart.java:191)\n",
      "\tat kr.ac.kaist.swrc.jhannanum.plugin.MajorPlugin.MorphAnalyzer.ChartMorphAnalyzer.MorphemeChart.analyzeUnknown(MorphemeChart.java:451)\n",
      "\tat kr.ac.kaist.swrc.jhannanum.plugin.MajorPlugin.MorphAnalyzer.ChartMorphAnalyzer.MorphemeChart.analyze(MorphemeChart.java:257)\n",
      "\tat kr.ac.kaist.swrc.jhannanum.plugin.MajorPlugin.MorphAnalyzer.ChartMorphAnalyzer.ChartMorphAnalyzer.processEojeol(ChartMorphAnalyzer.java:133)\n",
      "\tat kr.ac.kaist.swrc.jhannanum.plugin.MajorPlugin.MorphAnalyzer.ChartMorphAnalyzer.ChartMorphAnalyzer.morphAnalyze(ChartMorphAnalyzer.java:158)\n",
      "\tat kr.ac.kaist.swrc.jhannanum.hannanum.Workflow.analyzeInSingleThread(Workflow.java:825)\n",
      "\tat kr.ac.kaist.swrc.jhannanum.hannanum.Workflow.analyze(Workflow.java:521)\n",
      "\tat kr.lucypark.jhannanum.comm.HannanumInterface.simplePos09(Unknown Source)\n",
      " 11%|█         | 16061/145510 [01:43<09:50, 219.31it/s]java.lang.ArrayIndexOutOfBoundsException: Index 2046 out of bounds for length 2046\n",
      "\tat kr.ac.kaist.swrc.jhannanum.plugin.MajorPlugin.MorphAnalyzer.ChartMorphAnalyzer.MorphemeChart.addMorpheme(MorphemeChart.java:191)\n",
      "\tat kr.ac.kaist.swrc.jhannanum.plugin.MajorPlugin.MorphAnalyzer.ChartMorphAnalyzer.MorphemeChart.phonemeChange(MorphemeChart.java:556)\n",
      "\tat kr.ac.kaist.swrc.jhannanum.plugin.MajorPlugin.MorphAnalyzer.ChartMorphAnalyzer.Exp.rule_rem(Exp.java:767)\n",
      "\tat kr.ac.kaist.swrc.jhannanum.plugin.MajorPlugin.MorphAnalyzer.ChartMorphAnalyzer.Exp.prule(Exp.java:256)\n",
      "\tat kr.ac.kaist.swrc.jhannanum.plugin.MajorPlugin.MorphAnalyzer.ChartMorphAnalyzer.MorphemeChart.analyze(MorphemeChart.java:368)\n",
      "\tat kr.ac.kaist.swrc.jhannanum.plugin.MajorPlugin.MorphAnalyzer.ChartMorphAnalyzer.MorphemeChart.analyze(MorphemeChart.java:384)\n",
      "\tat kr.ac.kaist.swrc.jhannanum.plugin.MajorPlugin.MorphAnalyzer.ChartMorphAnalyzer.MorphemeChart.analyze(MorphemeChart.java:384)\n",
      "\tat kr.ac.kaist.swrc.jhannanum.plugin.MajorPlugin.MorphAnalyzer.ChartMorphAnalyzer.MorphemeChart.analyze(MorphemeChart.java:384)\n",
      "\tat kr.ac.kaist.swrc.jhannanum.plugin.MajorPlugin.MorphAnalyzer.ChartMorphAnalyzer.MorphemeChart.analyze(MorphemeChart.java:384)\n",
      "\tat kr.ac.kaist.swrc.jhannanum.plugin.MajorPlugin.MorphAnalyzer.ChartMorphAnalyzer.MorphemeChart.analyze(MorphemeChart.java:384)\n",
      "\tat kr.ac.kaist.swrc.jhannanum.plugin.MajorPlugin.MorphAnalyzer.ChartMorphAnalyzer.MorphemeChart.analyze(MorphemeChart.java:384)\n",
      "\tat kr.ac.kaist.swrc.jhannanum.plugin.MajorPlugin.MorphAnalyzer.ChartMorphAnalyzer.MorphemeChart.analyze(MorphemeChart.java:384)\n",
      "\tat kr.ac.kaist.swrc.jhannanum.plugin.MajorPlugin.MorphAnalyzer.ChartMorphAnalyzer.MorphemeChart.analyze(MorphemeChart.java:384)\n",
      "\tat kr.ac.kaist.swrc.jhannanum.plugin.MajorPlugin.MorphAnalyzer.ChartMorphAnalyzer.MorphemeChart.analyze(MorphemeChart.java:384)\n",
      "\tat kr.ac.kaist.swrc.jhannanum.plugin.MajorPlugin.MorphAnalyzer.ChartMorphAnalyzer.MorphemeChart.analyzeUnknown(MorphemeChart.java:460)\n",
      "\tat kr.ac.kaist.swrc.jhannanum.plugin.MajorPlugin.MorphAnalyzer.ChartMorphAnalyzer.MorphemeChart.analyze(MorphemeChart.java:257)\n",
      "\tat kr.ac.kaist.swrc.jhannanum.plugin.MajorPlugin.MorphAnalyzer.ChartMorphAnalyzer.ChartMorphAnalyzer.processEojeol(ChartMorphAnalyzer.java:133)\n",
      "\tat kr.ac.kaist.swrc.jhannanum.plugin.MajorPlugin.MorphAnalyzer.ChartMorphAnalyzer.ChartMorphAnalyzer.morphAnalyze(ChartMorphAnalyzer.java:158)\n",
      "\tat kr.ac.kaist.swrc.jhannanum.hannanum.Workflow.analyzeInSingleThread(Workflow.java:825)\n",
      "\tat kr.ac.kaist.swrc.jhannanum.hannanum.Workflow.analyze(Workflow.java:521)\n",
      "\tat kr.lucypark.jhannanum.comm.HannanumInterface.simplePos09(Unknown Source)\n",
      " 17%|█▋        | 24490/145510 [02:31<10:25, 193.39it/s]java.lang.ArrayIndexOutOfBoundsException\n",
      " 18%|█▊        | 25596/145510 [02:37<11:16, 177.33it/s]java.lang.ArrayIndexOutOfBoundsException: Index 2046 out of bounds for length 2046\n",
      "\tat kr.ac.kaist.swrc.jhannanum.plugin.MajorPlugin.MorphAnalyzer.ChartMorphAnalyzer.MorphemeChart.addMorpheme(MorphemeChart.java:191)\n",
      "\tat kr.ac.kaist.swrc.jhannanum.plugin.MajorPlugin.MorphAnalyzer.ChartMorphAnalyzer.MorphemeChart.analyze(MorphemeChart.java:331)\n",
      "\tat kr.ac.kaist.swrc.jhannanum.plugin.MajorPlugin.MorphAnalyzer.ChartMorphAnalyzer.MorphemeChart.analyze(MorphemeChart.java:384)\n",
      "\tat kr.ac.kaist.swrc.jhannanum.plugin.MajorPlugin.MorphAnalyzer.ChartMorphAnalyzer.MorphemeChart.analyze(MorphemeChart.java:384)\n",
      "\tat kr.ac.kaist.swrc.jhannanum.plugin.MajorPlugin.MorphAnalyzer.ChartMorphAnalyzer.MorphemeChart.analyze(MorphemeChart.java:384)\n",
      "\tat kr.ac.kaist.swrc.jhannanum.plugin.MajorPlugin.MorphAnalyzer.ChartMorphAnalyzer.MorphemeChart.analyze(MorphemeChart.java:384)\n",
      "\tat kr.ac.kaist.swrc.jhannanum.plugin.MajorPlugin.MorphAnalyzer.ChartMorphAnalyzer.MorphemeChart.analyze(MorphemeChart.java:384)\n",
      "\tat kr.ac.kaist.swrc.jhannanum.plugin.MajorPlugin.MorphAnalyzer.ChartMorphAnalyzer.MorphemeChart.analyze(MorphemeChart.java:384)\n",
      "\tat kr.ac.kaist.swrc.jhannanum.plugin.MajorPlugin.MorphAnalyzer.ChartMorphAnalyzer.MorphemeChart.analyze(MorphemeChart.java:384)\n",
      "\tat kr.ac.kaist.swrc.jhannanum.plugin.MajorPlugin.MorphAnalyzer.ChartMorphAnalyzer.MorphemeChart.analyze(MorphemeChart.java:384)\n",
      "\tat kr.ac.kaist.swrc.jhannanum.plugin.MajorPlugin.MorphAnalyzer.ChartMorphAnalyzer.MorphemeChart.analyze(MorphemeChart.java:384)\n",
      "\tat kr.ac.kaist.swrc.jhannanum.plugin.MajorPlugin.MorphAnalyzer.ChartMorphAnalyzer.MorphemeChart.analyze(MorphemeChart.java:384)\n",
      "\tat kr.ac.kaist.swrc.jhannanum.plugin.MajorPlugin.MorphAnalyzer.ChartMorphAnalyzer.MorphemeChart.analyze(MorphemeChart.java:384)\n",
      "\tat kr.ac.kaist.swrc.jhannanum.plugin.MajorPlugin.MorphAnalyzer.ChartMorphAnalyzer.MorphemeChart.analyze(MorphemeChart.java:384)\n",
      "\tat kr.ac.kaist.swrc.jhannanum.plugin.MajorPlugin.MorphAnalyzer.ChartMorphAnalyzer.MorphemeChart.analyze(MorphemeChart.java:384)\n",
      "\tat kr.ac.kaist.swrc.jhannanum.plugin.MajorPlugin.MorphAnalyzer.ChartMorphAnalyzer.MorphemeChart.analyze(MorphemeChart.java:384)\n",
      "\tat kr.ac.kaist.swrc.jhannanum.plugin.MajorPlugin.MorphAnalyzer.ChartMorphAnalyzer.MorphemeChart.analyze(MorphemeChart.java:384)\n",
      "\tat kr.ac.kaist.swrc.jhannanum.plugin.MajorPlugin.MorphAnalyzer.ChartMorphAnalyzer.MorphemeChart.analyze(MorphemeChart.java:384)\n",
      "\tat kr.ac.kaist.swrc.jhannanum.plugin.MajorPlugin.MorphAnalyzer.ChartMorphAnalyzer.MorphemeChart.analyze(MorphemeChart.java:384)\n",
      "\tat kr.ac.kaist.swrc.jhannanum.plugin.MajorPlugin.MorphAnalyzer.ChartMorphAnalyzer.MorphemeChart.analyzeUnknown(MorphemeChart.java:460)\n",
      "\tat kr.ac.kaist.swrc.jhannanum.plugin.MajorPlugin.MorphAnalyzer.ChartMorphAnalyzer.MorphemeChart.analyze(MorphemeChart.java:257)\n",
      "\tat kr.ac.kaist.swrc.jhannanum.plugin.MajorPlugin.MorphAnalyzer.ChartMorphAnalyzer.ChartMorphAnalyzer.processEojeol(ChartMorphAnalyzer.java:133)\n",
      "\tat kr.ac.kaist.swrc.jhannanum.plugin.MajorPlugin.MorphAnalyzer.ChartMorphAnalyzer.ChartMorphAnalyzer.morphAnalyze(ChartMorphAnalyzer.java:158)\n",
      "\tat kr.ac.kaist.swrc.jhannanum.hannanum.Workflow.analyzeInSingleThread(Workflow.java:825)\n",
      "\tat kr.ac.kaist.swrc.jhannanum.hannanum.Workflow.analyze(Workflow.java:521)\n",
      "\tat kr.lucypark.jhannanum.comm.HannanumInterface.simplePos09(Unknown Source)\n",
      " 31%|███       | 44502/145510 [04:59<17:09, 98.11it/s]  java.lang.ArrayIndexOutOfBoundsException\n",
      " 39%|███▉      | 56632/145510 [06:49<09:38, 153.74it/s] java.lang.ArrayIndexOutOfBoundsException\n",
      " 40%|████      | 58676/145510 [07:06<07:41, 188.17it/s]java.lang.ArrayIndexOutOfBoundsException\n",
      " 43%|████▎     | 62212/145510 [07:40<11:03, 125.60it/s]java.lang.ArrayIndexOutOfBoundsException: Index 1024 out of bounds for length 1024\n",
      "\tat kr.ac.kaist.swrc.jhannanum.plugin.MajorPlugin.MorphAnalyzer.ChartMorphAnalyzer.SegmentPosition.addPosition(SegmentPosition.java:103)\n",
      "\tat kr.ac.kaist.swrc.jhannanum.plugin.MajorPlugin.MorphAnalyzer.ChartMorphAnalyzer.MorphemeChart.altSegment(MorphemeChart.java:228)\n",
      "\tat kr.ac.kaist.swrc.jhannanum.plugin.MajorPlugin.MorphAnalyzer.ChartMorphAnalyzer.MorphemeChart.phonemeChange(MorphemeChart.java:553)\n",
      "\tat kr.ac.kaist.swrc.jhannanum.plugin.MajorPlugin.MorphAnalyzer.ChartMorphAnalyzer.Exp.rule_eomi_u(Exp.java:318)\n",
      "\tat kr.ac.kaist.swrc.jhannanum.plugin.MajorPlugin.MorphAnalyzer.ChartMorphAnalyzer.Exp.rule_i(Exp.java:433)\n",
      "\tat kr.ac.kaist.swrc.jhannanum.plugin.MajorPlugin.MorphAnalyzer.ChartMorphAnalyzer.Exp.prule(Exp.java:268)\n",
      "\tat kr.ac.kaist.swrc.jhannanum.plugin.MajorPlugin.MorphAnalyzer.ChartMorphAnalyzer.MorphemeChart.analyze(MorphemeChart.java:368)\n",
      "\tat kr.ac.kaist.swrc.jhannanum.plugin.MajorPlugin.MorphAnalyzer.ChartMorphAnalyzer.MorphemeChart.analyze(MorphemeChart.java:384)\n",
      "\tat kr.ac.kaist.swrc.jhannanum.plugin.MajorPlugin.MorphAnalyzer.ChartMorphAnalyzer.MorphemeChart.analyze(MorphemeChart.java:384)\n",
      "\tat kr.ac.kaist.swrc.jhannanum.plugin.MajorPlugin.MorphAnalyzer.ChartMorphAnalyzer.MorphemeChart.analyze(MorphemeChart.java:384)\n",
      "\tat kr.ac.kaist.swrc.jhannanum.plugin.MajorPlugin.MorphAnalyzer.ChartMorphAnalyzer.MorphemeChart.analyze(MorphemeChart.java:384)\n",
      "\tat kr.ac.kaist.swrc.jhannanum.plugin.MajorPlugin.MorphAnalyzer.ChartMorphAnalyzer.MorphemeChart.analyze(MorphemeChart.java:384)\n",
      "\tat kr.ac.kaist.swrc.jhannanum.plugin.MajorPlugin.MorphAnalyzer.ChartMorphAnalyzer.MorphemeChart.analyze(MorphemeChart.java:384)\n",
      "\tat kr.ac.kaist.swrc.jhannanum.plugin.MajorPlugin.MorphAnalyzer.ChartMorphAnalyzer.MorphemeChart.analyze(MorphemeChart.java:384)\n",
      "\tat kr.ac.kaist.swrc.jhannanum.plugin.MajorPlugin.MorphAnalyzer.ChartMorphAnalyzer.MorphemeChart.analyze(MorphemeChart.java:384)\n",
      "\tat kr.ac.kaist.swrc.jhannanum.plugin.MajorPlugin.MorphAnalyzer.ChartMorphAnalyzer.MorphemeChart.analyze(MorphemeChart.java:384)\n",
      "\tat kr.ac.kaist.swrc.jhannanum.plugin.MajorPlugin.MorphAnalyzer.ChartMorphAnalyzer.MorphemeChart.analyze(MorphemeChart.java:384)\n",
      "\tat kr.ac.kaist.swrc.jhannanum.plugin.MajorPlugin.MorphAnalyzer.ChartMorphAnalyzer.MorphemeChart.analyze(MorphemeChart.java:384)\n",
      "\tat kr.ac.kaist.swrc.jhannanum.plugin.MajorPlugin.MorphAnalyzer.ChartMorphAnalyzer.MorphemeChart.analyze(MorphemeChart.java:384)\n",
      "\tat kr.ac.kaist.swrc.jhannanum.plugin.MajorPlugin.MorphAnalyzer.ChartMorphAnalyzer.MorphemeChart.analyze(MorphemeChart.java:384)\n",
      "\tat kr.ac.kaist.swrc.jhannanum.plugin.MajorPlugin.MorphAnalyzer.ChartMorphAnalyzer.MorphemeChart.analyzeUnknown(MorphemeChart.java:460)\n",
      "\tat kr.ac.kaist.swrc.jhannanum.plugin.MajorPlugin.MorphAnalyzer.ChartMorphAnalyzer.MorphemeChart.analyze(MorphemeChart.java:257)\n",
      "\tat kr.ac.kaist.swrc.jhannanum.plugin.MajorPlugin.MorphAnalyzer.ChartMorphAnalyzer.ChartMorphAnalyzer.processEojeol(ChartMorphAnalyzer.java:133)\n",
      "\tat kr.ac.kaist.swrc.jhannanum.plugin.MajorPlugin.MorphAnalyzer.ChartMorphAnalyzer.ChartMorphAnalyzer.morphAnalyze(ChartMorphAnalyzer.java:158)\n",
      "\tat kr.ac.kaist.swrc.jhannanum.hannanum.Workflow.analyzeInSingleThread(Workflow.java:825)\n",
      "\tat kr.ac.kaist.swrc.jhannanum.hannanum.Workflow.analyze(Workflow.java:521)\n",
      "\tat kr.lucypark.jhannanum.comm.HannanumInterface.simplePos09(Unknown Source)\n",
      " 52%|█████▏    | 75330/145510 [09:39<09:11, 127.14it/s]java.lang.ArrayIndexOutOfBoundsException\n",
      " 56%|█████▌    | 81435/145510 [10:40<17:11, 62.14it/s] java.lang.ArrayIndexOutOfBoundsException\n",
      " 57%|█████▋    | 82388/145510 [10:49<07:53, 133.34it/s]java.lang.ArrayIndexOutOfBoundsException\n",
      " 60%|█████▉    | 86644/145510 [11:32<12:10, 80.58it/s] java.lang.ArrayIndexOutOfBoundsException\n",
      " 60%|██████    | 87659/145510 [11:46<17:35, 54.83it/s] java.lang.ArrayIndexOutOfBoundsException\n",
      " 64%|██████▍   | 93529/145510 [12:41<10:07, 85.57it/s] java.lang.ArrayIndexOutOfBoundsException\n",
      " 66%|██████▌   | 95971/145510 [13:03<11:34, 71.37it/s] java.lang.ArrayIndexOutOfBoundsException\n",
      " 67%|██████▋   | 98065/145510 [13:25<03:30, 225.86it/s]java.lang.ArrayIndexOutOfBoundsException\n",
      " 68%|██████▊   | 98668/145510 [13:31<05:19, 146.52it/s]java.lang.ArrayIndexOutOfBoundsException: Index 10000 out of bounds for length 10000\n",
      "\tat kr.ac.kaist.swrc.jhannanum.plugin.MajorPlugin.PosTagger.HmmPosTagger.HMMTagger.new_mnode(HMMTagger.java:354)\n",
      "\tat kr.ac.kaist.swrc.jhannanum.plugin.MajorPlugin.PosTagger.HmmPosTagger.HMMTagger.tagPOS(HMMTagger.java:143)\n",
      "\tat kr.ac.kaist.swrc.jhannanum.hannanum.Workflow.analyzeInSingleThread(Workflow.java:857)\n",
      "\tat kr.ac.kaist.swrc.jhannanum.hannanum.Workflow.analyze(Workflow.java:521)\n",
      "\tat kr.lucypark.jhannanum.comm.HannanumInterface.simplePos09(Unknown Source)\n",
      " 73%|███████▎  | 106843/145510 [14:56<14:26, 44.63it/s] java.lang.ArrayIndexOutOfBoundsException\n",
      " 74%|███████▍  | 107669/145510 [15:02<03:10, 199.14it/s]java.lang.ArrayIndexOutOfBoundsException\n",
      " 80%|███████▉  | 116282/145510 [16:30<10:34, 46.08it/s] java.lang.ArrayIndexOutOfBoundsException\n",
      " 82%|████████▏ | 119724/145510 [17:00<03:24, 126.18it/s]java.lang.ArrayIndexOutOfBoundsException\n",
      " 83%|████████▎ | 121318/145510 [17:14<03:23, 118.89it/s]java.lang.ArrayIndexOutOfBoundsException\n",
      " 84%|████████▍ | 122947/145510 [17:34<18:39, 20.15it/s]java.lang.ArrayIndexOutOfBoundsException\n",
      " 88%|████████▊ | 127901/145510 [18:22<02:09, 136.17it/s]java.lang.ArrayIndexOutOfBoundsException\n",
      " 96%|█████████▌| 139565/145510 [20:16<04:22, 22.61it/s] java.lang.ArrayIndexOutOfBoundsException\n",
      "100%|██████████| 145510/145510 [21:09<00:00, 114.58it/s]\n"
     ]
    },
    {
     "name": "stdout",
     "output_type": "stream",
     "text": [
      "[Komoran]\n"
     ]
    },
    {
     "name": "stderr",
     "output_type": "stream",
     "text": [
      "100%|██████████| 145510/145510 [02:41<00:00, 901.48it/s] \n"
     ]
    },
    {
     "name": "stdout",
     "output_type": "stream",
     "text": [
      "[Mecab]\n"
     ]
    },
    {
     "name": "stderr",
     "output_type": "stream",
     "text": [
      "100%|██████████| 145510/145510 [00:22<00:00, 6593.74it/s] \n"
     ]
    },
    {
     "name": "stdout",
     "output_type": "stream",
     "text": [
      "[Okt]\n"
     ]
    },
    {
     "name": "stderr",
     "output_type": "stream",
     "text": [
      "100%|██████████| 145510/145510 [19:13<00:00, 126.12it/s]\n",
      "100%|██████████| 145510/145510 [20:44<00:00, 116.96it/s]\n"
     ]
    }
   ],
   "source": [
    "tokenizer_list = [hannanum, komoran, mecab, okt]\n",
    "\n",
    "for tokenizer in tokenizer_list:\n",
    "    name = str(tokenizer.__class__.__name__)\n",
    "    print(f'[{name}]')\n",
    "    \n",
    "    if name not in train.columns:\n",
    "        train[f'{name}'] = train.document.progress_apply(lambda x: tokenizer.morphs(x))\n",
    "    \n",
    "        if name == 'Okt':\n",
    "            train[f'{name}_stem'] = train.document.progress_apply(lambda x: tokenizer.morphs(x, stem=True))\n",
    "        \n",
    "        train.to_csv('data_preprocessed_morph_final.csv', index=False)\n",
    "    else:\n",
    "        pass"
   ]
  },
  {
   "cell_type": "code",
   "execution_count": 45,
   "id": "9ff84a96",
   "metadata": {},
   "outputs": [],
   "source": [
    "train.to_csv('data_preprocessed_morph_final.csv', index=False)"
   ]
  },
  {
   "cell_type": "code",
   "execution_count": 47,
   "id": "6663ca02",
   "metadata": {},
   "outputs": [
    {
     "data": {
      "text/html": [
       "<div>\n",
       "<style scoped>\n",
       "    .dataframe tbody tr th:only-of-type {\n",
       "        vertical-align: middle;\n",
       "    }\n",
       "\n",
       "    .dataframe tbody tr th {\n",
       "        vertical-align: top;\n",
       "    }\n",
       "\n",
       "    .dataframe thead th {\n",
       "        text-align: right;\n",
       "    }\n",
       "</style>\n",
       "<table border=\"1\" class=\"dataframe\">\n",
       "  <thead>\n",
       "    <tr style=\"text-align: right;\">\n",
       "      <th></th>\n",
       "      <th>id</th>\n",
       "      <th>document</th>\n",
       "      <th>label</th>\n",
       "      <th>Hannanum</th>\n",
       "      <th>Komoran</th>\n",
       "      <th>Mecab</th>\n",
       "      <th>Okt</th>\n",
       "      <th>Okt_stem</th>\n",
       "    </tr>\n",
       "  </thead>\n",
       "  <tbody>\n",
       "    <tr>\n",
       "      <th>0</th>\n",
       "      <td>9976970</td>\n",
       "      <td>아 더빙 진짜 짜증나네요 목소리</td>\n",
       "      <td>0</td>\n",
       "      <td>[아, 더빙, 진짜, 짜증나, 네, 요, 목소리]</td>\n",
       "      <td>[아, 더빙, 진짜, 짜증, 나, 네요, 목소리]</td>\n",
       "      <td>[아, 더, 빙, 진짜, 짜증, 나, 네요, 목소리]</td>\n",
       "      <td>[아, 더빙, 진짜, 짜증나네요, 목소리]</td>\n",
       "      <td>[아, 더빙, 진짜, 짜증나다, 목소리]</td>\n",
       "    </tr>\n",
       "    <tr>\n",
       "      <th>1</th>\n",
       "      <td>3819312</td>\n",
       "      <td>흠포스터보고 초딩영화줄오버연기조차 가볍지 않구나</td>\n",
       "      <td>1</td>\n",
       "      <td>[흠포스터보, 이, 고, 초딩영화줄오버연기조차, 가볍, 지, 않, 구나]</td>\n",
       "      <td>[흠, 포스터, 보고, 초딩, 영화, 줄, 오버, 연기, 조차, 가볍, 지, 않, 구나]</td>\n",
       "      <td>[흠, 포스터, 보고, 초딩, 영화, 줄, 오버, 연기, 조차, 가볍, 지, 않, 구나]</td>\n",
       "      <td>[흠, 포스터, 보고, 초딩, 영화, 줄, 오버, 연기, 조차, 가볍지, 않구나]</td>\n",
       "      <td>[흠, 포스터, 보고, 초딩, 영화, 줄, 오버, 연기, 조차, 가볍다, 않다]</td>\n",
       "    </tr>\n",
       "    <tr>\n",
       "      <th>2</th>\n",
       "      <td>10265843</td>\n",
       "      <td>너무재밓었다그래서보는것을추천한다</td>\n",
       "      <td>0</td>\n",
       "      <td>[너무재밓었다그래서보는것을추천한다]</td>\n",
       "      <td>[너무재밓었다그래서보는것을추천한다]</td>\n",
       "      <td>[너무, 재, 밓었다그래서보는것을추천한다]</td>\n",
       "      <td>[너, 무재, 밓었, 다그, 래서, 보는것을, 추천, 한, 다]</td>\n",
       "      <td>[너, 무재, 밓었, 다그, 래서, 보다, 추천, 한, 다]</td>\n",
       "    </tr>\n",
       "    <tr>\n",
       "      <th>3</th>\n",
       "      <td>9045019</td>\n",
       "      <td>교도소 이야기구먼 솔직히 재미는 없다평점 조정</td>\n",
       "      <td>0</td>\n",
       "      <td>[교도소, 이야기구먼, 솔직히, 재미, 는, 없다평점, 조정]</td>\n",
       "      <td>[교도소, 이야기, 이, 구먼, 솔직히, 재미, 는, 없, 다, 평점, 조정]</td>\n",
       "      <td>[교도소, 이야기, 구먼, 솔직히, 재미, 는, 없, 다, 평점, 조정]</td>\n",
       "      <td>[교도소, 이야기, 구먼, 솔직히, 재미, 는, 없다, 평점, 조정]</td>\n",
       "      <td>[교도소, 이야기, 구먼, 솔직하다, 재미, 는, 없다, 평점, 조정]</td>\n",
       "    </tr>\n",
       "    <tr>\n",
       "      <th>4</th>\n",
       "      <td>6483659</td>\n",
       "      <td>사이몬페그의 익살스런 연기가 돋보였던 영화스파이더맨에서 늙어보이기만 했던 커스틴 던...</td>\n",
       "      <td>1</td>\n",
       "      <td>[사이몬페그, 의, 익살, 스런, 연기, 가, 돋보이, 었던, 영화스파이더맨, 에서...</td>\n",
       "      <td>[사이몬페그의, 익살, 스럽, ㄴ, 연기, 가, 돋보이, 었, 던, 영화, 스파이더...</td>\n",
       "      <td>[사이몬페그, 의, 익살, 스런, 연기, 가, 돋보였, 던, 영화, 스파이더맨, 에...</td>\n",
       "      <td>[사이, 몬페, 그, 의, 익살스런, 연기, 가, 돋보였던, 영화, 스파이더맨, 에...</td>\n",
       "      <td>[사이, 몬페, 그, 의, 익살스럽다, 연기, 가, 돋보이다, 영화, 스파이더맨, ...</td>\n",
       "    </tr>\n",
       "  </tbody>\n",
       "</table>\n",
       "</div>"
      ],
      "text/plain": [
       "         id                                           document  label  \\\n",
       "0   9976970                                  아 더빙 진짜 짜증나네요 목소리      0   \n",
       "1   3819312                         흠포스터보고 초딩영화줄오버연기조차 가볍지 않구나      1   \n",
       "2  10265843                                  너무재밓었다그래서보는것을추천한다      0   \n",
       "3   9045019                          교도소 이야기구먼 솔직히 재미는 없다평점 조정      0   \n",
       "4   6483659  사이몬페그의 익살스런 연기가 돋보였던 영화스파이더맨에서 늙어보이기만 했던 커스틴 던...      1   \n",
       "\n",
       "                                            Hannanum  \\\n",
       "0                        [아, 더빙, 진짜, 짜증나, 네, 요, 목소리]   \n",
       "1           [흠포스터보, 이, 고, 초딩영화줄오버연기조차, 가볍, 지, 않, 구나]   \n",
       "2                                [너무재밓었다그래서보는것을추천한다]   \n",
       "3                 [교도소, 이야기구먼, 솔직히, 재미, 는, 없다평점, 조정]   \n",
       "4  [사이몬페그, 의, 익살, 스런, 연기, 가, 돋보이, 었던, 영화스파이더맨, 에서...   \n",
       "\n",
       "                                             Komoran  \\\n",
       "0                        [아, 더빙, 진짜, 짜증, 나, 네요, 목소리]   \n",
       "1  [흠, 포스터, 보고, 초딩, 영화, 줄, 오버, 연기, 조차, 가볍, 지, 않, 구나]   \n",
       "2                                [너무재밓었다그래서보는것을추천한다]   \n",
       "3        [교도소, 이야기, 이, 구먼, 솔직히, 재미, 는, 없, 다, 평점, 조정]   \n",
       "4  [사이몬페그의, 익살, 스럽, ㄴ, 연기, 가, 돋보이, 었, 던, 영화, 스파이더...   \n",
       "\n",
       "                                               Mecab  \\\n",
       "0                      [아, 더, 빙, 진짜, 짜증, 나, 네요, 목소리]   \n",
       "1  [흠, 포스터, 보고, 초딩, 영화, 줄, 오버, 연기, 조차, 가볍, 지, 않, 구나]   \n",
       "2                            [너무, 재, 밓었다그래서보는것을추천한다]   \n",
       "3           [교도소, 이야기, 구먼, 솔직히, 재미, 는, 없, 다, 평점, 조정]   \n",
       "4  [사이몬페그, 의, 익살, 스런, 연기, 가, 돋보였, 던, 영화, 스파이더맨, 에...   \n",
       "\n",
       "                                                 Okt  \\\n",
       "0                            [아, 더빙, 진짜, 짜증나네요, 목소리]   \n",
       "1      [흠, 포스터, 보고, 초딩, 영화, 줄, 오버, 연기, 조차, 가볍지, 않구나]   \n",
       "2                [너, 무재, 밓었, 다그, 래서, 보는것을, 추천, 한, 다]   \n",
       "3             [교도소, 이야기, 구먼, 솔직히, 재미, 는, 없다, 평점, 조정]   \n",
       "4  [사이, 몬페, 그, 의, 익살스런, 연기, 가, 돋보였던, 영화, 스파이더맨, 에...   \n",
       "\n",
       "                                            Okt_stem  \n",
       "0                             [아, 더빙, 진짜, 짜증나다, 목소리]  \n",
       "1       [흠, 포스터, 보고, 초딩, 영화, 줄, 오버, 연기, 조차, 가볍다, 않다]  \n",
       "2                  [너, 무재, 밓었, 다그, 래서, 보다, 추천, 한, 다]  \n",
       "3            [교도소, 이야기, 구먼, 솔직하다, 재미, 는, 없다, 평점, 조정]  \n",
       "4  [사이, 몬페, 그, 의, 익살스럽다, 연기, 가, 돋보이다, 영화, 스파이더맨, ...  "
      ]
     },
     "execution_count": 47,
     "metadata": {},
     "output_type": "execute_result"
    }
   ],
   "source": [
    "train.head()"
   ]
  },
  {
   "cell_type": "markdown",
   "id": "5270aaa5",
   "metadata": {},
   "source": [
    "## 형태소 분석기 별 성능 비교"
   ]
  },
  {
   "cell_type": "code",
   "execution_count": 52,
   "id": "43887c75",
   "metadata": {},
   "outputs": [
    {
     "name": "stderr",
     "output_type": "stream",
     "text": [
      "/tmp/ipykernel_2247/3900349715.py:2: FutureWarning: The default value of regex will change from True to False in a future version.\n",
      "  train[col] = train[col].str.replace(\"[^ㄱ-ㅎㅏ-ㅣ가-힣0-9♥♡乃ㄳㅄ ]\",\"\") # 정규 표현식 수행\n",
      "/tmp/ipykernel_2247/3900349715.py:3: FutureWarning: The default value of regex will change from True to False in a future version.\n",
      "  train[col] = train[col].str.replace('^ +', \"\") # 공백은 empty 값으로 변경\n"
     ]
    }
   ],
   "source": [
    "test = preprocessing(test)"
   ]
  },
  {
   "cell_type": "code",
   "execution_count": 54,
   "id": "eb6a3ea5",
   "metadata": {},
   "outputs": [
    {
     "name": "stdout",
     "output_type": "stream",
     "text": [
      "[Hannanum]\n"
     ]
    },
    {
     "name": "stderr",
     "output_type": "stream",
     "text": [
      " 18%|█▊        | 8567/48907 [01:12<13:10, 51.03it/s] java.lang.ArrayIndexOutOfBoundsException\n",
      " 19%|█▊        | 9081/48907 [01:18<17:30, 37.92it/s] java.lang.ArrayIndexOutOfBoundsException\n",
      " 25%|██▍       | 12067/48907 [01:44<08:06, 75.68it/s] java.lang.ArrayIndexOutOfBoundsException\n",
      " 29%|██▉       | 14099/48907 [02:06<16:26, 35.30it/s] java.lang.ArrayIndexOutOfBoundsException\n",
      " 70%|██████▉   | 33999/48907 [05:42<07:09, 34.69it/s] java.lang.ArrayIndexOutOfBoundsException\n",
      " 72%|███████▏  | 35074/48907 [06:00<08:03, 28.62it/s] java.lang.ArrayIndexOutOfBoundsException\n",
      " 82%|████████▏ | 40026/48907 [07:10<01:32, 95.79it/s] java.lang.ArrayIndexOutOfBoundsException\n",
      " 95%|█████████▍| 46278/48907 [08:26<00:37, 69.60it/s] java.lang.ArrayIndexOutOfBoundsException\n",
      "100%|██████████| 48907/48907 [08:53<00:00, 91.60it/s] \n"
     ]
    },
    {
     "name": "stdout",
     "output_type": "stream",
     "text": [
      "[Komoran]\n"
     ]
    },
    {
     "name": "stderr",
     "output_type": "stream",
     "text": [
      "100%|██████████| 48907/48907 [01:24<00:00, 575.54it/s] \n"
     ]
    },
    {
     "name": "stdout",
     "output_type": "stream",
     "text": [
      "[Mecab]\n"
     ]
    },
    {
     "name": "stderr",
     "output_type": "stream",
     "text": [
      "100%|██████████| 48907/48907 [00:08<00:00, 5827.47it/s] \n"
     ]
    },
    {
     "name": "stdout",
     "output_type": "stream",
     "text": [
      "[Okt]\n"
     ]
    },
    {
     "name": "stderr",
     "output_type": "stream",
     "text": [
      "100%|██████████| 48907/48907 [10:28<00:00, 77.80it/s] \n",
      "100%|██████████| 48907/48907 [10:45<00:00, 75.71it/s] \n"
     ]
    }
   ],
   "source": [
    "tokenizer_list = [hannanum, komoran, mecab, okt]\n",
    "\n",
    "for tokenizer in tokenizer_list:\n",
    "    name = str(tokenizer.__class__.__name__)\n",
    "    print(f'[{name}]')\n",
    "    \n",
    "    if name not in test.columns:\n",
    "        test[f'{name}'] = test.document.progress_apply(lambda x: tokenizer.morphs(x))\n",
    "    \n",
    "        if name == 'Okt':\n",
    "            test[f'{name}_stem'] = test.document.progress_apply(lambda x: tokenizer.morphs(x, stem=True))\n",
    "        \n",
    "        test.to_csv('test_data_preprocessed_morph_final.csv', index=False)\n",
    "    else:\n",
    "        pass"
   ]
  },
  {
   "cell_type": "code",
   "execution_count": 57,
   "id": "253141e0",
   "metadata": {},
   "outputs": [
    {
     "data": {
      "text/plain": [
       "[<konlpy.tag._hannanum.Hannanum at 0x7e4fd31d2cd0>,\n",
       " <konlpy.tag._komoran.Komoran at 0x7e4fd71fb370>,\n",
       " <konlpy.tag._mecab.Mecab at 0x7e4fd71fb250>,\n",
       " <konlpy.tag._okt.Okt at 0x7e4fd71fb070>]"
      ]
     },
     "execution_count": 57,
     "metadata": {},
     "output_type": "execute_result"
    }
   ],
   "source": [
    "tokenizer_list"
   ]
  },
  {
   "cell_type": "code",
   "execution_count": 60,
   "id": "d93ef338",
   "metadata": {},
   "outputs": [
    {
     "data": {
      "text/html": [
       "<div>\n",
       "<style scoped>\n",
       "    .dataframe tbody tr th:only-of-type {\n",
       "        vertical-align: middle;\n",
       "    }\n",
       "\n",
       "    .dataframe tbody tr th {\n",
       "        vertical-align: top;\n",
       "    }\n",
       "\n",
       "    .dataframe thead th {\n",
       "        text-align: right;\n",
       "    }\n",
       "</style>\n",
       "<table border=\"1\" class=\"dataframe\">\n",
       "  <thead>\n",
       "    <tr style=\"text-align: right;\">\n",
       "      <th></th>\n",
       "      <th>id</th>\n",
       "      <th>document</th>\n",
       "      <th>label</th>\n",
       "      <th>Hannanum</th>\n",
       "      <th>Komoran</th>\n",
       "      <th>Mecab</th>\n",
       "      <th>Okt</th>\n",
       "      <th>Okt_stem</th>\n",
       "    </tr>\n",
       "  </thead>\n",
       "  <tbody>\n",
       "    <tr>\n",
       "      <th>0</th>\n",
       "      <td>9976970</td>\n",
       "      <td>아 더빙 진짜 짜증나네요 목소리</td>\n",
       "      <td>0</td>\n",
       "      <td>[아, 더빙, 진짜, 짜증나, 네, 요, 목소리]</td>\n",
       "      <td>[아, 더빙, 진짜, 짜증, 나, 네요, 목소리]</td>\n",
       "      <td>[아, 더, 빙, 진짜, 짜증, 나, 네요, 목소리]</td>\n",
       "      <td>[아, 더빙, 진짜, 짜증나네요, 목소리]</td>\n",
       "      <td>[아, 더빙, 진짜, 짜증나다, 목소리]</td>\n",
       "    </tr>\n",
       "    <tr>\n",
       "      <th>1</th>\n",
       "      <td>3819312</td>\n",
       "      <td>흠포스터보고 초딩영화줄오버연기조차 가볍지 않구나</td>\n",
       "      <td>1</td>\n",
       "      <td>[흠포스터보, 이, 고, 초딩영화줄오버연기조차, 가볍, 지, 않, 구나]</td>\n",
       "      <td>[흠, 포스터, 보고, 초딩, 영화, 줄, 오버, 연기, 조차, 가볍, 지, 않, 구나]</td>\n",
       "      <td>[흠, 포스터, 보고, 초딩, 영화, 줄, 오버, 연기, 조차, 가볍, 지, 않, 구나]</td>\n",
       "      <td>[흠, 포스터, 보고, 초딩, 영화, 줄, 오버, 연기, 조차, 가볍지, 않구나]</td>\n",
       "      <td>[흠, 포스터, 보고, 초딩, 영화, 줄, 오버, 연기, 조차, 가볍다, 않다]</td>\n",
       "    </tr>\n",
       "  </tbody>\n",
       "</table>\n",
       "</div>"
      ],
      "text/plain": [
       "        id                    document  label  \\\n",
       "0  9976970           아 더빙 진짜 짜증나네요 목소리      0   \n",
       "1  3819312  흠포스터보고 초딩영화줄오버연기조차 가볍지 않구나      1   \n",
       "\n",
       "                                   Hannanum  \\\n",
       "0               [아, 더빙, 진짜, 짜증나, 네, 요, 목소리]   \n",
       "1  [흠포스터보, 이, 고, 초딩영화줄오버연기조차, 가볍, 지, 않, 구나]   \n",
       "\n",
       "                                             Komoran  \\\n",
       "0                        [아, 더빙, 진짜, 짜증, 나, 네요, 목소리]   \n",
       "1  [흠, 포스터, 보고, 초딩, 영화, 줄, 오버, 연기, 조차, 가볍, 지, 않, 구나]   \n",
       "\n",
       "                                               Mecab  \\\n",
       "0                      [아, 더, 빙, 진짜, 짜증, 나, 네요, 목소리]   \n",
       "1  [흠, 포스터, 보고, 초딩, 영화, 줄, 오버, 연기, 조차, 가볍, 지, 않, 구나]   \n",
       "\n",
       "                                             Okt  \\\n",
       "0                        [아, 더빙, 진짜, 짜증나네요, 목소리]   \n",
       "1  [흠, 포스터, 보고, 초딩, 영화, 줄, 오버, 연기, 조차, 가볍지, 않구나]   \n",
       "\n",
       "                                       Okt_stem  \n",
       "0                        [아, 더빙, 진짜, 짜증나다, 목소리]  \n",
       "1  [흠, 포스터, 보고, 초딩, 영화, 줄, 오버, 연기, 조차, 가볍다, 않다]  "
      ]
     },
     "execution_count": 60,
     "metadata": {},
     "output_type": "execute_result"
    }
   ],
   "source": [
    "train.head(2)"
   ]
  },
  {
   "cell_type": "code",
   "execution_count": 61,
   "id": "8939fa32",
   "metadata": {},
   "outputs": [],
   "source": [
    "from tensorflow.keras.preprocessing.text import Tokenizer"
   ]
  },
  {
   "cell_type": "code",
   "execution_count": 66,
   "id": "b7f5f875",
   "metadata": {},
   "outputs": [],
   "source": [
    "# 불용어 정의\n",
    "stopwords = ['의','가','이','은','들','는','좀','잘','걍','과','도','를','을','으로','자',\n",
    "             '에','와','한','하다','하','어','다','네','요','에서','에게','게','ㄴ','에서','고','로']"
   ]
  },
  {
   "cell_type": "code",
   "execution_count": 69,
   "id": "2765edb8",
   "metadata": {},
   "outputs": [],
   "source": [
    "def compare_morphs(df, test, tokenizer, stopwords=stopwords):\n",
    "    \n",
    "    col = tokenizer.__class__.__name__\n",
    "\n",
    "    X_data = df[col].apply(lambda x: [str(i) for i in x]).dropna().tolist()\n",
    "    y_data = df['label'].dropna()\n",
    "\n",
    "    print(len(X_data), len(y_data))\n",
    "    \n",
    "    # 형태소 분석\n",
    "    #test_morphs = test.document.progress_apply(lambda x: tokenizer.morphs(x))\n",
    "    test_morphs = test[col].copy()\n",
    "    test_morphs = test_morphs.progress_apply(lambda x: [str(word) for word in x if not word in stopwords])\n",
    "\n",
    "    # 토큰화\n",
    "    tokenizer = Tokenizer()\n",
    "    tokenizer.fit_on_texts(X_data)\n",
    "\n",
    "    print(len(tokenizer.word_index))\n",
    "\n",
    "    # 등장 빈도수가 3회 미만인 단어들의 분포 확인\n",
    "\n",
    "    threshold = 3\n",
    "    total_cnt = len(tokenizer.word_index) # 단어의 수\n",
    "    rare_cnt = 0 # 등장 빈도수가 threshold보다 작은 단어의 개수를 카운트\n",
    "    total_freq = 0 # 훈련 데이터의 전체 단어 빈도수 총 합\n",
    "    rare_freq = 0 # 등장 빈도수가 threshold보다 작은 단어의 등장 빈도수의 총 합\n",
    "\n",
    "    # 단어와 빈도수의 쌍(pair)을 key와 value로 받는다.\n",
    "    for key, value in tokenizer.word_counts.items():\n",
    "        total_freq = total_freq + value\n",
    "\n",
    "        # 단어의 등장 빈도수가 threshold보다 작으면\n",
    "        if(value < threshold):\n",
    "            rare_cnt = rare_cnt + 1\n",
    "            rare_freq = rare_freq + value\n",
    "\n",
    "    print('단어 집합(vocabulary)의 크기 :',total_cnt)\n",
    "    print('등장 빈도가 %s번 이하인 희귀 단어의 수: %s'%(threshold - 1, rare_cnt))\n",
    "    print(\"단어 집합에서 희귀 단어의 비율:\", (rare_cnt / total_cnt)*100)\n",
    "    print(\"전체 등장 빈도에서 희귀 단어 등장 빈도 비율:\", (rare_freq / total_freq)*100)\n",
    "\n",
    "    # 등장 빈도수가 2이하인 단어들의 수를 제외한 단어의 개수를 단어 집합의 최대 크기로 제한\n",
    "    # 전체 단어 개수 중 빈도수 2이하인 단어는 제거.\n",
    "    # 0번 패딩 토큰을 고려하여 + 1\n",
    "\n",
    "    vocab_size = total_cnt - rare_cnt + 1\n",
    "    print('단어 집합의 크기 :',vocab_size)\n",
    "\n",
    "    # 이를 케라스 토크나이저의 인자로 넘겨 텍스트 시퀀스를 숫자 시퀀스로 변환\n",
    "    \n",
    "    tokenizer = Tokenizer(vocab_size) \n",
    "    tokenizer.fit_on_texts(X_data)\n",
    "    X_train = tokenizer.texts_to_sequences(X_data)\n",
    "    X_test = tokenizer.texts_to_sequences(test_morphs)\n",
    "    \n",
    "    return X_train, X_test, tokenizer, vocab_size"
   ]
  },
  {
   "cell_type": "code",
   "execution_count": 71,
   "id": "65f6d87c",
   "metadata": {},
   "outputs": [
    {
     "name": "stdout",
     "output_type": "stream",
     "text": [
      "145510 145510\n"
     ]
    },
    {
     "name": "stderr",
     "output_type": "stream",
     "text": [
      "100%|██████████| 48907/48907 [00:00<00:00, 100372.13it/s]\n"
     ]
    },
    {
     "name": "stdout",
     "output_type": "stream",
     "text": [
      "101541\n",
      "단어 집합(vocabulary)의 크기 : 101541\n",
      "등장 빈도가 2번 이하인 희귀 단어의 수: 68875\n",
      "단어 집합에서 희귀 단어의 비율: 67.82974365034814\n",
      "전체 등장 빈도에서 희귀 단어 등장 빈도 비율: 4.266309924278831\n",
      "단어 집합의 크기 : 32667\n"
     ]
    }
   ],
   "source": [
    "X_train, X_test, tokenizer, vocab_size = compare_morphs(train, test, okt)"
   ]
  },
  {
   "cell_type": "code",
   "execution_count": 73,
   "id": "a1201504",
   "metadata": {},
   "outputs": [],
   "source": [
    "y_train = y_data.tolist()"
   ]
  },
  {
   "cell_type": "code",
   "execution_count": 74,
   "id": "ed5e2e7c",
   "metadata": {},
   "outputs": [
    {
     "data": {
      "text/plain": [
       "(145510, 145510)"
      ]
     },
     "execution_count": 74,
     "metadata": {},
     "output_type": "execute_result"
    }
   ],
   "source": [
    "len(X_train), len(y_train)"
   ]
  },
  {
   "cell_type": "code",
   "execution_count": 75,
   "id": "05eae88e",
   "metadata": {},
   "outputs": [],
   "source": [
    "def drop_empty_list(X_train, y_train):\n",
    "    # 각 샘플들의 길이를 확인해서 길이가 0인 샘플들의 인덱스 받아오기\n",
    "    drop_train = [index for index, sentence in enumerate(X_train) if len(sentence) < 1]\n",
    "    print(f'빈 샘플 수 : {len(drop_train)}')\n",
    "\n",
    "    # 빈 샘플 제거\n",
    "    X_train = np.delete(X_train, drop_train, axis=0)\n",
    "    y_train = np.delete(y_train, drop_train, axis=0)\n",
    "    print(f'빈 샘플 제거 후 남은 X train data : {len(X_train)}')\n",
    "    print(f'빈 샘플 제거 후 남은 y train data : {len(y_train)}')\n",
    "    return X_train, y_train"
   ]
  },
  {
   "cell_type": "code",
   "execution_count": 76,
   "id": "776626db",
   "metadata": {},
   "outputs": [
    {
     "name": "stdout",
     "output_type": "stream",
     "text": [
      "빈 샘플 수 : 395\n",
      "빈 샘플 제거 후 남은 X train data : 145115\n",
      "빈 샘플 제거 후 남은 y train data : 145115\n"
     ]
    },
    {
     "name": "stderr",
     "output_type": "stream",
     "text": [
      "/opt/conda/lib/python3.9/site-packages/numpy/lib/function_base.py:4454: VisibleDeprecationWarning: Creating an ndarray from ragged nested sequences (which is a list-or-tuple of lists-or-tuples-or ndarrays with different lengths or shapes) is deprecated. If you meant to do this, you must specify 'dtype=object' when creating the ndarray.\n",
      "  arr = asarray(arr)\n"
     ]
    }
   ],
   "source": [
    "X_train, y_train = drop_empty_list(X_train, y_train)"
   ]
  },
  {
   "cell_type": "code",
   "execution_count": 77,
   "id": "a6ed29d7",
   "metadata": {},
   "outputs": [
    {
     "name": "stdout",
     "output_type": "stream",
     "text": [
      "리뷰의 최대 길이 : 72\n",
      "리뷰의 평균 길이 : 12.69824621851635\n"
     ]
    },
    {
     "data": {
      "image/png": "[encoded data removed]",
      "text/plain": [
       "<Figure size 432x288 with 1 Axes>"
      ]
     },
     "metadata": {},
     "output_type": "display_data"
    }
   ],
   "source": [
    "print('리뷰의 최대 길이 :',max(len(l) for l in X_train))\n",
    "print('리뷰의 평균 길이 :',sum(map(len, X_train))/len(X_train))\n",
    "plt.hist([len(s) for s in X_train], bins=50)\n",
    "plt.xlabel('length of samples')\n",
    "plt.ylabel('number of samples')\n",
    "plt.show();"
   ]
  },
  {
   "cell_type": "code",
   "execution_count": 78,
   "id": "9cc1819f",
   "metadata": {},
   "outputs": [],
   "source": [
    "# 전체 샘플 중 길이가 max_len 이하인 샘플의 비율이 몇 %인지 확인\n",
    "\n",
    "def below_threshold_len(max_len, nested_list):\n",
    "    cnt = 0\n",
    "    for s in nested_list:\n",
    "        if(len(s) <= max_len):\n",
    "            cnt = cnt + 1\n",
    "    print('전체 샘플 중 길이가 %s 이하인 샘플의 비율: %s'%(max_len, (cnt / len(nested_list))*100))"
   ]
  },
  {
   "cell_type": "code",
   "execution_count": 80,
   "id": "5feca83f",
   "metadata": {},
   "outputs": [
    {
     "name": "stdout",
     "output_type": "stream",
     "text": [
      "전체 샘플 중 길이가 50 이하인 샘플의 비율: 98.95600041346519\n"
     ]
    }
   ],
   "source": [
    "max_len = 50\n",
    "below_threshold_len(max_len, X_train)"
   ]
  },
  {
   "cell_type": "code",
   "execution_count": 97,
   "id": "4cc0db87",
   "metadata": {},
   "outputs": [],
   "source": [
    "def padding_and_split(X_train, X_test, y_train, max_len):\n",
    "    X_train = pad_sequences(X_train, maxlen = max_len)\n",
    "    X_test = pad_sequences(X_test, maxlen = max_len)\n",
    "\n",
    "    X_train, X_val, y_train, y_val = train_test_split(X_train, y_train, test_size=0.2, shuffle=True,\n",
    "                                                      stratify=y_train, random_state=777)\n",
    "    return X_train, X_val, y_train, y_val, X_test"
   ]
  },
  {
   "cell_type": "code",
   "execution_count": 98,
   "id": "90b6dd50",
   "metadata": {},
   "outputs": [],
   "source": [
    "X_train, X_val, y_train, y_val, X_test = padding_and_split(X_train, X_test, y_train, max_len)"
   ]
  },
  {
   "cell_type": "code",
   "execution_count": 86,
   "id": "f6553d96",
   "metadata": {},
   "outputs": [
    {
     "data": {
      "text/plain": [
       "32667"
      ]
     },
     "execution_count": 86,
     "metadata": {},
     "output_type": "execute_result"
    }
   ],
   "source": [
    "vocab_size"
   ]
  },
  {
   "cell_type": "code",
   "execution_count": 87,
   "id": "391e73b7",
   "metadata": {},
   "outputs": [],
   "source": [
    "embedding_dim = 100"
   ]
  },
  {
   "cell_type": "code",
   "execution_count": 88,
   "id": "9b02ed91",
   "metadata": {},
   "outputs": [],
   "source": [
    "def lstm_model(vocab_size, embedding_dim, optimizer='rmsprop'):\n",
    "    model = Sequential([\n",
    "        Embedding(vocab_size, embedding_dim),\n",
    "        LSTM(128),\n",
    "        Dense(1, activation='sigmoid')\n",
    "    ])\n",
    "    model.compile(optimizer=optimizer, loss='binary_crossentropy', metrics=['acc'])\n",
    "    return model"
   ]
  },
  {
   "cell_type": "code",
   "execution_count": 91,
   "id": "f57d8563",
   "metadata": {},
   "outputs": [],
   "source": [
    "model = lstm_model(vocab_size, embedding_dim)"
   ]
  },
  {
   "cell_type": "code",
   "execution_count": 92,
   "id": "16a755ae",
   "metadata": {},
   "outputs": [],
   "source": [
    "# 모델 검증\n",
    "\n",
    "es = EarlyStopping(monitor='val_loss', mode='min', verbose=1, patience=4)\n",
    "mc = ModelCheckpoint('best_lstm_model_okt.h5', monitor='val_acc', mode='max', verbose=1, save_best_only=True)"
   ]
  },
  {
   "cell_type": "code",
   "execution_count": 93,
   "id": "b9947956",
   "metadata": {},
   "outputs": [
    {
     "name": "stdout",
     "output_type": "stream",
     "text": [
      "Epoch 1/20\n",
      "3628/3628 [==============================] - 64s 9ms/step - loss: 0.3938 - acc: 0.8214 - val_loss: 0.3468 - val_acc: 0.8499\n",
      "\n",
      "Epoch 00001: val_acc improved from -inf to 0.84991, saving model to best_lstm_model_okt.h5\n",
      "Epoch 2/20\n",
      "3628/3628 [==============================] - 31s 9ms/step - loss: 0.3140 - acc: 0.8669 - val_loss: 0.3314 - val_acc: 0.8596\n",
      "\n",
      "Epoch 00002: val_acc improved from 0.84991 to 0.85956, saving model to best_lstm_model_okt.h5\n",
      "Epoch 3/20\n",
      "3628/3628 [==============================] - 31s 8ms/step - loss: 0.2832 - acc: 0.8833 - val_loss: 0.3297 - val_acc: 0.8633\n",
      "\n",
      "Epoch 00003: val_acc improved from 0.85956 to 0.86335, saving model to best_lstm_model_okt.h5\n",
      "Epoch 4/20\n",
      "3628/3628 [==============================] - 31s 9ms/step - loss: 0.2633 - acc: 0.8933 - val_loss: 0.3203 - val_acc: 0.8675\n",
      "\n",
      "Epoch 00004: val_acc improved from 0.86335 to 0.86752, saving model to best_lstm_model_okt.h5\n",
      "Epoch 5/20\n",
      "3628/3628 [==============================] - 32s 9ms/step - loss: 0.2468 - acc: 0.9011 - val_loss: 0.3269 - val_acc: 0.8638\n",
      "\n",
      "Epoch 00005: val_acc did not improve from 0.86752\n",
      "Epoch 6/20\n",
      "3628/3628 [==============================] - 30s 8ms/step - loss: 0.2309 - acc: 0.9085 - val_loss: 0.3270 - val_acc: 0.8634\n",
      "\n",
      "Epoch 00006: val_acc did not improve from 0.86752\n",
      "Epoch 7/20\n",
      "3628/3628 [==============================] - 30s 8ms/step - loss: 0.2152 - acc: 0.9157 - val_loss: 0.3402 - val_acc: 0.8614\n",
      "\n",
      "Epoch 00007: val_acc did not improve from 0.86752\n",
      "Epoch 8/20\n",
      "3628/3628 [==============================] - 31s 9ms/step - loss: 0.1991 - acc: 0.9226 - val_loss: 0.3392 - val_acc: 0.8544\n",
      "\n",
      "Epoch 00008: val_acc did not improve from 0.86752\n",
      "Epoch 00008: early stopping\n"
     ]
    }
   ],
   "source": [
    "# 모델 훈련\n",
    "history = model.fit(X_train, y_train, epochs=20, validation_data=(X_val, y_val), callbacks=[es, mc])"
   ]
  },
  {
   "cell_type": "code",
   "execution_count": 120,
   "id": "ca4eae9a",
   "metadata": {},
   "outputs": [],
   "source": [
    "def draw_graph(history):\n",
    "    history_dict = history.history\n",
    "    try:\n",
    "        acc = history_dict['accuracy']\n",
    "        val_acc = history_dict['val_accuracy']\n",
    "    except:\n",
    "        acc = history_dict['acc']\n",
    "        val_acc = history_dict['val_acc']\n",
    "    loss = history_dict['loss']\n",
    "    val_loss = history_dict['val_loss']\n",
    "\n",
    "    epochs = range(1, len(acc) + 1)\n",
    "\n",
    "    fig = plt.figure(figsize=(12, 5))\n",
    "\n",
    "    plt.subplot(1, 2, 1)\n",
    "    plt.plot(epochs, loss, 'r', label='Training loss')\n",
    "    plt.plot(epochs, val_loss, 'b', label='Validation loss')\n",
    "    plt.title('Training and validation loss')\n",
    "    plt.xlabel('Epochs')\n",
    "    plt.ylabel('Loss')\n",
    "    plt.legend()\n",
    "\n",
    "    plt.subplot(1, 2, 2)\n",
    "    plt.plot(epochs, acc, 'r', label='Training accuracy')\n",
    "    plt.plot(epochs, val_acc, 'b', label='Validation accuracy')\n",
    "    plt.title('Training and validation accuracy')\n",
    "    plt.xlabel('Epochs')\n",
    "    plt.ylabel('Accuracy')\n",
    "    plt.legend()\n",
    "\n",
    "    plt.show()"
   ]
  },
  {
   "cell_type": "code",
   "execution_count": null,
   "id": "b6b87247",
   "metadata": {},
   "outputs": [],
   "source": [
    "draw_graph(history)"
   ]
  },
  {
   "cell_type": "code",
   "execution_count": 100,
   "id": "9bbd78b3",
   "metadata": {},
   "outputs": [
    {
     "data": {
      "text/plain": [
       "(48907, 50)"
      ]
     },
     "execution_count": 100,
     "metadata": {},
     "output_type": "execute_result"
    }
   ],
   "source": [
    "X_test.shape"
   ]
  },
  {
   "cell_type": "code",
   "execution_count": 105,
   "id": "97b841df",
   "metadata": {},
   "outputs": [],
   "source": [
    "y_test = np.array(test.label)"
   ]
  },
  {
   "cell_type": "code",
   "execution_count": 106,
   "id": "ad46a053",
   "metadata": {},
   "outputs": [
    {
     "name": "stdout",
     "output_type": "stream",
     "text": [
      "1529/1529 [==============================] - 6s 4ms/step - loss: 0.3331 - acc: 0.8586\n",
      "\n",
      " 테스트 정확도: 0.8586\n"
     ]
    }
   ],
   "source": [
    "# 테스트 정확도 측정\n",
    "\n",
    "loaded_model = load_model('best_lstm_model_okt.h5')\n",
    "print(\"\\n 테스트 정확도: %.4f\" % (loaded_model.evaluate(X_test, y_test)[1]))"
   ]
  },
  {
   "cell_type": "markdown",
   "id": "05281ebc",
   "metadata": {},
   "source": [
    "## 한나눔 성능"
   ]
  },
  {
   "cell_type": "code",
   "execution_count": 108,
   "id": "7dc40463",
   "metadata": {},
   "outputs": [
    {
     "name": "stdout",
     "output_type": "stream",
     "text": [
      "145510 145510\n"
     ]
    },
    {
     "name": "stderr",
     "output_type": "stream",
     "text": [
      "100%|██████████| 48907/48907 [00:00<00:00, 62183.11it/s]\n"
     ]
    },
    {
     "name": "stdout",
     "output_type": "stream",
     "text": [
      "182198\n",
      "단어 집합(vocabulary)의 크기 : 182198\n",
      "등장 빈도가 2번 이하인 희귀 단어의 수: 158670\n",
      "단어 집합에서 희귀 단어의 비율: 87.08657614243845\n",
      "전체 등장 빈도에서 희귀 단어 등장 빈도 비율: 8.200177255847207\n",
      "단어 집합의 크기 : 23529\n"
     ]
    }
   ],
   "source": [
    "X_train, X_test, tokenizer, vocab_size = compare_morphs(train, test, hannanum)"
   ]
  },
  {
   "cell_type": "code",
   "execution_count": 110,
   "id": "898ac148",
   "metadata": {},
   "outputs": [],
   "source": [
    "y_train = y_data.tolist()"
   ]
  },
  {
   "cell_type": "code",
   "execution_count": 111,
   "id": "266563c4",
   "metadata": {},
   "outputs": [
    {
     "name": "stdout",
     "output_type": "stream",
     "text": [
      "빈 샘플 수 : 5513\n",
      "빈 샘플 제거 후 남은 X train data : 139997\n",
      "빈 샘플 제거 후 남은 y train data : 139997\n"
     ]
    }
   ],
   "source": [
    "X_train, y_train = drop_empty_list(X_train, y_train)"
   ]
  },
  {
   "cell_type": "code",
   "execution_count": 112,
   "id": "d08bc87f",
   "metadata": {},
   "outputs": [
    {
     "name": "stdout",
     "output_type": "stream",
     "text": [
      "리뷰의 최대 길이 : 85\n",
      "리뷰의 평균 길이 : 13.776288063315642\n"
     ]
    },
    {
     "data": {
      "image/png": "[encoded data removed]",
      "text/plain": [
       "<Figure size 432x288 with 1 Axes>"
      ]
     },
     "metadata": {},
     "output_type": "display_data"
    }
   ],
   "source": [
    "print('리뷰의 최대 길이 :',max(len(l) for l in X_train))\n",
    "print('리뷰의 평균 길이 :',sum(map(len, X_train))/len(X_train))\n",
    "plt.hist([len(s) for s in X_train], bins=50)\n",
    "plt.xlabel('length of samples')\n",
    "plt.ylabel('number of samples')\n",
    "plt.show();"
   ]
  },
  {
   "cell_type": "code",
   "execution_count": 113,
   "id": "2bcc9cb6",
   "metadata": {},
   "outputs": [
    {
     "name": "stdout",
     "output_type": "stream",
     "text": [
      "전체 샘플 중 길이가 50 이하인 샘플의 비율: 97.21922612627414\n"
     ]
    }
   ],
   "source": [
    "max_len = 50\n",
    "below_threshold_len(max_len, X_train)"
   ]
  },
  {
   "cell_type": "code",
   "execution_count": 114,
   "id": "3c332f8d",
   "metadata": {},
   "outputs": [],
   "source": [
    "X_train, X_val, y_train, y_val, X_test = padding_and_split(X_train, X_test, y_train, max_len)"
   ]
  },
  {
   "cell_type": "code",
   "execution_count": 116,
   "id": "bf8b7b52",
   "metadata": {},
   "outputs": [],
   "source": [
    "embedding_dim = 100"
   ]
  },
  {
   "cell_type": "code",
   "execution_count": 117,
   "id": "2b2e14c7",
   "metadata": {},
   "outputs": [],
   "source": [
    "model = lstm_model(vocab_size, embedding_dim)"
   ]
  },
  {
   "cell_type": "code",
   "execution_count": 118,
   "id": "d246c213",
   "metadata": {},
   "outputs": [],
   "source": [
    "# 모델 검증\n",
    "\n",
    "es = EarlyStopping(monitor='val_loss', mode='min', verbose=1, patience=4)\n",
    "mc = ModelCheckpoint('best_lstm_model_hannanum.h5', monitor='val_acc', mode='max', verbose=1, save_best_only=True)"
   ]
  },
  {
   "cell_type": "code",
   "execution_count": 119,
   "id": "52bc5058",
   "metadata": {
    "scrolled": true
   },
   "outputs": [
    {
     "name": "stdout",
     "output_type": "stream",
     "text": [
      "Epoch 1/20\n",
      "3500/3500 [==============================] - 41s 10ms/step - loss: 0.4426 - acc: 0.7917 - val_loss: 0.3972 - val_acc: 0.8146\n",
      "\n",
      "Epoch 00001: val_acc improved from -inf to 0.81457, saving model to best_lstm_model_hannanum.h5\n",
      "Epoch 2/20\n",
      "3500/3500 [==============================] - 29s 8ms/step - loss: 0.3737 - acc: 0.8340 - val_loss: 0.3710 - val_acc: 0.8305\n",
      "\n",
      "Epoch 00002: val_acc improved from 0.81457 to 0.83054, saving model to best_lstm_model_hannanum.h5\n",
      "Epoch 3/20\n",
      "3500/3500 [==============================] - 29s 8ms/step - loss: 0.3414 - acc: 0.8521 - val_loss: 0.3632 - val_acc: 0.8369\n",
      "\n",
      "Epoch 00003: val_acc improved from 0.83054 to 0.83686, saving model to best_lstm_model_hannanum.h5\n",
      "Epoch 4/20\n",
      "3500/3500 [==============================] - 30s 8ms/step - loss: 0.3209 - acc: 0.8611 - val_loss: 0.3695 - val_acc: 0.8359\n",
      "\n",
      "Epoch 00004: val_acc did not improve from 0.83686\n",
      "Epoch 5/20\n",
      "3500/3500 [==============================] - 27s 8ms/step - loss: 0.3057 - acc: 0.8698 - val_loss: 0.3620 - val_acc: 0.8388\n",
      "\n",
      "Epoch 00005: val_acc improved from 0.83686 to 0.83875, saving model to best_lstm_model_hannanum.h5\n",
      "Epoch 6/20\n",
      "3500/3500 [==============================] - 21s 6ms/step - loss: 0.2926 - acc: 0.8752 - val_loss: 0.3638 - val_acc: 0.8376\n",
      "\n",
      "Epoch 00006: val_acc did not improve from 0.83875\n",
      "Epoch 7/20\n",
      "3500/3500 [==============================] - 21s 6ms/step - loss: 0.2791 - acc: 0.8820 - val_loss: 0.3669 - val_acc: 0.8395\n",
      "\n",
      "Epoch 00007: val_acc improved from 0.83875 to 0.83954, saving model to best_lstm_model_hannanum.h5\n",
      "Epoch 8/20\n",
      "3500/3500 [==============================] - 21s 6ms/step - loss: 0.2648 - acc: 0.8891 - val_loss: 0.3666 - val_acc: 0.8386\n",
      "\n",
      "Epoch 00008: val_acc did not improve from 0.83954\n",
      "Epoch 9/20\n",
      "3500/3500 [==============================] - 21s 6ms/step - loss: 0.2493 - acc: 0.8959 - val_loss: 0.3866 - val_acc: 0.8344\n",
      "\n",
      "Epoch 00009: val_acc did not improve from 0.83954\n",
      "Epoch 00009: early stopping\n"
     ]
    }
   ],
   "source": [
    "# 모델 훈련\n",
    "history = model.fit(X_train, y_train, epochs=20, validation_data=(X_val, y_val), callbacks=[es, mc])"
   ]
  },
  {
   "cell_type": "code",
   "execution_count": 121,
   "id": "e500d214",
   "metadata": {},
   "outputs": [
    {
     "data": {
      "image/png": "[encoded data removed]",
      "text/plain": [
       "<Figure size 864x360 with 2 Axes>"
      ]
     },
     "metadata": {},
     "output_type": "display_data"
    }
   ],
   "source": [
    "draw_graph(history)"
   ]
  },
  {
   "cell_type": "code",
   "execution_count": 122,
   "id": "40c49af2",
   "metadata": {},
   "outputs": [
    {
     "data": {
      "text/plain": [
       "(48907, 50)"
      ]
     },
     "execution_count": 122,
     "metadata": {},
     "output_type": "execute_result"
    }
   ],
   "source": [
    "X_test.shape"
   ]
  },
  {
   "cell_type": "code",
   "execution_count": 123,
   "id": "293fdb3a",
   "metadata": {},
   "outputs": [],
   "source": [
    "y_test = np.array(test.label)"
   ]
  },
  {
   "cell_type": "code",
   "execution_count": 125,
   "id": "3617f76f",
   "metadata": {},
   "outputs": [
    {
     "data": {
      "text/plain": [
       "(48907,)"
      ]
     },
     "execution_count": 125,
     "metadata": {},
     "output_type": "execute_result"
    }
   ],
   "source": [
    "y_test.shape"
   ]
  },
  {
   "cell_type": "code",
   "execution_count": 126,
   "id": "fae597ce",
   "metadata": {},
   "outputs": [
    {
     "name": "stdout",
     "output_type": "stream",
     "text": [
      "1529/1529 [==============================] - 4s 3ms/step - loss: 0.4043 - acc: 0.8199\n",
      "\n",
      " 테스트 정확도: 0.8199\n"
     ]
    }
   ],
   "source": [
    "# 테스트 정확도 측정\n",
    "\n",
    "loaded_model = load_model('best_lstm_model_hannanum.h5')\n",
    "print(\"\\n 테스트 정확도: %.4f\" % (loaded_model.evaluate(X_test, y_test)[1]))"
   ]
  },
  {
   "cell_type": "markdown",
   "id": "3acadf91",
   "metadata": {},
   "source": [
    "## Komoran 성능"
   ]
  },
  {
   "cell_type": "code",
   "execution_count": 148,
   "id": "325ca14f",
   "metadata": {},
   "outputs": [],
   "source": [
    "name = komoran.__class__.__name__.lower()"
   ]
  },
  {
   "cell_type": "code",
   "execution_count": 137,
   "id": "03f2127d",
   "metadata": {},
   "outputs": [
    {
     "name": "stdout",
     "output_type": "stream",
     "text": [
      "145510 145510\n"
     ]
    },
    {
     "name": "stderr",
     "output_type": "stream",
     "text": [
      "100%|██████████| 48907/48907 [00:00<00:00, 73255.75it/s]\n"
     ]
    },
    {
     "name": "stdout",
     "output_type": "stream",
     "text": [
      "55043\n",
      "단어 집합(vocabulary)의 크기 : 55043\n",
      "등장 빈도가 2번 이하인 희귀 단어의 수: 36854\n",
      "단어 집합에서 희귀 단어의 비율: 66.95492614864742\n",
      "전체 등장 빈도에서 희귀 단어 등장 빈도 비율: 1.6391542779794273\n",
      "단어 집합의 크기 : 18190\n"
     ]
    }
   ],
   "source": [
    "X_train, X_test, tokenizer, vocab_size = compare_morphs(train, test, komoran)"
   ]
  },
  {
   "cell_type": "code",
   "execution_count": 138,
   "id": "200abbbc",
   "metadata": {},
   "outputs": [],
   "source": [
    "y_train = y_data.tolist()"
   ]
  },
  {
   "cell_type": "code",
   "execution_count": 139,
   "id": "70447a13",
   "metadata": {},
   "outputs": [
    {
     "name": "stdout",
     "output_type": "stream",
     "text": [
      "빈 샘플 수 : 2278\n",
      "빈 샘플 제거 후 남은 X train data : 143232\n",
      "빈 샘플 제거 후 남은 y train data : 143232\n"
     ]
    },
    {
     "name": "stderr",
     "output_type": "stream",
     "text": [
      "/opt/conda/lib/python3.9/site-packages/numpy/lib/function_base.py:4454: VisibleDeprecationWarning: Creating an ndarray from ragged nested sequences (which is a list-or-tuple of lists-or-tuples-or ndarrays with different lengths or shapes) is deprecated. If you meant to do this, you must specify 'dtype=object' when creating the ndarray.\n",
      "  arr = asarray(arr)\n"
     ]
    }
   ],
   "source": [
    "X_train, y_train = drop_empty_list(X_train, y_train)"
   ]
  },
  {
   "cell_type": "code",
   "execution_count": 140,
   "id": "850ab8a5",
   "metadata": {},
   "outputs": [
    {
     "name": "stdout",
     "output_type": "stream",
     "text": [
      "리뷰의 최대 길이 : 104\n",
      "리뷰의 평균 길이 : 17.77689343163539\n"
     ]
    },
    {
     "data": {
      "image/png": "[encoded data removed]",
      "text/plain": [
       "<Figure size 432x288 with 1 Axes>"
      ]
     },
     "metadata": {},
     "output_type": "display_data"
    }
   ],
   "source": [
    "print('리뷰의 최대 길이 :',max(len(l) for l in X_train))\n",
    "print('리뷰의 평균 길이 :',sum(map(len, X_train))/len(X_train))\n",
    "plt.hist([len(s) for s in X_train], bins=50)\n",
    "plt.xlabel('length of samples')\n",
    "plt.ylabel('number of samples')\n",
    "plt.show();"
   ]
  },
  {
   "cell_type": "code",
   "execution_count": 142,
   "id": "fc65b4ab",
   "metadata": {},
   "outputs": [
    {
     "name": "stdout",
     "output_type": "stream",
     "text": [
      "전체 샘플 중 길이가 70 이하인 샘플의 비율: 98.85500446827524\n"
     ]
    }
   ],
   "source": [
    "max_len = 70\n",
    "below_threshold_len(max_len, X_train)"
   ]
  },
  {
   "cell_type": "code",
   "execution_count": 143,
   "id": "3619ee49",
   "metadata": {},
   "outputs": [],
   "source": [
    "X_train, X_val, y_train, y_val, X_test = padding_and_split(X_train, X_test, y_train, max_len)"
   ]
  },
  {
   "cell_type": "code",
   "execution_count": 144,
   "id": "bb3d4cca",
   "metadata": {},
   "outputs": [],
   "source": [
    "embedding_dim = 100"
   ]
  },
  {
   "cell_type": "code",
   "execution_count": 145,
   "id": "1a2be0c9",
   "metadata": {},
   "outputs": [],
   "source": [
    "model = lstm_model(vocab_size, embedding_dim)"
   ]
  },
  {
   "cell_type": "code",
   "execution_count": 149,
   "id": "556c4a56",
   "metadata": {},
   "outputs": [],
   "source": [
    "# 모델 검증\n",
    "\n",
    "es = EarlyStopping(monitor='val_loss', mode='min', verbose=1, patience=4)\n",
    "mc = ModelCheckpoint(f'best_lstm_model_{name}.h5', monitor='val_acc', mode='max', verbose=1, save_best_only=True)"
   ]
  },
  {
   "cell_type": "code",
   "execution_count": 150,
   "id": "b8773c98",
   "metadata": {
    "scrolled": true
   },
   "outputs": [
    {
     "name": "stdout",
     "output_type": "stream",
     "text": [
      "Epoch 1/20\n",
      "3581/3581 [==============================] - 28s 7ms/step - loss: 0.3915 - acc: 0.8226 - val_loss: 0.3689 - val_acc: 0.8403\n",
      "\n",
      "Epoch 00001: val_acc improved from -inf to 0.84026, saving model to best_lstm_model_komoran.h5\n",
      "Epoch 2/20\n",
      "3581/3581 [==============================] - 24s 7ms/step - loss: 0.3290 - acc: 0.8582 - val_loss: 0.3418 - val_acc: 0.8544\n",
      "\n",
      "Epoch 00002: val_acc improved from 0.84026 to 0.85437, saving model to best_lstm_model_komoran.h5\n",
      "Epoch 3/20\n",
      "3581/3581 [==============================] - 24s 7ms/step - loss: 0.3009 - acc: 0.8733 - val_loss: 0.3213 - val_acc: 0.8633\n",
      "\n",
      "Epoch 00003: val_acc improved from 0.85437 to 0.86330, saving model to best_lstm_model_komoran.h5\n",
      "Epoch 4/20\n",
      "3581/3581 [==============================] - 24s 7ms/step - loss: 0.2800 - acc: 0.8843 - val_loss: 0.3175 - val_acc: 0.8650\n",
      "\n",
      "Epoch 00004: val_acc improved from 0.86330 to 0.86498, saving model to best_lstm_model_komoran.h5\n",
      "Epoch 5/20\n",
      "3581/3581 [==============================] - 24s 7ms/step - loss: 0.2646 - acc: 0.8914 - val_loss: 0.3147 - val_acc: 0.8652\n",
      "\n",
      "Epoch 00005: val_acc improved from 0.86498 to 0.86515, saving model to best_lstm_model_komoran.h5\n",
      "Epoch 6/20\n",
      "3581/3581 [==============================] - 24s 7ms/step - loss: 0.2505 - acc: 0.8986 - val_loss: 0.3206 - val_acc: 0.8641\n",
      "\n",
      "Epoch 00006: val_acc did not improve from 0.86515\n",
      "Epoch 7/20\n",
      "3581/3581 [==============================] - 24s 7ms/step - loss: 0.2358 - acc: 0.9052 - val_loss: 0.3217 - val_acc: 0.8656\n",
      "\n",
      "Epoch 00007: val_acc improved from 0.86515 to 0.86561, saving model to best_lstm_model_komoran.h5\n",
      "Epoch 8/20\n",
      "3581/3581 [==============================] - 24s 7ms/step - loss: 0.2213 - acc: 0.9118 - val_loss: 0.3375 - val_acc: 0.8649\n",
      "\n",
      "Epoch 00008: val_acc did not improve from 0.86561\n",
      "Epoch 9/20\n",
      "3581/3581 [==============================] - 24s 7ms/step - loss: 0.2075 - acc: 0.9191 - val_loss: 0.3503 - val_acc: 0.8604\n",
      "\n",
      "Epoch 00009: val_acc did not improve from 0.86561\n",
      "Epoch 00009: early stopping\n"
     ]
    }
   ],
   "source": [
    "# 모델 훈련\n",
    "history = model.fit(X_train, y_train, epochs=20, validation_data=(X_val, y_val), callbacks=[es, mc])"
   ]
  },
  {
   "cell_type": "code",
   "execution_count": 151,
   "id": "04f93c2e",
   "metadata": {},
   "outputs": [
    {
     "data": {
      "image/png": "[encoded data removed]",
      "text/plain": [
       "<Figure size 864x360 with 2 Axes>"
      ]
     },
     "metadata": {},
     "output_type": "display_data"
    }
   ],
   "source": [
    "draw_graph(history)"
   ]
  },
  {
   "cell_type": "code",
   "execution_count": 152,
   "id": "d1f116a0",
   "metadata": {},
   "outputs": [
    {
     "data": {
      "text/plain": [
       "(48907, 70)"
      ]
     },
     "execution_count": 152,
     "metadata": {},
     "output_type": "execute_result"
    }
   ],
   "source": [
    "X_test.shape"
   ]
  },
  {
   "cell_type": "code",
   "execution_count": 153,
   "id": "938a52dc",
   "metadata": {},
   "outputs": [],
   "source": [
    "y_test = np.array(test.label)"
   ]
  },
  {
   "cell_type": "code",
   "execution_count": 125,
   "id": "2c5fb14d",
   "metadata": {},
   "outputs": [
    {
     "data": {
      "text/plain": [
       "(48907,)"
      ]
     },
     "execution_count": 125,
     "metadata": {},
     "output_type": "execute_result"
    }
   ],
   "source": [
    "y_test.shape"
   ]
  },
  {
   "cell_type": "code",
   "execution_count": 154,
   "id": "baf813a5",
   "metadata": {},
   "outputs": [
    {
     "name": "stdout",
     "output_type": "stream",
     "text": [
      "1529/1529 [==============================] - 5s 3ms/step - loss: 0.3418 - acc: 0.8544\n",
      "\n",
      " 테스트 정확도: 0.8544\n"
     ]
    }
   ],
   "source": [
    "# 테스트 정확도 측정\n",
    "\n",
    "loaded_model = load_model(f'best_lstm_model_{name}.h5')\n",
    "print(\"\\n 테스트 정확도: %.4f\" % (loaded_model.evaluate(X_test, y_test)[1]))"
   ]
  },
  {
   "cell_type": "markdown",
   "id": "ad0df21d",
   "metadata": {},
   "source": [
    "# Mecab 성능"
   ]
  },
  {
   "cell_type": "code",
   "execution_count": 155,
   "id": "c92b4c53",
   "metadata": {},
   "outputs": [
    {
     "name": "stdout",
     "output_type": "stream",
     "text": [
      "145510 145510\n"
     ]
    },
    {
     "name": "stderr",
     "output_type": "stream",
     "text": [
      "100%|██████████| 48907/48907 [00:00<00:00, 86299.29it/s]\n"
     ]
    },
    {
     "name": "stdout",
     "output_type": "stream",
     "text": [
      "50204\n",
      "단어 집합(vocabulary)의 크기 : 50204\n",
      "등장 빈도가 2번 이하인 희귀 단어의 수: 28464\n",
      "단어 집합에서 희귀 단어의 비율: 56.69667755557326\n",
      "전체 등장 빈도에서 희귀 단어 등장 빈도 비율: 1.4590719384795277\n",
      "단어 집합의 크기 : 21741\n",
      "빈 샘플 수 : 202\n",
      "빈 샘플 제거 후 남은 X train data : 145308\n",
      "빈 샘플 제거 후 남은 y train data : 145308\n"
     ]
    },
    {
     "name": "stderr",
     "output_type": "stream",
     "text": [
      "/opt/conda/lib/python3.9/site-packages/numpy/lib/function_base.py:4454: VisibleDeprecationWarning: Creating an ndarray from ragged nested sequences (which is a list-or-tuple of lists-or-tuples-or ndarrays with different lengths or shapes) is deprecated. If you meant to do this, you must specify 'dtype=object' when creating the ndarray.\n",
      "  arr = asarray(arr)\n"
     ]
    }
   ],
   "source": [
    "name = mecab.__class__.__name__.lower()\n",
    "\n",
    "X_train, X_test, tokenizer, vocab_size = compare_morphs(train, test, mecab)\n",
    "y_train = y_data.tolist()\n",
    "X_train, y_train = drop_empty_list(X_train, y_train)"
   ]
  },
  {
   "cell_type": "code",
   "execution_count": 156,
   "id": "9270555d",
   "metadata": {},
   "outputs": [
    {
     "name": "stdout",
     "output_type": "stream",
     "text": [
      "리뷰의 최대 길이 : 96\n",
      "리뷰의 평균 길이 : 16.494226057753185\n"
     ]
    },
    {
     "data": {
      "image/png": "[encoded data removed]",
      "text/plain": [
       "<Figure size 432x288 with 1 Axes>"
      ]
     },
     "metadata": {},
     "output_type": "display_data"
    }
   ],
   "source": [
    "print('리뷰의 최대 길이 :',max(len(l) for l in X_train))\n",
    "print('리뷰의 평균 길이 :',sum(map(len, X_train))/len(X_train))\n",
    "plt.hist([len(s) for s in X_train], bins=50)\n",
    "plt.xlabel('length of samples')\n",
    "plt.ylabel('number of samples')\n",
    "plt.show();"
   ]
  },
  {
   "cell_type": "code",
   "execution_count": 157,
   "id": "73637e31",
   "metadata": {},
   "outputs": [
    {
     "name": "stdout",
     "output_type": "stream",
     "text": [
      "전체 샘플 중 길이가 70 이하인 샘플의 비율: 99.68549563685413\n"
     ]
    }
   ],
   "source": [
    "max_len = 70\n",
    "below_threshold_len(max_len, X_train)"
   ]
  },
  {
   "cell_type": "code",
   "execution_count": 158,
   "id": "16d4ecf9",
   "metadata": {},
   "outputs": [],
   "source": [
    "X_train, X_val, y_train, y_val, X_test = padding_and_split(X_train, X_test, y_train, max_len)"
   ]
  },
  {
   "cell_type": "code",
   "execution_count": 159,
   "id": "b3875b3b",
   "metadata": {},
   "outputs": [
    {
     "name": "stdout",
     "output_type": "stream",
     "text": [
      "Epoch 1/20\n",
      "3633/3633 [==============================] - 26s 7ms/step - loss: 0.3820 - acc: 0.8297 - val_loss: 0.3341 - val_acc: 0.8556\n",
      "\n",
      "Epoch 00001: val_acc improved from -inf to 0.85555, saving model to best_lstm_model_mecab.h5\n",
      "Epoch 2/20\n",
      "3633/3633 [==============================] - 25s 7ms/step - loss: 0.3172 - acc: 0.8651 - val_loss: 0.3131 - val_acc: 0.8652\n",
      "\n",
      "Epoch 00002: val_acc improved from 0.85555 to 0.86518, saving model to best_lstm_model_mecab.h5\n",
      "Epoch 3/20\n",
      "3633/3633 [==============================] - 24s 7ms/step - loss: 0.2881 - acc: 0.8804 - val_loss: 0.3054 - val_acc: 0.8668\n",
      "\n",
      "Epoch 00003: val_acc improved from 0.86518 to 0.86684, saving model to best_lstm_model_mecab.h5\n",
      "Epoch 4/20\n",
      "3633/3633 [==============================] - 24s 7ms/step - loss: 0.2669 - acc: 0.8911 - val_loss: 0.3059 - val_acc: 0.8730\n",
      "\n",
      "Epoch 00004: val_acc improved from 0.86684 to 0.87300, saving model to best_lstm_model_mecab.h5\n",
      "Epoch 5/20\n",
      "3633/3633 [==============================] - 25s 7ms/step - loss: 0.2505 - acc: 0.8991 - val_loss: 0.3056 - val_acc: 0.8702\n",
      "\n",
      "Epoch 00005: val_acc did not improve from 0.87300\n",
      "Epoch 6/20\n",
      "3633/3633 [==============================] - 24s 7ms/step - loss: 0.2355 - acc: 0.9054 - val_loss: 0.3154 - val_acc: 0.8719\n",
      "\n",
      "Epoch 00006: val_acc did not improve from 0.87300\n",
      "Epoch 7/20\n",
      "3633/3633 [==============================] - 24s 7ms/step - loss: 0.2203 - acc: 0.9130 - val_loss: 0.3046 - val_acc: 0.8715\n",
      "\n",
      "Epoch 00007: val_acc did not improve from 0.87300\n",
      "Epoch 8/20\n",
      "3633/3633 [==============================] - 25s 7ms/step - loss: 0.2060 - acc: 0.9194 - val_loss: 0.3242 - val_acc: 0.8676\n",
      "\n",
      "Epoch 00008: val_acc did not improve from 0.87300\n",
      "Epoch 9/20\n",
      "3633/3633 [==============================] - 24s 7ms/step - loss: 0.1897 - acc: 0.9269 - val_loss: 0.3435 - val_acc: 0.8674\n",
      "\n",
      "Epoch 00009: val_acc did not improve from 0.87300\n",
      "Epoch 10/20\n",
      "3633/3633 [==============================] - 24s 7ms/step - loss: 0.1731 - acc: 0.9343 - val_loss: 0.3539 - val_acc: 0.8624\n",
      "\n",
      "Epoch 00010: val_acc did not improve from 0.87300\n",
      "Epoch 11/20\n",
      "3633/3633 [==============================] - 25s 7ms/step - loss: 0.1560 - acc: 0.9418 - val_loss: 0.3554 - val_acc: 0.8628\n",
      "\n",
      "Epoch 00011: val_acc did not improve from 0.87300\n",
      "Epoch 00011: early stopping\n"
     ]
    }
   ],
   "source": [
    "embedding_dim = 100\n",
    "\n",
    "model = lstm_model(vocab_size, embedding_dim)\n",
    "\n",
    "# 모델 검증\n",
    "es = EarlyStopping(monitor='val_loss', mode='min', verbose=1, patience=4)\n",
    "mc = ModelCheckpoint(f'best_lstm_model_{name}.h5', monitor='val_acc', mode='max', verbose=1, save_best_only=True)\n",
    "\n",
    "# 모델 훈련\n",
    "history = model.fit(X_train, y_train, epochs=20, validation_data=(X_val, y_val), callbacks=[es, mc])"
   ]
  },
  {
   "cell_type": "code",
   "execution_count": 160,
   "id": "7e209f44",
   "metadata": {},
   "outputs": [
    {
     "data": {
      "image/png": "[encoded data removed]",
      "text/plain": [
       "<Figure size 864x360 with 2 Axes>"
      ]
     },
     "metadata": {},
     "output_type": "display_data"
    }
   ],
   "source": [
    "draw_graph(history)"
   ]
  },
  {
   "cell_type": "code",
   "execution_count": 161,
   "id": "242d8bf5",
   "metadata": {},
   "outputs": [
    {
     "data": {
      "text/plain": [
       "(48907, 70)"
      ]
     },
     "execution_count": 161,
     "metadata": {},
     "output_type": "execute_result"
    }
   ],
   "source": [
    "X_test.shape"
   ]
  },
  {
   "cell_type": "code",
   "execution_count": 162,
   "id": "4bc5bba6",
   "metadata": {},
   "outputs": [],
   "source": [
    "y_test = np.array(test.label)"
   ]
  },
  {
   "cell_type": "code",
   "execution_count": 163,
   "id": "211b44ee",
   "metadata": {},
   "outputs": [
    {
     "data": {
      "text/plain": [
       "(48907,)"
      ]
     },
     "execution_count": 163,
     "metadata": {},
     "output_type": "execute_result"
    }
   ],
   "source": [
    "y_test.shape"
   ]
  },
  {
   "cell_type": "code",
   "execution_count": 164,
   "id": "f147e349",
   "metadata": {},
   "outputs": [
    {
     "name": "stdout",
     "output_type": "stream",
     "text": [
      "1529/1529 [==============================] - 5s 3ms/step - loss: 0.3242 - acc: 0.8649\n",
      "\n",
      " 테스트 정확도: 0.8649\n"
     ]
    }
   ],
   "source": [
    "# 테스트 정확도 측정\n",
    "\n",
    "loaded_model = load_model(f'best_lstm_model_{name}.h5')\n",
    "print(\"\\n 테스트 정확도: %.4f\" % (loaded_model.evaluate(X_test, y_test)[1]))"
   ]
  },
  {
   "cell_type": "markdown",
   "id": "81ebb487",
   "metadata": {},
   "source": [
    "## Okt (stem=True) 성능"
   ]
  },
  {
   "cell_type": "code",
   "execution_count": 167,
   "id": "389630d5",
   "metadata": {},
   "outputs": [],
   "source": [
    "df = train.copy()"
   ]
  },
  {
   "cell_type": "code",
   "execution_count": 168,
   "id": "10fd308b",
   "metadata": {},
   "outputs": [
    {
     "name": "stdout",
     "output_type": "stream",
     "text": [
      "145510 145510\n"
     ]
    },
    {
     "name": "stderr",
     "output_type": "stream",
     "text": [
      "100%|██████████| 48907/48907 [00:00<00:00, 131441.29it/s]\n"
     ]
    },
    {
     "name": "stdout",
     "output_type": "stream",
     "text": [
      "45557\n",
      "단어 집합(vocabulary)의 크기 : 45557\n",
      "등장 빈도가 2번 이하인 희귀 단어의 수: 25753\n",
      "단어 집합에서 희귀 단어의 비율: 56.52918322101982\n",
      "전체 등장 빈도에서 희귀 단어 등장 빈도 비율: 1.6384346628914317\n",
      "단어 집합의 크기 : 19805\n"
     ]
    }
   ],
   "source": [
    "col = 'Okt_stem'\n",
    "name = col.lower()\n",
    "\n",
    "X_data = df[col].apply(lambda x: [str(i) for i in x]).dropna().tolist()\n",
    "y_data = df['label'].dropna()\n",
    "\n",
    "print(len(X_data), len(y_data))\n",
    "\n",
    "# 형태소 분석\n",
    "#test_morphs = test.document.progress_apply(lambda x: tokenizer.morphs(x))\n",
    "test_morphs = test[col].copy()\n",
    "test_morphs = test_morphs.progress_apply(lambda x: [str(word) for word in x if not word in stopwords])\n",
    "\n",
    "# 토큰화\n",
    "tokenizer = Tokenizer()\n",
    "tokenizer.fit_on_texts(X_data)\n",
    "\n",
    "print(len(tokenizer.word_index))\n",
    "\n",
    "# 등장 빈도수가 3회 미만인 단어들의 분포 확인\n",
    "\n",
    "threshold = 3\n",
    "total_cnt = len(tokenizer.word_index) # 단어의 수\n",
    "rare_cnt = 0 # 등장 빈도수가 threshold보다 작은 단어의 개수를 카운트\n",
    "total_freq = 0 # 훈련 데이터의 전체 단어 빈도수 총 합\n",
    "rare_freq = 0 # 등장 빈도수가 threshold보다 작은 단어의 등장 빈도수의 총 합\n",
    "\n",
    "# 단어와 빈도수의 쌍(pair)을 key와 value로 받는다.\n",
    "for key, value in tokenizer.word_counts.items():\n",
    "    total_freq = total_freq + value\n",
    "\n",
    "    # 단어의 등장 빈도수가 threshold보다 작으면\n",
    "    if(value < threshold):\n",
    "        rare_cnt = rare_cnt + 1\n",
    "        rare_freq = rare_freq + value\n",
    "\n",
    "print('단어 집합(vocabulary)의 크기 :',total_cnt)\n",
    "print('등장 빈도가 %s번 이하인 희귀 단어의 수: %s'%(threshold - 1, rare_cnt))\n",
    "print(\"단어 집합에서 희귀 단어의 비율:\", (rare_cnt / total_cnt)*100)\n",
    "print(\"전체 등장 빈도에서 희귀 단어 등장 빈도 비율:\", (rare_freq / total_freq)*100)\n",
    "\n",
    "# 등장 빈도수가 2이하인 단어들의 수를 제외한 단어의 개수를 단어 집합의 최대 크기로 제한\n",
    "# 전체 단어 개수 중 빈도수 2이하인 단어는 제거.\n",
    "# 0번 패딩 토큰을 고려하여 + 1\n",
    "\n",
    "vocab_size = total_cnt - rare_cnt + 1\n",
    "print('단어 집합의 크기 :',vocab_size)\n",
    "\n",
    "# 이를 케라스 토크나이저의 인자로 넘겨 텍스트 시퀀스를 숫자 시퀀스로 변환\n",
    "\n",
    "tokenizer = Tokenizer(vocab_size) \n",
    "tokenizer.fit_on_texts(X_data)\n",
    "X_train = tokenizer.texts_to_sequences(X_data)\n",
    "X_test = tokenizer.texts_to_sequences(test_morphs)"
   ]
  },
  {
   "cell_type": "code",
   "execution_count": 169,
   "id": "ddfa560d",
   "metadata": {},
   "outputs": [
    {
     "name": "stdout",
     "output_type": "stream",
     "text": [
      "빈 샘플 수 : 241\n",
      "빈 샘플 제거 후 남은 X train data : 145269\n",
      "빈 샘플 제거 후 남은 y train data : 145269\n"
     ]
    },
    {
     "name": "stderr",
     "output_type": "stream",
     "text": [
      "/opt/conda/lib/python3.9/site-packages/numpy/lib/function_base.py:4454: VisibleDeprecationWarning: Creating an ndarray from ragged nested sequences (which is a list-or-tuple of lists-or-tuples-or ndarrays with different lengths or shapes) is deprecated. If you meant to do this, you must specify 'dtype=object' when creating the ndarray.\n",
      "  arr = asarray(arr)\n"
     ]
    }
   ],
   "source": [
    "y_train = y_data.tolist()\n",
    "X_train, y_train = drop_empty_list(X_train, y_train)"
   ]
  },
  {
   "cell_type": "code",
   "execution_count": 170,
   "id": "5888ae1b",
   "metadata": {},
   "outputs": [
    {
     "name": "stdout",
     "output_type": "stream",
     "text": [
      "리뷰의 최대 길이 : 75\n",
      "리뷰의 평균 길이 : 13.032980195361707\n"
     ]
    },
    {
     "data": {
      "image/png": "[encoded data removed]",
      "text/plain": [
       "<Figure size 432x288 with 1 Axes>"
      ]
     },
     "metadata": {},
     "output_type": "display_data"
    }
   ],
   "source": [
    "print('리뷰의 최대 길이 :',max(len(l) for l in X_train))\n",
    "print('리뷰의 평균 길이 :',sum(map(len, X_train))/len(X_train))\n",
    "plt.hist([len(s) for s in X_train], bins=50)\n",
    "plt.xlabel('length of samples')\n",
    "plt.ylabel('number of samples')\n",
    "plt.show();"
   ]
  },
  {
   "cell_type": "code",
   "execution_count": 171,
   "id": "515e6573",
   "metadata": {},
   "outputs": [
    {
     "name": "stdout",
     "output_type": "stream",
     "text": [
      "전체 샘플 중 길이가 70 이하인 샘플의 비율: 99.99449297510137\n"
     ]
    }
   ],
   "source": [
    "max_len = 70\n",
    "below_threshold_len(max_len, X_train)"
   ]
  },
  {
   "cell_type": "code",
   "execution_count": 172,
   "id": "a2433ddc",
   "metadata": {},
   "outputs": [],
   "source": [
    "X_train, X_val, y_train, y_val, X_test = padding_and_split(X_train, X_test, y_train, max_len)"
   ]
  },
  {
   "cell_type": "code",
   "execution_count": 173,
   "id": "4f53118a",
   "metadata": {},
   "outputs": [
    {
     "name": "stdout",
     "output_type": "stream",
     "text": [
      "Epoch 1/20\n",
      "3632/3632 [==============================] - 37s 9ms/step - loss: 0.3859 - acc: 0.8261 - val_loss: 0.3415 - val_acc: 0.8532\n",
      "\n",
      "Epoch 00001: val_acc improved from -inf to 0.85317, saving model to best_lstm_model_okt_stem.h5\n",
      "Epoch 2/20\n",
      "3632/3632 [==============================] - 25s 7ms/step - loss: 0.3230 - acc: 0.8621 - val_loss: 0.3261 - val_acc: 0.8597\n",
      "\n",
      "Epoch 00002: val_acc improved from 0.85317 to 0.85971, saving model to best_lstm_model_okt_stem.h5\n",
      "Epoch 3/20\n",
      "3632/3632 [==============================] - 25s 7ms/step - loss: 0.2975 - acc: 0.8747 - val_loss: 0.3155 - val_acc: 0.8632\n",
      "\n",
      "Epoch 00003: val_acc improved from 0.85971 to 0.86315, saving model to best_lstm_model_okt_stem.h5\n",
      "Epoch 4/20\n",
      "3632/3632 [==============================] - 25s 7ms/step - loss: 0.2796 - acc: 0.8840 - val_loss: 0.3192 - val_acc: 0.8649\n",
      "\n",
      "Epoch 00004: val_acc improved from 0.86315 to 0.86494, saving model to best_lstm_model_okt_stem.h5\n",
      "Epoch 5/20\n",
      "3632/3632 [==============================] - 25s 7ms/step - loss: 0.2653 - acc: 0.8917 - val_loss: 0.3125 - val_acc: 0.8689\n",
      "\n",
      "Epoch 00005: val_acc improved from 0.86494 to 0.86893, saving model to best_lstm_model_okt_stem.h5\n",
      "Epoch 6/20\n",
      "3632/3632 [==============================] - 25s 7ms/step - loss: 0.2522 - acc: 0.8978 - val_loss: 0.3120 - val_acc: 0.8654\n",
      "\n",
      "Epoch 00006: val_acc did not improve from 0.86893\n",
      "Epoch 7/20\n",
      "3632/3632 [==============================] - 25s 7ms/step - loss: 0.2392 - acc: 0.9037 - val_loss: 0.3163 - val_acc: 0.8637\n",
      "\n",
      "Epoch 00007: val_acc did not improve from 0.86893\n",
      "Epoch 8/20\n",
      "3632/3632 [==============================] - 24s 7ms/step - loss: 0.2249 - acc: 0.9101 - val_loss: 0.3229 - val_acc: 0.8660\n",
      "\n",
      "Epoch 00008: val_acc did not improve from 0.86893\n",
      "Epoch 9/20\n",
      "3632/3632 [==============================] - 25s 7ms/step - loss: 0.2098 - acc: 0.9173 - val_loss: 0.3354 - val_acc: 0.8658\n",
      "\n",
      "Epoch 00009: val_acc did not improve from 0.86893\n",
      "Epoch 10/20\n",
      "3632/3632 [==============================] - 25s 7ms/step - loss: 0.1943 - acc: 0.9248 - val_loss: 0.3390 - val_acc: 0.8608\n",
      "\n",
      "Epoch 00010: val_acc did not improve from 0.86893\n",
      "Epoch 00010: early stopping\n"
     ]
    }
   ],
   "source": [
    "embedding_dim = 100\n",
    "\n",
    "model = lstm_model(vocab_size, embedding_dim)\n",
    "\n",
    "# 모델 검증\n",
    "es = EarlyStopping(monitor='val_loss', mode='min', verbose=1, patience=4)\n",
    "mc = ModelCheckpoint(f'best_lstm_model_{name}.h5', monitor='val_acc', mode='max', verbose=1, save_best_only=True)\n",
    "\n",
    "# 모델 훈련\n",
    "history = model.fit(X_train, y_train, epochs=20, validation_data=(X_val, y_val), callbacks=[es, mc])"
   ]
  },
  {
   "cell_type": "code",
   "execution_count": 174,
   "id": "0a200ad5",
   "metadata": {},
   "outputs": [
    {
     "data": {
      "image/png": "[encoded data removed]",
      "text/plain": [
       "<Figure size 864x360 with 2 Axes>"
      ]
     },
     "metadata": {},
     "output_type": "display_data"
    }
   ],
   "source": [
    "draw_graph(history)"
   ]
  },
  {
   "cell_type": "code",
   "execution_count": 175,
   "id": "1fafaea6",
   "metadata": {},
   "outputs": [
    {
     "data": {
      "text/plain": [
       "(48907, 70)"
      ]
     },
     "execution_count": 175,
     "metadata": {},
     "output_type": "execute_result"
    }
   ],
   "source": [
    "X_test.shape"
   ]
  },
  {
   "cell_type": "code",
   "execution_count": 176,
   "id": "8fd5dbc5",
   "metadata": {},
   "outputs": [],
   "source": [
    "y_test = np.array(test.label)"
   ]
  },
  {
   "cell_type": "code",
   "execution_count": 177,
   "id": "bf8403c8",
   "metadata": {},
   "outputs": [
    {
     "data": {
      "text/plain": [
       "(48907,)"
      ]
     },
     "execution_count": 177,
     "metadata": {},
     "output_type": "execute_result"
    }
   ],
   "source": [
    "y_test.shape"
   ]
  },
  {
   "cell_type": "code",
   "execution_count": 178,
   "id": "4a3a60db",
   "metadata": {},
   "outputs": [
    {
     "name": "stdout",
     "output_type": "stream",
     "text": [
      "1529/1529 [==============================] - 5s 3ms/step - loss: 0.3318 - acc: 0.8613\n",
      "\n",
      " 테스트 정확도: 0.8613\n"
     ]
    }
   ],
   "source": [
    "# 테스트 정확도 측정\n",
    "\n",
    "loaded_model = load_model(f'best_lstm_model_{name}.h5')\n",
    "print(\"\\n 테스트 정확도: %.4f\" % (loaded_model.evaluate(X_test, y_test)[1]))"
   ]
  },
  {
   "cell_type": "markdown",
   "id": "1ce4fd25",
   "metadata": {},
   "source": [
    "## Sentence Piece 결과 정리 (test acc 기준)\n",
    "- lstm model : 0.8601\n",
    "- stacked lstm model : 0.8517\n",
    "- 1d cnn model : 0.8557"
   ]
  },
  {
   "cell_type": "markdown",
   "id": "4c1337d6",
   "metadata": {},
   "source": [
    "## 최종 형태소별 성능 정리 ( lstm model )"
   ]
  },
  {
   "cell_type": "markdown",
   "id": "a9cd2fcb",
   "metadata": {},
   "source": [
    "- hannanum : 0.8199 (빈 샘플 수 : 5513)\n",
    "- komoran : 0.8544 (빈 샘플 수 : 2278)\n",
    "- mecab : 0.8649 (빈 샘플 수 : 202)\n",
    "- okt\n",
    "    - stem = False : 0.8586 (빈 샘플 수 : 395)\n",
    "    - stem = True : 0.8613 (빈 샘플 수 : 241)\n"
   ]
  },
  {
   "cell_type": "markdown",
   "id": "8b9b8d41",
   "metadata": {},
   "source": [
    "- 빈 샘플 수에 비례해 성능이 좋아지는 것을 볼 수 있다\n",
    "- 이에 따라 성능 향상에 토큰을 잘 나누는 것이 매우 중요한 요소로 보인다"
   ]
  },
  {
   "cell_type": "markdown",
   "id": "855ed084",
   "metadata": {},
   "source": [
    "## SentencePiece 모델의 model_type, vocab_size 등을 변경해 가면서 성능 개선 여부 확인하기"
   ]
  },
  {
   "cell_type": "markdown",
   "id": "8cdd3f30",
   "metadata": {},
   "source": [
    "- mecab의 vocab size가 21741이었으므로 이를 따라 해본다"
   ]
  },
  {
   "cell_type": "code",
   "execution_count": 180,
   "id": "0c910314",
   "metadata": {},
   "outputs": [
    {
     "name": "stderr",
     "output_type": "stream",
     "text": [
      "sentencepiece_trainer.cc(177) LOG(INFO) Running command: --input=/aiffel/aiffel/sp_tokenizer/data/korean-english-nsmc.train.ko.temp --model_prefix=korean_spm --vocab_size=21741\n",
      "sentencepiece_trainer.cc(77) LOG(INFO) Starts training with : \n",
      "trainer_spec {\n",
      "  input: /aiffel/aiffel/sp_tokenizer/data/korean-english-nsmc.train.ko.temp\n",
      "  input_format: \n",
      "  model_prefix: korean_spm\n",
      "  model_type: UNIGRAM\n",
      "  vocab_size: 21741\n",
      "  self_test_sample_size: 0\n",
      "  character_coverage: 0.9995\n",
      "  input_sentence_size: 0\n",
      "  shuffle_input_sentence: 1\n",
      "  seed_sentencepiece_size: 1000000\n",
      "  shrinking_factor: 0.75\n",
      "  max_sentence_length: 4192\n",
      "  num_threads: 16\n",
      "  num_sub_iterations: 2\n",
      "  max_sentencepiece_length: 16\n",
      "  split_by_unicode_script: 1\n",
      "  split_by_number: 1\n",
      "  split_by_whitespace: 1\n",
      "  split_digits: 0\n",
      "  treat_whitespace_as_suffix: 0\n",
      "  allow_whitespace_only_pieces: 0\n",
      "  required_chars: \n",
      "  byte_fallback: 0\n",
      "  vocabulary_output_piece_score: 1\n",
      "  train_extremely_large_corpus: 0\n",
      "  hard_vocab_limit: 1\n",
      "  use_all_vocab: 0\n",
      "  unk_id: 0\n",
      "  bos_id: 1\n",
      "  eos_id: 2\n",
      "  pad_id: -1\n",
      "  unk_piece: <unk>\n",
      "  bos_piece: <s>\n",
      "  eos_piece: </s>\n",
      "  pad_piece: <pad>\n",
      "  unk_surface:  ⁇ \n",
      "}\n",
      "normalizer_spec {\n",
      "  name: nmt_nfkc\n",
      "  add_dummy_prefix: 1\n",
      "  remove_extra_whitespaces: 1\n",
      "  escape_whitespaces: 1\n",
      "  normalization_rule_tsv: \n",
      "}\n",
      "denormalizer_spec {}\n",
      "trainer_interface.cc(329) LOG(INFO) SentenceIterator is not specified. Using MultiFileSentenceIterator.\n",
      "trainer_interface.cc(178) LOG(INFO) Loading corpus: /aiffel/aiffel/sp_tokenizer/data/korean-english-nsmc.train.ko.temp\n",
      "trainer_interface.cc(385) LOG(INFO) Loaded all 145510 sentences\n",
      "trainer_interface.cc(400) LOG(INFO) Adding meta_piece: <unk>\n",
      "trainer_interface.cc(400) LOG(INFO) Adding meta_piece: <s>\n",
      "trainer_interface.cc(400) LOG(INFO) Adding meta_piece: </s>\n",
      "trainer_interface.cc(405) LOG(INFO) Normalizing sentences...\n",
      "trainer_interface.cc(466) LOG(INFO) all chars count=4969659\n",
      "trainer_interface.cc(477) LOG(INFO) Done: 99.9501% characters are covered.\n",
      "trainer_interface.cc(487) LOG(INFO) Alphabet size=1559\n",
      "trainer_interface.cc(488) LOG(INFO) Final character coverage=0.999501\n",
      "trainer_interface.cc(520) LOG(INFO) Done! preprocessed 145510 sentences.\n",
      "unigram_model_trainer.cc(139) LOG(INFO) Making suffix array...\n",
      "unigram_model_trainer.cc(143) LOG(INFO) Extracting frequent sub strings...\n",
      "unigram_model_trainer.cc(194) LOG(INFO) Initialized 313586 seed sentencepieces\n",
      "trainer_interface.cc(526) LOG(INFO) Tokenizing input sentences with whitespace: 145510\n",
      "trainer_interface.cc(537) LOG(INFO) Done! 304749\n",
      "unigram_model_trainer.cc(489) LOG(INFO) Using 304749 sentences for EM training\n",
      "unigram_model_trainer.cc(505) LOG(INFO) EM sub_iter=0 size=153930 obj=14.1706 num_tokens=644321 num_tokens/piece=4.18581\n",
      "unigram_model_trainer.cc(505) LOG(INFO) EM sub_iter=1 size=141565 obj=13.2714 num_tokens=647424 num_tokens/piece=4.57333\n",
      "unigram_model_trainer.cc(505) LOG(INFO) EM sub_iter=0 size=106112 obj=13.3537 num_tokens=679452 num_tokens/piece=6.40316\n",
      "unigram_model_trainer.cc(505) LOG(INFO) EM sub_iter=1 size=105891 obj=13.3002 num_tokens=679869 num_tokens/piece=6.42046\n",
      "unigram_model_trainer.cc(505) LOG(INFO) EM sub_iter=0 size=79416 obj=13.5176 num_tokens=719186 num_tokens/piece=9.05593\n",
      "unigram_model_trainer.cc(505) LOG(INFO) EM sub_iter=1 size=79407 obj=13.4583 num_tokens=719321 num_tokens/piece=9.05866\n",
      "unigram_model_trainer.cc(505) LOG(INFO) EM sub_iter=0 size=59555 obj=13.6969 num_tokens=756475 num_tokens/piece=12.7021\n",
      "unigram_model_trainer.cc(505) LOG(INFO) EM sub_iter=1 size=59555 obj=13.6356 num_tokens=756498 num_tokens/piece=12.7025\n",
      "unigram_model_trainer.cc(505) LOG(INFO) EM sub_iter=0 size=44666 obj=13.9103 num_tokens=796152 num_tokens/piece=17.8246\n",
      "unigram_model_trainer.cc(505) LOG(INFO) EM sub_iter=1 size=44666 obj=13.8477 num_tokens=796143 num_tokens/piece=17.8244\n",
      "unigram_model_trainer.cc(505) LOG(INFO) EM sub_iter=0 size=33499 obj=14.1503 num_tokens=836705 num_tokens/piece=24.977\n",
      "unigram_model_trainer.cc(505) LOG(INFO) EM sub_iter=1 size=33499 obj=14.0862 num_tokens=836710 num_tokens/piece=24.9772\n",
      "unigram_model_trainer.cc(505) LOG(INFO) EM sub_iter=0 size=25124 obj=14.421 num_tokens=878427 num_tokens/piece=34.9637\n",
      "unigram_model_trainer.cc(505) LOG(INFO) EM sub_iter=1 size=25124 obj=14.3515 num_tokens=878519 num_tokens/piece=34.9673\n",
      "unigram_model_trainer.cc(505) LOG(INFO) EM sub_iter=0 size=23915 obj=14.4101 num_tokens=885826 num_tokens/piece=37.0406\n",
      "unigram_model_trainer.cc(505) LOG(INFO) EM sub_iter=1 size=23915 obj=14.3977 num_tokens=885833 num_tokens/piece=37.0409\n",
      "trainer_interface.cc(615) LOG(INFO) Saving model: korean_spm.model\n",
      "trainer_interface.cc(626) LOG(INFO) Saving vocabs: korean_spm.vocab\n"
     ]
    }
   ],
   "source": [
    "temp_file = os.getenv('HOME')+'/aiffel/sp_tokenizer/data/korean-english-nsmc.train.ko.temp'\n",
    "\n",
    "vocab_size = 21741\n",
    "\n",
    "with open(temp_file, 'w') as f:\n",
    "    for row in corpus:   # 이전에 나왔던 정제했던 corpus를 활용해서 진행해야 합니다.\n",
    "        f.write(str(row) + '\\n')\n",
    "\n",
    "spm.SentencePieceTrainer.Train(\n",
    "    '--input={} --model_prefix=korean_spm --vocab_size={}'.format(temp_file, vocab_size)    \n",
    ")"
   ]
  },
  {
   "cell_type": "code",
   "execution_count": 186,
   "id": "dedfdc89",
   "metadata": {},
   "outputs": [
    {
     "data": {
      "text/plain": [
       "True"
      ]
     },
     "execution_count": 186,
     "metadata": {},
     "output_type": "execute_result"
    }
   ],
   "source": [
    "s = spm.SentencePieceProcessor()\n",
    "s.Load('korean_spm.model')"
   ]
  },
  {
   "cell_type": "code",
   "execution_count": 187,
   "id": "2105c250",
   "metadata": {},
   "outputs": [],
   "source": [
    "test_data = test.document.tolist()"
   ]
  },
  {
   "cell_type": "code",
   "execution_count": 188,
   "id": "8c884ade",
   "metadata": {},
   "outputs": [],
   "source": [
    "def sp_tokenize(s, corpus): \n",
    "\n",
    "    tensor = []\n",
    "\n",
    "    for sen in corpus:\n",
    "        tensor.append(s.EncodeAsIds(sen))\n",
    "\n",
    "    with open(\"./korean_spm.vocab\", 'r') as f:\n",
    "        vocab = f.readlines()\n",
    " \n",
    "    word_index = {}\n",
    "    index_word = {}\n",
    "\n",
    "    for idx, line in enumerate(vocab):\n",
    "        word = line.split(\"\\t\")[0]\n",
    "\n",
    "        word_index.update({word:idx})\n",
    "        index_word.update({idx:word})\n",
    "\n",
    "    #tensor = tf.keras.preprocessing.sequence.pad_sequences(tensor, padding='post')\n",
    "\n",
    "    return tensor, word_index, index_word"
   ]
  },
  {
   "cell_type": "code",
   "execution_count": 189,
   "id": "a604cd99",
   "metadata": {},
   "outputs": [],
   "source": [
    "tensor, word_index, index_word = sp_tokenize(s, corpus)"
   ]
  },
  {
   "cell_type": "code",
   "execution_count": 190,
   "id": "1bb9a2b2",
   "metadata": {},
   "outputs": [
    {
     "name": "stdout",
     "output_type": "stream",
     "text": [
      "토큰 길이 평균: 13.056504707580235\n",
      "토큰 길이 최대: 102\n",
      "토큰 길이 표준편차: 11.404279911097516\n",
      "설정 최대 길이: 35\n",
      "전체 문장의 0.9358875678647516%가 설정값인 35에 포함됩니다.\n"
     ]
    }
   ],
   "source": [
    "num_tokens = [len(tokens) for tokens in tensor]\n",
    "num_tokens = np.array(num_tokens)\n",
    "\n",
    "# 평균값, 최댓값, 표준편차\n",
    "print(f\"토큰 길이 평균: {np.mean(num_tokens)}\")\n",
    "print(f\"토큰 길이 최대: {np.max(num_tokens)}\")\n",
    "print(f\"토큰 길이 표준편차: {np.std(num_tokens)}\")\n",
    "\n",
    "max_tokens = np.mean(num_tokens) + 2 * np.std(num_tokens)\n",
    "maxlen = int(max_tokens)\n",
    "print(f'설정 최대 길이: {maxlen}')\n",
    "print(f'전체 문장의 {np.sum(num_tokens < max_tokens) / len(num_tokens)}%가 설정값인 {maxlen}에 포함됩니다.')"
   ]
  },
  {
   "cell_type": "code",
   "execution_count": 191,
   "id": "2b864546",
   "metadata": {},
   "outputs": [
    {
     "name": "stdout",
     "output_type": "stream",
     "text": [
      "전체 샘플 중 길이가 60 이하인 샘플의 비율: 99.60621263143426\n"
     ]
    }
   ],
   "source": [
    "max_len = 60\n",
    "below_threshold_len(max_len, tensor)"
   ]
  },
  {
   "cell_type": "code",
   "execution_count": 192,
   "id": "4965d266",
   "metadata": {},
   "outputs": [],
   "source": [
    "X = tf.keras.preprocessing.sequence.pad_sequences(tensor, padding='pre', maxlen=60)"
   ]
  },
  {
   "cell_type": "code",
   "execution_count": 193,
   "id": "3a257a0f",
   "metadata": {},
   "outputs": [
    {
     "data": {
      "text/plain": [
       "(145510, 60)"
      ]
     },
     "execution_count": 193,
     "metadata": {},
     "output_type": "execute_result"
    }
   ],
   "source": [
    "X.shape"
   ]
  },
  {
   "cell_type": "code",
   "execution_count": 194,
   "id": "25f2c08b",
   "metadata": {},
   "outputs": [
    {
     "data": {
      "text/plain": [
       "(145510,)"
      ]
     },
     "execution_count": 194,
     "metadata": {},
     "output_type": "execute_result"
    }
   ],
   "source": [
    "train.label.shape"
   ]
  },
  {
   "cell_type": "code",
   "execution_count": 195,
   "id": "7cdc8dfe",
   "metadata": {},
   "outputs": [],
   "source": [
    "y = train['label']"
   ]
  },
  {
   "cell_type": "code",
   "execution_count": 196,
   "id": "444b0a49",
   "metadata": {},
   "outputs": [],
   "source": [
    "X_train, X_val, y_train, y_val = train_test_split(X, y, test_size=0.2, shuffle=True, stratify=y, random_state=42)"
   ]
  },
  {
   "cell_type": "code",
   "execution_count": 198,
   "id": "6c2ed2dc",
   "metadata": {},
   "outputs": [],
   "source": [
    "name = 'sentencepiece_10000'"
   ]
  },
  {
   "cell_type": "code",
   "execution_count": 199,
   "id": "95502697",
   "metadata": {},
   "outputs": [
    {
     "name": "stdout",
     "output_type": "stream",
     "text": [
      "Epoch 1/20\n",
      "3638/3638 [==============================] - 35s 8ms/step - loss: 0.4049 - acc: 0.8146 - val_loss: 0.3559 - val_acc: 0.8458\n",
      "\n",
      "Epoch 00001: val_acc improved from -inf to 0.84578, saving model to best_lstm_model_sentencepiece_10000.h5\n",
      "Epoch 2/20\n",
      "3638/3638 [==============================] - 23s 6ms/step - loss: 0.3118 - acc: 0.8703 - val_loss: 0.3337 - val_acc: 0.8544\n",
      "\n",
      "Epoch 00002: val_acc improved from 0.84578 to 0.85444, saving model to best_lstm_model_sentencepiece_10000.h5\n",
      "Epoch 3/20\n",
      "3638/3638 [==============================] - 24s 7ms/step - loss: 0.2839 - acc: 0.8831 - val_loss: 0.3274 - val_acc: 0.8590\n",
      "\n",
      "Epoch 00003: val_acc improved from 0.85444 to 0.85905, saving model to best_lstm_model_sentencepiece_10000.h5\n",
      "Epoch 4/20\n",
      "3638/3638 [==============================] - 23s 6ms/step - loss: 0.2647 - acc: 0.8925 - val_loss: 0.3240 - val_acc: 0.8597\n",
      "\n",
      "Epoch 00004: val_acc improved from 0.85905 to 0.85970, saving model to best_lstm_model_sentencepiece_10000.h5\n",
      "Epoch 5/20\n",
      "3638/3638 [==============================] - 24s 7ms/step - loss: 0.2488 - acc: 0.9005 - val_loss: 0.3230 - val_acc: 0.8593\n",
      "\n",
      "Epoch 00005: val_acc did not improve from 0.85970\n",
      "Epoch 6/20\n",
      "3638/3638 [==============================] - 23s 6ms/step - loss: 0.2333 - acc: 0.9081 - val_loss: 0.3355 - val_acc: 0.8572\n",
      "\n",
      "Epoch 00006: val_acc did not improve from 0.85970\n",
      "Epoch 7/20\n",
      "3638/3638 [==============================] - 23s 6ms/step - loss: 0.2172 - acc: 0.9157 - val_loss: 0.3427 - val_acc: 0.8578\n",
      "\n",
      "Epoch 00007: val_acc did not improve from 0.85970\n",
      "Epoch 8/20\n",
      "3638/3638 [==============================] - 23s 6ms/step - loss: 0.2007 - acc: 0.9228 - val_loss: 0.3423 - val_acc: 0.8572\n",
      "\n",
      "Epoch 00008: val_acc did not improve from 0.85970\n",
      "Epoch 9/20\n",
      "3638/3638 [==============================] - 23s 6ms/step - loss: 0.1831 - acc: 0.9307 - val_loss: 0.3717 - val_acc: 0.8596\n",
      "\n",
      "Epoch 00009: val_acc did not improve from 0.85970\n",
      "Epoch 00009: early stopping\n"
     ]
    }
   ],
   "source": [
    "embedding_dim = 100\n",
    "\n",
    "model = lstm_model(vocab_size, embedding_dim)\n",
    "\n",
    "# 모델 검증\n",
    "es = EarlyStopping(monitor='val_loss', mode='min', verbose=1, patience=4)\n",
    "mc = ModelCheckpoint(f'best_lstm_model_{name}.h5', monitor='val_acc', mode='max', verbose=1, save_best_only=True)\n",
    "\n",
    "# 모델 훈련\n",
    "history = model.fit(X_train, y_train, epochs=20, validation_data=(X_val, y_val), callbacks=[es, mc])"
   ]
  },
  {
   "cell_type": "code",
   "execution_count": 200,
   "id": "f72b4e34",
   "metadata": {},
   "outputs": [
    {
     "data": {
      "image/png": "[encoded data removed]",
      "text/plain": [
       "<Figure size 864x360 with 2 Axes>"
      ]
     },
     "metadata": {},
     "output_type": "display_data"
    }
   ],
   "source": [
    "draw_graph(history)"
   ]
  },
  {
   "cell_type": "code",
   "execution_count": 201,
   "id": "ab8a5eb4",
   "metadata": {},
   "outputs": [],
   "source": [
    "def predict_x(s, corpus):\n",
    "    \n",
    "    tensor = []\n",
    "    for sen in corpus:\n",
    "        tensor.append(s.EncodeAsIds(sen))\n",
    "\n",
    "    tensor = tf.keras.preprocessing.sequence.pad_sequences(tensor, padding='pre', maxlen=42)\n",
    "\n",
    "    return tensor"
   ]
  },
  {
   "cell_type": "code",
   "execution_count": 202,
   "id": "1ed35f25",
   "metadata": {},
   "outputs": [],
   "source": [
    "X_test = predict_x(s, test.document.tolist())\n",
    "y_test = test.label"
   ]
  },
  {
   "cell_type": "code",
   "execution_count": 203,
   "id": "b35c2587",
   "metadata": {},
   "outputs": [
    {
     "name": "stdout",
     "output_type": "stream",
     "text": [
      "1529/1529 [==============================] - 4s 3ms/step - loss: 0.3260 - acc: 0.8608\n",
      "\n",
      " 테스트 정확도: 0.8608\n"
     ]
    }
   ],
   "source": [
    "loaded_model = load_model('best_lstm_model_sentencepiece_10000.h5')\n",
    "print(\"\\n 테스트 정확도: %.4f\" % (loaded_model.evaluate(X_test, y_test)[1]))"
   ]
  },
  {
   "cell_type": "markdown",
   "id": "57e81c57",
   "metadata": {},
   "source": [
    "## bpe"
   ]
  },
  {
   "cell_type": "code",
   "execution_count": 207,
   "id": "a9c0af2f",
   "metadata": {},
   "outputs": [],
   "source": [
    "import sentencepiece as spm\n",
    "import os\n",
    "\n",
    "temp_file = os.getenv('HOME')+'/aiffel/sp_tokenizer/data/korean-english-nsmc.train.ko.temp'\n",
    "\n",
    "vocab_size = 8000\n",
    "\n",
    "with open(temp_file, 'w') as f:\n",
    "    for row in corpus:   # 이전에 나왔던 정제했던 corpus를 활용해서 진행해야 합니다.\n",
    "        f.write(str(row) + '\\n')\n",
    "\n",
    "spm.SentencePieceTrainer.Train(\n",
    "    '--input={} --model_prefix=korean_spm --vocab_size={} --model_type=bpe'.format(temp_file, vocab_size)    \n",
    ")"
   ]
  },
  {
   "cell_type": "code",
   "execution_count": 208,
   "id": "3768cc61",
   "metadata": {},
   "outputs": [
    {
     "data": {
      "text/plain": [
       "True"
      ]
     },
     "execution_count": 208,
     "metadata": {},
     "output_type": "execute_result"
    }
   ],
   "source": [
    "s = spm.SentencePieceProcessor()\n",
    "s.Load('korean_spm.model')"
   ]
  },
  {
   "cell_type": "code",
   "execution_count": 209,
   "id": "c44b3b83",
   "metadata": {},
   "outputs": [],
   "source": [
    "test_data = test.document.tolist()"
   ]
  },
  {
   "cell_type": "code",
   "execution_count": 210,
   "id": "77386a1d",
   "metadata": {},
   "outputs": [],
   "source": [
    "def sp_tokenize(s, corpus): \n",
    "\n",
    "    tensor = []\n",
    "\n",
    "    for sen in corpus:\n",
    "        tensor.append(s.EncodeAsIds(sen))\n",
    "\n",
    "    with open(\"./korean_spm.vocab\", 'r') as f:\n",
    "        vocab = f.readlines()\n",
    " \n",
    "    word_index = {}\n",
    "    index_word = {}\n",
    "\n",
    "    for idx, line in enumerate(vocab):\n",
    "        word = line.split(\"\\t\")[0]\n",
    "\n",
    "        word_index.update({word:idx})\n",
    "        index_word.update({idx:word})\n",
    "\n",
    "    #tensor = tf.keras.preprocessing.sequence.pad_sequences(tensor, padding='post')\n",
    "\n",
    "    return tensor, word_index, index_word"
   ]
  },
  {
   "cell_type": "code",
   "execution_count": 211,
   "id": "dcac00d7",
   "metadata": {},
   "outputs": [],
   "source": [
    "tensor, word_index, index_word = sp_tokenize(s, corpus)"
   ]
  },
  {
   "cell_type": "code",
   "execution_count": 212,
   "id": "28a59622",
   "metadata": {},
   "outputs": [
    {
     "name": "stdout",
     "output_type": "stream",
     "text": [
      "토큰 길이 평균: 15.207222871280324\n",
      "토큰 길이 최대: 111\n",
      "토큰 길이 표준편차: 13.248601392663101\n",
      "설정 최대 길이: 41\n",
      "전체 문장의 0.9364511030169748%가 설정값인 41에 포함됩니다.\n"
     ]
    }
   ],
   "source": [
    "num_tokens = [len(tokens) for tokens in tensor]\n",
    "num_tokens = np.array(num_tokens)\n",
    "\n",
    "# 평균값, 최댓값, 표준편차\n",
    "print(f\"토큰 길이 평균: {np.mean(num_tokens)}\")\n",
    "print(f\"토큰 길이 최대: {np.max(num_tokens)}\")\n",
    "print(f\"토큰 길이 표준편차: {np.std(num_tokens)}\")\n",
    "\n",
    "max_tokens = np.mean(num_tokens) + 2 * np.std(num_tokens)\n",
    "maxlen = int(max_tokens)\n",
    "print(f'설정 최대 길이: {maxlen}')\n",
    "print(f'전체 문장의 {np.sum(num_tokens < max_tokens) / len(num_tokens)}%가 설정값인 {maxlen}에 포함됩니다.')"
   ]
  },
  {
   "cell_type": "code",
   "execution_count": 213,
   "id": "d3058f67",
   "metadata": {},
   "outputs": [
    {
     "name": "stdout",
     "output_type": "stream",
     "text": [
      "전체 샘플 중 길이가 60 이하인 샘플의 비율: 98.4262250017181\n"
     ]
    }
   ],
   "source": [
    "max_len = 60\n",
    "below_threshold_len(max_len, tensor)"
   ]
  },
  {
   "cell_type": "code",
   "execution_count": 214,
   "id": "7dc09ce1",
   "metadata": {},
   "outputs": [],
   "source": [
    "X = tf.keras.preprocessing.sequence.pad_sequences(tensor, padding='pre', maxlen=60)"
   ]
  },
  {
   "cell_type": "code",
   "execution_count": 215,
   "id": "749ac819",
   "metadata": {},
   "outputs": [
    {
     "data": {
      "text/plain": [
       "(145510, 60)"
      ]
     },
     "execution_count": 215,
     "metadata": {},
     "output_type": "execute_result"
    }
   ],
   "source": [
    "X.shape"
   ]
  },
  {
   "cell_type": "code",
   "execution_count": 216,
   "id": "6328d7ca",
   "metadata": {},
   "outputs": [
    {
     "data": {
      "text/plain": [
       "(145510,)"
      ]
     },
     "execution_count": 216,
     "metadata": {},
     "output_type": "execute_result"
    }
   ],
   "source": [
    "train.label.shape"
   ]
  },
  {
   "cell_type": "code",
   "execution_count": 217,
   "id": "1ee22c24",
   "metadata": {},
   "outputs": [],
   "source": [
    "y = train['label']"
   ]
  },
  {
   "cell_type": "code",
   "execution_count": 218,
   "id": "19f58def",
   "metadata": {},
   "outputs": [],
   "source": [
    "X_train, X_val, y_train, y_val = train_test_split(X, y, test_size=0.2, shuffle=True, stratify=y, random_state=42)"
   ]
  },
  {
   "cell_type": "code",
   "execution_count": 219,
   "id": "3795a13b",
   "metadata": {},
   "outputs": [],
   "source": [
    "name = 'sentencepiece_bpe'"
   ]
  },
  {
   "cell_type": "code",
   "execution_count": 220,
   "id": "31b94698",
   "metadata": {},
   "outputs": [
    {
     "name": "stderr",
     "output_type": "stream",
     "text": [
      "Exception ignored in: <function ScopedTFGraph.__del__ at 0x7e50541621f0>\n",
      "Traceback (most recent call last):\n",
      "  File \"/opt/conda/lib/python3.9/site-packages/tensorflow/python/framework/c_api_util.py\", line 58, in __del__\n",
      "    self.deleter(self.graph)\n",
      "AttributeError: deleter\n"
     ]
    },
    {
     "name": "stdout",
     "output_type": "stream",
     "text": [
      "Epoch 1/20\n",
      "3638/3638 [==============================] - 25s 7ms/step - loss: 0.3944 - acc: 0.8217 - val_loss: 0.3624 - val_acc: 0.8423\n",
      "\n",
      "Epoch 00001: val_acc improved from -inf to 0.84228, saving model to best_lstm_model_sentencepiece_bpe.h5\n",
      "Epoch 2/20\n",
      "3638/3638 [==============================] - 23s 6ms/step - loss: 0.3225 - acc: 0.8620 - val_loss: 0.3330 - val_acc: 0.8533\n",
      "\n",
      "Epoch 00002: val_acc improved from 0.84228 to 0.85327, saving model to best_lstm_model_sentencepiece_bpe.h5\n",
      "Epoch 3/20\n",
      "3638/3638 [==============================] - 24s 7ms/step - loss: 0.3031 - acc: 0.8721 - val_loss: 0.3278 - val_acc: 0.8554\n",
      "\n",
      "Epoch 00003: val_acc improved from 0.85327 to 0.85537, saving model to best_lstm_model_sentencepiece_bpe.h5\n",
      "Epoch 4/20\n",
      "3638/3638 [==============================] - 24s 6ms/step - loss: 0.2880 - acc: 0.8802 - val_loss: 0.3299 - val_acc: 0.8571\n",
      "\n",
      "Epoch 00004: val_acc improved from 0.85537 to 0.85705, saving model to best_lstm_model_sentencepiece_bpe.h5\n",
      "Epoch 5/20\n",
      "3638/3638 [==============================] - 24s 7ms/step - loss: 0.2751 - acc: 0.8870 - val_loss: 0.3273 - val_acc: 0.8558\n",
      "\n",
      "Epoch 00005: val_acc did not improve from 0.85705\n",
      "Epoch 6/20\n",
      "3638/3638 [==============================] - 24s 6ms/step - loss: 0.2639 - acc: 0.8913 - val_loss: 0.3328 - val_acc: 0.8564\n",
      "\n",
      "Epoch 00006: val_acc did not improve from 0.85705\n",
      "Epoch 7/20\n",
      "3638/3638 [==============================] - 23s 6ms/step - loss: 0.2521 - acc: 0.8971 - val_loss: 0.3281 - val_acc: 0.8573\n",
      "\n",
      "Epoch 00007: val_acc improved from 0.85705 to 0.85726, saving model to best_lstm_model_sentencepiece_bpe.h5\n",
      "Epoch 8/20\n",
      "3638/3638 [==============================] - 24s 6ms/step - loss: 0.2394 - acc: 0.9044 - val_loss: 0.3434 - val_acc: 0.8559\n",
      "\n",
      "Epoch 00008: val_acc did not improve from 0.85726\n",
      "Epoch 9/20\n",
      "3638/3638 [==============================] - 23s 6ms/step - loss: 0.2266 - acc: 0.9095 - val_loss: 0.3447 - val_acc: 0.8572\n",
      "\n",
      "Epoch 00009: val_acc did not improve from 0.85726\n",
      "Epoch 00009: early stopping\n"
     ]
    }
   ],
   "source": [
    "embedding_dim = 100\n",
    "\n",
    "model = lstm_model(vocab_size, embedding_dim)\n",
    "\n",
    "# 모델 검증\n",
    "es = EarlyStopping(monitor='val_loss', mode='min', verbose=1, patience=4)\n",
    "mc = ModelCheckpoint(f'best_lstm_model_{name}.h5', monitor='val_acc', mode='max', verbose=1, save_best_only=True)\n",
    "\n",
    "# 모델 훈련\n",
    "history = model.fit(X_train, y_train, epochs=20, validation_data=(X_val, y_val), callbacks=[es, mc])"
   ]
  },
  {
   "cell_type": "code",
   "execution_count": 221,
   "id": "908b5a14",
   "metadata": {},
   "outputs": [
    {
     "data": {
      "image/png": "[encoded data removed]",
      "text/plain": [
       "<Figure size 864x360 with 2 Axes>"
      ]
     },
     "metadata": {},
     "output_type": "display_data"
    }
   ],
   "source": [
    "draw_graph(history)"
   ]
  },
  {
   "cell_type": "code",
   "execution_count": 222,
   "id": "11abb7ed",
   "metadata": {},
   "outputs": [],
   "source": [
    "X_test = predict_x(s, test.document.tolist())\n",
    "y_test = test.label"
   ]
  },
  {
   "cell_type": "code",
   "execution_count": 223,
   "id": "af46c9fc",
   "metadata": {},
   "outputs": [
    {
     "name": "stdout",
     "output_type": "stream",
     "text": [
      "1529/1529 [==============================] - 4s 3ms/step - loss: 0.3280 - acc: 0.8601\n",
      "\n",
      " 테스트 정확도: 0.8601\n"
     ]
    }
   ],
   "source": [
    "loaded_model = load_model('best_lstm_model_sentencepiece_bpe.h5')\n",
    "print(\"\\n 테스트 정확도: %.4f\" % (loaded_model.evaluate(X_test, y_test)[1]))"
   ]
  },
  {
   "cell_type": "code",
   "execution_count": 243,
   "id": "1c5d53ba",
   "metadata": {},
   "outputs": [],
   "source": [
    "from sklearn.metrics import confusion_matrix, classification_report\n",
    "from sklearn.metrics import roc_auc_score"
   ]
  },
  {
   "cell_type": "code",
   "execution_count": 225,
   "id": "73bc2fde",
   "metadata": {},
   "outputs": [],
   "source": [
    "pred = loaded_model.predict(X_test)"
   ]
  },
  {
   "cell_type": "code",
   "execution_count": 233,
   "id": "ed971416",
   "metadata": {},
   "outputs": [],
   "source": [
    "y_pred = np.round(pred).flatten().tolist()"
   ]
  },
  {
   "cell_type": "code",
   "execution_count": 230,
   "id": "8d61a54b",
   "metadata": {},
   "outputs": [],
   "source": [
    "y_true = y_test.tolist()"
   ]
  },
  {
   "cell_type": "code",
   "execution_count": 236,
   "id": "b5c8cb86",
   "metadata": {},
   "outputs": [
    {
     "name": "stdout",
     "output_type": "stream",
     "text": [
      "              precision    recall  f1-score   support\n",
      "\n",
      "           0       0.86      0.86      0.86     24363\n",
      "           1       0.86      0.86      0.86     24544\n",
      "\n",
      "    accuracy                           0.86     48907\n",
      "   macro avg       0.86      0.86      0.86     48907\n",
      "weighted avg       0.86      0.86      0.86     48907\n",
      "\n"
     ]
    }
   ],
   "source": [
    "print(classification_report(y_true, y_pred))"
   ]
  },
  {
   "cell_type": "code",
   "execution_count": 239,
   "id": "b6d4cc3d",
   "metadata": {},
   "outputs": [
    {
     "data": {
      "text/plain": [
       "array([[20963,  3400],\n",
       "       [ 3441, 21103]])"
      ]
     },
     "execution_count": 239,
     "metadata": {},
     "output_type": "execute_result"
    }
   ],
   "source": [
    "confusion_matrix(y_true, y_pred)"
   ]
  },
  {
   "cell_type": "code",
   "execution_count": 244,
   "id": "1aa03712",
   "metadata": {},
   "outputs": [
    {
     "data": {
      "text/plain": [
       "0.9354390582605412"
      ]
     },
     "execution_count": 244,
     "metadata": {},
     "output_type": "execute_result"
    }
   ],
   "source": [
    "roc_auc_score(y_true, pred)"
   ]
  },
  {
   "cell_type": "code",
   "execution_count": 248,
   "id": "f5c8ba3c",
   "metadata": {},
   "outputs": [],
   "source": [
    "import numpy as np\n",
    "import matplotlib.pyplot as plt\n",
    "from sklearn.metrics import roc_curve, auc\n",
    "from tensorflow.keras.models import load_model\n",
    "\n",
    "def get_roc_curve(model_path, X_test, y_test):\n",
    "    # 모델 불러오기\n",
    "    loaded_model = load_model(model_path)\n",
    "\n",
    "    # 테스트 데이터에 대한 예측 수행\n",
    "    y_pred_prob = loaded_model.predict(X_test)  # 모델이 예측한 확률 값\n",
    "\n",
    "    # ROC 곡선 계산\n",
    "    fpr, tpr, _ = roc_curve(y_test, y_pred_prob)\n",
    "    roc_auc = auc(fpr, tpr)\n",
    "\n",
    "    # ROC 곡선 그리기\n",
    "    plt.figure()\n",
    "    plt.plot(fpr, tpr, color='darkorange', lw=2, label='ROC curve (area = %0.2f)' % roc_auc)\n",
    "    plt.plot([0, 1], [0, 1], color='navy', lw=2, linestyle='--')\n",
    "    plt.xlim([0.0, 1.0])\n",
    "    plt.ylim([0.0, 1.05])\n",
    "    plt.xlabel('False Positive Rate')\n",
    "    plt.ylabel('True Positive Rate')\n",
    "    plt.title('Receiver Operating Characteristic (ROC) Curve')\n",
    "    plt.legend(loc=\"lower right\")\n",
    "    plt.show()\n",
    "\n",
    "    print(\"\\n테스트 정확도: %.4f\" % (loaded_model.evaluate(X_test, y_test)[1]))\n",
    "    print(\"ROC AUC: %.4f\" % roc_auc)"
   ]
  },
  {
   "cell_type": "code",
   "execution_count": 249,
   "id": "1aea4dd6",
   "metadata": {},
   "outputs": [
    {
     "data": {
      "image/png": "[encoded data removed]",
      "text/plain": [
       "<Figure size 432x288 with 1 Axes>"
      ]
     },
     "metadata": {},
     "output_type": "display_data"
    },
    {
     "name": "stdout",
     "output_type": "stream",
     "text": [
      "1529/1529 [==============================] - 5s 3ms/step - loss: 0.3280 - acc: 0.8601\n",
      "\n",
      "테스트 정확도: 0.8601\n",
      "ROC AUC: 0.9354\n"
     ]
    }
   ],
   "source": [
    "path = 'best_lstm_model_sentencepiece_bpe.h5'\n",
    "get_roc_curve(path, X_test, y_test)"
   ]
  },
  {
   "cell_type": "markdown",
   "id": "b19ad115",
   "metadata": {},
   "source": [
    "# 최종 성능 비교 및 결론"
   ]
  },
  {
   "cell_type": "markdown",
   "id": "f0afae73",
   "metadata": {},
   "source": [
    "## Sentence Piece 결과 정리 (test acc 기준)\n",
    "- lstm model : 0.8601\n",
    "- stacked lstm model : 0.8517\n",
    "- 1d cnn model : 0.8557"
   ]
  },
  {
   "cell_type": "markdown",
   "id": "94edc2f8",
   "metadata": {},
   "source": [
    "## 최종 형태소별 성능 정리 ( lstm model )"
   ]
  },
  {
   "cell_type": "markdown",
   "id": "c369209d",
   "metadata": {},
   "source": [
    "- hannanum : 0.8199 (빈 샘플 수 : 5513)\n",
    "- komoran : 0.8544 (빈 샘플 수 : 2278)\n",
    "- mecab : 0.8649 (빈 샘플 수 : 202)\n",
    "- okt\n",
    "    - stem = False : 0.8586 (빈 샘플 수 : 395)\n",
    "    - stem = True : 0.8613 (빈 샘플 수 : 241)\n"
   ]
  },
  {
   "cell_type": "markdown",
   "id": "94df73ff",
   "metadata": {},
   "source": [
    "- 빈 샘플 수에 비례해 성능이 좋아지는 것을 볼 수 있다\n",
    "- 이에 따라 성능 향상에 토큰을 잘 나누는 것이 매우 중요한 요소로 보인다"
   ]
  },
  {
   "cell_type": "markdown",
   "id": "bf9b3f14",
   "metadata": {},
   "source": [
    "## SentencePiece vocab size, model type 변화\n",
    "- vocab_size = 21741로 늘림 : 0.8608\n",
    "- model type = bpe로 변경 : 0.8601\n",
    "\n",
    "    - 성능 향상에 큰 변화가 없었다"
   ]
  },
  {
   "cell_type": "markdown",
   "id": "22ed5bdf",
   "metadata": {},
   "source": [
    "# 회고\n",
    "- 배운 점 \n",
    "    - 언젠가 한번 쯤은 형태소 분석기별로 성능을 비교해보고 싶었는데 이번 기회로 제대로 비교할 수 있었던 좋은 기회였다\n",
    "    - 좀 더 task specific하게 전처리를 진행해볼 수 있어 좋은 기회였다\n",
    "- 아쉬운 점 \n",
    "    - 좀 더 체계적으로 비교를 해보고 싶었는데 시간상의 이유로 제대로 비교해보지 못해서 아쉽다\n",
    "- 느낀 점\n",
    "    - task 별로 성능이 좋은 모델, 토큰화 방식이 다를 수 있다.\n",
    "- 어려웠던 점 \n",
    "    - 코드를 좀 더 재사용성있게 짜는 방법을 더 고민해봐야겠다"
   ]
  }
 ],
 "metadata": {
  "kernelspec": {
   "display_name": "Python 3 (ipykernel)",
   "language": "python",
   "name": "python3"
  },
  "language_info": {
   "codemirror_mode": {
    "name": "ipython",
    "version": 3
   },
   "file_extension": ".py",
   "mimetype": "text/x-python",
   "name": "python",
   "nbconvert_exporter": "python",
   "pygments_lexer": "ipython3",
   "version": "3.9.7"
  }
 },
 "nbformat": 4,
 "nbformat_minor": 5
}
