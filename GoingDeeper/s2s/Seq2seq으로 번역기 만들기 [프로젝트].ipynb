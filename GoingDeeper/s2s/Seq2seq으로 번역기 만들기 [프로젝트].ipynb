{
 "cells": [
  {
   "cell_type": "markdown",
   "id": "3731ae89",
   "metadata": {},
   "source": [
    "# 프로젝트: 한영 번역기 만들기"
   ]
  },
  {
   "cell_type": "markdown",
   "id": "58f813cc",
   "metadata": {},
   "source": [
    "## 라이브러리 버전을 확인해 봅니다"
   ]
  },
  {
   "cell_type": "code",
   "id": "7cb25d21",
   "metadata": {
    "ExecuteTime": {
     "end_time": "2024-07-09T01:23:47.091124Z",
     "start_time": "2024-07-09T01:23:37.886577Z"
    }
   },
   "source": [
    "import pandas\n",
    "import tensorflow\n",
    "import matplotlib\n",
    "\n",
    "print(pandas.__version__)\n",
    "print(tensorflow.__version__)\n",
    "print(matplotlib.__version__)"
   ],
   "outputs": [
    {
     "name": "stdout",
     "output_type": "stream",
     "text": [
      "1.5.3\n",
      "2.9.0\n",
      "3.6.0\n"
     ]
    }
   ],
   "execution_count": 1
  },
  {
   "cell_type": "markdown",
   "id": "2c436f9d",
   "metadata": {},
   "source": [
    "# Load Libraries"
   ]
  },
  {
   "cell_type": "code",
   "id": "c927f1fc",
   "metadata": {
    "ExecuteTime": {
     "end_time": "2024-07-09T01:24:28.310801Z",
     "start_time": "2024-07-09T01:24:28.293040Z"
    }
   },
   "source": [
    "import matplotlib as mpl\n",
    "import matplotlib.pyplot as plt\n",
    " \n",
    "%config InlineBackend.figure_format = 'retina'\n",
    " \n",
    "import matplotlib.font_manager as fm\n",
    "import matplotlib\n",
    "\n",
    "# windows의 경우\n",
    "#matplotlib.rcParams['font.family'] = 'Malgun Gothic'\n",
    "\n",
    "# mac의 경우\n",
    "matplotlib.rcParams['font.family'] = 'AppleGothic'\n",
    "#fontpath = '/usr/share/fonts/truetype/nanum/NanumBarunGothic.ttf'\n",
    "#font = fm.FontProperties(fname=fontpath, size=9)\n",
    "#plt.rc('font', family='NanumBarunGothic') \n",
    "#mpl.font_manager.findfont(font)"
   ],
   "outputs": [],
   "execution_count": 7
  },
  {
   "cell_type": "code",
   "id": "910b6f07",
   "metadata": {
    "ExecuteTime": {
     "end_time": "2024-07-09T01:24:29.149510Z",
     "start_time": "2024-07-09T01:24:29.124221Z"
    }
   },
   "source": [
    "# 데이터 준비하기\n",
    "import tensorflow as tf\n",
    "import numpy as np\n",
    "import pandas as pd\n",
    "\n",
    "from sklearn.model_selection import train_test_split\n",
    "\n",
    "import matplotlib.ticker as ticker\n",
    "import matplotlib.pyplot as plt\n",
    "\n",
    "import time\n",
    "import re\n",
    "import os\n",
    "import io\n",
    "\n",
    "print(tf.__version__)"
   ],
   "outputs": [
    {
     "name": "stdout",
     "output_type": "stream",
     "text": [
      "2.9.0\n"
     ]
    }
   ],
   "execution_count": 8
  },
  {
   "cell_type": "code",
   "id": "0cc5dbde",
   "metadata": {
    "ExecuteTime": {
     "end_time": "2024-07-09T01:24:30.317075Z",
     "start_time": "2024-07-09T01:24:30.286198Z"
    }
   },
   "source": [
    "from tqdm import tqdm, trange\n",
    "\n",
    "tqdm.pandas()"
   ],
   "outputs": [],
   "execution_count": 9
  },
  {
   "cell_type": "markdown",
   "id": "50311bff",
   "metadata": {},
   "source": [
    "# Step 1. 데이터 다운로드\n",
    "아래 링크에서 korean-english-park.train.tar.gz 를 다운로드받아 한영 병렬 데이터를 확보합니다.\n",
    "\n",
    "- jungyeul/korean-parallel-corpora"
   ]
  },
  {
   "cell_type": "code",
   "id": "48528751",
   "metadata": {
    "ExecuteTime": {
     "end_time": "2024-07-09T01:24:32.139269Z",
     "start_time": "2024-07-09T01:24:32.098297Z"
    }
   },
   "source": [
    "# !pip install Korpora"
   ],
   "outputs": [],
   "execution_count": 10
  },
  {
   "cell_type": "code",
   "id": "c154623e",
   "metadata": {
    "scrolled": true,
    "ExecuteTime": {
     "end_time": "2024-07-09T01:24:33.011508Z",
     "start_time": "2024-07-09T01:24:32.982467Z"
    }
   },
   "source": [
    "from Korpora import Korpora\n",
    "# Korpora.fetch(\"korean_parallel_koen_news\")"
   ],
   "outputs": [],
   "execution_count": 11
  },
  {
   "cell_type": "code",
   "id": "3967d406",
   "metadata": {
    "ExecuteTime": {
     "end_time": "2024-07-09T01:24:34.334078Z",
     "start_time": "2024-07-09T01:24:34.171363Z"
    }
   },
   "source": [
    "corpus = Korpora.load(\"korean_parallel_koen_news\")"
   ],
   "outputs": [
    {
     "name": "stdout",
     "output_type": "stream",
     "text": [
      "\n",
      "    Korpora 는 다른 분들이 연구 목적으로 공유해주신 말뭉치들을\n",
      "    손쉽게 다운로드, 사용할 수 있는 기능만을 제공합니다.\n",
      "\n",
      "    말뭉치들을 공유해 주신 분들에게 감사드리며, 각 말뭉치 별 설명과 라이센스를 공유 드립니다.\n",
      "    해당 말뭉치에 대해 자세히 알고 싶으신 분은 아래의 description 을 참고,\n",
      "    해당 말뭉치를 연구/상용의 목적으로 이용하실 때에는 아래의 라이센스를 참고해 주시기 바랍니다.\n",
      "\n",
      "    # Description\n",
      "    Author : KakaoBrain\n",
      "    Repository : https://github.com/jungyeul/korean-parallel-corpora\n",
      "    References :\n",
      "        - Jungyeul Park, Jeen-Pyo Hong and Jeong-Won Cha (2016) Korean Language Resources for Everyone.\n",
      "          In Proceedings of the 30th Pacific Asia Conference on Language, Information and Computation\n",
      "          (PACLIC 30). October 28 - 30, 2016. Seoul, Korea. \n",
      "          (https://www.aclweb.org/anthology/Y16-2002/)\n",
      "\n",
      "    # License\n",
      "    Creative Commons Attribution Noncommercial No-Derivative-Works 3.0\n",
      "    Details in https://creativecommons.org/licenses/by-nc-nd/3.0/\n",
      "\n"
     ]
    }
   ],
   "execution_count": 12
  },
  {
   "cell_type": "code",
   "id": "fee58470",
   "metadata": {
    "ExecuteTime": {
     "end_time": "2024-07-09T01:24:35.821057Z",
     "start_time": "2024-07-09T01:24:35.813708Z"
    }
   },
   "source": [
    "corpus.train[0].text"
   ],
   "outputs": [
    {
     "data": {
      "text/plain": [
       "'개인용 컴퓨터 사용의 상당 부분은 \"이것보다 뛰어날 수 있느냐?\"'"
      ]
     },
     "execution_count": 13,
     "metadata": {},
     "output_type": "execute_result"
    }
   ],
   "execution_count": 13
  },
  {
   "cell_type": "code",
   "id": "7c4e6c0a",
   "metadata": {
    "ExecuteTime": {
     "end_time": "2024-07-09T01:24:36.810542Z",
     "start_time": "2024-07-09T01:24:36.805135Z"
    }
   },
   "source": [
    "corpus.train[0].pair"
   ],
   "outputs": [
    {
     "data": {
      "text/plain": [
       "'Much of personal computing is about \"can you top this?\"'"
      ]
     },
     "execution_count": 14,
     "metadata": {},
     "output_type": "execute_result"
    }
   ],
   "execution_count": 14
  },
  {
   "cell_type": "code",
   "id": "0d62fb88",
   "metadata": {
    "scrolled": false,
    "ExecuteTime": {
     "end_time": "2024-07-09T01:24:37.524780Z",
     "start_time": "2024-07-09T01:24:37.517201Z"
    }
   },
   "source": [
    "corpus.train.get_all_texts()[:10]"
   ],
   "outputs": [
    {
     "data": {
      "text/plain": [
       "['개인용 컴퓨터 사용의 상당 부분은 \"이것보다 뛰어날 수 있느냐?\"',\n",
       " '모든 광마우스와 마찬가지 로 이 광마우스도 책상 위에 놓는 마우스 패드를 필요로 하지 않는다.',\n",
       " '그러나 이것은 또한 책상도 필요로 하지 않는다.',\n",
       " '79.95달러하는 이 최첨단 무선 광마우스는 허공에서 팔목, 팔, 그외에 어떤 부분이든 그 움직임에따라 커서의 움직임을 조절하는 회전 운동 센서를 사용하고 있다.',\n",
       " '정보 관리들은 동남 아시아에서의 선박들에 대한 많은 (테러) 계획들이 실패로 돌아갔음을 밝혔으며, 세계 해상 교역량의 거의 3분의 1을 운송하는 좁은 해로인 말라카 해협이 테러 공격을 당하기 쉽다고 경고하고 있다.',\n",
       " '이 지역에 있는 미국 선박과 상업용 선박들에 대한 알카에다의 (테러) 시도 중 여러 건이 실패했다는 것을 알게 된 후에, 전문가들은 테러 조직이 여전히 세계 경제에 타격을 입히려 한다고 경고하고 있으며, 동남 아시아에 있는 세계 경제의 주요 통로가 위험에 처해 있다고 그들은 생각하고 있다.',\n",
       " '국립 과학 학회가 발표한 새 보고서에따르면, 복잡한 임무를 수행해야 하는 군인들이나 보다 오랜 시간 동안 경계를 늦추지 않고 있기 위해 도움이 필요한 군인들에게 카페인이 반응 시간을 증가시키고 임무 수행 능력을 향상시키는데 도움이 된다고 한다.',\n",
       " '이 보고서에따르면, \"특히, 군사 작전에서 생사가 걸린 상황이 될 수도 있는 반응 속도와 시각 및 청각의 경계 상태를 유지시키기 위해 카페인이 사용될 수도 있다.\" 고 한다.',\n",
       " '\"결정적인 순간에 그들의 능력을 증가시켜 줄 그 무엇이 매우 중요합니다.\"',\n",
       " '연구가들이 이미 커피 대체품으로서 음식 대용 과자나 껌에 카페인을 첨가하는 방법을 연구하고 있다고 Archibald는 말했다.']"
      ]
     },
     "execution_count": 15,
     "metadata": {},
     "output_type": "execute_result"
    }
   ],
   "execution_count": 15
  },
  {
   "cell_type": "code",
   "id": "c0b75ca4",
   "metadata": {
    "scrolled": true,
    "ExecuteTime": {
     "end_time": "2024-07-09T01:24:38.225265Z",
     "start_time": "2024-07-09T01:24:38.218853Z"
    }
   },
   "source": [
    "corpus.train.get_all_pairs()[:10]"
   ],
   "outputs": [
    {
     "data": {
      "text/plain": [
       "['Much of personal computing is about \"can you top this?\"',\n",
       " 'so a mention a few weeks ago about a rechargeable wireless optical mouse brought in another rechargeable, wireless mouse.',\n",
       " \"Like all optical mice, But it also doesn't need a desk.\",\n",
       " 'uses gyroscopic sensors to control the cursor movement as you move your wrist, arm, whatever through the air.',\n",
       " \"Intelligence officials have revealed a spate of foiled plots on ships in Southeast Asia and are warning that a narrow stretch of water carrying almost one third of the world's maritime trade is vulnerable to a terror attack.\",\n",
       " \"After learning of several foiled al Qaeda attempts on U.S. and commercial ships in the area, experts are warning that the terror network still wants to cripple the global economy, the world's economic jugular vein in Southeast Asia is at risk.\",\n",
       " 'Caffeine can help increase reaction time and improve performance for military servicemen who must perform complex tasks or who need help staying alert for longer periods of time, according to a new report by the National Academy of Sciences.',\n",
       " '\"Specifically, it can be used in maintaining speed of reactions and visual and auditory vigilance, which in military operations could be a life or death situation,\" according to the report.',\n",
       " '\"Something that will boost their capabilities at crucial moments is very important.\"',\n",
       " 'Researchers are already exploring ways to put caffeine in nutrition bars or chewing gum as alternatives to coffee, Archibald said.']"
      ]
     },
     "execution_count": 16,
     "metadata": {},
     "output_type": "execute_result"
    }
   ],
   "execution_count": 16
  },
  {
   "cell_type": "markdown",
   "id": "426a25a8",
   "metadata": {},
   "source": [
    "# Step 2. 데이터 정제\n",
    "1. set 데이터형이 중복을 허용하지 않는다는 것을 활용해 중복된 데이터를 제거하도록 합니다. 데이터의 병렬 쌍이 흐트러지지 않게 주의하세요! 중복을 제거한 데이터를 cleaned_corpus 에 저장합니다."
   ]
  },
  {
   "cell_type": "code",
   "id": "2fba1dcf",
   "metadata": {
    "scrolled": false,
    "ExecuteTime": {
     "end_time": "2024-07-09T01:24:39.881506Z",
     "start_time": "2024-07-09T01:24:39.839512Z"
    }
   },
   "source": [
    "ko = corpus.train.get_all_texts()\n",
    "en = corpus.train.get_all_pairs()"
   ],
   "outputs": [],
   "execution_count": 17
  },
  {
   "cell_type": "code",
   "id": "af38e4ca",
   "metadata": {
    "ExecuteTime": {
     "end_time": "2024-07-09T01:24:40.602993Z",
     "start_time": "2024-07-09T01:24:40.520564Z"
    }
   },
   "source": [
    "df = pd.DataFrame({'ko':ko,'en':en})\n",
    "df.head()"
   ],
   "outputs": [
    {
     "data": {
      "text/plain": [
       "                                                  ko  \\\n",
       "0               개인용 컴퓨터 사용의 상당 부분은 \"이것보다 뛰어날 수 있느냐?\"   \n",
       "1  모든 광마우스와 마찬가지 로 이 광마우스도 책상 위에 놓는 마우스 패드를 필요로 하...   \n",
       "2                         그러나 이것은 또한 책상도 필요로 하지 않는다.   \n",
       "3  79.95달러하는 이 최첨단 무선 광마우스는 허공에서 팔목, 팔, 그외에 어떤 부분...   \n",
       "4  정보 관리들은 동남 아시아에서의 선박들에 대한 많은 (테러) 계획들이 실패로 돌아갔...   \n",
       "\n",
       "                                                  en  \n",
       "0  Much of personal computing is about \"can you t...  \n",
       "1  so a mention a few weeks ago about a rechargea...  \n",
       "2  Like all optical mice, But it also doesn't nee...  \n",
       "3  uses gyroscopic sensors to control the cursor ...  \n",
       "4  Intelligence officials have revealed a spate o...  "
      ],
      "text/html": [
       "<div>\n",
       "<style scoped>\n",
       "    .dataframe tbody tr th:only-of-type {\n",
       "        vertical-align: middle;\n",
       "    }\n",
       "\n",
       "    .dataframe tbody tr th {\n",
       "        vertical-align: top;\n",
       "    }\n",
       "\n",
       "    .dataframe thead th {\n",
       "        text-align: right;\n",
       "    }\n",
       "</style>\n",
       "<table border=\"1\" class=\"dataframe\">\n",
       "  <thead>\n",
       "    <tr style=\"text-align: right;\">\n",
       "      <th></th>\n",
       "      <th>ko</th>\n",
       "      <th>en</th>\n",
       "    </tr>\n",
       "  </thead>\n",
       "  <tbody>\n",
       "    <tr>\n",
       "      <th>0</th>\n",
       "      <td>개인용 컴퓨터 사용의 상당 부분은 \"이것보다 뛰어날 수 있느냐?\"</td>\n",
       "      <td>Much of personal computing is about \"can you t...</td>\n",
       "    </tr>\n",
       "    <tr>\n",
       "      <th>1</th>\n",
       "      <td>모든 광마우스와 마찬가지 로 이 광마우스도 책상 위에 놓는 마우스 패드를 필요로 하...</td>\n",
       "      <td>so a mention a few weeks ago about a rechargea...</td>\n",
       "    </tr>\n",
       "    <tr>\n",
       "      <th>2</th>\n",
       "      <td>그러나 이것은 또한 책상도 필요로 하지 않는다.</td>\n",
       "      <td>Like all optical mice, But it also doesn't nee...</td>\n",
       "    </tr>\n",
       "    <tr>\n",
       "      <th>3</th>\n",
       "      <td>79.95달러하는 이 최첨단 무선 광마우스는 허공에서 팔목, 팔, 그외에 어떤 부분...</td>\n",
       "      <td>uses gyroscopic sensors to control the cursor ...</td>\n",
       "    </tr>\n",
       "    <tr>\n",
       "      <th>4</th>\n",
       "      <td>정보 관리들은 동남 아시아에서의 선박들에 대한 많은 (테러) 계획들이 실패로 돌아갔...</td>\n",
       "      <td>Intelligence officials have revealed a spate o...</td>\n",
       "    </tr>\n",
       "  </tbody>\n",
       "</table>\n",
       "</div>"
      ]
     },
     "execution_count": 18,
     "metadata": {},
     "output_type": "execute_result"
    }
   ],
   "execution_count": 18
  },
  {
   "cell_type": "code",
   "id": "dfe3446a",
   "metadata": {
    "ExecuteTime": {
     "end_time": "2024-07-09T01:24:41.576055Z",
     "start_time": "2024-07-09T01:24:41.570829Z"
    }
   },
   "source": [
    "df.iloc[3].en"
   ],
   "outputs": [
    {
     "data": {
      "text/plain": [
       "'uses gyroscopic sensors to control the cursor movement as you move your wrist, arm, whatever through the air.'"
      ]
     },
     "execution_count": 19,
     "metadata": {},
     "output_type": "execute_result"
    }
   ],
   "execution_count": 19
  },
  {
   "cell_type": "code",
   "id": "b3e6b6e7",
   "metadata": {
    "ExecuteTime": {
     "end_time": "2024-07-09T01:24:42.550879Z",
     "start_time": "2024-07-09T01:24:42.148982Z"
    }
   },
   "source": [
    "df = df.drop_duplicates()"
   ],
   "outputs": [],
   "execution_count": 20
  },
  {
   "cell_type": "code",
   "id": "e67efa6e",
   "metadata": {
    "ExecuteTime": {
     "end_time": "2024-07-09T01:24:42.728574Z",
     "start_time": "2024-07-09T01:24:42.712621Z"
    }
   },
   "source": [
    "cleaned_corpus = [df.ko.tolist(), df.en.tolist()]"
   ],
   "outputs": [],
   "execution_count": 21
  },
  {
   "cell_type": "markdown",
   "id": "700845c0",
   "metadata": {},
   "source": [
    "### 전처리\n",
    "\n",
    "2. 앞서 정의한 preprocessing() 함수는 한글에서는 동작하지 않습니다. 한글에 적용할 수 있는 정규식을 추가하여 함수를 재정의하세요!\n",
    "> - 문장부호 앞 뒤로 공백 추가\n",
    "> - 큰 따옴표 제거\n",
    "> - 영어, 한글, ?,.! 제외한 문자 삭제"
   ]
  },
  {
   "cell_type": "markdown",
   "id": "e0e6f316",
   "metadata": {},
   "source": [
    "### + stopwords 추가 왜냐면 성능이 너무 안나오기 때문 ..."
   ]
  },
  {
   "cell_type": "code",
   "id": "66f10990",
   "metadata": {
    "ExecuteTime": {
     "end_time": "2024-07-09T01:24:47.387475Z",
     "start_time": "2024-07-09T01:24:46.253525Z"
    }
   },
   "source": [
    "import nltk\n",
    "nltk.download('stopwords')"
   ],
   "outputs": [
    {
     "name": "stderr",
     "output_type": "stream",
     "text": [
      "[nltk_data] Downloading package stopwords to\n",
      "[nltk_data]     /Users/seongyeon/nltk_data...\n",
      "[nltk_data]   Package stopwords is already up-to-date!\n"
     ]
    },
    {
     "data": {
      "text/plain": [
       "True"
      ]
     },
     "execution_count": 22,
     "metadata": {},
     "output_type": "execute_result"
    }
   ],
   "execution_count": 22
  },
  {
   "cell_type": "code",
   "id": "1ba2eb24",
   "metadata": {
    "ExecuteTime": {
     "end_time": "2024-07-09T01:24:53.958185Z",
     "start_time": "2024-07-09T01:24:53.945731Z"
    }
   },
   "source": [
    "def preprocess_sentence(sentence, s_token=False, e_token=False):\n",
    "    sentence = sentence.lower().strip()\n",
    "    \n",
    "    sentence = re.sub(r\"([?.!,])\", r\" \\1 \", sentence) # 문장부호 앞 뒤로 공백 추가\n",
    "    sentence = re.sub(r'[\" \"]+', \" \", sentence) # 큰 따옴표 제거\n",
    "    sentence = re.sub(r\"[^a-zA-Z가-힣?.!]+\", \" \", sentence)\n",
    "    sentence = sentence.lstrip('.?! ')\n",
    "    sentence = sentence.strip()\n",
    "    sentence = ' '.join(sentence.split())\n",
    "    \n",
    "    if s_token:\n",
    "        sentence = '<start> ' + sentence\n",
    "\n",
    "    if e_token:\n",
    "        sentence += ' <end>'\n",
    "    \n",
    "    return sentence\n"
   ],
   "outputs": [],
   "execution_count": 23
  },
  {
   "cell_type": "code",
   "id": "3583bb26",
   "metadata": {
    "ExecuteTime": {
     "end_time": "2024-07-09T01:25:02.844279Z",
     "start_time": "2024-07-09T01:24:55.203798Z"
    }
   },
   "source": [
    "# 인코더의 입력이 될 한글 문장\n",
    "cleaned_ko = [preprocess_sentence(x) for x in cleaned_corpus[0]] \n",
    "\n",
    "# target 문장\n",
    "cleaned_en = [preprocess_sentence(x, s_token=True, e_token=True) for x in cleaned_corpus[1]]"
   ],
   "outputs": [],
   "execution_count": 24
  },
  {
   "cell_type": "code",
   "id": "c8a4d651",
   "metadata": {
    "ExecuteTime": {
     "end_time": "2024-07-09T01:25:02.900826Z",
     "start_time": "2024-07-09T01:25:02.883488Z"
    }
   },
   "source": [
    "cleaned_ko[:5]"
   ],
   "outputs": [
    {
     "data": {
      "text/plain": [
       "['개인용 컴퓨터 사용의 상당 부분은 이것보다 뛰어날 수 있느냐 ?',\n",
       " '모든 광마우스와 마찬가지 로 이 광마우스도 책상 위에 놓는 마우스 패드를 필요로 하지 않는다 .',\n",
       " '그러나 이것은 또한 책상도 필요로 하지 않는다 .',\n",
       " '달러하는 이 최첨단 무선 광마우스는 허공에서 팔목 팔 그외에 어떤 부분이든 그 움직임에따라 커서의 움직임을 조절하는 회전 운동 센서를 사용하고 있다 .',\n",
       " '정보 관리들은 동남 아시아에서의 선박들에 대한 많은 테러 계획들이 실패로 돌아갔음을 밝혔으며 세계 해상 교역량의 거의 분의 을 운송하는 좁은 해로인 말라카 해협이 테러 공격을 당하기 쉽다고 경고하고 있다 .']"
      ]
     },
     "execution_count": 25,
     "metadata": {},
     "output_type": "execute_result"
    }
   ],
   "execution_count": 25
  },
  {
   "cell_type": "code",
   "id": "ac482cb0",
   "metadata": {
    "ExecuteTime": {
     "end_time": "2024-07-09T01:25:02.907386Z",
     "start_time": "2024-07-09T01:25:02.902671Z"
    }
   },
   "source": [
    "cleaned_en[:5]"
   ],
   "outputs": [
    {
     "data": {
      "text/plain": [
       "['<start> much of personal computing is about can you top this ? <end>',\n",
       " '<start> so a mention a few weeks ago about a rechargeable wireless optical mouse brought in another rechargeable wireless mouse . <end>',\n",
       " '<start> like all optical mice but it also doesn t need a desk . <end>',\n",
       " '<start> uses gyroscopic sensors to control the cursor movement as you move your wrist arm whatever through the air . <end>',\n",
       " '<start> intelligence officials have revealed a spate of foiled plots on ships in southeast asia and are warning that a narrow stretch of water carrying almost one third of the world s maritime trade is vulnerable to a terror attack . <end>']"
      ]
     },
     "execution_count": 26,
     "metadata": {},
     "output_type": "execute_result"
    }
   ],
   "execution_count": 26
  },
  {
   "cell_type": "markdown",
   "id": "221d0dd4",
   "metadata": {},
   "source": [
    "### 토큰화\n",
    "\n",
    "3. 타겟 언어인 영문엔 <start> 토큰과 <end> 토큰을 추가하고 split() 함수를 이용하여 토큰화합니다. 한글 토큰화는 KoNLPy의 mecab 클래스를 사용합니다."
   ]
  },
  {
   "cell_type": "code",
   "id": "da7fd71f",
   "metadata": {
    "ExecuteTime": {
     "end_time": "2024-07-09T01:25:03.010163Z",
     "start_time": "2024-07-09T01:25:02.915021Z"
    }
   },
   "source": [
    "from konlpy.tag import Mecab"
   ],
   "outputs": [],
   "execution_count": 27
  },
  {
   "cell_type": "code",
   "id": "7bdd038b",
   "metadata": {
    "ExecuteTime": {
     "end_time": "2024-07-09T01:25:03.020606Z",
     "start_time": "2024-07-09T01:25:03.011541Z"
    }
   },
   "source": [
    "mecab = Mecab()"
   ],
   "outputs": [],
   "execution_count": 28
  },
  {
   "cell_type": "code",
   "id": "c4edf72a",
   "metadata": {
    "ExecuteTime": {
     "end_time": "2024-07-09T01:25:03.025479Z",
     "start_time": "2024-07-09T01:25:03.021934Z"
    }
   },
   "source": [
    "from nltk.corpus import stopwords \n",
    "from nltk.tokenize import word_tokenize"
   ],
   "outputs": [],
   "execution_count": 29
  },
  {
   "cell_type": "code",
   "id": "a0783006",
   "metadata": {
    "ExecuteTime": {
     "end_time": "2024-07-09T01:25:13.091046Z",
     "start_time": "2024-07-09T01:25:13.062128Z"
    }
   },
   "source": [
    "# nltk.download('punkt')"
   ],
   "outputs": [],
   "execution_count": 30
  },
  {
   "cell_type": "code",
   "id": "ce7f9730",
   "metadata": {
    "ExecuteTime": {
     "end_time": "2024-07-09T01:25:27.445343Z",
     "start_time": "2024-07-09T01:25:13.432088Z"
    }
   },
   "source": [
    "kor_corpus = [mecab.morphs(sentence) for sentence in tqdm(cleaned_ko)]"
   ],
   "outputs": [
    {
     "name": "stderr",
     "output_type": "stream",
     "text": [
      "100%|██████████| 78968/78968 [00:13<00:00, 5669.17it/s]\n"
     ]
    }
   ],
   "execution_count": 31
  },
  {
   "cell_type": "code",
   "id": "a9e147ad",
   "metadata": {
    "scrolled": false,
    "ExecuteTime": {
     "end_time": "2024-07-09T01:26:39.368515Z",
     "start_time": "2024-07-09T01:26:37.749676Z"
    }
   },
   "source": [
    "eng_corpus = [sentence.split() for sentence in tqdm(cleaned_en)]"
   ],
   "outputs": [
    {
     "name": "stderr",
     "output_type": "stream",
     "text": [
      "100%|██████████| 78968/78968 [00:01<00:00, 51639.60it/s] \n"
     ]
    }
   ],
   "execution_count": 32
  },
  {
   "cell_type": "code",
   "id": "affca4af",
   "metadata": {
    "ExecuteTime": {
     "end_time": "2024-07-09T01:26:40.220895Z",
     "start_time": "2024-07-09T01:26:40.215975Z"
    }
   },
   "source": [
    "# stop_words = set(stopwords.words('english'))"
   ],
   "outputs": [],
   "execution_count": 33
  },
  {
   "cell_type": "code",
   "id": "ef65308f",
   "metadata": {
    "ExecuteTime": {
     "end_time": "2024-07-09T01:26:40.641806Z",
     "start_time": "2024-07-09T01:26:40.631359Z"
    }
   },
   "source": [
    "eng_corpus[:5]"
   ],
   "outputs": [
    {
     "data": {
      "text/plain": [
       "[['<start>',\n",
       "  'much',\n",
       "  'of',\n",
       "  'personal',\n",
       "  'computing',\n",
       "  'is',\n",
       "  'about',\n",
       "  'can',\n",
       "  'you',\n",
       "  'top',\n",
       "  'this',\n",
       "  '?',\n",
       "  '<end>'],\n",
       " ['<start>',\n",
       "  'so',\n",
       "  'a',\n",
       "  'mention',\n",
       "  'a',\n",
       "  'few',\n",
       "  'weeks',\n",
       "  'ago',\n",
       "  'about',\n",
       "  'a',\n",
       "  'rechargeable',\n",
       "  'wireless',\n",
       "  'optical',\n",
       "  'mouse',\n",
       "  'brought',\n",
       "  'in',\n",
       "  'another',\n",
       "  'rechargeable',\n",
       "  'wireless',\n",
       "  'mouse',\n",
       "  '.',\n",
       "  '<end>'],\n",
       " ['<start>',\n",
       "  'like',\n",
       "  'all',\n",
       "  'optical',\n",
       "  'mice',\n",
       "  'but',\n",
       "  'it',\n",
       "  'also',\n",
       "  'doesn',\n",
       "  't',\n",
       "  'need',\n",
       "  'a',\n",
       "  'desk',\n",
       "  '.',\n",
       "  '<end>'],\n",
       " ['<start>',\n",
       "  'uses',\n",
       "  'gyroscopic',\n",
       "  'sensors',\n",
       "  'to',\n",
       "  'control',\n",
       "  'the',\n",
       "  'cursor',\n",
       "  'movement',\n",
       "  'as',\n",
       "  'you',\n",
       "  'move',\n",
       "  'your',\n",
       "  'wrist',\n",
       "  'arm',\n",
       "  'whatever',\n",
       "  'through',\n",
       "  'the',\n",
       "  'air',\n",
       "  '.',\n",
       "  '<end>'],\n",
       " ['<start>',\n",
       "  'intelligence',\n",
       "  'officials',\n",
       "  'have',\n",
       "  'revealed',\n",
       "  'a',\n",
       "  'spate',\n",
       "  'of',\n",
       "  'foiled',\n",
       "  'plots',\n",
       "  'on',\n",
       "  'ships',\n",
       "  'in',\n",
       "  'southeast',\n",
       "  'asia',\n",
       "  'and',\n",
       "  'are',\n",
       "  'warning',\n",
       "  'that',\n",
       "  'a',\n",
       "  'narrow',\n",
       "  'stretch',\n",
       "  'of',\n",
       "  'water',\n",
       "  'carrying',\n",
       "  'almost',\n",
       "  'one',\n",
       "  'third',\n",
       "  'of',\n",
       "  'the',\n",
       "  'world',\n",
       "  's',\n",
       "  'maritime',\n",
       "  'trade',\n",
       "  'is',\n",
       "  'vulnerable',\n",
       "  'to',\n",
       "  'a',\n",
       "  'terror',\n",
       "  'attack',\n",
       "  '.',\n",
       "  '<end>']]"
      ]
     },
     "execution_count": 34,
     "metadata": {},
     "output_type": "execute_result"
    }
   ],
   "execution_count": 34
  },
  {
   "cell_type": "code",
   "id": "3ad3dcf9",
   "metadata": {
    "ExecuteTime": {
     "end_time": "2024-07-09T01:26:44.836514Z",
     "start_time": "2024-07-09T01:26:44.819607Z"
    }
   },
   "source": [
    "# eng_corpus = [[words for words in sents if words != 'the'] for sents in eng_corpus]"
   ],
   "outputs": [],
   "execution_count": 35
  },
  {
   "cell_type": "markdown",
   "id": "6f94f148",
   "metadata": {},
   "source": [
    "## 토큰의 길이 확인"
   ]
  },
  {
   "cell_type": "markdown",
   "id": "0a71963f",
   "metadata": {},
   "source": [
    "모든 데이터를 사용할 경우 학습에 굉장히 오랜 시간이 걸립니다. cleaned_corpus로부터 토큰의 길이가 40 이하인 데이터를 선별하여 eng_corpus와 kor_corpus를 각각 구축하세요.\n",
    "\n"
   ]
  },
  {
   "cell_type": "code",
   "id": "25d14262",
   "metadata": {
    "ExecuteTime": {
     "end_time": "2024-07-09T01:26:46.747Z",
     "start_time": "2024-07-09T01:26:46.740274Z"
    }
   },
   "source": [
    "def check_token_len(corpus):\n",
    "    print('토큰의 최소 길이 :',min(len(l) for l in corpus))\n",
    "    print('토큰의 최대 길이 :',max(len(l) for l in corpus))\n",
    "    print('토큰의 평균 길이 :',sum(map(len, corpus))/len(corpus))\n",
    "    plt.hist([len(s) for s in corpus], bins=50)\n",
    "    plt.xlabel('length of samples')\n",
    "    plt.ylabel('number of samples')\n",
    "    plt.show();"
   ],
   "outputs": [],
   "execution_count": 36
  },
  {
   "cell_type": "code",
   "id": "a69f2deb",
   "metadata": {
    "ExecuteTime": {
     "end_time": "2024-07-09T01:26:48.195302Z",
     "start_time": "2024-07-09T01:26:47.514600Z"
    }
   },
   "source": [
    "check_token_len(kor_corpus)"
   ],
   "outputs": [
    {
     "name": "stdout",
     "output_type": "stream",
     "text": [
      "토큰의 최소 길이 : 0\n",
      "토큰의 최대 길이 : 121\n",
      "토큰의 평균 길이 : 28.42886992199372\n"
     ]
    },
    {
     "data": {
      "text/plain": [
       "<Figure size 640x480 with 1 Axes>"
      ],
      "image/png": "[encoded data removed]"
     },
     "metadata": {
      "image/png": {
       "width": 582,
       "height": 432
      }
     },
     "output_type": "display_data"
    }
   ],
   "execution_count": 37
  },
  {
   "cell_type": "code",
   "id": "7c1fe1da",
   "metadata": {
    "scrolled": true,
    "ExecuteTime": {
     "end_time": "2024-07-09T01:26:49.765175Z",
     "start_time": "2024-07-09T01:26:48.201036Z"
    }
   },
   "source": [
    "check_token_len(eng_corpus)"
   ],
   "outputs": [
    {
     "name": "stdout",
     "output_type": "stream",
     "text": [
      "토큰의 최소 길이 : 2\n",
      "토큰의 최대 길이 : 98\n",
      "토큰의 평균 길이 : 25.61612298652619\n"
     ]
    },
    {
     "data": {
      "text/plain": [
       "<Figure size 640x480 with 1 Axes>"
      ],
      "image/png": "[encoded data removed]"
     },
     "metadata": {
      "image/png": {
       "width": 583,
       "height": 432
      }
     },
     "output_type": "display_data"
    }
   ],
   "execution_count": 38
  },
  {
   "cell_type": "code",
   "id": "c1506112",
   "metadata": {
    "ExecuteTime": {
     "end_time": "2024-07-09T01:26:52.658008Z",
     "start_time": "2024-07-09T01:26:52.632713Z"
    }
   },
   "source": [
    "# 전체 샘플 중 길이가 max_len 이하인 샘플의 비율이 몇 %인지 확인\n",
    "\n",
    "def below_threshold_len(max_len, nested_list):\n",
    "    cnt = 0\n",
    "    for s in nested_list:\n",
    "        if(len(s) <= max_len):\n",
    "            cnt = cnt + 1\n",
    "    print('전체 샘플 중 길이가 %s 이하인 샘플의 비율: %s'%(max_len, (cnt / len(nested_list))*100))"
   ],
   "outputs": [],
   "execution_count": 39
  },
  {
   "cell_type": "code",
   "id": "b372033a",
   "metadata": {
    "ExecuteTime": {
     "end_time": "2024-07-09T01:26:53.015182Z",
     "start_time": "2024-07-09T01:26:52.956431Z"
    }
   },
   "source": [
    "max_len = 40\n",
    "below_threshold_len(max_len, kor_corpus)"
   ],
   "outputs": [
    {
     "name": "stdout",
     "output_type": "stream",
     "text": [
      "전체 샘플 중 길이가 40 이하인 샘플의 비율: 84.87108702259142\n"
     ]
    }
   ],
   "execution_count": 40
  },
  {
   "cell_type": "code",
   "id": "3e4321b3",
   "metadata": {
    "ExecuteTime": {
     "end_time": "2024-07-09T01:26:53.548616Z",
     "start_time": "2024-07-09T01:26:53.437577Z"
    }
   },
   "source": [
    "below_threshold_len(max_len, eng_corpus)"
   ],
   "outputs": [
    {
     "name": "stdout",
     "output_type": "stream",
     "text": [
      "전체 샘플 중 길이가 40 이하인 샘플의 비율: 91.58266639651504\n"
     ]
    }
   ],
   "execution_count": 41
  },
  {
   "cell_type": "code",
   "id": "29f8e91d",
   "metadata": {
    "ExecuteTime": {
     "end_time": "2024-07-09T01:26:53.920563Z",
     "start_time": "2024-07-09T01:26:53.908151Z"
    }
   },
   "source": [
    "[l for l in kor_corpus if len(l) < 7][:10]"
   ],
   "outputs": [
    {
     "data": {
      "text/plain": [
       "[['어휘'],\n",
       " ['어휘'],\n",
       " ['선례', '가', '하나', '있', '다', '.'],\n",
       " ['그것', '은', '큰', '문제', '입니다', '.'],\n",
       " ['어휘'],\n",
       " ['난', '롱', '죤', '액티브', '라구', '.'],\n",
       " ['낙태', '는', '불법', '이', '다', '.'],\n",
       " ['하', '는', '질문', '이', '아닙니다', '.'],\n",
       " ['모르', '고', '있', '습니다', '.'],\n",
       " ['네', '보이', '는군요', '.']]"
      ]
     },
     "execution_count": 42,
     "metadata": {},
     "output_type": "execute_result"
    }
   ],
   "execution_count": 42
  },
  {
   "cell_type": "code",
   "id": "00e48867",
   "metadata": {
    "ExecuteTime": {
     "end_time": "2024-07-09T01:26:54.860401Z",
     "start_time": "2024-07-09T01:26:54.841021Z"
    }
   },
   "source": [
    "[l for l in eng_corpus if len(l) < 4][:10]"
   ],
   "outputs": [
    {
     "data": {
      "text/plain": [
       "[['<start>', 'sommelier', '<end>'],\n",
       " ['<start>', 'typos', '<end>'],\n",
       " ['<start>', 'men', '<end>'],\n",
       " ['<start>', 'family', '<end>'],\n",
       " ['<start>', 'lifeguards', '<end>'],\n",
       " ['<start>', 'food', '<end>'],\n",
       " ['<start>', 'sunlight', '<end>'],\n",
       " ['<start>', '<end>'],\n",
       " ['<start>', 'fruits', '<end>'],\n",
       " ['<start>', 'onions', '<end>']]"
      ]
     },
     "execution_count": 43,
     "metadata": {},
     "output_type": "execute_result"
    }
   ],
   "execution_count": 43
  },
  {
   "cell_type": "code",
   "id": "28f775a6",
   "metadata": {
    "ExecuteTime": {
     "end_time": "2024-07-09T01:26:55.477930Z",
     "start_time": "2024-07-09T01:26:55.467840Z"
    }
   },
   "source": [
    "def drop_empty_list(kor_corpus, eng_corpus):\n",
    "    # 각 샘플들의 길이를 확인해서\n",
    "    # kor_corpus에서 길이가 7미만, 40초과 제거\n",
    "    # eng_corpus에서 길이가 4미만, 40초과 제거\n",
    "    # 길이 7이하, 4이하는 데이터를 확인하여 이상한 데이터였기에 제거하고자 함\n",
    "    \n",
    "    drop_kor = [index for index, sentence in enumerate(kor_corpus) \n",
    "                if (len(sentence) < 7) or (len(sentence) > 40)]\n",
    "    print(f'제거하고자 하는 한글 샘플 수 : {len(drop_kor)}')\n",
    "    \n",
    "    drop_eng = [index for index, sentence in enumerate(eng_corpus)\n",
    "                if (len(sentence) < 4) or (len(sentence) > 40)]\n",
    "    print(f'제거하고자 하는 영어 샘플 수 : {len(drop_eng)}')\n",
    "    \n",
    "    drop_data = set(drop_kor) | set(drop_eng)\n",
    "    drop_data = list(drop_data)\n",
    "    print(f'제거하고자 하는 총 샘플 수 : {len(drop_data)}')\n",
    "\n",
    "    # 빈 샘플 제거\n",
    "    kor_corpus = np.delete(kor_corpus, drop_data, axis=0)\n",
    "    eng_corpus = np.delete(eng_corpus, drop_data, axis=0)\n",
    "    print(f'빈 샘플 제거 후 남은 kor_corpus data : {len(kor_corpus)}')\n",
    "    print(f'빈 샘플 제거 후 남은 eng_corpus data : {len(eng_corpus)}')\n",
    "    return kor_corpus, eng_corpus"
   ],
   "outputs": [],
   "execution_count": 44
  },
  {
   "cell_type": "code",
   "id": "de84e8f8",
   "metadata": {
    "scrolled": true,
    "ExecuteTime": {
     "end_time": "2024-07-09T01:26:56.424837Z",
     "start_time": "2024-07-09T01:26:56.192327Z"
    }
   },
   "source": [
    "kor_corpus, eng_corpus = drop_empty_list(kor_corpus, eng_corpus)"
   ],
   "outputs": [
    {
     "name": "stdout",
     "output_type": "stream",
     "text": [
      "제거하고자 하는 한글 샘플 수 : 14165\n",
      "제거하고자 하는 영어 샘플 수 : 6713\n",
      "제거하고자 하는 총 샘플 수 : 16878\n",
      "빈 샘플 제거 후 남은 kor_corpus data : 62090\n",
      "빈 샘플 제거 후 남은 eng_corpus data : 62090\n"
     ]
    },
    {
     "name": "stderr",
     "output_type": "stream",
     "text": [
      "/opt/homebrew/Caskroom/miniforge/base/envs/DL-tf/lib/python3.8/site-packages/numpy/lib/function_base.py:5030: VisibleDeprecationWarning: Creating an ndarray from ragged nested sequences (which is a list-or-tuple of lists-or-tuples-or ndarrays with different lengths or shapes) is deprecated. If you meant to do this, you must specify 'dtype=object' when creating the ndarray.\n",
      "  arr = asarray(arr)\n"
     ]
    }
   ],
   "execution_count": 45
  },
  {
   "cell_type": "code",
   "id": "6cef7af4",
   "metadata": {
    "ExecuteTime": {
     "end_time": "2024-07-09T01:26:59.014673Z",
     "start_time": "2024-07-09T01:26:57.056832Z"
    }
   },
   "source": [
    "check_token_len(eng_corpus)\n",
    "check_token_len(kor_corpus)"
   ],
   "outputs": [
    {
     "name": "stdout",
     "output_type": "stream",
     "text": [
      "토큰의 최소 길이 : 4\n",
      "토큰의 최대 길이 : 40\n",
      "토큰의 평균 길이 : 22.949557094540182\n"
     ]
    },
    {
     "data": {
      "text/plain": [
       "<Figure size 640x480 with 1 Axes>"
      ],
      "image/png": "[encoded data removed]"
     },
     "metadata": {
      "image/png": {
       "width": 582,
       "height": 432
      }
     },
     "output_type": "display_data"
    },
    {
     "name": "stdout",
     "output_type": "stream",
     "text": [
      "토큰의 최소 길이 : 7\n",
      "토큰의 최대 길이 : 40\n",
      "토큰의 평균 길이 : 25.248333064905783\n"
     ]
    },
    {
     "data": {
      "text/plain": [
       "<Figure size 640x480 with 1 Axes>"
      ],
      "image/png": "[encoded data removed]"
     },
     "metadata": {
      "image/png": {
       "width": 582,
       "height": 432
      }
     },
     "output_type": "display_data"
    }
   ],
   "execution_count": 46
  },
  {
   "cell_type": "markdown",
   "id": "c52434b2",
   "metadata": {},
   "source": [
    "# Step 3. 데이터 토큰화\n",
    "앞서 정의한 tokenize() 함수를 사용해 데이터를 텐서로 변환하고 각각의 tokenizer를 얻으세요! 단어의 수는 실험을 통해 적당한 값을 맞춰주도록 합니다! (최소 10,000 이상!)\n",
    "\n",
    "❗ 주의: 난이도에 비해 데이터가 많지 않아 훈련 데이터와 검증 데이터를 따로 나누지는 않습니다."
   ]
  },
  {
   "cell_type": "code",
   "id": "8f342cce",
   "metadata": {
    "ExecuteTime": {
     "end_time": "2024-07-09T01:26:59.062224Z",
     "start_time": "2024-07-09T01:26:59.029490Z"
    }
   },
   "source": [
    "def tokenize(corpus, num_words, reverse=False):\n",
    "    tokenizer = tf.keras.preprocessing.text.Tokenizer(filters='', num_words=num_words)\n",
    "    tokenizer.fit_on_texts(corpus)\n",
    "\n",
    "    tensor = tokenizer.texts_to_sequences(corpus)\n",
    "    tensor = tf.keras.preprocessing.sequence.pad_sequences(tensor, padding='post')\n",
    "    \n",
    "    if reverse:\n",
    "        tensor = np.flip(tensor, axis=1)\n",
    "    \n",
    "    return tensor, tokenizer"
   ],
   "outputs": [],
   "execution_count": 47
  },
  {
   "cell_type": "code",
   "id": "d2749e94",
   "metadata": {
    "ExecuteTime": {
     "end_time": "2024-07-09T01:26:59.555073Z",
     "start_time": "2024-07-09T01:26:59.530231Z"
    }
   },
   "source": [
    "num_words = None"
   ],
   "outputs": [],
   "execution_count": 48
  },
  {
   "cell_type": "code",
   "id": "3a811274",
   "metadata": {
    "ExecuteTime": {
     "end_time": "2024-07-09T01:27:10.194220Z",
     "start_time": "2024-07-09T01:27:00.243049Z"
    }
   },
   "source": [
    "enc, enc_tokenizer = tokenize(kor_corpus, num_words, reverse=True)\n",
    "dec, dec_tokenizer = tokenize(eng_corpus, num_words)"
   ],
   "outputs": [],
   "execution_count": 49
  },
  {
   "cell_type": "code",
   "id": "08730af6",
   "metadata": {
    "scrolled": true,
    "ExecuteTime": {
     "end_time": "2024-07-09T01:27:10.204005Z",
     "start_time": "2024-07-09T01:27:10.198970Z"
    }
   },
   "source": [
    "len(enc_tokenizer.word_index)"
   ],
   "outputs": [
    {
     "data": {
      "text/plain": [
       "44154"
      ]
     },
     "execution_count": 50,
     "metadata": {},
     "output_type": "execute_result"
    }
   ],
   "execution_count": 50
  },
  {
   "cell_type": "code",
   "id": "03a76b68",
   "metadata": {
    "ExecuteTime": {
     "end_time": "2024-07-09T01:27:10.210738Z",
     "start_time": "2024-07-09T01:27:10.207160Z"
    }
   },
   "source": [
    "len(dec_tokenizer.word_index)"
   ],
   "outputs": [
    {
     "data": {
      "text/plain": [
       "38945"
      ]
     },
     "execution_count": 51,
     "metadata": {},
     "output_type": "execute_result"
    }
   ],
   "execution_count": 51
  },
  {
   "cell_type": "code",
   "id": "0927532d",
   "metadata": {
    "ExecuteTime": {
     "end_time": "2024-07-09T01:27:10.221211Z",
     "start_time": "2024-07-09T01:27:10.215630Z"
    }
   },
   "source": [
    "enc.shape, dec.shape"
   ],
   "outputs": [
    {
     "data": {
      "text/plain": [
       "((62090, 40), (62090, 40))"
      ]
     },
     "execution_count": 52,
     "metadata": {},
     "output_type": "execute_result"
    }
   ],
   "execution_count": 52
  },
  {
   "cell_type": "code",
   "id": "ac08ab22",
   "metadata": {
    "ExecuteTime": {
     "end_time": "2024-07-09T01:27:10.228437Z",
     "start_time": "2024-07-09T01:27:10.222881Z"
    }
   },
   "source": [
    "enc"
   ],
   "outputs": [
    {
     "data": {
      "text/plain": [
       "array([[   0,    0,    0, ...,  538,  553,  692],\n",
       "       [   0,    0,    0, ..., 5789, 5410,  213],\n",
       "       [   0,    0,    0, ...,    7,  708,   78],\n",
       "       ...,\n",
       "       [   0,    0,    0, ..., 1683,  362,   78],\n",
       "       [   0,    0,    0, ...,   23,  675,  907],\n",
       "       [   0,    0,    0, ...,  907,    7,   68]], dtype=int32)"
      ]
     },
     "execution_count": 53,
     "metadata": {},
     "output_type": "execute_result"
    }
   ],
   "execution_count": 53
  },
  {
   "cell_type": "code",
   "id": "d6d8adab",
   "metadata": {
    "ExecuteTime": {
     "end_time": "2024-07-09T01:27:24.226472Z",
     "start_time": "2024-07-09T01:27:24.210241Z"
    }
   },
   "source": [
    "dec"
   ],
   "outputs": [
    {
     "data": {
      "text/plain": [
       "array([[  3, 274,   6, ...,   0,   0,   0],\n",
       "       [  3, 142,   7, ...,   0,   0,   0],\n",
       "       [  3, 161,  76, ...,   0,   0,   0],\n",
       "       ...,\n",
       "       [  3,  31,   1, ...,   0,   0,   0],\n",
       "       [  3, 288,   9, ...,   0,   0,   0],\n",
       "       [  3,  61,  30, ...,   0,   0,   0]], dtype=int32)"
      ]
     },
     "execution_count": 55,
     "metadata": {},
     "output_type": "execute_result"
    }
   ],
   "execution_count": 55
  },
  {
   "cell_type": "markdown",
   "id": "f26354f8",
   "metadata": {},
   "source": [
    "# Step 4. 모델 설계\n",
    "한국어를 영어로 잘 번역해 줄 멋진 Attention 기반 Seq2seq 모델을 설계하세요! 앞서 만든 모델에 Dropout 모듈을 추가하면 성능이 더 좋아집니다! Embedding Size와 Hidden Size는 실험을 통해 적당한 값을 맞춰 주도록 합니다!"
   ]
  },
  {
   "cell_type": "code",
   "id": "74ff7d82",
   "metadata": {
    "ExecuteTime": {
     "end_time": "2024-07-09T01:27:25.840487Z",
     "start_time": "2024-07-09T01:27:25.824682Z"
    }
   },
   "source": [
    "class BahdanauAttention(tf.keras.layers.Layer):\n",
    "    def __init__(self, units):\n",
    "        super(BahdanauAttention, self).__init__()\n",
    "        self.w_dec = tf.keras.layers.Dense(units)\n",
    "        self.w_enc = tf.keras.layers.Dense(units)\n",
    "        self.w_com = tf.keras.layers.Dense(1)\n",
    "    \n",
    "    def call(self, h_enc, h_dec):\n",
    "        # h_enc shape: [batch x length x units]\n",
    "        # h_dec shape: [batch x units]\n",
    "\n",
    "        h_enc = self.w_enc(h_enc)\n",
    "        h_dec = tf.expand_dims(h_dec, 1)\n",
    "        h_dec = self.w_dec(h_dec)\n",
    "\n",
    "        score = self.w_com(tf.nn.tanh(h_dec + h_enc))\n",
    "        \n",
    "        attn = tf.nn.softmax(score, axis=1)\n",
    "\n",
    "        context_vec = attn * h_enc\n",
    "        context_vec = tf.reduce_sum(context_vec, axis=1)\n",
    "\n",
    "        return context_vec, attn\n",
    "\n",
    "class Encoder(tf.keras.Model):\n",
    "    def __init__(self, vocab_size, embedding_dim, enc_units, \n",
    "                 dropout=0.0, recurrent_dropout=0.0):\n",
    "        \n",
    "        super(Encoder, self).__init__()\n",
    "        \n",
    "        self.enc_units = enc_units\n",
    "        self.embedding = tf.keras.layers.Embedding(vocab_size, embedding_dim)\n",
    "        self.gru = tf.keras.layers.GRU(self.enc_units, \n",
    "                                       dropout=dropout,\n",
    "                                       recurrent_dropout=recurrent_dropout,\n",
    "                                       return_sequences=True,\n",
    "                                       return_state=True,\n",
    "                                      recurrent_initializer='glorot_uniform')\n",
    "        \n",
    "        self.dropout = tf.keras.layers.Dropout(dropout)\n",
    "\n",
    "    def call(self, x):\n",
    "\n",
    "        x = self.embedding(x)\n",
    "        # embedding layer 통과한 후에 dropout 추가\n",
    "        x = self.dropout(x)\n",
    "\n",
    "        output, state = self.gru(x)\n",
    "\n",
    "        return output, state\n",
    "    \n",
    "    \n",
    "class Decoder(tf.keras.Model):\n",
    "    def __init__(self, vocab_size, embedding_dim, dec_units, \n",
    "                 dropout=0.0, recurrent_dropout=0.0):\n",
    "        \n",
    "        super(Decoder, self).__init__()\n",
    "        \n",
    "        self.dec_units = dec_units\n",
    "        self.embedding = tf.keras.layers.Embedding(vocab_size, embedding_dim)\n",
    "        self.dropout = tf.keras.layers.Dropout(dropout)\n",
    "        self.gru = tf.keras.layers.GRU(self.dec_units,\n",
    "                                       dropout=dropout,\n",
    "                                       recurrent_dropout=recurrent_dropout,\n",
    "                                       return_sequences=True, \n",
    "                                       return_state=True,\n",
    "                                       recurrent_initializer='glorot_uniform')\n",
    "        \n",
    "        self.fc = tf.keras.layers.Dense(vocab_size)\n",
    "        \n",
    "        self.attention = BahdanauAttention(self.dec_units)   # Attention 필수 사용!\n",
    "\n",
    "    def call(self, x, h_dec, enc_out):\n",
    "        context_vec, attn = self.attention(enc_out, h_dec)\n",
    "        \n",
    "        x = self.embedding(x)\n",
    "        # embedding layer 통과한 후에 dropout 추가\n",
    "        x = self.dropout(x)\n",
    "        \n",
    "        x = tf.concat([tf.expand_dims(context_vec, 1), x], axis=-1)\n",
    "        \n",
    "        x, h_dec = self.gru(x)\n",
    "        x = tf.reshape(x, (-1, x.shape[2]))\n",
    "        output = self.fc(x)\n",
    "        \n",
    "        return output, h_dec, attn"
   ],
   "outputs": [],
   "execution_count": 56
  },
  {
   "cell_type": "code",
   "id": "06f944b3",
   "metadata": {
    "ExecuteTime": {
     "end_time": "2024-07-09T01:27:28.081952Z",
     "start_time": "2024-07-09T01:27:28.035112Z"
    }
   },
   "source": [
    "BATCH_SIZE     = 32\n",
    "SRC_VOCAB_SIZE = len(enc_tokenizer.index_word) + 1\n",
    "TGT_VOCAB_SIZE = len(dec_tokenizer.index_word) + 1\n",
    "\n",
    "ENC_DROPOUT = 0.3\n",
    "DEC_DROPOUT = 0.5\n",
    "ENC_RECURRENT_DROPOUT = 0.0\n",
    "DEC_RECURRENT_DROPOUT = 0.0\n",
    "\n",
    "units         = 600\n",
    "embedding_dim = 1000\n",
    "\n",
    "encoder = Encoder(SRC_VOCAB_SIZE, embedding_dim, units, ENC_DROPOUT, ENC_RECURRENT_DROPOUT)\n",
    "decoder = Decoder(TGT_VOCAB_SIZE, embedding_dim, units, DEC_DROPOUT, DEC_RECURRENT_DROPOUT)"
   ],
   "outputs": [],
   "execution_count": 57
  },
  {
   "cell_type": "markdown",
   "id": "1721ec94",
   "metadata": {},
   "source": [
    "# Step 5. 훈련하기\n",
    "훈련엔 위에서 사용한 코드를 그대로 사용하되, eval_step() 부분이 없음에 유의합니다! 매 스텝 아래의 예문에 대한 번역을 생성하여 본인이 생각하기에 가장 멋지게 번역한 Case를 제출하세요! (Attention Map을 시각화해보는 것도 재밌을 거예요!)"
   ]
  },
  {
   "cell_type": "markdown",
   "id": "ef546498",
   "metadata": {},
   "source": [
    "    ## 예문 ##\n",
    "    K1) 오바마는 대통령이다.\n",
    "    K2) 시민들은 도시 속에 산다.\n",
    "    K3) 커피는 필요 없다.\n",
    "    K4) 일곱 명의 사망자가 발생했다.\n",
    "\n",
    "    ## 제출 ##\n",
    "    E1) obama is the president . <end>\n",
    "    E2) people are victims of the city . <end>\n",
    "    E2) the price is not enough . <end>\n",
    "    E2) seven people have died . <end>"
   ]
  },
  {
   "cell_type": "markdown",
   "id": "eb9515b5",
   "metadata": {},
   "source": [
    "### Optimizer & Loss"
   ]
  },
  {
   "cell_type": "code",
   "id": "c18f07a0",
   "metadata": {
    "ExecuteTime": {
     "end_time": "2024-07-09T01:27:31.106089Z",
     "start_time": "2024-07-09T01:27:31.097713Z"
    }
   },
   "source": [
    "optimizer = tf.keras.optimizers.Adam(learning_rate=0.0002)\n",
    "loss_object = tf.keras.losses.SparseCategoricalCrossentropy(\n",
    "    from_logits=True, reduction='none')\n",
    "\n",
    "def loss_function(real, pred):\n",
    "    mask = tf.math.logical_not(tf.math.equal(real, 0))\n",
    "    loss = loss_object(real, pred)\n",
    "    \n",
    "    mask = tf.cast(mask, dtype=loss.dtype)\n",
    "    loss *= mask\n",
    "    \n",
    "    return tf.reduce_mean(loss)"
   ],
   "outputs": [],
   "execution_count": 58
  },
  {
   "cell_type": "markdown",
   "id": "dd864cb7",
   "metadata": {},
   "source": [
    "### train_step"
   ]
  },
  {
   "cell_type": "code",
   "id": "5c5cdee4",
   "metadata": {
    "ExecuteTime": {
     "end_time": "2024-07-09T01:27:33.020744Z",
     "start_time": "2024-07-09T01:27:33.010821Z"
    }
   },
   "source": [
    "@tf.function\n",
    "def train_step(src, tgt, encoder, decoder, optimizer, dec_tok):\n",
    "    bsz = src.shape[0]\n",
    "    loss = 0\n",
    "\n",
    "    with tf.GradientTape() as tape:\n",
    "        \n",
    "        # 1) Encoder에 소스 문장을 전달해 컨텍스트 벡터인 enc_out 을 생성\n",
    "        enc_out, state = encoder(src)\n",
    "        \n",
    "        # 2) t=0일 때, Decoder의 Hidden State는 Encoder의 Final State로 정의\n",
    "        h_dec = state\n",
    "        \n",
    "        # 3) Decoder에 입력으로 전달할 <start> 토큰 문장 생성\n",
    "        dec_src = tf.expand_dims([dec_tok.word_index['<start>']] * bsz, 1)\n",
    "\n",
    "        for t in range(1, tgt.shape[1]):\n",
    "            # 4) <start> 문장과 enc_out, Hidden State를 기반으로 다음 단어(t=1)를 예측. \n",
    "            pred, h_dec, _ = decoder(dec_src, h_dec, enc_out)\n",
    "            \n",
    "            # 5) 예측된 단어와 정답 간의 Loss를 구한 후, t=1의 정답 단어를 다음 입력으로 사용\n",
    "            loss += loss_function(tgt[:, t], pred)\n",
    "            dec_src = tf.expand_dims(tgt[:, t], 1)\n",
    "        \n",
    "    batch_loss = (loss / int(tgt.shape[1]))\n",
    "\n",
    "    variables = encoder.trainable_variables + decoder.trainable_variables\n",
    "    gradients = tape.gradient(loss, variables)\n",
    "    optimizer.apply_gradients(zip(gradients, variables))\n",
    "    \n",
    "    return batch_loss"
   ],
   "outputs": [],
   "execution_count": 59
  },
  {
   "cell_type": "code",
   "id": "ebabd5e7",
   "metadata": {
    "ExecuteTime": {
     "end_time": "2024-07-09T01:27:33.839518Z",
     "start_time": "2024-07-09T01:27:33.831106Z"
    }
   },
   "source": [
    "# !nvidia-smi"
   ],
   "outputs": [],
   "execution_count": 60
  },
  {
   "cell_type": "code",
   "id": "d8f2418b",
   "metadata": {
    "jupyter": {
     "is_executing": true
    },
    "ExecuteTime": {
     "start_time": "2024-07-09T01:27:34.617089Z"
    }
   },
   "source": [
    "from tqdm import tqdm    # tqdm\n",
    "import random\n",
    "\n",
    "EPOCHS = 50\n",
    "\n",
    "batch_losses = []\n",
    "for epoch in range(EPOCHS):\n",
    "    total_loss = 0\n",
    "    \n",
    "    idx_list = list(range(0, enc.shape[0], BATCH_SIZE))\n",
    "    random.shuffle(idx_list)\n",
    "    t = tqdm(idx_list)    #tqdm\n",
    "\n",
    "    for (batch, idx) in enumerate(t):\n",
    "        batch_loss = train_step(enc[idx:idx+BATCH_SIZE],\n",
    "                                dec[idx:idx+BATCH_SIZE],\n",
    "                                encoder,\n",
    "                                decoder,\n",
    "                                optimizer,\n",
    "                                dec_tokenizer)\n",
    "        \n",
    "        batch_losses.append(batch_loss)\n",
    "        total_loss += batch_loss\n",
    "        \n",
    "        t.set_description_str('Epoch %2d' % (epoch + 1))    # tqdm\n",
    "        t.set_postfix_str('Loss %.4f' % (total_loss.numpy() / (batch + 1)))    # tqdm"
   ],
   "outputs": [
    {
     "name": "stderr",
     "output_type": "stream",
     "text": [
      "  0%|          | 0/1941 [00:00<?, ?it/s]2024-07-09 10:29:04.903663: W tensorflow/core/platform/profile_utils/cpu_utils.cc:128] Failed to get CPU frequency: 0 Hz\n"
     ]
    }
   ],
   "execution_count": null
  },
  {
   "cell_type": "code",
   "execution_count": null,
   "id": "8d3acdee",
   "metadata": {},
   "outputs": [],
   "source": [
    "dec_tokenizer.index_word[3]"
   ]
  },
  {
   "cell_type": "code",
   "execution_count": null,
   "id": "f1197992",
   "metadata": {
    "scrolled": true
   },
   "outputs": [],
   "source": [
    "def evaluate(sentence, encoder, decoder):\n",
    "    attention = np.zeros((dec.shape[-1], enc.shape[-1]))\n",
    "    \n",
    "    sentence = preprocess_sentence(sentence)\n",
    "    inputs = enc_tokenizer.texts_to_sequences([mecab.morphs(sentence)])\n",
    "    inputs = tf.keras.preprocessing.sequence.pad_sequences(inputs,\n",
    "                                                           maxlen=enc.shape[-1],\n",
    "                                                           padding='post')\n",
    "    inputs = np.flip(inputs, axis=1)\n",
    "\n",
    "    result = ''\n",
    "\n",
    "    enc_out, state = encoder(inputs)\n",
    "\n",
    "    dec_hidden = state\n",
    "    dec_input = tf.expand_dims([dec_tokenizer.word_index['<start>']], 0)\n",
    "\n",
    "    for t in range(dec.shape[-1]):\n",
    "        predictions, dec_hidden, attention_weights = decoder(dec_input,\n",
    "                                                             dec_hidden,\n",
    "                                                             enc_out)\n",
    "\n",
    "        attention_weights = tf.reshape(attention_weights, (-1, ))\n",
    "        attention[t] = attention_weights.numpy()\n",
    "\n",
    "        #predicted_id = tf.argmax(tf.math.softmax(predictions, axis=-1)[0]).numpy()\n",
    "        predicted_id = tf.argmax(predictions[0]).numpy()\n",
    "\n",
    "        result += dec_tokenizer.index_word[predicted_id] + ' '\n",
    "\n",
    "        if dec_tokenizer.index_word[predicted_id] == '<end>':\n",
    "            return result, sentence, attention\n",
    "\n",
    "        dec_input = tf.expand_dims([predicted_id], 0)\n",
    "\n",
    "    return result, sentence, attention\n",
    "\n",
    "\n",
    "def plot_attention(attention, sentence, predicted_sentence):\n",
    "    fig = plt.figure(figsize=(10,10))\n",
    "    ax = fig.add_subplot(1, 1, 1)\n",
    "    ax.matshow(attention, cmap='viridis')\n",
    "\n",
    "    fontdict = {'fontsize': 14}\n",
    "\n",
    "    ax.set_xticklabels([''] + sentence, fontdict=fontdict, rotation=90)\n",
    "    ax.set_yticklabels([''] + predicted_sentence, fontdict=fontdict)\n",
    "\n",
    "    ax.xaxis.set_major_locator(ticker.MultipleLocator(1))\n",
    "    ax.yaxis.set_major_locator(ticker.MultipleLocator(1))\n",
    "\n",
    "    plt.show()\n",
    "\n",
    "\n",
    "def translate(sentence, encoder, decoder):\n",
    "    result, sentence, attention = evaluate(sentence, encoder, decoder)\n",
    "\n",
    "    print('Input: %s' % (sentence))\n",
    "    print('Predicted translation: {}'.format(result))\n",
    "    \n",
    "    attention = attention[:len(result.split()), :len(mecab.morphs(sentence))]\n",
    "    plot_attention(attention, mecab.morphs(sentence), result.split(' '))\n",
    "    \n",
    "translate(\"일곱 명의 사망자가 발생했다.\", encoder, decoder)"
   ]
  },
  {
   "cell_type": "code",
   "execution_count": null,
   "id": "c78be0bf",
   "metadata": {},
   "outputs": [],
   "source": [
    "K1) 오바마는 대통령이다.\n",
    "K2) 시민들은 도시 속에 산다.\n",
    "K3) 커피는 필요 없다.\n",
    "K4) 일곱 명의 사망자가 발생했다."
   ]
  },
  {
   "cell_type": "code",
   "execution_count": null,
   "id": "8a275c6f",
   "metadata": {},
   "outputs": [],
   "source": [
    "translate(\"오바마는 대통령이다.\", encoder, decoder)"
   ]
  }
 ],
 "metadata": {
  "kernelspec": {
   "display_name": "Python 3 (ipykernel)",
   "language": "python",
   "name": "python3"
  },
  "language_info": {
   "codemirror_mode": {
    "name": "ipython",
    "version": 3
   },
   "file_extension": ".py",
   "mimetype": "text/x-python",
   "name": "python",
   "nbconvert_exporter": "python",
   "pygments_lexer": "ipython3",
   "version": "3.9.7"
  }
 },
 "nbformat": 4,
 "nbformat_minor": 5
}
